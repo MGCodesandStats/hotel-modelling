{
 "cells": [
  {
   "cell_type": "markdown",
   "metadata": {},
   "source": [
    "# Classification Methods: Predicting Hotel Cancellations\n",
    "\n",
    "In this example, a series of classification algorithms are implemented to predict hotel cancellation using the datasets as provided by Antonio, Almeida and Nunes (2019). Attributions provided below."
   ]
  },
  {
   "cell_type": "markdown",
   "metadata": {},
   "source": [
    "#### Attributions\n",
    "\n",
    "The below code uses the [scikit-learn](https://github.com/scikit-learn/scikit-learn/blob/main/COPYING) library (Copyright (c) 2007-2023 The scikit-learn developers) in executing the below examples, as provided under the BSD 3-Clause License.\n",
    "\n",
    "Modifications have been made where appropriate for conducting analysis on the data specific to this example.\n",
    "\n",
    "The copyright and permission notices are made available below:\n",
    "\n",
    "Copyright (c) 2007-2023 The scikit-learn developers\n",
    "\n",
    "Redistribution and use in source and binary forms, with or without\n",
    "modification, are permitted provided that the following conditions are met:\n",
    "\n",
    "* Redistributions of source code must retain the above copyright notice, this\n",
    "  list of conditions and the following disclaimer.\n",
    "\n",
    "* Redistributions in binary form must reproduce the above copyright notice,\n",
    "  this list of conditions and the following disclaimer in the documentation\n",
    "  and/or other materials provided with the distribution.\n",
    "\n",
    "* Neither the name of the copyright holder nor the names of its\n",
    "  contributors may be used to endorse or promote products derived from\n",
    "  this software without specific prior written permission.\n",
    "\n",
    "THE SOFTWARE IS PROVIDED \"AS IS\", WITHOUT WARRANTY OF ANY KIND, EXPRESS OR\n",
    "IMPLIED, INCLUDING BUT NOT LIMITED TO THE WARRANTIES OF MERCHANTABILITY,\n",
    "FITNESS FOR A PARTICULAR PURPOSE AND NONINFRINGEMENT. IN NO EVENT SHALL THE\n",
    "AUTHORS OR COPYRIGHT HOLDERS BE LIABLE FOR ANY CLAIM, DAMAGES OR OTHER\n",
    "LIABILITY, WHETHER IN AN ACTION OF CONTRACT, TORT OR OTHERWISE, ARISING FROM,\n",
    "OUT OF OR IN CONNECTION WITH THE SOFTWARE OR THE USE OR OTHER DEALINGS IN THE\n",
    "SOFTWARE."
   ]
  },
  {
   "cell_type": "markdown",
   "metadata": {},
   "source": [
    "### Python version"
   ]
  },
  {
   "cell_type": "code",
   "execution_count": 1,
   "metadata": {},
   "outputs": [
    {
     "name": "stdout",
     "output_type": "stream",
     "text": [
      "3.8.10\n"
     ]
    }
   ],
   "source": [
    "from platform import python_version\n",
    "print(python_version())"
   ]
  },
  {
   "cell_type": "markdown",
   "metadata": {},
   "source": [
    "### Import Libraries"
   ]
  },
  {
   "cell_type": "code",
   "execution_count": 2,
   "metadata": {},
   "outputs": [],
   "source": [
    "import csv\n",
    "import imblearn\n",
    "import matplotlib.pyplot as plt\n",
    "import numpy as np\n",
    "from numpy.random import seed\n",
    "seed(1)\n",
    "\n",
    "import os\n",
    "import pandas as pd\n",
    "import random\n",
    "import statsmodels.api as sm\n",
    "import statsmodels.formula.api as smf\n",
    "\n",
    "from sklearn.model_selection import train_test_split\n",
    "from sklearn.naive_bayes import GaussianNB\n",
    "from sklearn.neighbors import KNeighborsClassifier\n",
    "from sklearn.preprocessing import MinMaxScaler\n",
    "from imblearn.over_sampling import SMOTE\n",
    "from collections import Counter"
   ]
  },
  {
   "cell_type": "markdown",
   "metadata": {},
   "source": [
    "### Import Data From AWS S3 to Sagemaker"
   ]
  },
  {
   "cell_type": "code",
   "execution_count": 3,
   "metadata": {},
   "outputs": [],
   "source": [
    "# import boto3\n",
    "# import botocore\n",
    "# from sagemaker import get_execution_role\n",
    "\n",
    "# role = get_execution_role()\n",
    "\n",
    "# bucket = 'enterbucketname'\n",
    "# data_key_train = 'H1.csv'\n",
    "# data_location_train = 's3://{}/{}'.format(bucket, data_key_train)\n",
    "\n",
    "# train_df = pd.read_csv(data_location_train)"
   ]
  },
  {
   "cell_type": "markdown",
   "metadata": {},
   "source": [
    "### Import Data From Azure Blob Storage to Azure Machine Learning Studio"
   ]
  },
  {
   "cell_type": "code",
   "execution_count": 4,
   "metadata": {},
   "outputs": [],
   "source": [
    "# from azure.storage.blob import BlobServiceClient, BlobClient, ContainerClient\n",
    "\n",
    "# #download csv file from Azure blob\n",
    "\n",
    "# sas_url = \"enter url here\"\n",
    "# blob_client = BlobClient.from_blob_url(sas_url)\n",
    "# downloaded_blo = blob_client.download_blob()"
   ]
  },
  {
   "cell_type": "code",
   "execution_count": 5,
   "metadata": {},
   "outputs": [],
   "source": [
    "# from io import StringIO\n",
    "# blob_data = blob_client.download_blob()\n",
    "# train_df = pd.read_csv(StringIO(blob_data.content_as_text()))\n",
    "# print(train_df)"
   ]
  },
  {
   "cell_type": "markdown",
   "metadata": {},
   "source": [
    "### Import Data Through CSV"
   ]
  },
  {
   "cell_type": "code",
   "execution_count": 6,
   "metadata": {},
   "outputs": [
    {
     "data": {
      "text/html": [
       "<div>\n",
       "<style scoped>\n",
       "    .dataframe tbody tr th:only-of-type {\n",
       "        vertical-align: middle;\n",
       "    }\n",
       "\n",
       "    .dataframe tbody tr th {\n",
       "        vertical-align: top;\n",
       "    }\n",
       "\n",
       "    .dataframe thead th {\n",
       "        text-align: right;\n",
       "    }\n",
       "</style>\n",
       "<table border=\"1\" class=\"dataframe\">\n",
       "  <thead>\n",
       "    <tr style=\"text-align: right;\">\n",
       "      <th></th>\n",
       "      <th>IsCanceled</th>\n",
       "      <th>LeadTime</th>\n",
       "      <th>ArrivalDateYear</th>\n",
       "      <th>ArrivalDateMonth</th>\n",
       "      <th>ArrivalDateWeekNumber</th>\n",
       "      <th>ArrivalDateDayOfMonth</th>\n",
       "      <th>StaysInWeekendNights</th>\n",
       "      <th>StaysInWeekNights</th>\n",
       "      <th>Adults</th>\n",
       "      <th>Children</th>\n",
       "      <th>...</th>\n",
       "      <th>DepositType</th>\n",
       "      <th>Agent</th>\n",
       "      <th>Company</th>\n",
       "      <th>DaysInWaitingList</th>\n",
       "      <th>CustomerType</th>\n",
       "      <th>ADR</th>\n",
       "      <th>RequiredCarParkingSpaces</th>\n",
       "      <th>TotalOfSpecialRequests</th>\n",
       "      <th>ReservationStatus</th>\n",
       "      <th>ReservationStatusDate</th>\n",
       "    </tr>\n",
       "  </thead>\n",
       "  <tbody>\n",
       "    <tr>\n",
       "      <th>0</th>\n",
       "      <td>0</td>\n",
       "      <td>342</td>\n",
       "      <td>2015</td>\n",
       "      <td>July</td>\n",
       "      <td>27</td>\n",
       "      <td>1</td>\n",
       "      <td>0</td>\n",
       "      <td>0</td>\n",
       "      <td>2</td>\n",
       "      <td>0</td>\n",
       "      <td>...</td>\n",
       "      <td>No Deposit</td>\n",
       "      <td>NULL</td>\n",
       "      <td>NULL</td>\n",
       "      <td>0</td>\n",
       "      <td>Transient</td>\n",
       "      <td>0.00</td>\n",
       "      <td>0</td>\n",
       "      <td>0</td>\n",
       "      <td>Check-Out</td>\n",
       "      <td>2015-07-01</td>\n",
       "    </tr>\n",
       "    <tr>\n",
       "      <th>1</th>\n",
       "      <td>0</td>\n",
       "      <td>737</td>\n",
       "      <td>2015</td>\n",
       "      <td>July</td>\n",
       "      <td>27</td>\n",
       "      <td>1</td>\n",
       "      <td>0</td>\n",
       "      <td>0</td>\n",
       "      <td>2</td>\n",
       "      <td>0</td>\n",
       "      <td>...</td>\n",
       "      <td>No Deposit</td>\n",
       "      <td>NULL</td>\n",
       "      <td>NULL</td>\n",
       "      <td>0</td>\n",
       "      <td>Transient</td>\n",
       "      <td>0.00</td>\n",
       "      <td>0</td>\n",
       "      <td>0</td>\n",
       "      <td>Check-Out</td>\n",
       "      <td>2015-07-01</td>\n",
       "    </tr>\n",
       "    <tr>\n",
       "      <th>2</th>\n",
       "      <td>0</td>\n",
       "      <td>7</td>\n",
       "      <td>2015</td>\n",
       "      <td>July</td>\n",
       "      <td>27</td>\n",
       "      <td>1</td>\n",
       "      <td>0</td>\n",
       "      <td>1</td>\n",
       "      <td>1</td>\n",
       "      <td>0</td>\n",
       "      <td>...</td>\n",
       "      <td>No Deposit</td>\n",
       "      <td>NULL</td>\n",
       "      <td>NULL</td>\n",
       "      <td>0</td>\n",
       "      <td>Transient</td>\n",
       "      <td>75.00</td>\n",
       "      <td>0</td>\n",
       "      <td>0</td>\n",
       "      <td>Check-Out</td>\n",
       "      <td>2015-07-02</td>\n",
       "    </tr>\n",
       "    <tr>\n",
       "      <th>3</th>\n",
       "      <td>0</td>\n",
       "      <td>13</td>\n",
       "      <td>2015</td>\n",
       "      <td>July</td>\n",
       "      <td>27</td>\n",
       "      <td>1</td>\n",
       "      <td>0</td>\n",
       "      <td>1</td>\n",
       "      <td>1</td>\n",
       "      <td>0</td>\n",
       "      <td>...</td>\n",
       "      <td>No Deposit</td>\n",
       "      <td>304</td>\n",
       "      <td>NULL</td>\n",
       "      <td>0</td>\n",
       "      <td>Transient</td>\n",
       "      <td>75.00</td>\n",
       "      <td>0</td>\n",
       "      <td>0</td>\n",
       "      <td>Check-Out</td>\n",
       "      <td>2015-07-02</td>\n",
       "    </tr>\n",
       "    <tr>\n",
       "      <th>4</th>\n",
       "      <td>0</td>\n",
       "      <td>14</td>\n",
       "      <td>2015</td>\n",
       "      <td>July</td>\n",
       "      <td>27</td>\n",
       "      <td>1</td>\n",
       "      <td>0</td>\n",
       "      <td>2</td>\n",
       "      <td>2</td>\n",
       "      <td>0</td>\n",
       "      <td>...</td>\n",
       "      <td>No Deposit</td>\n",
       "      <td>240</td>\n",
       "      <td>NULL</td>\n",
       "      <td>0</td>\n",
       "      <td>Transient</td>\n",
       "      <td>98.00</td>\n",
       "      <td>0</td>\n",
       "      <td>1</td>\n",
       "      <td>Check-Out</td>\n",
       "      <td>2015-07-03</td>\n",
       "    </tr>\n",
       "    <tr>\n",
       "      <th>...</th>\n",
       "      <td>...</td>\n",
       "      <td>...</td>\n",
       "      <td>...</td>\n",
       "      <td>...</td>\n",
       "      <td>...</td>\n",
       "      <td>...</td>\n",
       "      <td>...</td>\n",
       "      <td>...</td>\n",
       "      <td>...</td>\n",
       "      <td>...</td>\n",
       "      <td>...</td>\n",
       "      <td>...</td>\n",
       "      <td>...</td>\n",
       "      <td>...</td>\n",
       "      <td>...</td>\n",
       "      <td>...</td>\n",
       "      <td>...</td>\n",
       "      <td>...</td>\n",
       "      <td>...</td>\n",
       "      <td>...</td>\n",
       "      <td>...</td>\n",
       "    </tr>\n",
       "    <tr>\n",
       "      <th>40055</th>\n",
       "      <td>0</td>\n",
       "      <td>212</td>\n",
       "      <td>2017</td>\n",
       "      <td>August</td>\n",
       "      <td>35</td>\n",
       "      <td>31</td>\n",
       "      <td>2</td>\n",
       "      <td>8</td>\n",
       "      <td>2</td>\n",
       "      <td>1</td>\n",
       "      <td>...</td>\n",
       "      <td>No Deposit</td>\n",
       "      <td>143</td>\n",
       "      <td>NULL</td>\n",
       "      <td>0</td>\n",
       "      <td>Transient</td>\n",
       "      <td>89.75</td>\n",
       "      <td>0</td>\n",
       "      <td>0</td>\n",
       "      <td>Check-Out</td>\n",
       "      <td>2017-09-10</td>\n",
       "    </tr>\n",
       "    <tr>\n",
       "      <th>40056</th>\n",
       "      <td>0</td>\n",
       "      <td>169</td>\n",
       "      <td>2017</td>\n",
       "      <td>August</td>\n",
       "      <td>35</td>\n",
       "      <td>30</td>\n",
       "      <td>2</td>\n",
       "      <td>9</td>\n",
       "      <td>2</td>\n",
       "      <td>0</td>\n",
       "      <td>...</td>\n",
       "      <td>No Deposit</td>\n",
       "      <td>250</td>\n",
       "      <td>NULL</td>\n",
       "      <td>0</td>\n",
       "      <td>Transient-Party</td>\n",
       "      <td>202.27</td>\n",
       "      <td>0</td>\n",
       "      <td>1</td>\n",
       "      <td>Check-Out</td>\n",
       "      <td>2017-09-10</td>\n",
       "    </tr>\n",
       "    <tr>\n",
       "      <th>40057</th>\n",
       "      <td>0</td>\n",
       "      <td>204</td>\n",
       "      <td>2017</td>\n",
       "      <td>August</td>\n",
       "      <td>35</td>\n",
       "      <td>29</td>\n",
       "      <td>4</td>\n",
       "      <td>10</td>\n",
       "      <td>2</td>\n",
       "      <td>0</td>\n",
       "      <td>...</td>\n",
       "      <td>No Deposit</td>\n",
       "      <td>250</td>\n",
       "      <td>NULL</td>\n",
       "      <td>0</td>\n",
       "      <td>Transient</td>\n",
       "      <td>153.57</td>\n",
       "      <td>0</td>\n",
       "      <td>3</td>\n",
       "      <td>Check-Out</td>\n",
       "      <td>2017-09-12</td>\n",
       "    </tr>\n",
       "    <tr>\n",
       "      <th>40058</th>\n",
       "      <td>0</td>\n",
       "      <td>211</td>\n",
       "      <td>2017</td>\n",
       "      <td>August</td>\n",
       "      <td>35</td>\n",
       "      <td>31</td>\n",
       "      <td>4</td>\n",
       "      <td>10</td>\n",
       "      <td>2</td>\n",
       "      <td>0</td>\n",
       "      <td>...</td>\n",
       "      <td>No Deposit</td>\n",
       "      <td>40</td>\n",
       "      <td>NULL</td>\n",
       "      <td>0</td>\n",
       "      <td>Contract</td>\n",
       "      <td>112.80</td>\n",
       "      <td>0</td>\n",
       "      <td>1</td>\n",
       "      <td>Check-Out</td>\n",
       "      <td>2017-09-14</td>\n",
       "    </tr>\n",
       "    <tr>\n",
       "      <th>40059</th>\n",
       "      <td>0</td>\n",
       "      <td>161</td>\n",
       "      <td>2017</td>\n",
       "      <td>August</td>\n",
       "      <td>35</td>\n",
       "      <td>31</td>\n",
       "      <td>4</td>\n",
       "      <td>10</td>\n",
       "      <td>2</td>\n",
       "      <td>0</td>\n",
       "      <td>...</td>\n",
       "      <td>No Deposit</td>\n",
       "      <td>69</td>\n",
       "      <td>NULL</td>\n",
       "      <td>0</td>\n",
       "      <td>Transient</td>\n",
       "      <td>99.06</td>\n",
       "      <td>0</td>\n",
       "      <td>0</td>\n",
       "      <td>Check-Out</td>\n",
       "      <td>2017-09-14</td>\n",
       "    </tr>\n",
       "  </tbody>\n",
       "</table>\n",
       "<p>40060 rows × 31 columns</p>\n",
       "</div>"
      ],
      "text/plain": [
       "       IsCanceled  LeadTime  ArrivalDateYear ArrivalDateMonth   \n",
       "0               0       342             2015             July  \\\n",
       "1               0       737             2015             July   \n",
       "2               0         7             2015             July   \n",
       "3               0        13             2015             July   \n",
       "4               0        14             2015             July   \n",
       "...           ...       ...              ...              ...   \n",
       "40055           0       212             2017           August   \n",
       "40056           0       169             2017           August   \n",
       "40057           0       204             2017           August   \n",
       "40058           0       211             2017           August   \n",
       "40059           0       161             2017           August   \n",
       "\n",
       "       ArrivalDateWeekNumber  ArrivalDateDayOfMonth  StaysInWeekendNights   \n",
       "0                         27                      1                     0  \\\n",
       "1                         27                      1                     0   \n",
       "2                         27                      1                     0   \n",
       "3                         27                      1                     0   \n",
       "4                         27                      1                     0   \n",
       "...                      ...                    ...                   ...   \n",
       "40055                     35                     31                     2   \n",
       "40056                     35                     30                     2   \n",
       "40057                     35                     29                     4   \n",
       "40058                     35                     31                     4   \n",
       "40059                     35                     31                     4   \n",
       "\n",
       "       StaysInWeekNights  Adults  Children  ...      DepositType        Agent   \n",
       "0                      0       2         0  ...  No Deposit              NULL  \\\n",
       "1                      0       2         0  ...  No Deposit              NULL   \n",
       "2                      1       1         0  ...  No Deposit              NULL   \n",
       "3                      1       1         0  ...  No Deposit               304   \n",
       "4                      2       2         0  ...  No Deposit               240   \n",
       "...                  ...     ...       ...  ...              ...          ...   \n",
       "40055                  8       2         1  ...  No Deposit               143   \n",
       "40056                  9       2         0  ...  No Deposit               250   \n",
       "40057                 10       2         0  ...  No Deposit               250   \n",
       "40058                 10       2         0  ...  No Deposit                40   \n",
       "40059                 10       2         0  ...  No Deposit                69   \n",
       "\n",
       "           Company DaysInWaitingList     CustomerType     ADR   \n",
       "0             NULL                 0        Transient    0.00  \\\n",
       "1             NULL                 0        Transient    0.00   \n",
       "2             NULL                 0        Transient   75.00   \n",
       "3             NULL                 0        Transient   75.00   \n",
       "4             NULL                 0        Transient   98.00   \n",
       "...            ...               ...              ...     ...   \n",
       "40055         NULL                 0        Transient   89.75   \n",
       "40056         NULL                 0  Transient-Party  202.27   \n",
       "40057         NULL                 0        Transient  153.57   \n",
       "40058         NULL                 0         Contract  112.80   \n",
       "40059         NULL                 0        Transient   99.06   \n",
       "\n",
       "       RequiredCarParkingSpaces  TotalOfSpecialRequests ReservationStatus   \n",
       "0                             0                       0         Check-Out  \\\n",
       "1                             0                       0         Check-Out   \n",
       "2                             0                       0         Check-Out   \n",
       "3                             0                       0         Check-Out   \n",
       "4                             0                       1         Check-Out   \n",
       "...                         ...                     ...               ...   \n",
       "40055                         0                       0         Check-Out   \n",
       "40056                         0                       1         Check-Out   \n",
       "40057                         0                       3         Check-Out   \n",
       "40058                         0                       1         Check-Out   \n",
       "40059                         0                       0         Check-Out   \n",
       "\n",
       "      ReservationStatusDate  \n",
       "0                2015-07-01  \n",
       "1                2015-07-01  \n",
       "2                2015-07-02  \n",
       "3                2015-07-02  \n",
       "4                2015-07-03  \n",
       "...                     ...  \n",
       "40055            2017-09-10  \n",
       "40056            2017-09-10  \n",
       "40057            2017-09-12  \n",
       "40058            2017-09-14  \n",
       "40059            2017-09-14  \n",
       "\n",
       "[40060 rows x 31 columns]"
      ]
     },
     "execution_count": 6,
     "metadata": {},
     "output_type": "execute_result"
    }
   ],
   "source": [
    "train_df = pd.read_csv('H1.csv')\n",
    "a=train_df.head()\n",
    "b=train_df\n",
    "b\n",
    "b.sort_values(['ArrivalDateYear','ArrivalDateWeekNumber'], ascending=True)"
   ]
  },
  {
   "cell_type": "code",
   "execution_count": 7,
   "metadata": {},
   "outputs": [],
   "source": [
    "IsCanceled = train_df['IsCanceled']\n",
    "y = IsCanceled"
   ]
  },
  {
   "cell_type": "markdown",
   "metadata": {},
   "source": [
    "### Numerical Variables"
   ]
  },
  {
   "cell_type": "code",
   "execution_count": 8,
   "metadata": {},
   "outputs": [],
   "source": [
    "leadtime = train_df['LeadTime']\n",
    "arrivaldateweekno = train_df['ArrivalDateWeekNumber']\n",
    "arrivaldatedayofmonth = train_df['ArrivalDateDayOfMonth']\n",
    "staysweekendnights = train_df['StaysInWeekendNights']\n",
    "staysweeknights = train_df['StaysInWeekNights']\n",
    "adults = train_df['Adults']\n",
    "children = train_df['Children']\n",
    "babies = train_df['Babies']\n",
    "previouscancellations = train_df['PreviousCancellations']\n",
    "previousbookingsnotcanceled = train_df['PreviousBookingsNotCanceled']\n",
    "bookingchanges = train_df['BookingChanges']\n",
    "dayswaitinglist = train_df['DaysInWaitingList']\n",
    "adr = train_df['ADR']\n",
    "rcps = train_df['RequiredCarParkingSpaces']\n",
    "totalsqr = train_df['TotalOfSpecialRequests']"
   ]
  },
  {
   "cell_type": "markdown",
   "metadata": {},
   "source": [
    "### Categorical Variables"
   ]
  },
  {
   "cell_type": "code",
   "execution_count": 9,
   "metadata": {},
   "outputs": [],
   "source": [
    "arrivaldatemonth = train_df.ArrivalDateMonth.astype(\"category\").cat.codes\n",
    "arrivaldatemonthcat=pd.Series(arrivaldatemonth)\n",
    "mealcat=train_df.Meal.astype(\"category\").cat.codes\n",
    "mealcat=pd.Series(mealcat)\n",
    "countrycat=train_df.Country.astype(\"category\").cat.codes\n",
    "countrycat=pd.Series(countrycat)\n",
    "marketsegmentcat=train_df.MarketSegment.astype(\"category\").cat.codes\n",
    "marketsegmentcat=pd.Series(marketsegmentcat)\n",
    "distributionchannelcat=train_df.DistributionChannel.astype(\"category\").cat.codes\n",
    "distributionchannelcat=pd.Series(distributionchannelcat)\n",
    "reservedroomtypecat=train_df.ReservedRoomType.astype(\"category\").cat.codes\n",
    "reservedroomtypecat=pd.Series(reservedroomtypecat)\n",
    "assignedroomtypecat=train_df.AssignedRoomType.astype(\"category\").cat.codes\n",
    "assignedroomtypecat=pd.Series(assignedroomtypecat)\n",
    "deposittypecat=train_df.DepositType.astype(\"category\").cat.codes\n",
    "deposittypecat=pd.Series(deposittypecat)\n",
    "customertypecat=train_df.CustomerType.astype(\"category\").cat.codes\n",
    "customertypecat=pd.Series(customertypecat)\n",
    "reservationstatuscat=train_df.ReservationStatus.astype(\"category\").cat.codes\n",
    "reservationstatuscat=pd.Series(reservationstatuscat)\n",
    "isrepeatedguestcat = train_df.IsRepeatedGuest.astype(\"category\").cat.codes\n",
    "isrepeatedguestcat=pd.Series(isrepeatedguestcat)\n",
    "agentcat = train_df.Agent.astype(\"category\").cat.codes\n",
    "agentcat=pd.Series(agentcat)\n",
    "companycat = train_df.Company.astype(\"category\").cat.codes\n",
    "companycat=pd.Series(companycat)"
   ]
  },
  {
   "cell_type": "code",
   "execution_count": 10,
   "metadata": {},
   "outputs": [],
   "source": [
    "x = np.column_stack((leadtime,arrivaldatemonthcat,arrivaldateweekno,arrivaldatedayofmonth,staysweekendnights,staysweeknights,adults,children,babies,mealcat,countrycat,marketsegmentcat,distributionchannelcat,isrepeatedguestcat,previouscancellations,previousbookingsnotcanceled,reservedroomtypecat,assignedroomtypecat,bookingchanges,deposittypecat,dayswaitinglist,customertypecat,adr,rcps,totalsqr,reservationstatuscat))\n",
    "x = sm.add_constant(x, prepend=True)"
   ]
  },
  {
   "cell_type": "code",
   "execution_count": 11,
   "metadata": {},
   "outputs": [],
   "source": [
    "x1_train, x1_val, y1_train, y1_val = train_test_split(x, y, random_state=0)"
   ]
  },
  {
   "cell_type": "code",
   "execution_count": 12,
   "metadata": {},
   "outputs": [
    {
     "data": {
      "text/plain": [
       "(30045, 27)"
      ]
     },
     "execution_count": 12,
     "metadata": {},
     "output_type": "execute_result"
    }
   ],
   "source": [
    "x1_train.shape"
   ]
  },
  {
   "cell_type": "code",
   "execution_count": 13,
   "metadata": {},
   "outputs": [
    {
     "data": {
      "text/plain": [
       "(10015, 27)"
      ]
     },
     "execution_count": 13,
     "metadata": {},
     "output_type": "execute_result"
    }
   ],
   "source": [
    "x1_val.shape"
   ]
  },
  {
   "cell_type": "code",
   "execution_count": 14,
   "metadata": {},
   "outputs": [
    {
     "data": {
      "text/plain": [
       "(30045,)"
      ]
     },
     "execution_count": 14,
     "metadata": {},
     "output_type": "execute_result"
    }
   ],
   "source": [
    "y1_train.shape"
   ]
  },
  {
   "cell_type": "code",
   "execution_count": 15,
   "metadata": {},
   "outputs": [
    {
     "data": {
      "text/plain": [
       "(10015,)"
      ]
     },
     "execution_count": 15,
     "metadata": {},
     "output_type": "execute_result"
    }
   ],
   "source": [
    "y1_val.shape"
   ]
  },
  {
   "cell_type": "markdown",
   "metadata": {},
   "source": [
    "### PCA"
   ]
  },
  {
   "cell_type": "code",
   "execution_count": 16,
   "metadata": {},
   "outputs": [],
   "source": [
    "from sklearn.decomposition import PCA\n",
    "pca = PCA()\n",
    "pca.fit(x1_train)\n",
    "cumsum = np.cumsum(pca.explained_variance_ratio_)\n",
    "d=np.argmax(cumsum >= 0.95) + 1"
   ]
  },
  {
   "cell_type": "code",
   "execution_count": 17,
   "metadata": {},
   "outputs": [
    {
     "data": {
      "text/plain": [
       "array([0.65268802, 0.91585162, 0.97544116, 0.98866666, 0.99408994,\n",
       "       0.9977992 , 0.99848658, 0.99894959, 0.99933368, 0.99947797,\n",
       "       0.99959497, 0.99966931, 0.99973189, 0.99978591, 0.99982632,\n",
       "       0.99986507, 0.99990079, 0.99993411, 0.99995573, 0.99996792,\n",
       "       0.99997887, 0.99998639, 0.99999363, 0.99999677, 0.99999906,\n",
       "       1.        , 1.        ])"
      ]
     },
     "execution_count": 17,
     "metadata": {},
     "output_type": "execute_result"
    }
   ],
   "source": [
    "cumsum"
   ]
  },
  {
   "cell_type": "code",
   "execution_count": 18,
   "metadata": {},
   "outputs": [
    {
     "data": {
      "text/plain": [
       "3"
      ]
     },
     "execution_count": 18,
     "metadata": {},
     "output_type": "execute_result"
    }
   ],
   "source": [
    "d"
   ]
  },
  {
   "cell_type": "code",
   "execution_count": 19,
   "metadata": {},
   "outputs": [],
   "source": [
    "model = PCA(n_components=3).fit(x1_train)\n",
    "X_pc = model.transform(x1_train)\n",
    "\n",
    "# number of components\n",
    "n_pcs= model.components_.shape[0]"
   ]
  },
  {
   "cell_type": "code",
   "execution_count": 20,
   "metadata": {},
   "outputs": [
    {
     "data": {
      "text/plain": [
       "3"
      ]
     },
     "execution_count": 20,
     "metadata": {},
     "output_type": "execute_result"
    }
   ],
   "source": [
    "n_pcs"
   ]
  },
  {
   "cell_type": "code",
   "execution_count": 21,
   "metadata": {},
   "outputs": [
    {
     "data": {
      "text/plain": [
       "array([6.52688022e-01, 2.63163603e-01, 5.95895365e-02, 1.32254985e-02,\n",
       "       5.42328291e-03, 3.70926122e-03, 6.87380784e-04, 4.63008004e-04,\n",
       "       3.84090776e-04, 1.44281661e-04, 1.17006860e-04, 7.43367867e-05,\n",
       "       6.25794130e-05, 5.40171237e-05, 4.04148996e-05, 3.87491097e-05,\n",
       "       3.57161629e-05, 3.33265022e-05, 2.16184565e-05, 1.21909359e-05,\n",
       "       1.09492387e-05, 7.52357163e-06, 7.23871150e-06, 3.13788560e-06,\n",
       "       2.28437419e-06, 9.44680088e-07, 4.56321723e-33])"
      ]
     },
     "execution_count": 21,
     "metadata": {},
     "output_type": "execute_result"
    }
   ],
   "source": [
    "pca.explained_variance_ratio_"
   ]
  },
  {
   "cell_type": "code",
   "execution_count": 22,
   "metadata": {},
   "outputs": [
    {
     "data": {
      "text/plain": [
       "array([[ 1.29391511e-19,  9.98450351e-01,  5.03553775e-03,\n",
       "         1.84755540e-02, -2.27091827e-03,  3.89020715e-03,\n",
       "         9.84851725e-03,  1.08324413e-03,  5.48629159e-05,\n",
       "        -3.16758945e-07,  1.64897189e-03, -3.10833223e-02,\n",
       "         1.58160168e-03,  1.17682276e-03, -3.31724266e-04,\n",
       "         1.24164543e-03, -1.19571753e-03,  1.76223607e-04,\n",
       "        -2.02214195e-03,  6.17543877e-04,  4.53981462e-04,\n",
       "         6.46044881e-03,  4.87158248e-05,  3.98486058e-02,\n",
       "        -5.23947495e-04,  1.48740555e-05, -1.11352763e-03],\n",
       "       [ 1.85461529e-18, -4.04594046e-02, -1.63647175e-02,\n",
       "         3.58197484e-02,  5.99604805e-03,  1.52521301e-03,\n",
       "         3.84870448e-03,  2.17873493e-03,  2.60436245e-03,\n",
       "         1.05660885e-04,  2.40852883e-03, -7.18970135e-04,\n",
       "         4.19967877e-03,  1.29768657e-03, -3.29390629e-04,\n",
       "        -1.05860329e-03, -1.34144831e-03,  1.32343491e-02,\n",
       "         8.47816227e-03,  2.73136399e-04, -4.19323227e-04,\n",
       "        -2.16835399e-03, -6.20292304e-04,  9.98228102e-01,\n",
       "         5.60561826e-04,  2.50723797e-03, -7.55409158e-04],\n",
       "       [-1.52176932e-18, -3.10849900e-02,  5.89577688e-03,\n",
       "        -3.41645838e-03, -4.76616985e-03,  3.30343836e-03,\n",
       "         7.38481588e-03,  3.66112526e-04, -1.77638555e-04,\n",
       "        -6.50755736e-05, -5.94866480e-04, -9.99388885e-01,\n",
       "         6.44710711e-03,  2.49389429e-03, -9.19069256e-04,\n",
       "        -1.96620089e-03, -1.99929392e-03,  4.45586295e-03,\n",
       "         4.03918544e-03,  7.04535976e-04, -1.00866572e-03,\n",
       "        -2.44198412e-03, -7.43590008e-04, -1.90037103e-03,\n",
       "         3.33765804e-04,  1.41690534e-03,  3.74664504e-03],\n",
       "       [-2.47785911e-19, -1.74985928e-02,  8.20040885e-02,\n",
       "         9.91293151e-01,  8.36217581e-02, -6.16955775e-04,\n",
       "        -4.25040106e-03,  1.56638804e-04, -1.37778020e-03,\n",
       "         7.67429793e-05, -4.32912722e-03, -2.89368357e-03,\n",
       "        -6.04785344e-04, -2.19251149e-03, -7.12154911e-04,\n",
       "         3.58692317e-03, -2.23245784e-03, -7.18828079e-03,\n",
       "        -6.23221567e-03, -3.59163013e-04, -5.67655200e-04,\n",
       "         4.37557110e-02, -4.65872227e-04, -3.51615711e-02,\n",
       "         2.41477959e-04,  7.05721665e-04,  8.73828193e-04],\n",
       "       [-5.19411085e-18,  3.51570009e-03, -2.17657735e-02,\n",
       "        -8.57720759e-02,  9.92171465e-01, -5.88845086e-03,\n",
       "        -1.27087609e-02, -5.84873874e-04,  1.75991022e-04,\n",
       "        -5.65293513e-05,  8.63999424e-04, -4.96926587e-03,\n",
       "         3.88380564e-04, -8.19255858e-05,  2.14753483e-04,\n",
       "        -7.03916425e-03,  7.73965116e-04,  7.83572208e-04,\n",
       "         1.86809944e-03,  5.69670622e-04,  9.58775443e-04,\n",
       "         8.63953231e-02,  1.32184644e-03, -2.88728361e-03,\n",
       "         3.10221516e-04, -2.79971768e-04,  8.43892540e-04],\n",
       "       [ 3.69228309e-19, -6.11857466e-03, -1.70754496e-02,\n",
       "        -3.48343486e-02, -9.00386257e-02, -4.94432709e-03,\n",
       "         2.22103871e-03, -1.90699807e-03, -7.98289604e-04,\n",
       "        -1.16797838e-04,  1.76853179e-02, -1.88257158e-03,\n",
       "        -8.43517821e-03, -1.63964180e-03,  1.17599322e-04,\n",
       "        -2.41014267e-03,  2.79083778e-04, -3.05957490e-03,\n",
       "        -7.73472100e-04,  8.66333669e-04,  2.24631118e-04,\n",
       "         9.94881891e-01,  8.28619816e-03,  3.48859779e-03,\n",
       "         1.32952696e-04, -5.31647773e-03,  3.32160975e-03],\n",
       "       [-1.38892347e-17, -3.41615075e-03,  9.70608794e-01,\n",
       "        -7.97108604e-02,  1.26601049e-02, -1.16918753e-02,\n",
       "        -7.73999871e-03,  8.09610516e-03,  1.33582005e-02,\n",
       "        -2.99123962e-04, -2.99899388e-02,  7.11078054e-03,\n",
       "        -6.98918798e-03, -1.61631632e-02, -1.10021121e-04,\n",
       "         1.68174884e-02, -2.72530205e-03,  1.52707421e-01,\n",
       "         1.59546066e-01, -6.26134887e-05,  4.33167964e-05,\n",
       "         1.59871336e-02, -1.73932648e-03,  1.53646779e-02,\n",
       "         8.46446831e-03, -7.63377630e-03,  1.63475040e-03],\n",
       "       [-2.80807155e-17, -2.58720074e-04, -2.06066365e-01,\n",
       "         2.64484772e-02, -1.79291424e-04,  1.08731287e-01,\n",
       "         2.73604691e-01,  2.41812592e-02,  3.92110304e-02,\n",
       "         4.93517809e-04, -3.30564590e-02,  7.08793485e-03,\n",
       "         2.17913311e-02,  1.16691201e-02, -1.13782373e-03,\n",
       "        -4.02034095e-02, -1.09099401e-02,  6.28060766e-01,\n",
       "         6.84035147e-01,  1.34403546e-02, -1.17407572e-02,\n",
       "         9.39061327e-04, -3.15358939e-02, -1.99962084e-02,\n",
       "         5.92880580e-03,  1.80964921e-02,  1.00560414e-02],\n",
       "       [ 1.05795436e-17, -1.08254733e-02,  7.78108000e-02,\n",
       "        -6.25141353e-03,  1.49466549e-02,  3.21103974e-01,\n",
       "         8.90683276e-01,  1.90186733e-03, -1.43979417e-02,\n",
       "         4.61428757e-04,  5.28671993e-02,  7.26145657e-03,\n",
       "         5.57353392e-02,  3.26834807e-02, -6.36434761e-03,\n",
       "        -1.68469811e-02, -2.81424842e-02, -1.45065882e-01,\n",
       "        -2.53858299e-01,  1.37227192e-02, -5.23328630e-03,\n",
       "         1.44826585e-03, -5.14917301e-02,  6.31936876e-04,\n",
       "        -1.26787032e-02,  1.47532641e-02, -7.44532167e-03],\n",
       "       [-1.21732875e-17,  8.33520814e-04, -1.27111313e-02,\n",
       "         1.40856500e-03,  2.41077192e-03, -2.17769116e-02,\n",
       "         9.51082174e-02, -6.99248794e-02, -9.01119347e-03,\n",
       "         3.43590939e-05,  1.03783494e-01, -6.71462163e-03,\n",
       "        -8.55630263e-01, -3.43301028e-01,  2.99735724e-02,\n",
       "         1.15865214e-01,  2.37768417e-01, -5.59784649e-02,\n",
       "         6.99645886e-02,  9.23734624e-02,  1.51424441e-02,\n",
       "        -1.16495755e-02,  5.60376507e-02,  4.45676345e-03,\n",
       "         1.20481899e-02, -1.78372117e-01,  4.07340773e-02],\n",
       "       [-2.80529319e-18, -1.62099295e-03, -2.22517397e-02,\n",
       "        -1.76951596e-03,  6.26720103e-03,  1.45796616e-02,\n",
       "         1.15897676e-02,  1.63391015e-02,  5.28436359e-03,\n",
       "        -9.02154277e-04,  2.52745183e-02, -1.12007967e-03,\n",
       "         1.08292761e-01,  4.29301078e-02, -2.40543733e-03,\n",
       "         9.88518588e-01, -2.60144101e-03,  5.46125617e-02,\n",
       "        -8.10094946e-03, -3.96184440e-02,  2.85313016e-02,\n",
       "         3.55373524e-03, -1.24790895e-02, -7.04957765e-04,\n",
       "        -6.38587804e-03, -2.37127389e-03, -4.21691386e-02],\n",
       "       [-6.34628079e-18,  1.39629685e-03, -2.55306760e-03,\n",
       "        -7.16658714e-04, -6.99343644e-04, -3.91009903e-02,\n",
       "         5.41406397e-02, -8.46572792e-02, -1.75735910e-03,\n",
       "         3.29639131e-04, -4.64212905e-01, -6.90035047e-05,\n",
       "         1.52108150e-01, -1.98116850e-02,  6.72981573e-02,\n",
       "         7.87150034e-03,  8.06588137e-01, -1.39969645e-01,\n",
       "         9.11821688e-02, -4.03832607e-02, -2.36790265e-02,\n",
       "         1.03047169e-02, -9.68801900e-02,  2.18064118e-03,\n",
       "         2.04539629e-02,  2.30854771e-01,  2.92530510e-02],\n",
       "       [ 5.03005120e-17, -5.56175163e-04,  2.48328438e-02,\n",
       "         3.00564217e-03,  1.02760438e-04,  2.36470780e-02,\n",
       "        -2.11176265e-02, -4.47656386e-02, -1.59422358e-02,\n",
       "         2.49205472e-03,  7.99708962e-01,  7.47034166e-04,\n",
       "         1.93269875e-01,  1.20062513e-01,  2.38176240e-02,\n",
       "        -1.95111580e-02,  3.39916753e-01, -2.76255739e-01,\n",
       "         3.02209976e-01,  1.05992768e-01, -7.52850846e-03,\n",
       "        -1.31149068e-02,  7.17877537e-02, -9.95221961e-04,\n",
       "        -4.80450974e-03,  4.64124793e-02,  4.32086761e-02],\n",
       "       [-1.61989668e-17, -6.45908598e-04,  9.00244124e-04,\n",
       "         3.29736415e-03, -3.06763502e-04,  1.23095059e-01,\n",
       "        -1.00541375e-01,  3.82825332e-02,  1.84905651e-02,\n",
       "        -5.81177034e-03,  2.86657247e-01, -9.87952846e-04,\n",
       "         7.04651309e-03,  4.53511477e-02,  2.02338019e-02,\n",
       "        -6.30364268e-02,  3.74326929e-01,  6.25192505e-01,\n",
       "        -5.33003051e-01, -2.07354986e-01,  1.91256099e-02,\n",
       "        -2.54449427e-03, -3.60584021e-02, -3.86889136e-03,\n",
       "        -2.75778552e-02, -1.22807719e-01, -9.28359181e-02],\n",
       "       [ 1.45528410e-17, -2.02766951e-04,  4.48722793e-03,\n",
       "        -9.27977652e-04, -2.94742735e-04, -2.56213664e-02,\n",
       "        -2.12368419e-02,  6.93750944e-02, -2.05104099e-02,\n",
       "         2.30204286e-02,  7.86707681e-02,  9.16932819e-04,\n",
       "        -1.10801081e-01, -6.67108675e-02,  8.98227663e-04,\n",
       "         2.91442792e-02, -6.53193976e-02,  1.96008360e-01,\n",
       "        -1.85461747e-01,  4.90350654e-01, -2.93989896e-02,\n",
       "         5.38326235e-04,  1.26030554e-01, -2.58832926e-03,\n",
       "         5.18119596e-02,  7.87833580e-01,  1.08136986e-01],\n",
       "       [-4.47453901e-17, -1.09709783e-04,  8.99417870e-03,\n",
       "        -2.83103542e-03,  9.25369703e-04,  9.07401579e-01,\n",
       "        -3.21848669e-01,  1.41958847e-01, -6.87367460e-03,\n",
       "         2.39666669e-03, -6.85979937e-02,  2.81838773e-04,\n",
       "        -8.39085132e-02, -9.45390022e-03,  3.58229618e-03,\n",
       "         6.42972979e-03, -9.60964833e-03, -1.19039299e-01,\n",
       "         8.41220777e-02, -6.49576780e-03, -3.13599479e-03,\n",
       "         7.12096855e-03, -1.17986095e-01,  9.71719306e-04,\n",
       "         9.06430139e-03,  6.96185764e-02,  2.36270763e-02],\n",
       "       [-3.21540560e-17, -8.87183032e-05,  3.02356980e-04,\n",
       "        -5.97454591e-04,  5.48109831e-04, -1.70004720e-01,\n",
       "         5.99158846e-02,  7.22528495e-01, -5.73342129e-02,\n",
       "         1.36933235e-03,  9.53913853e-02, -7.87698063e-04,\n",
       "        -1.55021423e-01, -5.63304256e-03, -4.95568820e-04,\n",
       "        -1.13639762e-02, -1.06758426e-02, -9.79617795e-02,\n",
       "         7.34122482e-02, -5.21726094e-01,  5.26208942e-03,\n",
       "         6.60357062e-04, -1.87485654e-01, -1.00380057e-03,\n",
       "         2.12872257e-03,  2.93778033e-01,  9.50212043e-03],\n",
       "       [ 3.79922176e-17, -9.27594367e-04, -6.02955100e-03,\n",
       "         8.60658786e-04, -3.93115032e-04, -4.59142748e-02,\n",
       "         9.44850174e-03,  6.47712222e-01,  3.42493128e-02,\n",
       "        -1.63238452e-04, -9.76051967e-02,  3.13084617e-04,\n",
       "         1.11946308e-01,  3.49864894e-02, -2.47935745e-03,\n",
       "         3.04885174e-04,  1.47615071e-01,  9.51047655e-03,\n",
       "        -3.70393176e-02,  6.01869804e-01,  1.59542555e-03,\n",
       "         6.26126099e-04,  4.62114442e-02, -6.70512408e-04,\n",
       "         1.11666416e-02, -4.06369602e-01, -2.95215719e-02],\n",
       "       [-3.95844433e-17, -5.88761145e-04, -2.32473103e-03,\n",
       "         6.21653506e-04,  3.98010719e-04,  1.07450186e-01,\n",
       "         2.83869168e-02,  1.22687384e-01,  1.19473167e-02,\n",
       "        -6.09251806e-03, -8.56894810e-02, -4.32256350e-04,\n",
       "         5.77039813e-02, -8.24509578e-02, -1.77688986e-02,\n",
       "        -4.58980616e-03,  5.04227877e-02, -1.77713638e-02,\n",
       "         2.70417117e-02, -2.18859257e-01, -6.48390149e-03,\n",
       "        -4.65985112e-03,  9.43848349e-01, -5.32884536e-06,\n",
       "        -2.79288935e-02,  2.00442720e-02, -1.04969253e-01],\n",
       "       [-1.87930348e-16,  1.00025755e-03, -1.67289390e-03,\n",
       "        -6.39132069e-04, -1.73296602e-04,  8.51254026e-03,\n",
       "         4.46209058e-03,  1.35935435e-02, -2.97200424e-01,\n",
       "        -3.10673777e-03, -2.11170489e-02,  3.58865701e-03,\n",
       "         2.90069566e-02,  9.32437422e-02,  2.52454874e-02,\n",
       "         3.01102192e-02,  3.14443010e-03,  6.23248291e-02,\n",
       "        -5.38237670e-02, -7.88420075e-02, -1.09571145e-01,\n",
       "        -3.56087227e-03,  9.72684799e-02,  1.04746213e-03,\n",
       "         3.53932391e-01, -1.33906260e-01,  8.49797133e-01],\n",
       "       [ 1.45110422e-16,  2.85781377e-04, -3.74610288e-03,\n",
       "         9.48048541e-04, -1.13569678e-04, -2.92394908e-03,\n",
       "         6.41491825e-03,  2.18766309e-02,  9.50336724e-01,\n",
       "         3.65102865e-03,  1.70265733e-02,  5.71283517e-04,\n",
       "        -9.52851727e-03,  1.45332680e-02,  7.78558373e-03,\n",
       "         7.07997329e-03, -5.44033491e-03, -3.15958448e-02,\n",
       "        -3.28312831e-02, -5.86821741e-02, -4.40079163e-02,\n",
       "        -5.83513187e-04,  8.73476930e-03, -1.84711342e-03,\n",
       "         1.35939533e-01,  8.76734889e-03,  2.63586669e-01],\n",
       "       [ 5.02885111e-17,  4.17571190e-04, -1.18250836e-02,\n",
       "        -3.73488550e-04, -4.60340522e-04,  1.40386509e-02,\n",
       "        -1.40196809e-03,  1.76075161e-02, -2.14321905e-02,\n",
       "        -5.40402968e-04,  8.85433672e-02, -2.59271144e-04,\n",
       "         3.14238726e-01, -8.00160540e-01, -3.88806958e-03,\n",
       "        -7.57716136e-03, -3.61212947e-02,  6.88389482e-03,\n",
       "        -9.35256898e-03, -2.94728893e-02, -4.38140679e-03,\n",
       "         6.09303905e-04, -8.85597267e-02, -1.07620145e-03,\n",
       "         4.75329800e-01, -2.25397441e-02, -1.23924481e-01],\n",
       "       [-9.52303900e-18, -2.71666679e-04,  7.09416568e-04,\n",
       "         8.97855202e-04,  7.08985709e-05, -4.95607488e-03,\n",
       "         9.89927721e-03, -2.88889575e-02, -1.53810244e-02,\n",
       "         1.11542905e-02, -2.65778075e-02, -1.19712656e-03,\n",
       "        -1.77072841e-01,  4.45504900e-01,  7.31106820e-03,\n",
       "        -9.91840586e-03,  1.45430868e-02, -2.20631177e-02,\n",
       "         1.69146167e-02,  9.23967705e-03,  1.10694203e-01,\n",
       "         4.21602175e-04,  3.58170013e-02, -2.66938037e-04,\n",
       "         7.89395145e-01,  1.86344768e-02, -3.60407313e-01],\n",
       "       [-9.47453506e-17, -3.63303028e-04, -1.41420005e-03,\n",
       "         6.97822883e-04, -1.08037480e-03,  4.92165883e-03,\n",
       "         6.78120637e-03,  8.91832973e-04,  1.04603083e-02,\n",
       "        -2.71830999e-03, -1.02973969e-02, -6.16670519e-05,\n",
       "         3.55093474e-02, -4.08951263e-02, -9.32706599e-02,\n",
       "        -2.38442764e-02,  1.47063824e-02,  1.89605128e-03,\n",
       "         6.32913678e-03,  6.17036043e-03,  9.80580608e-01,\n",
       "        -4.54664452e-04,  1.33125861e-02,  2.03344836e-04,\n",
       "        -3.70804480e-02,  1.83058865e-02,  1.54198583e-01],\n",
       "       [-6.78495906e-18, -4.08111211e-05, -1.17496854e-04,\n",
       "        -6.85790053e-04,  1.52930623e-04, -1.29210009e-03,\n",
       "        -4.21082688e-03, -1.17181720e-02, -1.88834282e-03,\n",
       "         2.75526797e-02, -2.14945602e-03,  7.75430140e-04,\n",
       "        -1.81059283e-02,  5.69718767e-03, -9.91472949e-01,\n",
       "         3.19007287e-03,  7.55077248e-02, -3.93236801e-03,\n",
       "         3.17023115e-03, -1.77222591e-03, -9.53096794e-02,\n",
       "         1.23416631e-04, -1.87448927e-02, -1.21606939e-04,\n",
       "         1.89640314e-02,  4.85931716e-03,  1.17096081e-02],\n",
       "       [-1.48357823e-16,  9.95553386e-06,  1.26523830e-04,\n",
       "        -7.47753008e-05,  3.68419468e-05, -7.89472216e-05,\n",
       "         2.75876503e-04, -1.08664418e-03, -3.36576746e-03,\n",
       "         9.99234492e-01, -2.23876567e-03, -1.00951820e-04,\n",
       "         5.80034207e-03, -4.37135437e-03,  2.69503130e-02,\n",
       "        -7.80488422e-05,  7.50458626e-04,  6.94397647e-04,\n",
       "        -2.48877552e-04, -1.33952343e-02,  4.68743944e-03,\n",
       "         6.30079643e-05,  3.44459330e-03, -3.52235810e-05,\n",
       "        -1.01175626e-02, -2.03377529e-02,  1.82878632e-03],\n",
       "       [ 1.00000000e+00,  1.03341227e-19,  6.55421590e-18,\n",
       "        -9.69925969e-19,  5.24025193e-18,  4.30217269e-17,\n",
       "        -1.16187504e-17,  9.18110200e-18, -1.92597297e-16,\n",
       "         1.46559465e-16, -5.24050291e-17, -9.36709305e-19,\n",
       "        -3.44705555e-17,  4.14543644e-17, -8.21493938e-18,\n",
       "         5.41436843e-18, -1.15439359e-18,  4.74882052e-17,\n",
       "         8.84712859e-18, -6.95769864e-17,  8.06952028e-17,\n",
       "         3.56580515e-19,  4.13921573e-17, -1.58184790e-18,\n",
       "         2.41797222e-17, -1.38405084e-17,  1.33249569e-16]])"
      ]
     },
     "execution_count": 22,
     "metadata": {},
     "output_type": "execute_result"
    }
   ],
   "source": [
    "pca.components_"
   ]
  },
  {
   "cell_type": "code",
   "execution_count": 23,
   "metadata": {},
   "outputs": [
    {
     "data": {
      "text/plain": [
       "[1, 23, 11]"
      ]
     },
     "execution_count": 23,
     "metadata": {},
     "output_type": "execute_result"
    }
   ],
   "source": [
    "# https://stackoverflow.com/questions/47370795/pca-on-sklearn-how-to-interpret-pca-components\n",
    "\n",
    "most_important = [np.abs(model.components_[i]).argmax() for i in range(n_pcs)]\n",
    "most_important"
   ]
  },
  {
   "cell_type": "code",
   "execution_count": 24,
   "metadata": {},
   "outputs": [],
   "source": [
    "initial_feature_names = ['leadtime','arrivaldatemonthcat','arrivaldateweekno','arrivaldatedayofmonth','staysweekendnights','staysweeknights','adults','children','babies','mealcat','countrycat','marketsegmentcat','distributionchannelcat','isrepeatedguestcat','previouscancellations','previousbookingsnotcanceled','reservedroomtypecat','assignedroomtypecat','bookingchanges','deposittypecat','dayswaitinglist','customertypecat','adr','rcps','totalsqr','reservationstatuscat']\n",
    "most_important_names = [initial_feature_names[most_important[i]] for i in range(n_pcs)]\n",
    "\n",
    "dic = {'PC{}'.format(i): most_important_names[i] for i in range(n_pcs)}\n",
    "df = pd.DataFrame(dic.items())"
   ]
  },
  {
   "cell_type": "code",
   "execution_count": 25,
   "metadata": {},
   "outputs": [
    {
     "data": {
      "text/html": [
       "<div>\n",
       "<style scoped>\n",
       "    .dataframe tbody tr th:only-of-type {\n",
       "        vertical-align: middle;\n",
       "    }\n",
       "\n",
       "    .dataframe tbody tr th {\n",
       "        vertical-align: top;\n",
       "    }\n",
       "\n",
       "    .dataframe thead th {\n",
       "        text-align: right;\n",
       "    }\n",
       "</style>\n",
       "<table border=\"1\" class=\"dataframe\">\n",
       "  <thead>\n",
       "    <tr style=\"text-align: right;\">\n",
       "      <th></th>\n",
       "      <th>0</th>\n",
       "      <th>1</th>\n",
       "    </tr>\n",
       "  </thead>\n",
       "  <tbody>\n",
       "    <tr>\n",
       "      <th>0</th>\n",
       "      <td>PC0</td>\n",
       "      <td>arrivaldatemonthcat</td>\n",
       "    </tr>\n",
       "    <tr>\n",
       "      <th>1</th>\n",
       "      <td>PC1</td>\n",
       "      <td>rcps</td>\n",
       "    </tr>\n",
       "    <tr>\n",
       "      <th>2</th>\n",
       "      <td>PC2</td>\n",
       "      <td>marketsegmentcat</td>\n",
       "    </tr>\n",
       "  </tbody>\n",
       "</table>\n",
       "</div>"
      ],
      "text/plain": [
       "     0                    1\n",
       "0  PC0  arrivaldatemonthcat\n",
       "1  PC1                 rcps\n",
       "2  PC2     marketsegmentcat"
      ]
     },
     "execution_count": 25,
     "metadata": {},
     "output_type": "execute_result"
    }
   ],
   "source": [
    "df"
   ]
  },
  {
   "cell_type": "code",
   "execution_count": 26,
   "metadata": {},
   "outputs": [],
   "source": [
    "x = np.column_stack((arrivaldatemonthcat,marketsegmentcat,rcps))\n",
    "x = sm.add_constant(x, prepend=True)"
   ]
  },
  {
   "cell_type": "code",
   "execution_count": 27,
   "metadata": {},
   "outputs": [],
   "source": [
    "x1_train, x1_val, y1_train, y1_val = train_test_split(x, y, random_state=0)"
   ]
  },
  {
   "cell_type": "code",
   "execution_count": 28,
   "metadata": {},
   "outputs": [
    {
     "data": {
      "text/plain": [
       "(30045, 4)"
      ]
     },
     "execution_count": 28,
     "metadata": {},
     "output_type": "execute_result"
    }
   ],
   "source": [
    "x1_train.shape"
   ]
  },
  {
   "cell_type": "code",
   "execution_count": 29,
   "metadata": {},
   "outputs": [
    {
     "data": {
      "text/plain": [
       "(10015, 4)"
      ]
     },
     "execution_count": 29,
     "metadata": {},
     "output_type": "execute_result"
    }
   ],
   "source": [
    "x1_val.shape"
   ]
  },
  {
   "cell_type": "code",
   "execution_count": 30,
   "metadata": {},
   "outputs": [
    {
     "data": {
      "text/plain": [
       "(30045,)"
      ]
     },
     "execution_count": 30,
     "metadata": {},
     "output_type": "execute_result"
    }
   ],
   "source": [
    "y1_train.shape"
   ]
  },
  {
   "cell_type": "code",
   "execution_count": 31,
   "metadata": {},
   "outputs": [
    {
     "data": {
      "text/plain": [
       "(10015,)"
      ]
     },
     "execution_count": 31,
     "metadata": {},
     "output_type": "execute_result"
    }
   ],
   "source": [
    "y1_val.shape"
   ]
  },
  {
   "cell_type": "markdown",
   "metadata": {},
   "source": [
    "### SVM"
   ]
  },
  {
   "cell_type": "code",
   "execution_count": 32,
   "metadata": {},
   "outputs": [
    {
     "data": {
      "text/plain": [
       "array([0, 0, 1, ..., 0, 0, 1])"
      ]
     },
     "execution_count": 32,
     "metadata": {},
     "output_type": "execute_result"
    }
   ],
   "source": [
    "# https://stackoverflow.com/questions/52896387/svc-with-class-weight-in-scikit-learn\n",
    "from sklearn import svm\n",
    "clf = svm.SVC(gamma='scale', \n",
    "            class_weight='balanced')\n",
    "clf.fit(x1_train, y1_train)  \n",
    "prclf = clf.predict(x1_val)\n",
    "prclf"
   ]
  },
  {
   "cell_type": "code",
   "execution_count": 33,
   "metadata": {},
   "outputs": [
    {
     "name": "stdout",
     "output_type": "stream",
     "text": [
      "[[3950 3316]\n",
      " [ 755 1994]]\n",
      "              precision    recall  f1-score   support\n",
      "\n",
      "           0       0.84      0.54      0.66      7266\n",
      "           1       0.38      0.73      0.49      2749\n",
      "\n",
      "    accuracy                           0.59     10015\n",
      "   macro avg       0.61      0.63      0.58     10015\n",
      "weighted avg       0.71      0.59      0.61     10015\n",
      "\n"
     ]
    }
   ],
   "source": [
    "from sklearn.metrics import classification_report,confusion_matrix\n",
    "print(confusion_matrix(y1_val,prclf))\n",
    "print(classification_report(y1_val,prclf))"
   ]
  },
  {
   "cell_type": "markdown",
   "metadata": {},
   "source": [
    "### XGBOOST"
   ]
  },
  {
   "cell_type": "code",
   "execution_count": 34,
   "metadata": {},
   "outputs": [
    {
     "name": "stdout",
     "output_type": "stream",
     "text": [
      "Accuracy on training set: 0.415\n",
      "Accuracy on validation set: 0.414\n"
     ]
    }
   ],
   "source": [
    "import xgboost as xgb\n",
    "xgb_model = xgb.XGBClassifier(learning_rate=0.001,\n",
    "                            max_depth = 1, \n",
    "                            n_estimators = 100,\n",
    "                              scale_pos_weight=3)\n",
    "xgb_model.fit(x1_train, y1_train)\n",
    "\n",
    "print(\"Accuracy on training set: {:.3f}\".format(xgb_model.score(x1_train, y1_train)))\n",
    "print(\"Accuracy on validation set: {:.3f}\".format(xgb_model.score(x1_val, y1_val)))"
   ]
  },
  {
   "cell_type": "code",
   "execution_count": 35,
   "metadata": {},
   "outputs": [
    {
     "data": {
      "text/plain": [
       "array([1, 1, 1, ..., 1, 1, 1])"
      ]
     },
     "execution_count": 35,
     "metadata": {},
     "output_type": "execute_result"
    }
   ],
   "source": [
    "xgb_predict=xgb_model.predict(x1_val)\n",
    "xgb_predict"
   ]
  },
  {
   "cell_type": "code",
   "execution_count": 36,
   "metadata": {},
   "outputs": [
    {
     "name": "stdout",
     "output_type": "stream",
     "text": [
      "[[1393 5873]\n",
      " [   0 2749]]\n",
      "              precision    recall  f1-score   support\n",
      "\n",
      "           0       1.00      0.19      0.32      7266\n",
      "           1       0.32      1.00      0.48      2749\n",
      "\n",
      "    accuracy                           0.41     10015\n",
      "   macro avg       0.66      0.60      0.40     10015\n",
      "weighted avg       0.81      0.41      0.37     10015\n",
      "\n"
     ]
    }
   ],
   "source": [
    "from sklearn.metrics import classification_report,confusion_matrix\n",
    "print(confusion_matrix(y1_val,xgb_predict))\n",
    "print(classification_report(y1_val,xgb_predict))"
   ]
  },
  {
   "cell_type": "markdown",
   "metadata": {},
   "source": [
    "### Oversampling for Naive Bayes and KNN Models"
   ]
  },
  {
   "cell_type": "code",
   "execution_count": 37,
   "metadata": {},
   "outputs": [
    {
     "name": "stdout",
     "output_type": "stream",
     "text": [
      "Counter({0: 21672, 1: 8373})\n"
     ]
    }
   ],
   "source": [
    "counter = Counter(y1_train)\n",
    "print(counter)"
   ]
  },
  {
   "cell_type": "code",
   "execution_count": 38,
   "metadata": {},
   "outputs": [],
   "source": [
    "oversample = SMOTE()\n",
    "x1_train, y1_train = oversample.fit_resample(x1_train, y1_train)"
   ]
  },
  {
   "cell_type": "code",
   "execution_count": 39,
   "metadata": {},
   "outputs": [
    {
     "name": "stdout",
     "output_type": "stream",
     "text": [
      "Counter({1: 21672, 0: 21672})\n"
     ]
    }
   ],
   "source": [
    "counter = Counter(y1_train)\n",
    "print(counter)"
   ]
  },
  {
   "cell_type": "markdown",
   "metadata": {},
   "source": [
    "### Naive Bayes"
   ]
  },
  {
   "cell_type": "code",
   "execution_count": 40,
   "metadata": {},
   "outputs": [
    {
     "data": {
      "text/html": [
       "<style>#sk-container-id-1 {color: black;background-color: white;}#sk-container-id-1 pre{padding: 0;}#sk-container-id-1 div.sk-toggleable {background-color: white;}#sk-container-id-1 label.sk-toggleable__label {cursor: pointer;display: block;width: 100%;margin-bottom: 0;padding: 0.3em;box-sizing: border-box;text-align: center;}#sk-container-id-1 label.sk-toggleable__label-arrow:before {content: \"▸\";float: left;margin-right: 0.25em;color: #696969;}#sk-container-id-1 label.sk-toggleable__label-arrow:hover:before {color: black;}#sk-container-id-1 div.sk-estimator:hover label.sk-toggleable__label-arrow:before {color: black;}#sk-container-id-1 div.sk-toggleable__content {max-height: 0;max-width: 0;overflow: hidden;text-align: left;background-color: #f0f8ff;}#sk-container-id-1 div.sk-toggleable__content pre {margin: 0.2em;color: black;border-radius: 0.25em;background-color: #f0f8ff;}#sk-container-id-1 input.sk-toggleable__control:checked~div.sk-toggleable__content {max-height: 200px;max-width: 100%;overflow: auto;}#sk-container-id-1 input.sk-toggleable__control:checked~label.sk-toggleable__label-arrow:before {content: \"▾\";}#sk-container-id-1 div.sk-estimator input.sk-toggleable__control:checked~label.sk-toggleable__label {background-color: #d4ebff;}#sk-container-id-1 div.sk-label input.sk-toggleable__control:checked~label.sk-toggleable__label {background-color: #d4ebff;}#sk-container-id-1 input.sk-hidden--visually {border: 0;clip: rect(1px 1px 1px 1px);clip: rect(1px, 1px, 1px, 1px);height: 1px;margin: -1px;overflow: hidden;padding: 0;position: absolute;width: 1px;}#sk-container-id-1 div.sk-estimator {font-family: monospace;background-color: #f0f8ff;border: 1px dotted black;border-radius: 0.25em;box-sizing: border-box;margin-bottom: 0.5em;}#sk-container-id-1 div.sk-estimator:hover {background-color: #d4ebff;}#sk-container-id-1 div.sk-parallel-item::after {content: \"\";width: 100%;border-bottom: 1px solid gray;flex-grow: 1;}#sk-container-id-1 div.sk-label:hover label.sk-toggleable__label {background-color: #d4ebff;}#sk-container-id-1 div.sk-serial::before {content: \"\";position: absolute;border-left: 1px solid gray;box-sizing: border-box;top: 0;bottom: 0;left: 50%;z-index: 0;}#sk-container-id-1 div.sk-serial {display: flex;flex-direction: column;align-items: center;background-color: white;padding-right: 0.2em;padding-left: 0.2em;position: relative;}#sk-container-id-1 div.sk-item {position: relative;z-index: 1;}#sk-container-id-1 div.sk-parallel {display: flex;align-items: stretch;justify-content: center;background-color: white;position: relative;}#sk-container-id-1 div.sk-item::before, #sk-container-id-1 div.sk-parallel-item::before {content: \"\";position: absolute;border-left: 1px solid gray;box-sizing: border-box;top: 0;bottom: 0;left: 50%;z-index: -1;}#sk-container-id-1 div.sk-parallel-item {display: flex;flex-direction: column;z-index: 1;position: relative;background-color: white;}#sk-container-id-1 div.sk-parallel-item:first-child::after {align-self: flex-end;width: 50%;}#sk-container-id-1 div.sk-parallel-item:last-child::after {align-self: flex-start;width: 50%;}#sk-container-id-1 div.sk-parallel-item:only-child::after {width: 0;}#sk-container-id-1 div.sk-dashed-wrapped {border: 1px dashed gray;margin: 0 0.4em 0.5em 0.4em;box-sizing: border-box;padding-bottom: 0.4em;background-color: white;}#sk-container-id-1 div.sk-label label {font-family: monospace;font-weight: bold;display: inline-block;line-height: 1.2em;}#sk-container-id-1 div.sk-label-container {text-align: center;}#sk-container-id-1 div.sk-container {/* jupyter's `normalize.less` sets `[hidden] { display: none; }` but bootstrap.min.css set `[hidden] { display: none !important; }` so we also need the `!important` here to be able to override the default hidden behavior on the sphinx rendered scikit-learn.org. See: https://github.com/scikit-learn/scikit-learn/issues/21755 */display: inline-block !important;position: relative;}#sk-container-id-1 div.sk-text-repr-fallback {display: none;}</style><div id=\"sk-container-id-1\" class=\"sk-top-container\"><div class=\"sk-text-repr-fallback\"><pre>GaussianNB()</pre><b>In a Jupyter environment, please rerun this cell to show the HTML representation or trust the notebook. <br />On GitHub, the HTML representation is unable to render, please try loading this page with nbviewer.org.</b></div><div class=\"sk-container\" hidden><div class=\"sk-item\"><div class=\"sk-estimator sk-toggleable\"><input class=\"sk-toggleable__control sk-hidden--visually\" id=\"sk-estimator-id-1\" type=\"checkbox\" checked><label for=\"sk-estimator-id-1\" class=\"sk-toggleable__label sk-toggleable__label-arrow\">GaussianNB</label><div class=\"sk-toggleable__content\"><pre>GaussianNB()</pre></div></div></div></div></div>"
      ],
      "text/plain": [
       "GaussianNB()"
      ]
     },
     "execution_count": 40,
     "metadata": {},
     "output_type": "execute_result"
    }
   ],
   "source": [
    "gnb = GaussianNB()\n",
    "gnb"
   ]
  },
  {
   "cell_type": "code",
   "execution_count": 41,
   "metadata": {},
   "outputs": [
    {
     "data": {
      "text/plain": [
       "array([1, 1, 1, ..., 1, 1, 1])"
      ]
     },
     "execution_count": 41,
     "metadata": {},
     "output_type": "execute_result"
    }
   ],
   "source": [
    "y_pred = gnb.fit(x1_train, y1_train).predict(x1_val)\n",
    "y_pred"
   ]
  },
  {
   "cell_type": "code",
   "execution_count": 42,
   "metadata": {},
   "outputs": [
    {
     "name": "stdout",
     "output_type": "stream",
     "text": [
      "[[1393 5873]\n",
      " [   0 2749]]\n",
      "              precision    recall  f1-score   support\n",
      "\n",
      "           0       1.00      0.19      0.32      7266\n",
      "           1       0.32      1.00      0.48      2749\n",
      "\n",
      "    accuracy                           0.41     10015\n",
      "   macro avg       0.66      0.60      0.40     10015\n",
      "weighted avg       0.81      0.41      0.37     10015\n",
      "\n"
     ]
    }
   ],
   "source": [
    "from sklearn.metrics import classification_report,confusion_matrix\n",
    "print(confusion_matrix(y1_val,y_pred))\n",
    "print(classification_report(y1_val,y_pred))"
   ]
  },
  {
   "cell_type": "markdown",
   "metadata": {},
   "source": [
    "### KNN and SMOTE Oversampling"
   ]
  },
  {
   "cell_type": "code",
   "execution_count": 43,
   "metadata": {},
   "outputs": [],
   "source": [
    "x1_train = MinMaxScaler().fit_transform(x1_train)"
   ]
  },
  {
   "cell_type": "code",
   "execution_count": 44,
   "metadata": {},
   "outputs": [
    {
     "data": {
      "text/plain": [
       "array([[0.        , 0.09090909, 1.        , 0.        ],\n",
       "       [0.        , 1.        , 1.        , 0.        ],\n",
       "       [0.        , 1.        , 0.6       , 0.        ],\n",
       "       ...,\n",
       "       [0.        , 0.09090909, 1.        , 0.        ],\n",
       "       [0.        , 0.54545455, 1.        , 0.        ],\n",
       "       [0.        , 0.09090909, 1.        , 0.        ]])"
      ]
     },
     "execution_count": 44,
     "metadata": {},
     "output_type": "execute_result"
    }
   ],
   "source": [
    "x1_train"
   ]
  },
  {
   "cell_type": "code",
   "execution_count": 46,
   "metadata": {},
   "outputs": [
    {
     "name": "stdout",
     "output_type": "stream",
     "text": [
      "Training set score: 0.59\n",
      "Validation set score: 0.44\n"
     ]
    }
   ],
   "source": [
    "knn = KNeighborsClassifier(n_neighbors=10)\n",
    "knn=knn.fit(x1_train, y1_train)\n",
    "pred = knn.predict(x1_val)\n",
    "pred\n",
    "print(\"Training set score: {:.2f}\".format(knn.score(x1_train, y1_train)))\n",
    "print(\"Validation set score: {:.2f}\".format(knn.score(x1_val, y1_val)))"
   ]
  },
  {
   "cell_type": "code",
   "execution_count": 47,
   "metadata": {},
   "outputs": [
    {
     "name": "stdout",
     "output_type": "stream",
     "text": [
      "[[1963 5303]\n",
      " [ 284 2465]]\n",
      "              precision    recall  f1-score   support\n",
      "\n",
      "           0       0.87      0.27      0.41      7266\n",
      "           1       0.32      0.90      0.47      2749\n",
      "\n",
      "    accuracy                           0.44     10015\n",
      "   macro avg       0.60      0.58      0.44     10015\n",
      "weighted avg       0.72      0.44      0.43     10015\n",
      "\n"
     ]
    }
   ],
   "source": [
    "from sklearn.metrics import classification_report,confusion_matrix\n",
    "print(confusion_matrix(y1_val,pred))\n",
    "print(classification_report(y1_val,pred))"
   ]
  },
  {
   "cell_type": "markdown",
   "metadata": {},
   "source": [
    "## Test Data using SVM Model"
   ]
  },
  {
   "cell_type": "markdown",
   "metadata": {},
   "source": [
    "### Import Data from AWS S3 to SageMaker"
   ]
  },
  {
   "cell_type": "code",
   "execution_count": 48,
   "metadata": {},
   "outputs": [],
   "source": [
    "# data_key_test = 'H2.csv'\n",
    "# data_location_test = 's3://{}/{}'.format(bucket, data_key_test)\n",
    "\n",
    "# h2data = pd.read_csv(data_location_test)"
   ]
  },
  {
   "cell_type": "markdown",
   "metadata": {},
   "source": [
    "### Import Data From Azure Blob Storage to Azure Machine Learning Studio"
   ]
  },
  {
   "cell_type": "code",
   "execution_count": 49,
   "metadata": {},
   "outputs": [],
   "source": [
    "# sas_url = \"enter url here\"\n",
    "# blob_client = BlobClient.from_blob_url(sas_url)\n",
    "# downloaded_blo = blob_client.download_blob()\n",
    "\n",
    "# from io import StringIO\n",
    "# blob_data = blob_client.download_blob()\n",
    "# h2data = pd.read_csv(StringIO(blob_data.content_as_text()))\n",
    "# print(h2data)"
   ]
  },
  {
   "cell_type": "markdown",
   "metadata": {},
   "source": [
    "### Import CSV"
   ]
  },
  {
   "cell_type": "code",
   "execution_count": 50,
   "metadata": {},
   "outputs": [
    {
     "data": {
      "text/html": [
       "<div>\n",
       "<style scoped>\n",
       "    .dataframe tbody tr th:only-of-type {\n",
       "        vertical-align: middle;\n",
       "    }\n",
       "\n",
       "    .dataframe tbody tr th {\n",
       "        vertical-align: top;\n",
       "    }\n",
       "\n",
       "    .dataframe thead th {\n",
       "        text-align: right;\n",
       "    }\n",
       "</style>\n",
       "<table border=\"1\" class=\"dataframe\">\n",
       "  <thead>\n",
       "    <tr style=\"text-align: right;\">\n",
       "      <th></th>\n",
       "      <th>IsCanceled</th>\n",
       "      <th>LeadTime</th>\n",
       "      <th>ArrivalDateYear</th>\n",
       "      <th>ArrivalDateMonth</th>\n",
       "      <th>ArrivalDateWeekNumber</th>\n",
       "      <th>ArrivalDateDayOfMonth</th>\n",
       "      <th>StaysInWeekendNights</th>\n",
       "      <th>StaysInWeekNights</th>\n",
       "      <th>Adults</th>\n",
       "      <th>Children</th>\n",
       "      <th>...</th>\n",
       "      <th>DepositType</th>\n",
       "      <th>Agent</th>\n",
       "      <th>Company</th>\n",
       "      <th>DaysInWaitingList</th>\n",
       "      <th>CustomerType</th>\n",
       "      <th>ADR</th>\n",
       "      <th>RequiredCarParkingSpaces</th>\n",
       "      <th>TotalOfSpecialRequests</th>\n",
       "      <th>ReservationStatus</th>\n",
       "      <th>ReservationStatusDate</th>\n",
       "    </tr>\n",
       "  </thead>\n",
       "  <tbody>\n",
       "    <tr>\n",
       "      <th>0</th>\n",
       "      <td>0</td>\n",
       "      <td>6</td>\n",
       "      <td>2015</td>\n",
       "      <td>July</td>\n",
       "      <td>27</td>\n",
       "      <td>1</td>\n",
       "      <td>0</td>\n",
       "      <td>2</td>\n",
       "      <td>1</td>\n",
       "      <td>0.0</td>\n",
       "      <td>...</td>\n",
       "      <td>No Deposit</td>\n",
       "      <td>6</td>\n",
       "      <td>NULL</td>\n",
       "      <td>0</td>\n",
       "      <td>Transient</td>\n",
       "      <td>0.0</td>\n",
       "      <td>0</td>\n",
       "      <td>0</td>\n",
       "      <td>Check-Out</td>\n",
       "      <td>2015-07-03</td>\n",
       "    </tr>\n",
       "    <tr>\n",
       "      <th>1</th>\n",
       "      <td>1</td>\n",
       "      <td>88</td>\n",
       "      <td>2015</td>\n",
       "      <td>July</td>\n",
       "      <td>27</td>\n",
       "      <td>1</td>\n",
       "      <td>0</td>\n",
       "      <td>4</td>\n",
       "      <td>2</td>\n",
       "      <td>0.0</td>\n",
       "      <td>...</td>\n",
       "      <td>No Deposit</td>\n",
       "      <td>9</td>\n",
       "      <td>NULL</td>\n",
       "      <td>0</td>\n",
       "      <td>Transient</td>\n",
       "      <td>76.5</td>\n",
       "      <td>0</td>\n",
       "      <td>1</td>\n",
       "      <td>Canceled</td>\n",
       "      <td>2015-07-01</td>\n",
       "    </tr>\n",
       "    <tr>\n",
       "      <th>2</th>\n",
       "      <td>1</td>\n",
       "      <td>65</td>\n",
       "      <td>2015</td>\n",
       "      <td>July</td>\n",
       "      <td>27</td>\n",
       "      <td>1</td>\n",
       "      <td>0</td>\n",
       "      <td>4</td>\n",
       "      <td>1</td>\n",
       "      <td>0.0</td>\n",
       "      <td>...</td>\n",
       "      <td>No Deposit</td>\n",
       "      <td>9</td>\n",
       "      <td>NULL</td>\n",
       "      <td>0</td>\n",
       "      <td>Transient</td>\n",
       "      <td>68.0</td>\n",
       "      <td>0</td>\n",
       "      <td>1</td>\n",
       "      <td>Canceled</td>\n",
       "      <td>2015-04-30</td>\n",
       "    </tr>\n",
       "    <tr>\n",
       "      <th>3</th>\n",
       "      <td>1</td>\n",
       "      <td>92</td>\n",
       "      <td>2015</td>\n",
       "      <td>July</td>\n",
       "      <td>27</td>\n",
       "      <td>1</td>\n",
       "      <td>2</td>\n",
       "      <td>4</td>\n",
       "      <td>2</td>\n",
       "      <td>0.0</td>\n",
       "      <td>...</td>\n",
       "      <td>No Deposit</td>\n",
       "      <td>9</td>\n",
       "      <td>NULL</td>\n",
       "      <td>0</td>\n",
       "      <td>Transient</td>\n",
       "      <td>76.5</td>\n",
       "      <td>0</td>\n",
       "      <td>2</td>\n",
       "      <td>Canceled</td>\n",
       "      <td>2015-06-23</td>\n",
       "    </tr>\n",
       "    <tr>\n",
       "      <th>4</th>\n",
       "      <td>1</td>\n",
       "      <td>100</td>\n",
       "      <td>2015</td>\n",
       "      <td>July</td>\n",
       "      <td>27</td>\n",
       "      <td>2</td>\n",
       "      <td>0</td>\n",
       "      <td>2</td>\n",
       "      <td>2</td>\n",
       "      <td>0.0</td>\n",
       "      <td>...</td>\n",
       "      <td>No Deposit</td>\n",
       "      <td>9</td>\n",
       "      <td>NULL</td>\n",
       "      <td>0</td>\n",
       "      <td>Transient</td>\n",
       "      <td>76.5</td>\n",
       "      <td>0</td>\n",
       "      <td>1</td>\n",
       "      <td>Canceled</td>\n",
       "      <td>2015-04-02</td>\n",
       "    </tr>\n",
       "  </tbody>\n",
       "</table>\n",
       "<p>5 rows × 31 columns</p>\n",
       "</div>"
      ],
      "text/plain": [
       "   IsCanceled  LeadTime  ArrivalDateYear ArrivalDateMonth   \n",
       "0           0         6             2015             July  \\\n",
       "1           1        88             2015             July   \n",
       "2           1        65             2015             July   \n",
       "3           1        92             2015             July   \n",
       "4           1       100             2015             July   \n",
       "\n",
       "   ArrivalDateWeekNumber  ArrivalDateDayOfMonth  StaysInWeekendNights   \n",
       "0                     27                      1                     0  \\\n",
       "1                     27                      1                     0   \n",
       "2                     27                      1                     0   \n",
       "3                     27                      1                     2   \n",
       "4                     27                      2                     0   \n",
       "\n",
       "   StaysInWeekNights  Adults  Children  ...      DepositType        Agent   \n",
       "0                  2       1       0.0  ...  No Deposit                 6  \\\n",
       "1                  4       2       0.0  ...  No Deposit                 9   \n",
       "2                  4       1       0.0  ...  No Deposit                 9   \n",
       "3                  4       2       0.0  ...  No Deposit                 9   \n",
       "4                  2       2       0.0  ...  No Deposit                 9   \n",
       "\n",
       "       Company DaysInWaitingList CustomerType   ADR  RequiredCarParkingSpaces   \n",
       "0         NULL                 0    Transient   0.0                         0  \\\n",
       "1         NULL                 0    Transient  76.5                         0   \n",
       "2         NULL                 0    Transient  68.0                         0   \n",
       "3         NULL                 0    Transient  76.5                         0   \n",
       "4         NULL                 0    Transient  76.5                         0   \n",
       "\n",
       "   TotalOfSpecialRequests ReservationStatus ReservationStatusDate  \n",
       "0                       0         Check-Out            2015-07-03  \n",
       "1                       1          Canceled            2015-07-01  \n",
       "2                       1          Canceled            2015-04-30  \n",
       "3                       2          Canceled            2015-06-23  \n",
       "4                       1          Canceled            2015-04-02  \n",
       "\n",
       "[5 rows x 31 columns]"
      ]
     },
     "execution_count": 50,
     "metadata": {},
     "output_type": "execute_result"
    }
   ],
   "source": [
    "h2data = pd.read_csv('H2.csv')\n",
    "a=h2data.head()\n",
    "a"
   ]
  },
  {
   "cell_type": "code",
   "execution_count": 51,
   "metadata": {},
   "outputs": [
    {
     "data": {
      "text/plain": [
       "pandas.core.frame.DataFrame"
      ]
     },
     "execution_count": 51,
     "metadata": {},
     "output_type": "execute_result"
    }
   ],
   "source": [
    "type(h2data)"
   ]
  },
  {
   "cell_type": "code",
   "execution_count": 52,
   "metadata": {},
   "outputs": [],
   "source": [
    "t_leadtime = h2data['LeadTime'] #1\n",
    "t_arrivaldateyear = h2data['ArrivalDateYear']\n",
    "t_arrivaldateweekno = h2data['ArrivalDateWeekNumber']\n",
    "t_arrivaldatedayofmonth = h2data['ArrivalDateDayOfMonth']\n",
    "t_staysweekendnights = h2data['StaysInWeekendNights'] #2\n",
    "t_staysweeknights = h2data['StaysInWeekNights'] #3\n",
    "t_adults = h2data['Adults'] #4\n",
    "t_children = h2data['Children'] #5\n",
    "t_babies = h2data['Babies'] #6\n",
    "t_previouscancellations = h2data['PreviousCancellations'] #12\n",
    "t_previousbookingsnotcanceled = h2data['PreviousBookingsNotCanceled'] #13\n",
    "t_bookingchanges = h2data['BookingChanges'] #16\n",
    "t_dayswaitinglist = h2data['DaysInWaitingList'] #20\n",
    "t_adr = h2data['ADR'] #22\n",
    "t_rcps = h2data['RequiredCarParkingSpaces'] #23\n",
    "t_totalsqr = h2data['TotalOfSpecialRequests'] #24"
   ]
  },
  {
   "cell_type": "code",
   "execution_count": 53,
   "metadata": {},
   "outputs": [],
   "source": [
    "t_arrivaldatemonth = h2data.ArrivalDateMonth.astype(\"category\").cat.codes\n",
    "t_arrivaldatemonthcat = pd.Series(t_arrivaldatemonth)\n",
    "t_mealcat=h2data.Meal.astype(\"category\").cat.codes\n",
    "t_mealcat=pd.Series(t_mealcat)\n",
    "t_countrycat=h2data.Country.astype(\"category\").cat.codes\n",
    "t_countrycat=pd.Series(t_countrycat)\n",
    "t_marketsegmentcat=h2data.MarketSegment.astype(\"category\").cat.codes\n",
    "t_marketsegmentcat=pd.Series(t_marketsegmentcat)\n",
    "t_distributionchannelcat=h2data.DistributionChannel.astype(\"category\").cat.codes\n",
    "t_distributionchannelcat=pd.Series(t_distributionchannelcat)\n",
    "t_reservedroomtypecat=h2data.ReservedRoomType.astype(\"category\").cat.codes\n",
    "t_reservedroomtypecat=pd.Series(t_reservedroomtypecat)\n",
    "t_assignedroomtypecat=h2data.AssignedRoomType.astype(\"category\").cat.codes\n",
    "t_assignedroomtypecat=pd.Series(t_assignedroomtypecat)\n",
    "t_deposittypecat=h2data.DepositType.astype(\"category\").cat.codes\n",
    "t_deposittypecat=pd.Series(t_deposittypecat)\n",
    "t_customertypecat=h2data.CustomerType.astype(\"category\").cat.codes\n",
    "t_customertypecat=pd.Series(t_customertypecat)\n",
    "t_reservationstatuscat=h2data.ReservationStatus.astype(\"category\").cat.codes\n",
    "t_reservationstatuscat=pd.Series(t_reservationstatuscat)\n",
    "t_isrepeatedguestcat = h2data.IsRepeatedGuest.astype(\"category\").cat.codes\n",
    "t_isrepeatedguestcat=pd.Series(t_isrepeatedguestcat)\n",
    "t_agentcat = h2data.Agent.astype(\"category\").cat.codes\n",
    "t_agentcat=pd.Series(t_agentcat)\n",
    "t_companycat = h2data.Company.astype(\"category\").cat.codes\n",
    "t_companycat=pd.Series(t_companycat)"
   ]
  },
  {
   "cell_type": "code",
   "execution_count": 54,
   "metadata": {},
   "outputs": [],
   "source": [
    "a = np.column_stack((t_arrivaldatemonthcat,t_marketsegmentcat,t_rcps))\n",
    "a = sm.add_constant(a, prepend=True)\n",
    "IsCanceled = h2data['IsCanceled']\n",
    "b = IsCanceled\n",
    "b=b.values"
   ]
  },
  {
   "cell_type": "code",
   "execution_count": 55,
   "metadata": {},
   "outputs": [
    {
     "data": {
      "text/plain": [
       "array([1, 1, 1, ..., 1, 1, 1])"
      ]
     },
     "execution_count": 55,
     "metadata": {},
     "output_type": "execute_result"
    }
   ],
   "source": [
    "prh2 = clf.predict(a)\n",
    "prh2"
   ]
  },
  {
   "cell_type": "code",
   "execution_count": 56,
   "metadata": {},
   "outputs": [
    {
     "name": "stdout",
     "output_type": "stream",
     "text": [
      "[[ 9028 37200]\n",
      " [ 6274 26828]]\n",
      "              precision    recall  f1-score   support\n",
      "\n",
      "           0       0.59      0.20      0.29     46228\n",
      "           1       0.42      0.81      0.55     33102\n",
      "\n",
      "    accuracy                           0.45     79330\n",
      "   macro avg       0.50      0.50      0.42     79330\n",
      "weighted avg       0.52      0.45      0.40     79330\n",
      "\n"
     ]
    }
   ],
   "source": [
    "from sklearn.metrics import classification_report,confusion_matrix\n",
    "print(confusion_matrix(b,prh2))\n",
    "print(classification_report(b,prh2))"
   ]
  }
 ],
 "metadata": {
  "kernelspec": {
   "display_name": "Python 3 (ipykernel)",
   "language": "python",
   "name": "python3"
  },
  "language_info": {
   "codemirror_mode": {
    "name": "ipython",
    "version": 3
   },
   "file_extension": ".py",
   "mimetype": "text/x-python",
   "name": "python",
   "nbconvert_exporter": "python",
   "pygments_lexer": "ipython3",
   "version": "3.8.10"
  }
 },
 "nbformat": 4,
 "nbformat_minor": 2
}
