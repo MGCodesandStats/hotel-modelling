{
 "cells": [
  {
   "cell_type": "markdown",
   "metadata": {},
   "source": [
    "# Predicting ADR Fluctuations with LSTM\n",
    "\n",
    "In this example, the LSTM model is used to forecast ADR on the hotel cancellation datasets as provided by Antonio, Almeida and Nunes (2019). Attributions provided below."
   ]
  },
  {
   "cell_type": "markdown",
   "metadata": {},
   "source": [
    "#### Attributions\n",
    "\n",
    "The below code uses the LSTM model from the TensorFlow library, of which the original authors **(Copyright 2019 The TensorFlow Authors)** have made available under the Apache 2.0 license. Modifications have been made where appropriate for conducting analysis on the dataset specific to this example.\n",
    "\n",
    "The data used in this example is sourced from [Antonio, Almeida and Nunes (2019)](https://www.sciencedirect.com/science/article/pii/S2352340918315191).\n",
    "\n",
    "The below work and findings are not endorsed by the original authors in any way."
   ]
  },
  {
   "cell_type": "markdown",
   "metadata": {},
   "source": [
    "#### Apache 2.0 License"
   ]
  },
  {
   "cell_type": "code",
   "execution_count": null,
   "metadata": {},
   "outputs": [],
   "source": [
    "#@title Licensed under the Apache License, Version 2.0 (the \"License\"); { display-mode: \"form\" }\n",
    "# you may not use this file except in compliance with the License.\n",
    "# You may obtain a copy of the License at\n",
    "#\n",
    "# https://www.apache.org/licenses/LICENSE-2.0\n",
    "#\n",
    "# Unless required by applicable law or agreed to in writing, software\n",
    "# distributed under the License is distributed on an \"AS IS\" BASIS,\n",
    "# WITHOUT WARRANTIES OR CONDITIONS OF ANY KIND, either express or implied.\n",
    "# See the License for the specific language governing permissions and\n",
    "# limitations under the License."
   ]
  },
  {
   "cell_type": "markdown",
   "metadata": {},
   "source": [
    "## Python version"
   ]
  },
  {
   "cell_type": "code",
   "execution_count": 1,
   "metadata": {},
   "outputs": [
    {
     "name": "stdout",
     "output_type": "stream",
     "text": [
      "3.6.9\n"
     ]
    }
   ],
   "source": [
    "from platform import python_version\n",
    "print(python_version())"
   ]
  },
  {
   "cell_type": "markdown",
   "metadata": {},
   "source": [
    "## Import Libraries"
   ]
  },
  {
   "cell_type": "code",
   "execution_count": 2,
   "metadata": {},
   "outputs": [
    {
     "name": "stdout",
     "output_type": "stream",
     "text": [
      "2.2.0\n"
     ]
    }
   ],
   "source": [
    "import tensorflow as tf\n",
    "print(tf.__version__)"
   ]
  },
  {
   "cell_type": "code",
   "execution_count": 3,
   "metadata": {},
   "outputs": [],
   "source": [
    "tf.random.set_seed(1234)"
   ]
  },
  {
   "cell_type": "code",
   "execution_count": 4,
   "metadata": {},
   "outputs": [],
   "source": [
    "import csv\n",
    "import math\n",
    "import matplotlib.pyplot as plt\n",
    "import numpy as np\n",
    "import os\n",
    "import pandas as pd\n",
    "import random\n",
    "import statsmodels.api as sm\n",
    "import statsmodels.formula.api as smf\n",
    "\n",
    "from math import sqrt\n",
    "from numpy.random import seed\n",
    "seed(1)\n",
    "from pandas import DataFrame\n",
    "from sklearn.metrics import mean_squared_error\n",
    "from sklearn.model_selection import train_test_split\n",
    "from sklearn.preprocessing import MinMaxScaler\n",
    "from statsmodels.tsa.stattools import adfuller\n",
    "from tensorflow.keras.layers import Dense\n",
    "from tensorflow.keras import layers\n",
    "from tensorflow.keras.layers import LSTM\n",
    "\n",
    "\n",
    "dtypes = {\n",
    "        'IsCanceled':                                    'float64',\n",
    "        'LeadTime':                                          'float64',\n",
    "        'StaysInWeekendNights':                                     'float64',\n",
    "        'StaysInWeekNights':                                     'float64',\n",
    "        'Adults':                            'float64',\n",
    "        'Children':                            'float64',\n",
    "        'Babies':                                  'float64',\n",
    "        'Meal':                                    'category',\n",
    "        'Country':                                               'category',\n",
    "        'MarketSegment':                                    'category',\n",
    "        'DistributionChannel':                                       'category',\n",
    "        'IsRepeatedGuest':                               'float64',\n",
    "        'PreviousCancellations':                                    'float64',\n",
    "        'PreviousBookingsNotCanceled':                          'float64',\n",
    "        'ReservedRoomType':                                             'category',\n",
    "        'AssignedRoomType':                                            'category',\n",
    "        'BookingChanges':                                                'float64',\n",
    "        'DepositType':                                              'category',\n",
    "        'Agent':                                              'category',\n",
    "        'Company':                                 'category',\n",
    "        'DaysInWaitingList':                                           'float64',\n",
    "        'CustomerType':                                           'category',\n",
    "        'ADR':                                          'float64',\n",
    "        'RequiredCarParkingSpaces':                                      'float64',\n",
    "        'TotalOfSpecialRequests':                                              'float64',\n",
    "        'ReservationStatus':                                                'category'\n",
    "        }"
   ]
  },
  {
   "cell_type": "markdown",
   "metadata": {},
   "source": [
    "## Data Import and Manipulation"
   ]
  },
  {
   "cell_type": "code",
   "execution_count": 5,
   "metadata": {},
   "outputs": [],
   "source": [
    "train_df = pd.read_csv(\"H2.csv\", dtype=dtypes, converters={'ArrivalDateWeekNumber': '{:0>2}'.format})"
   ]
  },
  {
   "cell_type": "code",
   "execution_count": 6,
   "metadata": {},
   "outputs": [
    {
     "data": {
      "text/plain": [
       "pandas.core.frame.DataFrame"
      ]
     },
     "execution_count": 6,
     "metadata": {},
     "output_type": "execute_result"
    }
   ],
   "source": [
    "a=train_df.head()\n",
    "b=train_df\n",
    "b\n",
    "c=b.sort_values(['ArrivalDateYear','ArrivalDateWeekNumber'], ascending=True)\n",
    "c=pd.DataFrame(c)\n",
    "c\n",
    "type(c)"
   ]
  },
  {
   "cell_type": "code",
   "execution_count": 7,
   "metadata": {},
   "outputs": [
    {
     "data": {
      "text/html": [
       "<div>\n",
       "<style scoped>\n",
       "    .dataframe tbody tr th:only-of-type {\n",
       "        vertical-align: middle;\n",
       "    }\n",
       "\n",
       "    .dataframe tbody tr th {\n",
       "        vertical-align: top;\n",
       "    }\n",
       "\n",
       "    .dataframe thead th {\n",
       "        text-align: right;\n",
       "    }\n",
       "</style>\n",
       "<table border=\"1\" class=\"dataframe\">\n",
       "  <thead>\n",
       "    <tr style=\"text-align: right;\">\n",
       "      <th></th>\n",
       "      <th>ArrivalDateYear</th>\n",
       "      <th>ArrivalDateWeekNumber</th>\n",
       "    </tr>\n",
       "  </thead>\n",
       "  <tbody>\n",
       "    <tr>\n",
       "      <th>0</th>\n",
       "      <td>2015</td>\n",
       "      <td>27</td>\n",
       "    </tr>\n",
       "    <tr>\n",
       "      <th>1</th>\n",
       "      <td>2015</td>\n",
       "      <td>27</td>\n",
       "    </tr>\n",
       "    <tr>\n",
       "      <th>2</th>\n",
       "      <td>2015</td>\n",
       "      <td>27</td>\n",
       "    </tr>\n",
       "    <tr>\n",
       "      <th>3</th>\n",
       "      <td>2015</td>\n",
       "      <td>27</td>\n",
       "    </tr>\n",
       "    <tr>\n",
       "      <th>4</th>\n",
       "      <td>2015</td>\n",
       "      <td>27</td>\n",
       "    </tr>\n",
       "    <tr>\n",
       "      <th>...</th>\n",
       "      <td>...</td>\n",
       "      <td>...</td>\n",
       "    </tr>\n",
       "    <tr>\n",
       "      <th>79325</th>\n",
       "      <td>2017</td>\n",
       "      <td>35</td>\n",
       "    </tr>\n",
       "    <tr>\n",
       "      <th>79326</th>\n",
       "      <td>2017</td>\n",
       "      <td>35</td>\n",
       "    </tr>\n",
       "    <tr>\n",
       "      <th>79327</th>\n",
       "      <td>2017</td>\n",
       "      <td>35</td>\n",
       "    </tr>\n",
       "    <tr>\n",
       "      <th>79328</th>\n",
       "      <td>2017</td>\n",
       "      <td>35</td>\n",
       "    </tr>\n",
       "    <tr>\n",
       "      <th>79329</th>\n",
       "      <td>2017</td>\n",
       "      <td>35</td>\n",
       "    </tr>\n",
       "  </tbody>\n",
       "</table>\n",
       "<p>79330 rows × 2 columns</p>\n",
       "</div>"
      ],
      "text/plain": [
       "       ArrivalDateYear ArrivalDateWeekNumber\n",
       "0                 2015                    27\n",
       "1                 2015                    27\n",
       "2                 2015                    27\n",
       "3                 2015                    27\n",
       "4                 2015                    27\n",
       "...                ...                   ...\n",
       "79325             2017                    35\n",
       "79326             2017                    35\n",
       "79327             2017                    35\n",
       "79328             2017                    35\n",
       "79329             2017                    35\n",
       "\n",
       "[79330 rows x 2 columns]"
      ]
     },
     "execution_count": 7,
     "metadata": {},
     "output_type": "execute_result"
    }
   ],
   "source": [
    "from pandas import DataFrame  \n",
    "\n",
    "df = DataFrame(c, columns= ['ArrivalDateYear', 'ArrivalDateWeekNumber']) \n",
    "df"
   ]
  },
  {
   "cell_type": "code",
   "execution_count": 8,
   "metadata": {},
   "outputs": [
    {
     "name": "stdout",
     "output_type": "stream",
     "text": [
      "0        201527\n",
      "1        201527\n",
      "2        201527\n",
      "3        201527\n",
      "4        201527\n",
      "          ...  \n",
      "79325    201735\n",
      "79326    201735\n",
      "79327    201735\n",
      "79328    201735\n",
      "79329    201735\n",
      "Length: 79330, dtype: object\n"
     ]
    }
   ],
   "source": [
    "# https://datatofish.com/concatenate-values-python/\n",
    "\n",
    "df1 = df['ArrivalDateYear'].map(str) + df['ArrivalDateWeekNumber'].map(str)\n",
    "print (df1)\n",
    "df1=pd.DataFrame(df1)"
   ]
  },
  {
   "cell_type": "code",
   "execution_count": 9,
   "metadata": {
    "scrolled": true
   },
   "outputs": [
    {
     "data": {
      "text/html": [
       "<div>\n",
       "<style scoped>\n",
       "    .dataframe tbody tr th:only-of-type {\n",
       "        vertical-align: middle;\n",
       "    }\n",
       "\n",
       "    .dataframe tbody tr th {\n",
       "        vertical-align: top;\n",
       "    }\n",
       "\n",
       "    .dataframe thead th {\n",
       "        text-align: right;\n",
       "    }\n",
       "</style>\n",
       "<table border=\"1\" class=\"dataframe\">\n",
       "  <thead>\n",
       "    <tr style=\"text-align: right;\">\n",
       "      <th></th>\n",
       "      <th>ADR</th>\n",
       "    </tr>\n",
       "  </thead>\n",
       "  <tbody>\n",
       "    <tr>\n",
       "      <th>0</th>\n",
       "      <td>0.00</td>\n",
       "    </tr>\n",
       "    <tr>\n",
       "      <th>1</th>\n",
       "      <td>76.50</td>\n",
       "    </tr>\n",
       "    <tr>\n",
       "      <th>2</th>\n",
       "      <td>68.00</td>\n",
       "    </tr>\n",
       "    <tr>\n",
       "      <th>3</th>\n",
       "      <td>76.50</td>\n",
       "    </tr>\n",
       "    <tr>\n",
       "      <th>4</th>\n",
       "      <td>76.50</td>\n",
       "    </tr>\n",
       "    <tr>\n",
       "      <th>...</th>\n",
       "      <td>...</td>\n",
       "    </tr>\n",
       "    <tr>\n",
       "      <th>79325</th>\n",
       "      <td>96.14</td>\n",
       "    </tr>\n",
       "    <tr>\n",
       "      <th>79326</th>\n",
       "      <td>225.43</td>\n",
       "    </tr>\n",
       "    <tr>\n",
       "      <th>79327</th>\n",
       "      <td>157.71</td>\n",
       "    </tr>\n",
       "    <tr>\n",
       "      <th>79328</th>\n",
       "      <td>104.40</td>\n",
       "    </tr>\n",
       "    <tr>\n",
       "      <th>79329</th>\n",
       "      <td>151.20</td>\n",
       "    </tr>\n",
       "  </tbody>\n",
       "</table>\n",
       "<p>79330 rows × 1 columns</p>\n",
       "</div>"
      ],
      "text/plain": [
       "          ADR\n",
       "0        0.00\n",
       "1       76.50\n",
       "2       68.00\n",
       "3       76.50\n",
       "4       76.50\n",
       "...       ...\n",
       "79325   96.14\n",
       "79326  225.43\n",
       "79327  157.71\n",
       "79328  104.40\n",
       "79329  151.20\n",
       "\n",
       "[79330 rows x 1 columns]"
      ]
     },
     "execution_count": 9,
     "metadata": {},
     "output_type": "execute_result"
    }
   ],
   "source": [
    "df2 = DataFrame(c, columns= ['ADR']) \n",
    "df2"
   ]
  },
  {
   "cell_type": "code",
   "execution_count": 10,
   "metadata": {},
   "outputs": [
    {
     "data": {
      "text/plain": [
       "pandas.core.frame.DataFrame"
      ]
     },
     "execution_count": 10,
     "metadata": {},
     "output_type": "execute_result"
    }
   ],
   "source": [
    "type(df1)"
   ]
  },
  {
   "cell_type": "code",
   "execution_count": 11,
   "metadata": {},
   "outputs": [],
   "source": [
    "df3=pd.concat([df1, df2], axis = 1)\n",
    "df3\n",
    "df3.columns = ['FullDate', 'ADR']"
   ]
  },
  {
   "cell_type": "code",
   "execution_count": 12,
   "metadata": {},
   "outputs": [
    {
     "data": {
      "text/html": [
       "<div>\n",
       "<style scoped>\n",
       "    .dataframe tbody tr th:only-of-type {\n",
       "        vertical-align: middle;\n",
       "    }\n",
       "\n",
       "    .dataframe tbody tr th {\n",
       "        vertical-align: top;\n",
       "    }\n",
       "\n",
       "    .dataframe thead th {\n",
       "        text-align: right;\n",
       "    }\n",
       "</style>\n",
       "<table border=\"1\" class=\"dataframe\">\n",
       "  <thead>\n",
       "    <tr style=\"text-align: right;\">\n",
       "      <th></th>\n",
       "      <th>FullDate</th>\n",
       "      <th>ADR</th>\n",
       "    </tr>\n",
       "  </thead>\n",
       "  <tbody>\n",
       "    <tr>\n",
       "      <th>0</th>\n",
       "      <td>201527</td>\n",
       "      <td>0.00</td>\n",
       "    </tr>\n",
       "    <tr>\n",
       "      <th>11</th>\n",
       "      <td>201527</td>\n",
       "      <td>43.00</td>\n",
       "    </tr>\n",
       "    <tr>\n",
       "      <th>6</th>\n",
       "      <td>201527</td>\n",
       "      <td>58.67</td>\n",
       "    </tr>\n",
       "    <tr>\n",
       "      <th>29</th>\n",
       "      <td>201527</td>\n",
       "      <td>60.00</td>\n",
       "    </tr>\n",
       "    <tr>\n",
       "      <th>36141</th>\n",
       "      <td>201527</td>\n",
       "      <td>60.00</td>\n",
       "    </tr>\n",
       "    <tr>\n",
       "      <th>...</th>\n",
       "      <td>...</td>\n",
       "      <td>...</td>\n",
       "    </tr>\n",
       "    <tr>\n",
       "      <th>79084</th>\n",
       "      <td>201735</td>\n",
       "      <td>259.00</td>\n",
       "    </tr>\n",
       "    <tr>\n",
       "      <th>79305</th>\n",
       "      <td>201735</td>\n",
       "      <td>266.75</td>\n",
       "    </tr>\n",
       "    <tr>\n",
       "      <th>79010</th>\n",
       "      <td>201735</td>\n",
       "      <td>270.00</td>\n",
       "    </tr>\n",
       "    <tr>\n",
       "      <th>79091</th>\n",
       "      <td>201735</td>\n",
       "      <td>270.00</td>\n",
       "    </tr>\n",
       "    <tr>\n",
       "      <th>33605</th>\n",
       "      <td>201735</td>\n",
       "      <td>272.50</td>\n",
       "    </tr>\n",
       "  </tbody>\n",
       "</table>\n",
       "<p>79330 rows × 2 columns</p>\n",
       "</div>"
      ],
      "text/plain": [
       "      FullDate     ADR\n",
       "0       201527    0.00\n",
       "11      201527   43.00\n",
       "6       201527   58.67\n",
       "29      201527   60.00\n",
       "36141   201527   60.00\n",
       "...        ...     ...\n",
       "79084   201735  259.00\n",
       "79305   201735  266.75\n",
       "79010   201735  270.00\n",
       "79091   201735  270.00\n",
       "33605   201735  272.50\n",
       "\n",
       "[79330 rows x 2 columns]"
      ]
     },
     "execution_count": 12,
     "metadata": {},
     "output_type": "execute_result"
    }
   ],
   "source": [
    "df3\n",
    "df3.sort_values(['FullDate','ADR'], ascending=True)"
   ]
  },
  {
   "cell_type": "code",
   "execution_count": 13,
   "metadata": {},
   "outputs": [
    {
     "data": {
      "text/html": [
       "<div>\n",
       "<style scoped>\n",
       "    .dataframe tbody tr th:only-of-type {\n",
       "        vertical-align: middle;\n",
       "    }\n",
       "\n",
       "    .dataframe tbody tr th {\n",
       "        vertical-align: top;\n",
       "    }\n",
       "\n",
       "    .dataframe thead th {\n",
       "        text-align: right;\n",
       "    }\n",
       "</style>\n",
       "<table border=\"1\" class=\"dataframe\">\n",
       "  <thead>\n",
       "    <tr style=\"text-align: right;\">\n",
       "      <th></th>\n",
       "      <th>ADR</th>\n",
       "    </tr>\n",
       "    <tr>\n",
       "      <th>FullDate</th>\n",
       "      <th></th>\n",
       "    </tr>\n",
       "  </thead>\n",
       "  <tbody>\n",
       "    <tr>\n",
       "      <th>201527</th>\n",
       "      <td>78.165879</td>\n",
       "    </tr>\n",
       "    <tr>\n",
       "      <th>201528</th>\n",
       "      <td>70.247336</td>\n",
       "    </tr>\n",
       "    <tr>\n",
       "      <th>201529</th>\n",
       "      <td>73.996534</td>\n",
       "    </tr>\n",
       "    <tr>\n",
       "      <th>201530</th>\n",
       "      <td>66.766446</td>\n",
       "    </tr>\n",
       "    <tr>\n",
       "      <th>201531</th>\n",
       "      <td>65.363578</td>\n",
       "    </tr>\n",
       "    <tr>\n",
       "      <th>...</th>\n",
       "      <td>...</td>\n",
       "    </tr>\n",
       "    <tr>\n",
       "      <th>201731</th>\n",
       "      <td>138.898408</td>\n",
       "    </tr>\n",
       "    <tr>\n",
       "      <th>201732</th>\n",
       "      <td>142.909221</td>\n",
       "    </tr>\n",
       "    <tr>\n",
       "      <th>201733</th>\n",
       "      <td>144.839923</td>\n",
       "    </tr>\n",
       "    <tr>\n",
       "      <th>201734</th>\n",
       "      <td>135.892708</td>\n",
       "    </tr>\n",
       "    <tr>\n",
       "      <th>201735</th>\n",
       "      <td>128.586952</td>\n",
       "    </tr>\n",
       "  </tbody>\n",
       "</table>\n",
       "<p>115 rows × 1 columns</p>\n",
       "</div>"
      ],
      "text/plain": [
       "                 ADR\n",
       "FullDate            \n",
       "201527     78.165879\n",
       "201528     70.247336\n",
       "201529     73.996534\n",
       "201530     66.766446\n",
       "201531     65.363578\n",
       "...              ...\n",
       "201731    138.898408\n",
       "201732    142.909221\n",
       "201733    144.839923\n",
       "201734    135.892708\n",
       "201735    128.586952\n",
       "\n",
       "[115 rows x 1 columns]"
      ]
     },
     "execution_count": 13,
     "metadata": {},
     "output_type": "execute_result"
    }
   ],
   "source": [
    "df4 = df3.groupby('FullDate').agg(\"mean\")\n",
    "df4\n",
    "df4.sort_values(['FullDate'], ascending=True)"
   ]
  },
  {
   "cell_type": "code",
   "execution_count": 14,
   "metadata": {},
   "outputs": [
    {
     "data": {
      "text/plain": [
       "FullDate\n",
       "201527     78.165879\n",
       "201528     70.247336\n",
       "201529     73.996534\n",
       "201530     66.766446\n",
       "201531     65.363578\n",
       "             ...    \n",
       "201731    138.898408\n",
       "201732    142.909221\n",
       "201733    144.839923\n",
       "201734    135.892708\n",
       "201735    128.586952\n",
       "Name: ADR, Length: 115, dtype: float64"
      ]
     },
     "execution_count": 14,
     "metadata": {},
     "output_type": "execute_result"
    }
   ],
   "source": [
    "tseries=df4['ADR']\n",
    "tseries"
   ]
  },
  {
   "cell_type": "code",
   "execution_count": 15,
   "metadata": {},
   "outputs": [
    {
     "name": "stderr",
     "output_type": "stream",
     "text": [
      "/home/michael/.local/lib/python3.6/site-packages/statsmodels/tsa/base/tsa_model.py:214: ValueWarning: An unsupported index was provided and will be ignored when e.g. forecasting.\n",
      "  ' ignored when e.g. forecasting.', ValueWarning)\n",
      "/home/michael/.local/lib/python3.6/site-packages/statsmodels/stats/diagnostic.py:524: FutureWarning: The value returned will change to a single DataFrame after 0.12 is released.  Set return_df to True to use to return a DataFrame now.  Set return_df to False to silence this warning.\n",
      "  warnings.warn(msg, FutureWarning)\n"
     ]
    },
    {
     "data": {
      "text/plain": [
       "(array([5.4871118]), array([0.85635875]))"
      ]
     },
     "execution_count": 15,
     "metadata": {},
     "output_type": "execute_result"
    }
   ],
   "source": [
    "# https://www.statsmodels.org/stable/generated/statsmodels.stats.diagnostic.acorr_ljungbox.html\n",
    "res = sm.tsa.ARMA(tseries, (1,1)).fit(disp=-1)\n",
    "sm.stats.acorr_ljungbox(res.resid, lags=[10])"
   ]
  },
  {
   "cell_type": "code",
   "execution_count": 16,
   "metadata": {},
   "outputs": [
    {
     "name": "stdout",
     "output_type": "stream",
     "text": [
      "ADF Statistic: -1.509649\n",
      "p-value: 0.528733\n",
      "Critical Values:\n",
      "\t1%: -3.490\n",
      "\t5%: -2.888\n",
      "\t10%: -2.581\n"
     ]
    }
   ],
   "source": [
    "result = adfuller(tseries)\n",
    "print('ADF Statistic: %f' % result[0])\n",
    "print('p-value: %f' % result[1])\n",
    "print('Critical Values:')\n",
    "for key, value in result[4].items():\n",
    "    print('\\t%s: %.3f' % (key, value))"
   ]
  },
  {
   "cell_type": "code",
   "execution_count": 17,
   "metadata": {},
   "outputs": [
    {
     "data": {
      "image/png": "[encoded data removed]",
      "text/plain": [
       "<Figure size 432x288 with 1 Axes>"
      ]
     },
     "metadata": {
      "needs_background": "light"
     },
     "output_type": "display_data"
    }
   ],
   "source": [
    "plt.plot(tseries)\n",
    "plt.tick_params(\n",
    "    axis='x',          # changes apply to the x-axis\n",
    "    which='both',      # both major and minor ticks are affected\n",
    "    bottom=False,      # ticks along the bottom edge are off\n",
    "    top=False,         # ticks along the top edge are off\n",
    "    labelbottom=False) # labels along the bottom edge are off\n",
    "plt.ylabel('ADR')\n",
    "plt.title(\"Weekly ADR\")\n",
    "plt.show()"
   ]
  },
  {
   "cell_type": "code",
   "execution_count": 18,
   "metadata": {},
   "outputs": [
    {
     "data": {
      "text/html": [
       "<div>\n",
       "<style scoped>\n",
       "    .dataframe tbody tr th:only-of-type {\n",
       "        vertical-align: middle;\n",
       "    }\n",
       "\n",
       "    .dataframe tbody tr th {\n",
       "        vertical-align: top;\n",
       "    }\n",
       "\n",
       "    .dataframe thead th {\n",
       "        text-align: right;\n",
       "    }\n",
       "</style>\n",
       "<table border=\"1\" class=\"dataframe\">\n",
       "  <thead>\n",
       "    <tr style=\"text-align: right;\">\n",
       "      <th></th>\n",
       "      <th>ADR</th>\n",
       "    </tr>\n",
       "    <tr>\n",
       "      <th>FullDate</th>\n",
       "      <th></th>\n",
       "    </tr>\n",
       "  </thead>\n",
       "  <tbody>\n",
       "    <tr>\n",
       "      <th>201527</th>\n",
       "      <td>78.165879</td>\n",
       "    </tr>\n",
       "    <tr>\n",
       "      <th>201528</th>\n",
       "      <td>70.247336</td>\n",
       "    </tr>\n",
       "    <tr>\n",
       "      <th>201529</th>\n",
       "      <td>73.996534</td>\n",
       "    </tr>\n",
       "    <tr>\n",
       "      <th>201530</th>\n",
       "      <td>66.766446</td>\n",
       "    </tr>\n",
       "    <tr>\n",
       "      <th>201531</th>\n",
       "      <td>65.363578</td>\n",
       "    </tr>\n",
       "    <tr>\n",
       "      <th>...</th>\n",
       "      <td>...</td>\n",
       "    </tr>\n",
       "    <tr>\n",
       "      <th>201731</th>\n",
       "      <td>138.898408</td>\n",
       "    </tr>\n",
       "    <tr>\n",
       "      <th>201732</th>\n",
       "      <td>142.909221</td>\n",
       "    </tr>\n",
       "    <tr>\n",
       "      <th>201733</th>\n",
       "      <td>144.839923</td>\n",
       "    </tr>\n",
       "    <tr>\n",
       "      <th>201734</th>\n",
       "      <td>135.892708</td>\n",
       "    </tr>\n",
       "    <tr>\n",
       "      <th>201735</th>\n",
       "      <td>128.586952</td>\n",
       "    </tr>\n",
       "  </tbody>\n",
       "</table>\n",
       "<p>115 rows × 1 columns</p>\n",
       "</div>"
      ],
      "text/plain": [
       "                 ADR\n",
       "FullDate            \n",
       "201527     78.165879\n",
       "201528     70.247336\n",
       "201529     73.996534\n",
       "201530     66.766446\n",
       "201531     65.363578\n",
       "...              ...\n",
       "201731    138.898408\n",
       "201732    142.909221\n",
       "201733    144.839923\n",
       "201734    135.892708\n",
       "201735    128.586952\n",
       "\n",
       "[115 rows x 1 columns]"
      ]
     },
     "execution_count": 18,
     "metadata": {},
     "output_type": "execute_result"
    }
   ],
   "source": [
    "df=pd.DataFrame(tseries)\n",
    "df"
   ]
  },
  {
   "cell_type": "code",
   "execution_count": 19,
   "metadata": {},
   "outputs": [],
   "source": [
    "df.to_csv(\"weekly adr h2.csv\", sep='\\t', encoding='utf-8')"
   ]
  },
  {
   "cell_type": "code",
   "execution_count": 20,
   "metadata": {},
   "outputs": [],
   "source": [
    "df = df[:100]"
   ]
  },
  {
   "cell_type": "code",
   "execution_count": 21,
   "metadata": {},
   "outputs": [
    {
     "data": {
      "text/html": [
       "<div>\n",
       "<style scoped>\n",
       "    .dataframe tbody tr th:only-of-type {\n",
       "        vertical-align: middle;\n",
       "    }\n",
       "\n",
       "    .dataframe tbody tr th {\n",
       "        vertical-align: top;\n",
       "    }\n",
       "\n",
       "    .dataframe thead th {\n",
       "        text-align: right;\n",
       "    }\n",
       "</style>\n",
       "<table border=\"1\" class=\"dataframe\">\n",
       "  <thead>\n",
       "    <tr style=\"text-align: right;\">\n",
       "      <th></th>\n",
       "      <th>ADR</th>\n",
       "    </tr>\n",
       "    <tr>\n",
       "      <th>FullDate</th>\n",
       "      <th></th>\n",
       "    </tr>\n",
       "  </thead>\n",
       "  <tbody>\n",
       "    <tr>\n",
       "      <th>201527</th>\n",
       "      <td>78.165879</td>\n",
       "    </tr>\n",
       "    <tr>\n",
       "      <th>201528</th>\n",
       "      <td>70.247336</td>\n",
       "    </tr>\n",
       "    <tr>\n",
       "      <th>201529</th>\n",
       "      <td>73.996534</td>\n",
       "    </tr>\n",
       "    <tr>\n",
       "      <th>201530</th>\n",
       "      <td>66.766446</td>\n",
       "    </tr>\n",
       "    <tr>\n",
       "      <th>201531</th>\n",
       "      <td>65.363578</td>\n",
       "    </tr>\n",
       "    <tr>\n",
       "      <th>...</th>\n",
       "      <td>...</td>\n",
       "    </tr>\n",
       "    <tr>\n",
       "      <th>201716</th>\n",
       "      <td>121.461748</td>\n",
       "    </tr>\n",
       "    <tr>\n",
       "      <th>201717</th>\n",
       "      <td>121.316925</td>\n",
       "    </tr>\n",
       "    <tr>\n",
       "      <th>201718</th>\n",
       "      <td>124.661435</td>\n",
       "    </tr>\n",
       "    <tr>\n",
       "      <th>201719</th>\n",
       "      <td>132.639515</td>\n",
       "    </tr>\n",
       "    <tr>\n",
       "      <th>201720</th>\n",
       "      <td>138.961245</td>\n",
       "    </tr>\n",
       "  </tbody>\n",
       "</table>\n",
       "<p>100 rows × 1 columns</p>\n",
       "</div>"
      ],
      "text/plain": [
       "                 ADR\n",
       "FullDate            \n",
       "201527     78.165879\n",
       "201528     70.247336\n",
       "201529     73.996534\n",
       "201530     66.766446\n",
       "201531     65.363578\n",
       "...              ...\n",
       "201716    121.461748\n",
       "201717    121.316925\n",
       "201718    124.661435\n",
       "201719    132.639515\n",
       "201720    138.961245\n",
       "\n",
       "[100 rows x 1 columns]"
      ]
     },
     "execution_count": 21,
     "metadata": {},
     "output_type": "execute_result"
    }
   ],
   "source": [
    "df"
   ]
  },
  {
   "cell_type": "code",
   "execution_count": 22,
   "metadata": {},
   "outputs": [],
   "source": [
    "df=np.array(df)"
   ]
  },
  {
   "cell_type": "markdown",
   "metadata": {},
   "source": [
    "### Training and Validation data partition"
   ]
  },
  {
   "cell_type": "code",
   "execution_count": 23,
   "metadata": {},
   "outputs": [],
   "source": [
    "train_size = int(len(df) * 0.8)\n",
    "val_size = len(df) - train_size\n",
    "train, val = df[0:train_size,:], df[train_size:len(df),:]"
   ]
  },
  {
   "cell_type": "markdown",
   "metadata": {},
   "source": [
    "### Form dataset matrix"
   ]
  },
  {
   "cell_type": "code",
   "execution_count": 24,
   "metadata": {},
   "outputs": [],
   "source": [
    "def create_dataset(df, previous=1):\n",
    "    dataX, dataY = [], []\n",
    "    for i in range(len(df)-previous-1):\n",
    "        a = df[i:(i+previous), 0]\n",
    "        dataX.append(a)\n",
    "        dataY.append(df[i + previous, 0])\n",
    "    return np.array(dataX), np.array(dataY)"
   ]
  },
  {
   "cell_type": "code",
   "execution_count": 25,
   "metadata": {},
   "outputs": [
    {
     "data": {
      "text/plain": [
       "array([[ 78.16587912],\n",
       "       [ 70.24733645],\n",
       "       [ 73.99653409],\n",
       "       [ 66.76644592],\n",
       "       [ 65.36357759],\n",
       "       [ 66.19251773],\n",
       "       [ 83.49771567],\n",
       "       [ 84.47268398],\n",
       "       [ 72.68456522],\n",
       "       [ 83.45116535],\n",
       "       [ 86.20366422],\n",
       "       [ 91.45293608],\n",
       "       [126.92589397],\n",
       "       [101.41107955],\n",
       "       [ 89.9096928 ],\n",
       "       [ 89.26574257],\n",
       "       [ 94.24644567],\n",
       "       [ 84.64276423],\n",
       "       [ 80.10729242],\n",
       "       [ 73.66123894],\n",
       "       [ 71.29099688],\n",
       "       [ 71.20313158],\n",
       "       [ 75.51997732],\n",
       "       [ 77.24792627],\n",
       "       [ 70.17713287],\n",
       "       [ 76.81377451],\n",
       "       [ 94.30473002],\n",
       "       [ 95.21253521],\n",
       "       [ 72.52884422],\n",
       "       [ 72.73885106],\n",
       "       [ 76.22860526],\n",
       "       [ 73.89953608],\n",
       "       [ 78.31005495],\n",
       "       [ 83.05294239],\n",
       "       [ 79.5900545 ],\n",
       "       [ 81.36655536],\n",
       "       [ 79.51510608],\n",
       "       [ 81.69887067],\n",
       "       [ 85.45253049],\n",
       "       [107.70945313],\n",
       "       [ 92.86574132],\n",
       "       [ 91.91686905],\n",
       "       [102.45118665],\n",
       "       [ 99.15784753],\n",
       "       [105.37807425],\n",
       "       [104.96025199],\n",
       "       [108.91796547],\n",
       "       [104.93932653],\n",
       "       [117.81954795],\n",
       "       [106.92704225],\n",
       "       [111.18671756],\n",
       "       [112.31556444],\n",
       "       [101.15518268],\n",
       "       [110.22546968],\n",
       "       [114.18253731],\n",
       "       [113.29086053],\n",
       "       [108.65646341],\n",
       "       [110.87743553],\n",
       "       [117.06417476],\n",
       "       [117.90309371],\n",
       "       [125.33748775],\n",
       "       [117.30699725],\n",
       "       [112.6973067 ],\n",
       "       [116.42294872],\n",
       "       [121.17599585],\n",
       "       [121.92590126],\n",
       "       [114.68440079],\n",
       "       [113.96887528],\n",
       "       [110.31016028],\n",
       "       [108.23790359],\n",
       "       [102.80239527],\n",
       "       [ 98.36722793],\n",
       "       [109.18395683],\n",
       "       [ 85.3821189 ],\n",
       "       [ 83.10158479],\n",
       "       [ 84.83784   ],\n",
       "       [ 88.62242765],\n",
       "       [ 83.67747222],\n",
       "       [ 92.77957393],\n",
       "       [107.52953741],\n",
       "       [ 92.75907473],\n",
       "       [ 83.17797153],\n",
       "       [ 85.1740678 ],\n",
       "       [ 83.75382653],\n",
       "       [ 83.62973896],\n",
       "       [ 89.19876623],\n",
       "       [ 92.82290682],\n",
       "       [ 90.20431193],\n",
       "       [ 92.04525896],\n",
       "       [ 90.06917483],\n",
       "       [ 91.99566508],\n",
       "       [ 95.53501946],\n",
       "       [ 99.44500705],\n",
       "       [116.58657688],\n",
       "       [127.64236479],\n",
       "       [121.46174792],\n",
       "       [121.31692451],\n",
       "       [124.66143536],\n",
       "       [132.63951467],\n",
       "       [138.96124481]])"
      ]
     },
     "execution_count": 25,
     "metadata": {},
     "output_type": "execute_result"
    }
   ],
   "source": [
    "df"
   ]
  },
  {
   "cell_type": "markdown",
   "metadata": {},
   "source": [
    "## Normalize dataset with MinMaxScaler"
   ]
  },
  {
   "cell_type": "code",
   "execution_count": 26,
   "metadata": {},
   "outputs": [
    {
     "data": {
      "text/plain": [
       "array([[0.20795679],\n",
       "       [0.07933033],\n",
       "       [0.14023118],\n",
       "       [0.02278778],\n",
       "       [0.        ],\n",
       "       [0.01346506],\n",
       "       [0.29456556],\n",
       "       [0.31040265],\n",
       "       [0.11891995],\n",
       "       [0.29380941],\n",
       "       [0.33852018],\n",
       "       [0.4237878 ],\n",
       "       [1.        ],\n",
       "       [0.58554493],\n",
       "       [0.39871981],\n",
       "       [0.38825968],\n",
       "       [0.46916474],\n",
       "       [0.31316539],\n",
       "       [0.23949253],\n",
       "       [0.13478475],\n",
       "       [0.09628324],\n",
       "       [0.09485598],\n",
       "       [0.16497754],\n",
       "       [0.19304583],\n",
       "       [0.07818996],\n",
       "       [0.1859936 ],\n",
       "       [0.47011149],\n",
       "       [0.48485761],\n",
       "       [0.11639047],\n",
       "       [0.11980175],\n",
       "       [0.17648829],\n",
       "       [0.13865558],\n",
       "       [0.21029874],\n",
       "       [0.28734079],\n",
       "       [0.23109067],\n",
       "       [0.25994762],\n",
       "       [0.22987323],\n",
       "       [0.26534565],\n",
       "       [0.32631899],\n",
       "       [0.68785384],\n",
       "       [0.44673699],\n",
       "       [0.43132379],\n",
       "       [0.60244012],\n",
       "       [0.54894409],\n",
       "       [0.64998361],\n",
       "       [0.64319663],\n",
       "       [0.70748455],\n",
       "       [0.64285672],\n",
       "       [0.85207922],\n",
       "       [0.67514459],\n",
       "       [0.74433749],\n",
       "       [0.76267414],\n",
       "       [0.58138821],\n",
       "       [0.72872326],\n",
       "       [0.7930007 ],\n",
       "       [0.77851656],\n",
       "       [0.70323679],\n",
       "       [0.7393136 ],\n",
       "       [0.83980916],\n",
       "       [0.85343631],\n",
       "       [0.9741984 ],\n",
       "       [0.8437535 ],\n",
       "       [0.76887505],\n",
       "       [0.82939327],\n",
       "       [0.90660036],\n",
       "       [0.9187816 ],\n",
       "       [0.80115282],\n",
       "       [0.78953003],\n",
       "       [0.73009895],\n",
       "       [0.69643783],\n",
       "       [0.60814505],\n",
       "       [0.5361015 ],\n",
       "       [0.71180524],\n",
       "       [0.32517525],\n",
       "       [0.28813093],\n",
       "       [0.31633414],\n",
       "       [0.37780986],\n",
       "       [0.29748547],\n",
       "       [0.44533731],\n",
       "       [0.68493134]])"
      ]
     },
     "execution_count": 26,
     "metadata": {},
     "output_type": "execute_result"
    }
   ],
   "source": [
    "scaler = MinMaxScaler(feature_range=(0, 1))\n",
    "train = scaler.fit_transform(train)\n",
    "train"
   ]
  },
  {
   "cell_type": "code",
   "execution_count": 27,
   "metadata": {},
   "outputs": [
    {
     "data": {
      "text/plain": [
       "array([[0.17175584],\n",
       "       [0.        ],\n",
       "       [0.03578306],\n",
       "       [0.01032308],\n",
       "       [0.00809862],\n",
       "       [0.1079319 ],\n",
       "       [0.17290013],\n",
       "       [0.12595784],\n",
       "       [0.15895961],\n",
       "       [0.1235353 ],\n",
       "       [0.15807057],\n",
       "       [0.22151887],\n",
       "       [0.29161135],\n",
       "       [0.59890005],\n",
       "       [0.79709186],\n",
       "       [0.68629491],\n",
       "       [0.68369873],\n",
       "       [0.74365417],\n",
       "       [0.88667337],\n",
       "       [1.        ]])"
      ]
     },
     "execution_count": 27,
     "metadata": {},
     "output_type": "execute_result"
    }
   ],
   "source": [
    "val = scaler.fit_transform(val)\n",
    "val"
   ]
  },
  {
   "cell_type": "markdown",
   "metadata": {},
   "source": [
    "## Configure LSTM model"
   ]
  },
  {
   "cell_type": "code",
   "execution_count": 28,
   "metadata": {},
   "outputs": [],
   "source": [
    "# Lookback period\n",
    "lookback = 5\n",
    "X_train, Y_train = create_dataset(train, lookback)\n",
    "X_val, Y_val = create_dataset(val, lookback)"
   ]
  },
  {
   "cell_type": "code",
   "execution_count": 29,
   "metadata": {},
   "outputs": [
    {
     "data": {
      "text/plain": [
       "array([[0.20795679, 0.07933033, 0.14023118, 0.02278778, 0.        ],\n",
       "       [0.07933033, 0.14023118, 0.02278778, 0.        , 0.01346506],\n",
       "       [0.14023118, 0.02278778, 0.        , 0.01346506, 0.29456556],\n",
       "       [0.02278778, 0.        , 0.01346506, 0.29456556, 0.31040265],\n",
       "       [0.        , 0.01346506, 0.29456556, 0.31040265, 0.11891995],\n",
       "       [0.01346506, 0.29456556, 0.31040265, 0.11891995, 0.29380941],\n",
       "       [0.29456556, 0.31040265, 0.11891995, 0.29380941, 0.33852018],\n",
       "       [0.31040265, 0.11891995, 0.29380941, 0.33852018, 0.4237878 ],\n",
       "       [0.11891995, 0.29380941, 0.33852018, 0.4237878 , 1.        ],\n",
       "       [0.29380941, 0.33852018, 0.4237878 , 1.        , 0.58554493],\n",
       "       [0.33852018, 0.4237878 , 1.        , 0.58554493, 0.39871981],\n",
       "       [0.4237878 , 1.        , 0.58554493, 0.39871981, 0.38825968],\n",
       "       [1.        , 0.58554493, 0.39871981, 0.38825968, 0.46916474],\n",
       "       [0.58554493, 0.39871981, 0.38825968, 0.46916474, 0.31316539],\n",
       "       [0.39871981, 0.38825968, 0.46916474, 0.31316539, 0.23949253],\n",
       "       [0.38825968, 0.46916474, 0.31316539, 0.23949253, 0.13478475],\n",
       "       [0.46916474, 0.31316539, 0.23949253, 0.13478475, 0.09628324],\n",
       "       [0.31316539, 0.23949253, 0.13478475, 0.09628324, 0.09485598],\n",
       "       [0.23949253, 0.13478475, 0.09628324, 0.09485598, 0.16497754],\n",
       "       [0.13478475, 0.09628324, 0.09485598, 0.16497754, 0.19304583],\n",
       "       [0.09628324, 0.09485598, 0.16497754, 0.19304583, 0.07818996],\n",
       "       [0.09485598, 0.16497754, 0.19304583, 0.07818996, 0.1859936 ],\n",
       "       [0.16497754, 0.19304583, 0.07818996, 0.1859936 , 0.47011149],\n",
       "       [0.19304583, 0.07818996, 0.1859936 , 0.47011149, 0.48485761],\n",
       "       [0.07818996, 0.1859936 , 0.47011149, 0.48485761, 0.11639047],\n",
       "       [0.1859936 , 0.47011149, 0.48485761, 0.11639047, 0.11980175],\n",
       "       [0.47011149, 0.48485761, 0.11639047, 0.11980175, 0.17648829],\n",
       "       [0.48485761, 0.11639047, 0.11980175, 0.17648829, 0.13865558],\n",
       "       [0.11639047, 0.11980175, 0.17648829, 0.13865558, 0.21029874],\n",
       "       [0.11980175, 0.17648829, 0.13865558, 0.21029874, 0.28734079],\n",
       "       [0.17648829, 0.13865558, 0.21029874, 0.28734079, 0.23109067],\n",
       "       [0.13865558, 0.21029874, 0.28734079, 0.23109067, 0.25994762],\n",
       "       [0.21029874, 0.28734079, 0.23109067, 0.25994762, 0.22987323],\n",
       "       [0.28734079, 0.23109067, 0.25994762, 0.22987323, 0.26534565],\n",
       "       [0.23109067, 0.25994762, 0.22987323, 0.26534565, 0.32631899],\n",
       "       [0.25994762, 0.22987323, 0.26534565, 0.32631899, 0.68785384],\n",
       "       [0.22987323, 0.26534565, 0.32631899, 0.68785384, 0.44673699],\n",
       "       [0.26534565, 0.32631899, 0.68785384, 0.44673699, 0.43132379],\n",
       "       [0.32631899, 0.68785384, 0.44673699, 0.43132379, 0.60244012],\n",
       "       [0.68785384, 0.44673699, 0.43132379, 0.60244012, 0.54894409],\n",
       "       [0.44673699, 0.43132379, 0.60244012, 0.54894409, 0.64998361],\n",
       "       [0.43132379, 0.60244012, 0.54894409, 0.64998361, 0.64319663],\n",
       "       [0.60244012, 0.54894409, 0.64998361, 0.64319663, 0.70748455],\n",
       "       [0.54894409, 0.64998361, 0.64319663, 0.70748455, 0.64285672],\n",
       "       [0.64998361, 0.64319663, 0.70748455, 0.64285672, 0.85207922],\n",
       "       [0.64319663, 0.70748455, 0.64285672, 0.85207922, 0.67514459],\n",
       "       [0.70748455, 0.64285672, 0.85207922, 0.67514459, 0.74433749],\n",
       "       [0.64285672, 0.85207922, 0.67514459, 0.74433749, 0.76267414],\n",
       "       [0.85207922, 0.67514459, 0.74433749, 0.76267414, 0.58138821],\n",
       "       [0.67514459, 0.74433749, 0.76267414, 0.58138821, 0.72872326],\n",
       "       [0.74433749, 0.76267414, 0.58138821, 0.72872326, 0.7930007 ],\n",
       "       [0.76267414, 0.58138821, 0.72872326, 0.7930007 , 0.77851656],\n",
       "       [0.58138821, 0.72872326, 0.7930007 , 0.77851656, 0.70323679],\n",
       "       [0.72872326, 0.7930007 , 0.77851656, 0.70323679, 0.7393136 ],\n",
       "       [0.7930007 , 0.77851656, 0.70323679, 0.7393136 , 0.83980916],\n",
       "       [0.77851656, 0.70323679, 0.7393136 , 0.83980916, 0.85343631],\n",
       "       [0.70323679, 0.7393136 , 0.83980916, 0.85343631, 0.9741984 ],\n",
       "       [0.7393136 , 0.83980916, 0.85343631, 0.9741984 , 0.8437535 ],\n",
       "       [0.83980916, 0.85343631, 0.9741984 , 0.8437535 , 0.76887505],\n",
       "       [0.85343631, 0.9741984 , 0.8437535 , 0.76887505, 0.82939327],\n",
       "       [0.9741984 , 0.8437535 , 0.76887505, 0.82939327, 0.90660036],\n",
       "       [0.8437535 , 0.76887505, 0.82939327, 0.90660036, 0.9187816 ],\n",
       "       [0.76887505, 0.82939327, 0.90660036, 0.9187816 , 0.80115282],\n",
       "       [0.82939327, 0.90660036, 0.9187816 , 0.80115282, 0.78953003],\n",
       "       [0.90660036, 0.9187816 , 0.80115282, 0.78953003, 0.73009895],\n",
       "       [0.9187816 , 0.80115282, 0.78953003, 0.73009895, 0.69643783],\n",
       "       [0.80115282, 0.78953003, 0.73009895, 0.69643783, 0.60814505],\n",
       "       [0.78953003, 0.73009895, 0.69643783, 0.60814505, 0.5361015 ],\n",
       "       [0.73009895, 0.69643783, 0.60814505, 0.5361015 , 0.71180524],\n",
       "       [0.69643783, 0.60814505, 0.5361015 , 0.71180524, 0.32517525],\n",
       "       [0.60814505, 0.5361015 , 0.71180524, 0.32517525, 0.28813093],\n",
       "       [0.5361015 , 0.71180524, 0.32517525, 0.28813093, 0.31633414],\n",
       "       [0.71180524, 0.32517525, 0.28813093, 0.31633414, 0.37780986],\n",
       "       [0.32517525, 0.28813093, 0.31633414, 0.37780986, 0.29748547]])"
      ]
     },
     "execution_count": 29,
     "metadata": {},
     "output_type": "execute_result"
    }
   ],
   "source": [
    "X_train"
   ]
  },
  {
   "cell_type": "code",
   "execution_count": 30,
   "metadata": {},
   "outputs": [
    {
     "data": {
      "text/plain": [
       "array([0.01346506, 0.29456556, 0.31040265, 0.11891995, 0.29380941,\n",
       "       0.33852018, 0.4237878 , 1.        , 0.58554493, 0.39871981,\n",
       "       0.38825968, 0.46916474, 0.31316539, 0.23949253, 0.13478475,\n",
       "       0.09628324, 0.09485598, 0.16497754, 0.19304583, 0.07818996,\n",
       "       0.1859936 , 0.47011149, 0.48485761, 0.11639047, 0.11980175,\n",
       "       0.17648829, 0.13865558, 0.21029874, 0.28734079, 0.23109067,\n",
       "       0.25994762, 0.22987323, 0.26534565, 0.32631899, 0.68785384,\n",
       "       0.44673699, 0.43132379, 0.60244012, 0.54894409, 0.64998361,\n",
       "       0.64319663, 0.70748455, 0.64285672, 0.85207922, 0.67514459,\n",
       "       0.74433749, 0.76267414, 0.58138821, 0.72872326, 0.7930007 ,\n",
       "       0.77851656, 0.70323679, 0.7393136 , 0.83980916, 0.85343631,\n",
       "       0.9741984 , 0.8437535 , 0.76887505, 0.82939327, 0.90660036,\n",
       "       0.9187816 , 0.80115282, 0.78953003, 0.73009895, 0.69643783,\n",
       "       0.60814505, 0.5361015 , 0.71180524, 0.32517525, 0.28813093,\n",
       "       0.31633414, 0.37780986, 0.29748547, 0.44533731])"
      ]
     },
     "execution_count": 30,
     "metadata": {},
     "output_type": "execute_result"
    }
   ],
   "source": [
    "Y_train"
   ]
  },
  {
   "cell_type": "code",
   "execution_count": 31,
   "metadata": {},
   "outputs": [
    {
     "name": "stdout",
     "output_type": "stream",
     "text": [
      "Epoch 1/100\n",
      "59/59 - 0s - loss: 0.1007 - val_loss: 0.0440\n",
      "Epoch 2/100\n",
      "59/59 - 0s - loss: 0.0426 - val_loss: 0.0197\n",
      "Epoch 3/100\n",
      "59/59 - 0s - loss: 0.0273 - val_loss: 0.0240\n",
      "Epoch 4/100\n",
      "59/59 - 0s - loss: 0.0254 - val_loss: 0.0246\n",
      "Epoch 5/100\n",
      "59/59 - 0s - loss: 0.0250 - val_loss: 0.0268\n",
      "Epoch 6/100\n",
      "59/59 - 0s - loss: 0.0247 - val_loss: 0.0266\n",
      "Epoch 7/100\n",
      "59/59 - 0s - loss: 0.0245 - val_loss: 0.0282\n",
      "Epoch 8/100\n",
      "59/59 - 0s - loss: 0.0244 - val_loss: 0.0240\n",
      "Epoch 9/100\n",
      "59/59 - 0s - loss: 0.0243 - val_loss: 0.0245\n",
      "Epoch 10/100\n",
      "59/59 - 0s - loss: 0.0240 - val_loss: 0.0240\n",
      "Epoch 11/100\n",
      "59/59 - 0s - loss: 0.0237 - val_loss: 0.0226\n",
      "Epoch 12/100\n",
      "59/59 - 0s - loss: 0.0236 - val_loss: 0.0260\n",
      "Epoch 13/100\n",
      "59/59 - 0s - loss: 0.0232 - val_loss: 0.0228\n",
      "Epoch 14/100\n",
      "59/59 - 0s - loss: 0.0231 - val_loss: 0.0241\n",
      "Epoch 15/100\n",
      "59/59 - 0s - loss: 0.0228 - val_loss: 0.0260\n",
      "Epoch 16/100\n",
      "59/59 - 0s - loss: 0.0226 - val_loss: 0.0229\n",
      "Epoch 17/100\n",
      "59/59 - 0s - loss: 0.0224 - val_loss: 0.0237\n",
      "Epoch 18/100\n",
      "59/59 - 0s - loss: 0.0222 - val_loss: 0.0246\n",
      "Epoch 19/100\n",
      "59/59 - 0s - loss: 0.0223 - val_loss: 0.0255\n",
      "Epoch 20/100\n",
      "59/59 - 0s - loss: 0.0225 - val_loss: 0.0232\n",
      "Epoch 21/100\n",
      "59/59 - 0s - loss: 0.0219 - val_loss: 0.0242\n",
      "Epoch 22/100\n",
      "59/59 - 0s - loss: 0.0220 - val_loss: 0.0221\n",
      "Epoch 23/100\n",
      "59/59 - 0s - loss: 0.0218 - val_loss: 0.0214\n",
      "Epoch 24/100\n",
      "59/59 - 0s - loss: 0.0218 - val_loss: 0.0199\n",
      "Epoch 25/100\n",
      "59/59 - 0s - loss: 0.0216 - val_loss: 0.0199\n",
      "Epoch 26/100\n",
      "59/59 - 0s - loss: 0.0214 - val_loss: 0.0206\n",
      "Epoch 27/100\n",
      "59/59 - 0s - loss: 0.0217 - val_loss: 0.0198\n",
      "Epoch 28/100\n",
      "59/59 - 0s - loss: 0.0212 - val_loss: 0.0223\n",
      "Epoch 29/100\n",
      "59/59 - 0s - loss: 0.0212 - val_loss: 0.0216\n",
      "Epoch 30/100\n",
      "59/59 - 0s - loss: 0.0212 - val_loss: 0.0223\n",
      "Epoch 31/100\n",
      "59/59 - 0s - loss: 0.0209 - val_loss: 0.0198\n",
      "Epoch 32/100\n",
      "59/59 - 0s - loss: 0.0210 - val_loss: 0.0221\n",
      "Epoch 33/100\n",
      "59/59 - 0s - loss: 0.0207 - val_loss: 0.0178\n",
      "Epoch 34/100\n",
      "59/59 - 0s - loss: 0.0210 - val_loss: 0.0187\n",
      "Epoch 35/100\n",
      "59/59 - 0s - loss: 0.0207 - val_loss: 0.0209\n",
      "Epoch 36/100\n",
      "59/59 - 0s - loss: 0.0207 - val_loss: 0.0174\n",
      "Epoch 37/100\n",
      "59/59 - 0s - loss: 0.0211 - val_loss: 0.0222\n",
      "Epoch 38/100\n",
      "59/59 - 0s - loss: 0.0206 - val_loss: 0.0175\n",
      "Epoch 39/100\n",
      "59/59 - 0s - loss: 0.0211 - val_loss: 0.0166\n",
      "Epoch 40/100\n",
      "59/59 - 0s - loss: 0.0209 - val_loss: 0.0176\n",
      "Epoch 41/100\n",
      "59/59 - 0s - loss: 0.0208 - val_loss: 0.0174\n",
      "Epoch 42/100\n",
      "59/59 - 0s - loss: 0.0204 - val_loss: 0.0180\n",
      "Epoch 43/100\n",
      "59/59 - 0s - loss: 0.0202 - val_loss: 0.0191\n",
      "Epoch 44/100\n",
      "59/59 - 0s - loss: 0.0206 - val_loss: 0.0180\n",
      "Epoch 45/100\n",
      "59/59 - 0s - loss: 0.0207 - val_loss: 0.0174\n",
      "Epoch 46/100\n",
      "59/59 - 0s - loss: 0.0204 - val_loss: 0.0182\n",
      "Epoch 47/100\n",
      "59/59 - 0s - loss: 0.0205 - val_loss: 0.0189\n",
      "Epoch 48/100\n",
      "59/59 - 0s - loss: 0.0203 - val_loss: 0.0192\n",
      "Epoch 49/100\n",
      "59/59 - 0s - loss: 0.0201 - val_loss: 0.0171\n",
      "Epoch 50/100\n",
      "59/59 - 0s - loss: 0.0204 - val_loss: 0.0170\n",
      "Epoch 51/100\n",
      "59/59 - 0s - loss: 0.0207 - val_loss: 0.0189\n",
      "Epoch 52/100\n",
      "59/59 - 0s - loss: 0.0203 - val_loss: 0.0185\n",
      "Epoch 53/100\n",
      "59/59 - 0s - loss: 0.0205 - val_loss: 0.0153\n",
      "Epoch 54/100\n",
      "59/59 - 0s - loss: 0.0203 - val_loss: 0.0175\n",
      "Epoch 55/100\n",
      "59/59 - 0s - loss: 0.0203 - val_loss: 0.0196\n",
      "Epoch 56/100\n",
      "59/59 - 0s - loss: 0.0202 - val_loss: 0.0161\n",
      "Epoch 57/100\n",
      "59/59 - 0s - loss: 0.0201 - val_loss: 0.0158\n",
      "Epoch 58/100\n",
      "59/59 - 0s - loss: 0.0204 - val_loss: 0.0158\n",
      "Epoch 59/100\n",
      "59/59 - 0s - loss: 0.0205 - val_loss: 0.0159\n",
      "Epoch 60/100\n",
      "59/59 - 0s - loss: 0.0204 - val_loss: 0.0216\n",
      "Epoch 61/100\n",
      "59/59 - 0s - loss: 0.0205 - val_loss: 0.0200\n",
      "Epoch 62/100\n",
      "59/59 - 0s - loss: 0.0203 - val_loss: 0.0160\n",
      "Epoch 63/100\n",
      "59/59 - 0s - loss: 0.0200 - val_loss: 0.0199\n",
      "Epoch 64/100\n",
      "59/59 - 0s - loss: 0.0201 - val_loss: 0.0167\n",
      "Epoch 65/100\n",
      "59/59 - 0s - loss: 0.0198 - val_loss: 0.0167\n",
      "Epoch 66/100\n",
      "59/59 - 0s - loss: 0.0199 - val_loss: 0.0183\n",
      "Epoch 67/100\n",
      "59/59 - 0s - loss: 0.0199 - val_loss: 0.0164\n",
      "Epoch 68/100\n",
      "59/59 - 0s - loss: 0.0203 - val_loss: 0.0181\n",
      "Epoch 69/100\n",
      "59/59 - 0s - loss: 0.0200 - val_loss: 0.0174\n",
      "Epoch 70/100\n",
      "59/59 - 0s - loss: 0.0199 - val_loss: 0.0191\n",
      "Epoch 71/100\n",
      "59/59 - 0s - loss: 0.0199 - val_loss: 0.0155\n",
      "Epoch 72/100\n",
      "59/59 - 0s - loss: 0.0197 - val_loss: 0.0189\n",
      "Epoch 73/100\n",
      "59/59 - 0s - loss: 0.0199 - val_loss: 0.0176\n",
      "Epoch 74/100\n",
      "59/59 - 0s - loss: 0.0196 - val_loss: 0.0186\n",
      "Epoch 75/100\n",
      "59/59 - 0s - loss: 0.0199 - val_loss: 0.0166\n",
      "Epoch 76/100\n",
      "59/59 - 0s - loss: 0.0197 - val_loss: 0.0163\n",
      "Epoch 77/100\n",
      "59/59 - 0s - loss: 0.0201 - val_loss: 0.0151\n",
      "Epoch 78/100\n",
      "59/59 - 0s - loss: 0.0198 - val_loss: 0.0175\n",
      "Epoch 79/100\n",
      "59/59 - 0s - loss: 0.0196 - val_loss: 0.0164\n",
      "Epoch 80/100\n",
      "59/59 - 0s - loss: 0.0197 - val_loss: 0.0170\n",
      "Epoch 81/100\n",
      "59/59 - 0s - loss: 0.0200 - val_loss: 0.0169\n",
      "Epoch 82/100\n",
      "59/59 - 0s - loss: 0.0197 - val_loss: 0.0149\n",
      "Epoch 83/100\n",
      "59/59 - 0s - loss: 0.0199 - val_loss: 0.0183\n",
      "Epoch 84/100\n",
      "59/59 - 0s - loss: 0.0198 - val_loss: 0.0182\n",
      "Epoch 85/100\n",
      "59/59 - 0s - loss: 0.0195 - val_loss: 0.0167\n",
      "Epoch 86/100\n",
      "59/59 - 0s - loss: 0.0195 - val_loss: 0.0176\n",
      "Epoch 87/100\n",
      "59/59 - 0s - loss: 0.0197 - val_loss: 0.0182\n",
      "Epoch 88/100\n",
      "59/59 - 0s - loss: 0.0195 - val_loss: 0.0159\n",
      "Epoch 89/100\n",
      "59/59 - 0s - loss: 0.0195 - val_loss: 0.0158\n",
      "Epoch 90/100\n",
      "59/59 - 0s - loss: 0.0196 - val_loss: 0.0153\n",
      "Epoch 91/100\n",
      "59/59 - 0s - loss: 0.0196 - val_loss: 0.0160\n",
      "Epoch 92/100\n",
      "59/59 - 0s - loss: 0.0195 - val_loss: 0.0179\n",
      "Epoch 93/100\n",
      "59/59 - 0s - loss: 0.0195 - val_loss: 0.0150\n",
      "Epoch 94/100\n",
      "59/59 - 0s - loss: 0.0197 - val_loss: 0.0154\n",
      "Epoch 95/100\n",
      "59/59 - 0s - loss: 0.0196 - val_loss: 0.0155\n",
      "Epoch 96/100\n",
      "59/59 - 0s - loss: 0.0197 - val_loss: 0.0167\n",
      "Epoch 97/100\n",
      "59/59 - 0s - loss: 0.0194 - val_loss: 0.0172\n",
      "Epoch 98/100\n",
      "59/59 - 0s - loss: 0.0196 - val_loss: 0.0183\n",
      "Epoch 99/100\n",
      "59/59 - 0s - loss: 0.0199 - val_loss: 0.0163\n",
      "Epoch 100/100\n",
      "59/59 - 0s - loss: 0.0195 - val_loss: 0.0179\n",
      "dict_keys(['loss', 'val_loss'])\n"
     ]
    },
    {
     "data": {
      "image/png": "[encoded data removed]",
      "text/plain": [
       "<Figure size 432x288 with 1 Axes>"
      ]
     },
     "metadata": {
      "needs_background": "light"
     },
     "output_type": "display_data"
    }
   ],
   "source": [
    "# reshape input to be [samples, time steps, features]\n",
    "X_train = np.reshape(X_train, (X_train.shape[0], 1, X_train.shape[1]))\n",
    "X_val = np.reshape(X_val, (X_val.shape[0], 1, X_val.shape[1]))\n",
    "\n",
    "# Generate LSTM network\n",
    "model = tf.keras.Sequential()\n",
    "model.add(LSTM(4, input_shape=(1, lookback)))\n",
    "model.add(Dense(1))\n",
    "model.compile(loss='mean_squared_error', optimizer='adam')\n",
    "history=model.fit(X_train, Y_train, validation_split=0.2, epochs=100, batch_size=1, verbose=2)\n",
    "\n",
    "\n",
    "# list all data in history\n",
    "print(history.history.keys())\n",
    "# summarize history for accuracy\n",
    "plt.plot(history.history['loss'])\n",
    "plt.plot(history.history['val_loss'])\n",
    "plt.title('model loss')\n",
    "plt.ylabel('loss')\n",
    "plt.xlabel('epoch')\n",
    "plt.legend(['train', 'val'], loc='upper left')\n",
    "plt.show()"
   ]
  },
  {
   "cell_type": "code",
   "execution_count": 32,
   "metadata": {},
   "outputs": [],
   "source": [
    "# Generate predictions\n",
    "trainpred = model.predict(X_train)\n",
    "valpred = model.predict(X_val)"
   ]
  },
  {
   "cell_type": "code",
   "execution_count": 33,
   "metadata": {},
   "outputs": [
    {
     "data": {
      "text/plain": [
       "array([[0.12416821],\n",
       "       [0.12380154],\n",
       "       [0.2820892 ],\n",
       "       [0.2830265 ],\n",
       "       [0.20114733],\n",
       "       [0.3281207 ],\n",
       "       [0.33519536],\n",
       "       [0.41052502],\n",
       "       [0.74590355],\n",
       "       [0.53113246],\n",
       "       [0.50470996],\n",
       "       [0.45211887],\n",
       "       [0.49490392],\n",
       "       [0.36867377],\n",
       "       [0.32106915],\n",
       "       [0.22878836],\n",
       "       [0.19413573],\n",
       "       [0.18186717],\n",
       "       [0.219803  ],\n",
       "       [0.23393449],\n",
       "       [0.17023587],\n",
       "       [0.24432707],\n",
       "       [0.40227905],\n",
       "       [0.418746  ],\n",
       "       [0.21418676],\n",
       "       [0.23356068],\n",
       "       [0.23484588],\n",
       "       [0.20544691],\n",
       "       [0.25573206],\n",
       "       [0.298846  ],\n",
       "       [0.27138767],\n",
       "       [0.3025111 ],\n",
       "       [0.2784343 ],\n",
       "       [0.30651963],\n",
       "       [0.34139407],\n",
       "       [0.57117516],\n",
       "       [0.4256855 ],\n",
       "       [0.4834423 ],\n",
       "       [0.57694244],\n",
       "       [0.54786277],\n",
       "       [0.6367354 ],\n",
       "       [0.628424  ],\n",
       "       [0.6992733 ],\n",
       "       [0.656017  ],\n",
       "       [0.80865175],\n",
       "       [0.68737286],\n",
       "       [0.77432364],\n",
       "       [0.7556183 ],\n",
       "       [0.64966375],\n",
       "       [0.7451531 ],\n",
       "       [0.7576468 ],\n",
       "       [0.7738429 ],\n",
       "       [0.7311477 ],\n",
       "       [0.7632012 ],\n",
       "       [0.81619024],\n",
       "       [0.830362  ],\n",
       "       [0.91897255],\n",
       "       [0.8537213 ],\n",
       "       [0.83221716],\n",
       "       [0.84776783],\n",
       "       [0.88484114],\n",
       "       [0.89703995],\n",
       "       [0.8376181 ],\n",
       "       [0.834962  ],\n",
       "       [0.77704483],\n",
       "       [0.7473478 ],\n",
       "       [0.66630846],\n",
       "       [0.60281074],\n",
       "       [0.7040015 ],\n",
       "       [0.40991664],\n",
       "       [0.3969756 ],\n",
       "       [0.36462396],\n",
       "       [0.39741105],\n",
       "       [0.33670157]], dtype=float32)"
      ]
     },
     "execution_count": 33,
     "metadata": {},
     "output_type": "execute_result"
    }
   ],
   "source": [
    "trainpred"
   ]
  },
  {
   "cell_type": "code",
   "execution_count": 34,
   "metadata": {},
   "outputs": [
    {
     "data": {
      "text/plain": [
       "array([[0.12007082],\n",
       "       [0.17587258],\n",
       "       [0.20975536],\n",
       "       [0.19162363],\n",
       "       [0.22184932],\n",
       "       [0.19630967],\n",
       "       [0.22194058],\n",
       "       [0.25662714],\n",
       "       [0.3031967 ],\n",
       "       [0.5003112 ],\n",
       "       [0.62610483],\n",
       "       [0.6292268 ],\n",
       "       [0.6896128 ],\n",
       "       [0.73959464]], dtype=float32)"
      ]
     },
     "execution_count": 34,
     "metadata": {},
     "output_type": "execute_result"
    }
   ],
   "source": [
    "valpred"
   ]
  },
  {
   "cell_type": "code",
   "execution_count": 35,
   "metadata": {},
   "outputs": [],
   "source": [
    "# Convert predictions back to normal values\n",
    "trainpred = scaler.inverse_transform(trainpred)\n",
    "Y_train = scaler.inverse_transform([Y_train])\n",
    "valpred = scaler.inverse_transform(valpred)\n",
    "Y_val = scaler.inverse_transform([Y_val])\n",
    "predictions = valpred"
   ]
  },
  {
   "cell_type": "code",
   "execution_count": 36,
   "metadata": {},
   "outputs": [
    {
     "data": {
      "text/plain": [
       "(1, 74)"
      ]
     },
     "execution_count": 36,
     "metadata": {},
     "output_type": "execute_result"
    }
   ],
   "source": [
    "Y_train.shape"
   ]
  },
  {
   "cell_type": "code",
   "execution_count": 37,
   "metadata": {},
   "outputs": [
    {
     "data": {
      "text/plain": [
       "(1, 14)"
      ]
     },
     "execution_count": 37,
     "metadata": {},
     "output_type": "execute_result"
    }
   ],
   "source": [
    "Y_val.shape"
   ]
  },
  {
   "cell_type": "code",
   "execution_count": 38,
   "metadata": {},
   "outputs": [
    {
     "data": {
      "text/plain": [
       "(74, 1, 5)"
      ]
     },
     "execution_count": 38,
     "metadata": {},
     "output_type": "execute_result"
    }
   ],
   "source": [
    "X_train.shape"
   ]
  },
  {
   "cell_type": "code",
   "execution_count": 39,
   "metadata": {},
   "outputs": [
    {
     "data": {
      "text/plain": [
       "(14, 1, 5)"
      ]
     },
     "execution_count": 39,
     "metadata": {},
     "output_type": "execute_result"
    }
   ],
   "source": [
    "X_val.shape"
   ]
  },
  {
   "cell_type": "code",
   "execution_count": 40,
   "metadata": {},
   "outputs": [
    {
     "data": {
      "text/plain": [
       "array([[ 83.92909653,  99.60980256, 100.49324761,  89.81171564,\n",
       "         99.56762206, 102.06173543, 106.81824207, 138.96124481,\n",
       "        115.84158413, 105.41986776, 104.83636712, 109.34951637,\n",
       "        100.6473619 ,  96.53764872,  90.69670601,  88.54896583,\n",
       "         88.46934871,  92.38095893,  93.94670002,  87.53966364,\n",
       "         93.55330342, 109.40232939, 110.22491613,  89.67061265,\n",
       "         89.86090551,  93.0230658 ,  90.91263347,  94.90912343,\n",
       "         99.2067815 ,  96.0689655 ,  97.67870079,  96.00105272,\n",
       "         97.97982065, 101.38111292, 121.5487101 , 108.09842297,\n",
       "        107.23862423, 116.78405319, 113.7998699 , 119.43618489,\n",
       "        119.05758489, 122.64377569, 119.03862377, 130.70973937,\n",
       "        120.83974653, 124.69955307, 125.72243165, 115.60970908,\n",
       "        123.82854048, 127.41414606, 126.60617371, 122.40682163,\n",
       "        124.4193043 , 130.02527537, 130.78544243, 137.52194714,\n",
       "        130.24530337, 126.06833859, 129.44424318, 133.75110723,\n",
       "        134.43061673, 127.86889807, 127.22054113, 123.90528091,\n",
       "        122.0275533 , 117.10229279, 113.08346818, 122.88479763,\n",
       "        101.31731109,  99.25085769, 100.82412531, 104.25344214,\n",
       "         99.77268481, 108.02034437]])"
      ]
     },
     "execution_count": 40,
     "metadata": {},
     "output_type": "execute_result"
    }
   ],
   "source": [
    "Y_train"
   ]
  },
  {
   "cell_type": "code",
   "execution_count": 41,
   "metadata": {},
   "outputs": [
    {
     "data": {
      "text/plain": [
       "array([[ 89.19876623,  92.82290682,  90.20431193,  92.04525896,\n",
       "         90.06917483,  91.99566508,  95.53501946,  99.44500705,\n",
       "        116.58657688, 127.64236479, 121.46174792, 121.31692451,\n",
       "        124.66143536, 132.63951467]])"
      ]
     },
     "execution_count": 41,
     "metadata": {},
     "output_type": "execute_result"
    }
   ],
   "source": [
    "Y_val"
   ]
  },
  {
   "cell_type": "code",
   "execution_count": 42,
   "metadata": {},
   "outputs": [
    {
     "data": {
      "text/plain": [
       "array([[[0.20795679, 0.07933033, 0.14023118, 0.02278778, 0.        ]],\n",
       "\n",
       "       [[0.07933033, 0.14023118, 0.02278778, 0.        , 0.01346506]],\n",
       "\n",
       "       [[0.14023118, 0.02278778, 0.        , 0.01346506, 0.29456556]],\n",
       "\n",
       "       [[0.02278778, 0.        , 0.01346506, 0.29456556, 0.31040265]],\n",
       "\n",
       "       [[0.        , 0.01346506, 0.29456556, 0.31040265, 0.11891995]],\n",
       "\n",
       "       [[0.01346506, 0.29456556, 0.31040265, 0.11891995, 0.29380941]],\n",
       "\n",
       "       [[0.29456556, 0.31040265, 0.11891995, 0.29380941, 0.33852018]],\n",
       "\n",
       "       [[0.31040265, 0.11891995, 0.29380941, 0.33852018, 0.4237878 ]],\n",
       "\n",
       "       [[0.11891995, 0.29380941, 0.33852018, 0.4237878 , 1.        ]],\n",
       "\n",
       "       [[0.29380941, 0.33852018, 0.4237878 , 1.        , 0.58554493]],\n",
       "\n",
       "       [[0.33852018, 0.4237878 , 1.        , 0.58554493, 0.39871981]],\n",
       "\n",
       "       [[0.4237878 , 1.        , 0.58554493, 0.39871981, 0.38825968]],\n",
       "\n",
       "       [[1.        , 0.58554493, 0.39871981, 0.38825968, 0.46916474]],\n",
       "\n",
       "       [[0.58554493, 0.39871981, 0.38825968, 0.46916474, 0.31316539]],\n",
       "\n",
       "       [[0.39871981, 0.38825968, 0.46916474, 0.31316539, 0.23949253]],\n",
       "\n",
       "       [[0.38825968, 0.46916474, 0.31316539, 0.23949253, 0.13478475]],\n",
       "\n",
       "       [[0.46916474, 0.31316539, 0.23949253, 0.13478475, 0.09628324]],\n",
       "\n",
       "       [[0.31316539, 0.23949253, 0.13478475, 0.09628324, 0.09485598]],\n",
       "\n",
       "       [[0.23949253, 0.13478475, 0.09628324, 0.09485598, 0.16497754]],\n",
       "\n",
       "       [[0.13478475, 0.09628324, 0.09485598, 0.16497754, 0.19304583]],\n",
       "\n",
       "       [[0.09628324, 0.09485598, 0.16497754, 0.19304583, 0.07818996]],\n",
       "\n",
       "       [[0.09485598, 0.16497754, 0.19304583, 0.07818996, 0.1859936 ]],\n",
       "\n",
       "       [[0.16497754, 0.19304583, 0.07818996, 0.1859936 , 0.47011149]],\n",
       "\n",
       "       [[0.19304583, 0.07818996, 0.1859936 , 0.47011149, 0.48485761]],\n",
       "\n",
       "       [[0.07818996, 0.1859936 , 0.47011149, 0.48485761, 0.11639047]],\n",
       "\n",
       "       [[0.1859936 , 0.47011149, 0.48485761, 0.11639047, 0.11980175]],\n",
       "\n",
       "       [[0.47011149, 0.48485761, 0.11639047, 0.11980175, 0.17648829]],\n",
       "\n",
       "       [[0.48485761, 0.11639047, 0.11980175, 0.17648829, 0.13865558]],\n",
       "\n",
       "       [[0.11639047, 0.11980175, 0.17648829, 0.13865558, 0.21029874]],\n",
       "\n",
       "       [[0.11980175, 0.17648829, 0.13865558, 0.21029874, 0.28734079]],\n",
       "\n",
       "       [[0.17648829, 0.13865558, 0.21029874, 0.28734079, 0.23109067]],\n",
       "\n",
       "       [[0.13865558, 0.21029874, 0.28734079, 0.23109067, 0.25994762]],\n",
       "\n",
       "       [[0.21029874, 0.28734079, 0.23109067, 0.25994762, 0.22987323]],\n",
       "\n",
       "       [[0.28734079, 0.23109067, 0.25994762, 0.22987323, 0.26534565]],\n",
       "\n",
       "       [[0.23109067, 0.25994762, 0.22987323, 0.26534565, 0.32631899]],\n",
       "\n",
       "       [[0.25994762, 0.22987323, 0.26534565, 0.32631899, 0.68785384]],\n",
       "\n",
       "       [[0.22987323, 0.26534565, 0.32631899, 0.68785384, 0.44673699]],\n",
       "\n",
       "       [[0.26534565, 0.32631899, 0.68785384, 0.44673699, 0.43132379]],\n",
       "\n",
       "       [[0.32631899, 0.68785384, 0.44673699, 0.43132379, 0.60244012]],\n",
       "\n",
       "       [[0.68785384, 0.44673699, 0.43132379, 0.60244012, 0.54894409]],\n",
       "\n",
       "       [[0.44673699, 0.43132379, 0.60244012, 0.54894409, 0.64998361]],\n",
       "\n",
       "       [[0.43132379, 0.60244012, 0.54894409, 0.64998361, 0.64319663]],\n",
       "\n",
       "       [[0.60244012, 0.54894409, 0.64998361, 0.64319663, 0.70748455]],\n",
       "\n",
       "       [[0.54894409, 0.64998361, 0.64319663, 0.70748455, 0.64285672]],\n",
       "\n",
       "       [[0.64998361, 0.64319663, 0.70748455, 0.64285672, 0.85207922]],\n",
       "\n",
       "       [[0.64319663, 0.70748455, 0.64285672, 0.85207922, 0.67514459]],\n",
       "\n",
       "       [[0.70748455, 0.64285672, 0.85207922, 0.67514459, 0.74433749]],\n",
       "\n",
       "       [[0.64285672, 0.85207922, 0.67514459, 0.74433749, 0.76267414]],\n",
       "\n",
       "       [[0.85207922, 0.67514459, 0.74433749, 0.76267414, 0.58138821]],\n",
       "\n",
       "       [[0.67514459, 0.74433749, 0.76267414, 0.58138821, 0.72872326]],\n",
       "\n",
       "       [[0.74433749, 0.76267414, 0.58138821, 0.72872326, 0.7930007 ]],\n",
       "\n",
       "       [[0.76267414, 0.58138821, 0.72872326, 0.7930007 , 0.77851656]],\n",
       "\n",
       "       [[0.58138821, 0.72872326, 0.7930007 , 0.77851656, 0.70323679]],\n",
       "\n",
       "       [[0.72872326, 0.7930007 , 0.77851656, 0.70323679, 0.7393136 ]],\n",
       "\n",
       "       [[0.7930007 , 0.77851656, 0.70323679, 0.7393136 , 0.83980916]],\n",
       "\n",
       "       [[0.77851656, 0.70323679, 0.7393136 , 0.83980916, 0.85343631]],\n",
       "\n",
       "       [[0.70323679, 0.7393136 , 0.83980916, 0.85343631, 0.9741984 ]],\n",
       "\n",
       "       [[0.7393136 , 0.83980916, 0.85343631, 0.9741984 , 0.8437535 ]],\n",
       "\n",
       "       [[0.83980916, 0.85343631, 0.9741984 , 0.8437535 , 0.76887505]],\n",
       "\n",
       "       [[0.85343631, 0.9741984 , 0.8437535 , 0.76887505, 0.82939327]],\n",
       "\n",
       "       [[0.9741984 , 0.8437535 , 0.76887505, 0.82939327, 0.90660036]],\n",
       "\n",
       "       [[0.8437535 , 0.76887505, 0.82939327, 0.90660036, 0.9187816 ]],\n",
       "\n",
       "       [[0.76887505, 0.82939327, 0.90660036, 0.9187816 , 0.80115282]],\n",
       "\n",
       "       [[0.82939327, 0.90660036, 0.9187816 , 0.80115282, 0.78953003]],\n",
       "\n",
       "       [[0.90660036, 0.9187816 , 0.80115282, 0.78953003, 0.73009895]],\n",
       "\n",
       "       [[0.9187816 , 0.80115282, 0.78953003, 0.73009895, 0.69643783]],\n",
       "\n",
       "       [[0.80115282, 0.78953003, 0.73009895, 0.69643783, 0.60814505]],\n",
       "\n",
       "       [[0.78953003, 0.73009895, 0.69643783, 0.60814505, 0.5361015 ]],\n",
       "\n",
       "       [[0.73009895, 0.69643783, 0.60814505, 0.5361015 , 0.71180524]],\n",
       "\n",
       "       [[0.69643783, 0.60814505, 0.5361015 , 0.71180524, 0.32517525]],\n",
       "\n",
       "       [[0.60814505, 0.5361015 , 0.71180524, 0.32517525, 0.28813093]],\n",
       "\n",
       "       [[0.5361015 , 0.71180524, 0.32517525, 0.28813093, 0.31633414]],\n",
       "\n",
       "       [[0.71180524, 0.32517525, 0.28813093, 0.31633414, 0.37780986]],\n",
       "\n",
       "       [[0.32517525, 0.28813093, 0.31633414, 0.37780986, 0.29748547]]])"
      ]
     },
     "execution_count": 42,
     "metadata": {},
     "output_type": "execute_result"
    }
   ],
   "source": [
    "X_train"
   ]
  },
  {
   "cell_type": "code",
   "execution_count": 43,
   "metadata": {},
   "outputs": [
    {
     "data": {
      "text/plain": [
       "array([[[0.17175584, 0.        , 0.03578306, 0.01032308, 0.00809862]],\n",
       "\n",
       "       [[0.        , 0.03578306, 0.01032308, 0.00809862, 0.1079319 ]],\n",
       "\n",
       "       [[0.03578306, 0.01032308, 0.00809862, 0.1079319 , 0.17290013]],\n",
       "\n",
       "       [[0.01032308, 0.00809862, 0.1079319 , 0.17290013, 0.12595784]],\n",
       "\n",
       "       [[0.00809862, 0.1079319 , 0.17290013, 0.12595784, 0.15895961]],\n",
       "\n",
       "       [[0.1079319 , 0.17290013, 0.12595784, 0.15895961, 0.1235353 ]],\n",
       "\n",
       "       [[0.17290013, 0.12595784, 0.15895961, 0.1235353 , 0.15807057]],\n",
       "\n",
       "       [[0.12595784, 0.15895961, 0.1235353 , 0.15807057, 0.22151887]],\n",
       "\n",
       "       [[0.15895961, 0.1235353 , 0.15807057, 0.22151887, 0.29161135]],\n",
       "\n",
       "       [[0.1235353 , 0.15807057, 0.22151887, 0.29161135, 0.59890005]],\n",
       "\n",
       "       [[0.15807057, 0.22151887, 0.29161135, 0.59890005, 0.79709186]],\n",
       "\n",
       "       [[0.22151887, 0.29161135, 0.59890005, 0.79709186, 0.68629491]],\n",
       "\n",
       "       [[0.29161135, 0.59890005, 0.79709186, 0.68629491, 0.68369873]],\n",
       "\n",
       "       [[0.59890005, 0.79709186, 0.68629491, 0.68369873, 0.74365417]]])"
      ]
     },
     "execution_count": 43,
     "metadata": {},
     "output_type": "execute_result"
    }
   ],
   "source": [
    "X_val"
   ]
  },
  {
   "cell_type": "code",
   "execution_count": 44,
   "metadata": {},
   "outputs": [
    {
     "name": "stdout",
     "output_type": "stream",
     "text": [
      "Train Score: 7.66 RMSE\n",
      "Validation Score: 7.11 RMSE\n"
     ]
    }
   ],
   "source": [
    "# calculate RMSE\n",
    "trainScore = math.sqrt(mean_squared_error(Y_train[0], trainpred[:,0]))\n",
    "print('Train Score: %.2f RMSE' % (trainScore))\n",
    "valScore = math.sqrt(mean_squared_error(Y_val[0], valpred[:,0]))\n",
    "print('Validation Score: %.2f RMSE' % (valScore))"
   ]
  },
  {
   "cell_type": "code",
   "execution_count": 45,
   "metadata": {},
   "outputs": [],
   "source": [
    "# Train predictions\n",
    "trainpredPlot = np.empty_like(df)\n",
    "trainpredPlot[:, :] = np.nan\n",
    "trainpredPlot[lookback:len(trainpred)+lookback, :] = trainpred"
   ]
  },
  {
   "cell_type": "code",
   "execution_count": 46,
   "metadata": {},
   "outputs": [],
   "source": [
    "# Validation predictions\n",
    "valpredPlot = np.empty_like(df)\n",
    "valpredPlot[:, :] = np.nan\n",
    "valpredPlot[len(trainpred)+(lookback*2)+1:len(df)-1, :] = valpred"
   ]
  },
  {
   "cell_type": "code",
   "execution_count": 47,
   "metadata": {},
   "outputs": [
    {
     "data": {
      "image/png": "[encoded data removed]",
      "text/plain": [
       "<Figure size 432x288 with 1 Axes>"
      ]
     },
     "metadata": {
      "needs_background": "light"
     },
     "output_type": "display_data"
    }
   ],
   "source": [
    "# Plot all predictions\n",
    "inversetransform, =plt.plot(scaler.inverse_transform(df))\n",
    "trainpred, =plt.plot(scaler.inverse_transform(trainpredPlot))\n",
    "valpred, =plt.plot(scaler.inverse_transform(valpredPlot))\n",
    "plt.xlabel('Number of weeks')\n",
    "plt.ylabel('Cancellations')\n",
    "plt.title(\"Predicted vs. Actual Weekly ADR\")\n",
    "plt.show()"
   ]
  },
  {
   "cell_type": "code",
   "execution_count": 48,
   "metadata": {},
   "outputs": [],
   "source": [
    "Y_val=Y_val.reshape(-1)\n",
    "Y_val.shape\n",
    "Y_val=pd.Series(Y_val)"
   ]
  },
  {
   "cell_type": "code",
   "execution_count": 49,
   "metadata": {},
   "outputs": [
    {
     "data": {
      "text/plain": [
       "0      89.198766\n",
       "1      92.822907\n",
       "2      90.204312\n",
       "3      92.045259\n",
       "4      90.069175\n",
       "5      91.995665\n",
       "6      95.535019\n",
       "7      99.445007\n",
       "8     116.586577\n",
       "9     127.642365\n",
       "10    121.461748\n",
       "11    121.316925\n",
       "12    124.661435\n",
       "13    132.639515\n",
       "dtype: float64"
      ]
     },
     "execution_count": 49,
     "metadata": {},
     "output_type": "execute_result"
    }
   ],
   "source": [
    "Y_val"
   ]
  },
  {
   "cell_type": "code",
   "execution_count": 50,
   "metadata": {},
   "outputs": [
    {
     "data": {
      "text/plain": [
       "106.11604817801246"
      ]
     },
     "execution_count": 50,
     "metadata": {},
     "output_type": "execute_result"
    }
   ],
   "source": [
    "np.mean(Y_val)"
   ]
  },
  {
   "cell_type": "code",
   "execution_count": 51,
   "metadata": {},
   "outputs": [],
   "source": [
    "predictions=predictions.reshape(-1)\n",
    "predictions.shape\n",
    "predictions=pd.Series(predictions)"
   ]
  },
  {
   "cell_type": "code",
   "execution_count": 52,
   "metadata": {},
   "outputs": [
    {
     "data": {
      "text/plain": [
       "0      89.875916\n",
       "1      92.988716\n",
       "2      94.878815\n",
       "3      93.867371\n",
       "4      95.553452\n",
       "5      94.128769\n",
       "6      95.558548\n",
       "7      97.493477\n",
       "8     100.091270\n",
       "9     111.086967\n",
       "10    118.104156\n",
       "11    118.278305\n",
       "12    121.646828\n",
       "13    124.434975\n",
       "dtype: float32"
      ]
     },
     "execution_count": 52,
     "metadata": {},
     "output_type": "execute_result"
    }
   ],
   "source": [
    "predictions"
   ]
  },
  {
   "cell_type": "code",
   "execution_count": 53,
   "metadata": {},
   "outputs": [],
   "source": [
    "import numpy as np\n",
    "\n",
    "def mda(actual: np.ndarray, predicted: np.ndarray):\n",
    "    \"\"\" Mean Directional Accuracy \"\"\"\n",
    "    return np.mean((np.sign(actual[1:] - actual[:-1]) == np.sign(predicted[1:] - predicted[:-1])).astype(int))"
   ]
  },
  {
   "cell_type": "code",
   "execution_count": 54,
   "metadata": {},
   "outputs": [
    {
     "data": {
      "text/plain": [
       "0.8571428571428571"
      ]
     },
     "execution_count": 54,
     "metadata": {},
     "output_type": "execute_result"
    }
   ],
   "source": [
    "mda(Y_val, predictions)"
   ]
  },
  {
   "cell_type": "code",
   "execution_count": 55,
   "metadata": {},
   "outputs": [
    {
     "name": "stdout",
     "output_type": "stream",
     "text": [
      "RMSE: 7.107234\n"
     ]
    }
   ],
   "source": [
    "# https://machinelearningmastery.com/time-series-forecasting-performance-measures-with-python/\n",
    "\n",
    "mse = mean_squared_error(Y_val, predictions)\n",
    "rmse = sqrt(mse)\n",
    "print('RMSE: %f' % rmse)"
   ]
  },
  {
   "cell_type": "code",
   "execution_count": 56,
   "metadata": {},
   "outputs": [
    {
     "data": {
      "text/plain": [
       "0      0.677149\n",
       "1      0.165809\n",
       "2      4.674503\n",
       "3      1.822112\n",
       "4      5.484277\n",
       "5      2.133104\n",
       "6      0.023529\n",
       "7     -1.951530\n",
       "8    -16.495306\n",
       "9    -16.555397\n",
       "10    -3.357591\n",
       "11    -3.038619\n",
       "12    -3.014608\n",
       "13    -8.204540\n",
       "dtype: float64"
      ]
     },
     "execution_count": 56,
     "metadata": {},
     "output_type": "execute_result"
    }
   ],
   "source": [
    "forecast_error = (predictions-Y_val)\n",
    "forecast_error"
   ]
  },
  {
   "cell_type": "code",
   "execution_count": 57,
   "metadata": {},
   "outputs": [
    {
     "data": {
      "text/plain": [
       "-2.6883650289471723"
      ]
     },
     "execution_count": 57,
     "metadata": {},
     "output_type": "execute_result"
    }
   ],
   "source": [
    "mean_forecast_error = np.mean(forecast_error)\n",
    "mean_forecast_error"
   ]
  },
  {
   "cell_type": "code",
   "execution_count": 58,
   "metadata": {},
   "outputs": [
    {
     "data": {
      "text/plain": [
       "array([[[0.20795679, 0.07933033, 0.14023118, 0.02278778, 0.        ]],\n",
       "\n",
       "       [[0.07933033, 0.14023118, 0.02278778, 0.        , 0.01346506]],\n",
       "\n",
       "       [[0.14023118, 0.02278778, 0.        , 0.01346506, 0.29456556]],\n",
       "\n",
       "       [[0.02278778, 0.        , 0.01346506, 0.29456556, 0.31040265]],\n",
       "\n",
       "       [[0.        , 0.01346506, 0.29456556, 0.31040265, 0.11891995]],\n",
       "\n",
       "       [[0.01346506, 0.29456556, 0.31040265, 0.11891995, 0.29380941]],\n",
       "\n",
       "       [[0.29456556, 0.31040265, 0.11891995, 0.29380941, 0.33852018]],\n",
       "\n",
       "       [[0.31040265, 0.11891995, 0.29380941, 0.33852018, 0.4237878 ]],\n",
       "\n",
       "       [[0.11891995, 0.29380941, 0.33852018, 0.4237878 , 1.        ]],\n",
       "\n",
       "       [[0.29380941, 0.33852018, 0.4237878 , 1.        , 0.58554493]],\n",
       "\n",
       "       [[0.33852018, 0.4237878 , 1.        , 0.58554493, 0.39871981]],\n",
       "\n",
       "       [[0.4237878 , 1.        , 0.58554493, 0.39871981, 0.38825968]],\n",
       "\n",
       "       [[1.        , 0.58554493, 0.39871981, 0.38825968, 0.46916474]],\n",
       "\n",
       "       [[0.58554493, 0.39871981, 0.38825968, 0.46916474, 0.31316539]],\n",
       "\n",
       "       [[0.39871981, 0.38825968, 0.46916474, 0.31316539, 0.23949253]],\n",
       "\n",
       "       [[0.38825968, 0.46916474, 0.31316539, 0.23949253, 0.13478475]],\n",
       "\n",
       "       [[0.46916474, 0.31316539, 0.23949253, 0.13478475, 0.09628324]],\n",
       "\n",
       "       [[0.31316539, 0.23949253, 0.13478475, 0.09628324, 0.09485598]],\n",
       "\n",
       "       [[0.23949253, 0.13478475, 0.09628324, 0.09485598, 0.16497754]],\n",
       "\n",
       "       [[0.13478475, 0.09628324, 0.09485598, 0.16497754, 0.19304583]],\n",
       "\n",
       "       [[0.09628324, 0.09485598, 0.16497754, 0.19304583, 0.07818996]],\n",
       "\n",
       "       [[0.09485598, 0.16497754, 0.19304583, 0.07818996, 0.1859936 ]],\n",
       "\n",
       "       [[0.16497754, 0.19304583, 0.07818996, 0.1859936 , 0.47011149]],\n",
       "\n",
       "       [[0.19304583, 0.07818996, 0.1859936 , 0.47011149, 0.48485761]],\n",
       "\n",
       "       [[0.07818996, 0.1859936 , 0.47011149, 0.48485761, 0.11639047]],\n",
       "\n",
       "       [[0.1859936 , 0.47011149, 0.48485761, 0.11639047, 0.11980175]],\n",
       "\n",
       "       [[0.47011149, 0.48485761, 0.11639047, 0.11980175, 0.17648829]],\n",
       "\n",
       "       [[0.48485761, 0.11639047, 0.11980175, 0.17648829, 0.13865558]],\n",
       "\n",
       "       [[0.11639047, 0.11980175, 0.17648829, 0.13865558, 0.21029874]],\n",
       "\n",
       "       [[0.11980175, 0.17648829, 0.13865558, 0.21029874, 0.28734079]],\n",
       "\n",
       "       [[0.17648829, 0.13865558, 0.21029874, 0.28734079, 0.23109067]],\n",
       "\n",
       "       [[0.13865558, 0.21029874, 0.28734079, 0.23109067, 0.25994762]],\n",
       "\n",
       "       [[0.21029874, 0.28734079, 0.23109067, 0.25994762, 0.22987323]],\n",
       "\n",
       "       [[0.28734079, 0.23109067, 0.25994762, 0.22987323, 0.26534565]],\n",
       "\n",
       "       [[0.23109067, 0.25994762, 0.22987323, 0.26534565, 0.32631899]],\n",
       "\n",
       "       [[0.25994762, 0.22987323, 0.26534565, 0.32631899, 0.68785384]],\n",
       "\n",
       "       [[0.22987323, 0.26534565, 0.32631899, 0.68785384, 0.44673699]],\n",
       "\n",
       "       [[0.26534565, 0.32631899, 0.68785384, 0.44673699, 0.43132379]],\n",
       "\n",
       "       [[0.32631899, 0.68785384, 0.44673699, 0.43132379, 0.60244012]],\n",
       "\n",
       "       [[0.68785384, 0.44673699, 0.43132379, 0.60244012, 0.54894409]],\n",
       "\n",
       "       [[0.44673699, 0.43132379, 0.60244012, 0.54894409, 0.64998361]],\n",
       "\n",
       "       [[0.43132379, 0.60244012, 0.54894409, 0.64998361, 0.64319663]],\n",
       "\n",
       "       [[0.60244012, 0.54894409, 0.64998361, 0.64319663, 0.70748455]],\n",
       "\n",
       "       [[0.54894409, 0.64998361, 0.64319663, 0.70748455, 0.64285672]],\n",
       "\n",
       "       [[0.64998361, 0.64319663, 0.70748455, 0.64285672, 0.85207922]],\n",
       "\n",
       "       [[0.64319663, 0.70748455, 0.64285672, 0.85207922, 0.67514459]],\n",
       "\n",
       "       [[0.70748455, 0.64285672, 0.85207922, 0.67514459, 0.74433749]],\n",
       "\n",
       "       [[0.64285672, 0.85207922, 0.67514459, 0.74433749, 0.76267414]],\n",
       "\n",
       "       [[0.85207922, 0.67514459, 0.74433749, 0.76267414, 0.58138821]],\n",
       "\n",
       "       [[0.67514459, 0.74433749, 0.76267414, 0.58138821, 0.72872326]],\n",
       "\n",
       "       [[0.74433749, 0.76267414, 0.58138821, 0.72872326, 0.7930007 ]],\n",
       "\n",
       "       [[0.76267414, 0.58138821, 0.72872326, 0.7930007 , 0.77851656]],\n",
       "\n",
       "       [[0.58138821, 0.72872326, 0.7930007 , 0.77851656, 0.70323679]],\n",
       "\n",
       "       [[0.72872326, 0.7930007 , 0.77851656, 0.70323679, 0.7393136 ]],\n",
       "\n",
       "       [[0.7930007 , 0.77851656, 0.70323679, 0.7393136 , 0.83980916]],\n",
       "\n",
       "       [[0.77851656, 0.70323679, 0.7393136 , 0.83980916, 0.85343631]],\n",
       "\n",
       "       [[0.70323679, 0.7393136 , 0.83980916, 0.85343631, 0.9741984 ]],\n",
       "\n",
       "       [[0.7393136 , 0.83980916, 0.85343631, 0.9741984 , 0.8437535 ]],\n",
       "\n",
       "       [[0.83980916, 0.85343631, 0.9741984 , 0.8437535 , 0.76887505]],\n",
       "\n",
       "       [[0.85343631, 0.9741984 , 0.8437535 , 0.76887505, 0.82939327]],\n",
       "\n",
       "       [[0.9741984 , 0.8437535 , 0.76887505, 0.82939327, 0.90660036]],\n",
       "\n",
       "       [[0.8437535 , 0.76887505, 0.82939327, 0.90660036, 0.9187816 ]],\n",
       "\n",
       "       [[0.76887505, 0.82939327, 0.90660036, 0.9187816 , 0.80115282]],\n",
       "\n",
       "       [[0.82939327, 0.90660036, 0.9187816 , 0.80115282, 0.78953003]],\n",
       "\n",
       "       [[0.90660036, 0.9187816 , 0.80115282, 0.78953003, 0.73009895]],\n",
       "\n",
       "       [[0.9187816 , 0.80115282, 0.78953003, 0.73009895, 0.69643783]],\n",
       "\n",
       "       [[0.80115282, 0.78953003, 0.73009895, 0.69643783, 0.60814505]],\n",
       "\n",
       "       [[0.78953003, 0.73009895, 0.69643783, 0.60814505, 0.5361015 ]],\n",
       "\n",
       "       [[0.73009895, 0.69643783, 0.60814505, 0.5361015 , 0.71180524]],\n",
       "\n",
       "       [[0.69643783, 0.60814505, 0.5361015 , 0.71180524, 0.32517525]],\n",
       "\n",
       "       [[0.60814505, 0.5361015 , 0.71180524, 0.32517525, 0.28813093]],\n",
       "\n",
       "       [[0.5361015 , 0.71180524, 0.32517525, 0.28813093, 0.31633414]],\n",
       "\n",
       "       [[0.71180524, 0.32517525, 0.28813093, 0.31633414, 0.37780986]],\n",
       "\n",
       "       [[0.32517525, 0.28813093, 0.31633414, 0.37780986, 0.29748547]]])"
      ]
     },
     "execution_count": 58,
     "metadata": {},
     "output_type": "execute_result"
    }
   ],
   "source": [
    "X_train"
   ]
  },
  {
   "cell_type": "code",
   "execution_count": 59,
   "metadata": {},
   "outputs": [
    {
     "data": {
      "text/plain": [
       "(74, 1, 5)"
      ]
     },
     "execution_count": 59,
     "metadata": {},
     "output_type": "execute_result"
    }
   ],
   "source": [
    "X_train.shape"
   ]
  },
  {
   "cell_type": "markdown",
   "metadata": {},
   "source": [
    "## Validate Predictions on Test Data"
   ]
  },
  {
   "cell_type": "code",
   "execution_count": 60,
   "metadata": {},
   "outputs": [],
   "source": [
    "Xnew = np.array([tseries.iloc[95:100],tseries.iloc[96:101],tseries.iloc[97:102],tseries.iloc[98:103],tseries.iloc[99:104],tseries.iloc[100:105],tseries.iloc[101:106],tseries.iloc[102:107],tseries.iloc[103:108],tseries.iloc[104:109],tseries.iloc[105:110],tseries.iloc[106:111],tseries.iloc[107:112],tseries.iloc[108:113],tseries.iloc[109:114]])"
   ]
  },
  {
   "cell_type": "code",
   "execution_count": 61,
   "metadata": {},
   "outputs": [
    {
     "data": {
      "text/plain": [
       "array([[121.46174792, 121.31692451, 124.66143536, 132.63951467,\n",
       "        138.96124481],\n",
       "       [121.31692451, 124.66143536, 132.63951467, 138.96124481,\n",
       "        135.29018595],\n",
       "       [124.66143536, 132.63951467, 138.96124481, 135.29018595,\n",
       "        126.70549121],\n",
       "       [132.63951467, 138.96124481, 135.29018595, 126.70549121,\n",
       "        136.96731501],\n",
       "       [138.96124481, 135.29018595, 126.70549121, 136.96731501,\n",
       "        125.04368653],\n",
       "       [135.29018595, 126.70549121, 136.96731501, 125.04368653,\n",
       "        129.75435252],\n",
       "       [126.70549121, 136.96731501, 125.04368653, 129.75435252,\n",
       "        123.69777658],\n",
       "       [136.96731501, 125.04368653, 129.75435252, 123.69777658,\n",
       "        122.84483755],\n",
       "       [125.04368653, 129.75435252, 123.69777658, 122.84483755,\n",
       "        123.08675055],\n",
       "       [129.75435252, 123.69777658, 122.84483755, 123.08675055,\n",
       "        124.98114286],\n",
       "       [123.69777658, 122.84483755, 123.08675055, 124.98114286,\n",
       "        131.79458537],\n",
       "       [122.84483755, 123.08675055, 124.98114286, 131.79458537,\n",
       "        138.89840845],\n",
       "       [123.08675055, 124.98114286, 131.79458537, 138.89840845,\n",
       "        142.90922096],\n",
       "       [124.98114286, 131.79458537, 138.89840845, 142.90922096,\n",
       "        144.83992318],\n",
       "       [131.79458537, 138.89840845, 142.90922096, 144.83992318,\n",
       "        135.89270833]])"
      ]
     },
     "execution_count": 61,
     "metadata": {},
     "output_type": "execute_result"
    }
   ],
   "source": [
    "Xnew"
   ]
  },
  {
   "cell_type": "code",
   "execution_count": 62,
   "metadata": {},
   "outputs": [],
   "source": [
    "Xnew = scaler.fit_transform(Xnew)\n",
    "Xnew\n",
    "Xnewformat = np.reshape(Xnew, (Xnew.shape[0], 1, Xnew.shape[1]))\n",
    "ynew=model.predict(Xnewformat)"
   ]
  },
  {
   "cell_type": "code",
   "execution_count": 63,
   "metadata": {},
   "outputs": [
    {
     "data": {
      "text/plain": [
       "(15, 5)"
      ]
     },
     "execution_count": 63,
     "metadata": {},
     "output_type": "execute_result"
    }
   ],
   "source": [
    "Xnew.shape"
   ]
  },
  {
   "cell_type": "code",
   "execution_count": 64,
   "metadata": {},
   "outputs": [
    {
     "data": {
      "text/plain": [
       "array([[0.52564657],\n",
       "       [0.5079376 ],\n",
       "       [0.29498988],\n",
       "       [0.6378594 ],\n",
       "       [0.20808631],\n",
       "       [0.41548872],\n",
       "       [0.1438112 ],\n",
       "       [0.13431844],\n",
       "       [0.12266748],\n",
       "       [0.1664215 ],\n",
       "       [0.34982425],\n",
       "       [0.5403698 ],\n",
       "       [0.714114  ],\n",
       "       [0.8724112 ],\n",
       "       [0.6944164 ]], dtype=float32)"
      ]
     },
     "execution_count": 64,
     "metadata": {},
     "output_type": "execute_result"
    }
   ],
   "source": [
    "ynew"
   ]
  },
  {
   "cell_type": "code",
   "execution_count": 65,
   "metadata": {},
   "outputs": [
    {
     "data": {
      "text/plain": [
       "numpy.ndarray"
      ]
     },
     "execution_count": 65,
     "metadata": {},
     "output_type": "execute_result"
    }
   ],
   "source": [
    "type(ynew)"
   ]
  },
  {
   "cell_type": "code",
   "execution_count": 66,
   "metadata": {},
   "outputs": [
    {
     "data": {
      "text/plain": [
       "(15, 1)"
      ]
     },
     "execution_count": 66,
     "metadata": {},
     "output_type": "execute_result"
    }
   ],
   "source": [
    "ynew.shape"
   ]
  },
  {
   "cell_type": "code",
   "execution_count": 67,
   "metadata": {},
   "outputs": [
    {
     "data": {
      "text/plain": [
       "FullDate\n",
       "201721    135.290186\n",
       "201722    126.705491\n",
       "201723    136.967315\n",
       "201724    125.043687\n",
       "201725    129.754353\n",
       "201726    123.697777\n",
       "201727    122.844838\n",
       "201728    123.086751\n",
       "201729    124.981143\n",
       "201730    131.794585\n",
       "201731    138.898408\n",
       "201732    142.909221\n",
       "201733    144.839923\n",
       "201734    135.892708\n",
       "201735    128.586952\n",
       "Name: ADR, dtype: float64"
      ]
     },
     "execution_count": 67,
     "metadata": {},
     "output_type": "execute_result"
    }
   ],
   "source": [
    "actual = tseries.iloc[100:115]\n",
    "actual"
   ]
  },
  {
   "cell_type": "code",
   "execution_count": 68,
   "metadata": {},
   "outputs": [
    {
     "data": {
      "text/plain": [
       "array([135.29018595, 126.70549121, 136.96731501, 125.04368653,\n",
       "       129.75435252, 123.69777658, 122.84483755, 123.08675055,\n",
       "       124.98114286, 131.79458537, 138.89840845, 142.90922096,\n",
       "       144.83992318, 135.89270833, 128.58695175])"
      ]
     },
     "execution_count": 68,
     "metadata": {},
     "output_type": "execute_result"
    }
   ],
   "source": [
    "actual = np.array(actual)\n",
    "actual"
   ]
  },
  {
   "cell_type": "code",
   "execution_count": 69,
   "metadata": {},
   "outputs": [
    {
     "data": {
      "text/plain": [
       "(15, 1)"
      ]
     },
     "execution_count": 69,
     "metadata": {},
     "output_type": "execute_result"
    }
   ],
   "source": [
    "actual=actual.reshape(15,-1)\n",
    "actual.shape"
   ]
  },
  {
   "cell_type": "code",
   "execution_count": 70,
   "metadata": {},
   "outputs": [
    {
     "data": {
      "text/plain": [
       "array([[135.29018595],\n",
       "       [126.70549121],\n",
       "       [136.96731501],\n",
       "       [125.04368653],\n",
       "       [129.75435252],\n",
       "       [123.69777658],\n",
       "       [122.84483755],\n",
       "       [123.08675055],\n",
       "       [124.98114286],\n",
       "       [131.79458537],\n",
       "       [138.89840845],\n",
       "       [142.90922096],\n",
       "       [144.83992318],\n",
       "       [135.89270833],\n",
       "       [128.58695175]])"
      ]
     },
     "execution_count": 70,
     "metadata": {},
     "output_type": "execute_result"
    }
   ],
   "source": [
    "actual"
   ]
  },
  {
   "cell_type": "code",
   "execution_count": 71,
   "metadata": {},
   "outputs": [],
   "source": [
    "ynew=ynew.reshape(-1)\n",
    "actual=actual.reshape(-1)\n",
    "actualpd=pd.Series(actual)"
   ]
  },
  {
   "cell_type": "code",
   "execution_count": 72,
   "metadata": {},
   "outputs": [
    {
     "data": {
      "text/plain": [
       "65.36357758620683"
      ]
     },
     "execution_count": 72,
     "metadata": {},
     "output_type": "execute_result"
    }
   ],
   "source": [
    "np.min(df)"
   ]
  },
  {
   "cell_type": "code",
   "execution_count": 73,
   "metadata": {},
   "outputs": [
    {
     "data": {
      "text/plain": [
       "array([0.52564657, 0.5079376 , 0.29498988, 0.6378594 , 0.20808631,\n",
       "       0.41548872, 0.1438112 , 0.13431844, 0.12266748, 0.1664215 ,\n",
       "       0.34982425, 0.5403698 , 0.714114  , 0.8724112 , 0.6944164 ],\n",
       "      dtype=float32)"
      ]
     },
     "execution_count": 73,
     "metadata": {},
     "output_type": "execute_result"
    }
   ],
   "source": [
    "ynew"
   ]
  },
  {
   "cell_type": "code",
   "execution_count": 74,
   "metadata": {},
   "outputs": [],
   "source": [
    "maxt=np.max(tseries)"
   ]
  },
  {
   "cell_type": "code",
   "execution_count": 75,
   "metadata": {},
   "outputs": [],
   "source": [
    "mint=np.min(tseries)"
   ]
  },
  {
   "cell_type": "code",
   "execution_count": 76,
   "metadata": {},
   "outputs": [],
   "source": [
    "ynew = ynew * np.abs(maxt-mint) + np.min(tseries)\n",
    "ynewpd=pd.Series(ynew)"
   ]
  },
  {
   "cell_type": "code",
   "execution_count": 77,
   "metadata": {},
   "outputs": [
    {
     "data": {
      "text/plain": [
       "0     135.290186\n",
       "1     126.705491\n",
       "2     136.967315\n",
       "3     125.043687\n",
       "4     129.754353\n",
       "5     123.697777\n",
       "6     122.844838\n",
       "7     123.086751\n",
       "8     124.981143\n",
       "9     131.794585\n",
       "10    138.898408\n",
       "11    142.909221\n",
       "12    144.839923\n",
       "13    135.892708\n",
       "14    128.586952\n",
       "dtype: float64"
      ]
     },
     "execution_count": 77,
     "metadata": {},
     "output_type": "execute_result"
    }
   ],
   "source": [
    "actualpd"
   ]
  },
  {
   "cell_type": "code",
   "execution_count": 78,
   "metadata": {},
   "outputs": [
    {
     "data": {
      "text/plain": [
       "0     107.140045\n",
       "1     105.732605\n",
       "2      88.808296\n",
       "3     116.058319\n",
       "4      81.901520\n",
       "5      98.385101\n",
       "6      76.793167\n",
       "7      76.038719\n",
       "8      75.112740\n",
       "9      78.590149\n",
       "10     93.166336\n",
       "11    108.310196\n",
       "12    122.118752\n",
       "13    134.699646\n",
       "14    120.553261\n",
       "dtype: float32"
      ]
     },
     "execution_count": 78,
     "metadata": {},
     "output_type": "execute_result"
    }
   ],
   "source": [
    "ynewpd"
   ]
  },
  {
   "cell_type": "code",
   "execution_count": 79,
   "metadata": {},
   "outputs": [
    {
     "data": {
      "text/plain": [
       "0.8666666666666667"
      ]
     },
     "execution_count": 79,
     "metadata": {},
     "output_type": "execute_result"
    }
   ],
   "source": [
    "mda(actualpd, ynewpd)"
   ]
  },
  {
   "cell_type": "code",
   "execution_count": 80,
   "metadata": {},
   "outputs": [
    {
     "name": "stdout",
     "output_type": "stream",
     "text": [
      "RMSE: 36.592822\n"
     ]
    }
   ],
   "source": [
    "mse = mean_squared_error(actualpd, ynewpd)\n",
    "rmse = sqrt(mse)\n",
    "print('RMSE: %f' % rmse)"
   ]
  },
  {
   "cell_type": "code",
   "execution_count": 81,
   "metadata": {},
   "outputs": [
    {
     "data": {
      "text/plain": [
       "0    -28.150141\n",
       "1    -20.972886\n",
       "2    -48.159019\n",
       "3     -8.985367\n",
       "4    -47.852833\n",
       "5    -25.312675\n",
       "6    -46.051670\n",
       "7    -47.048031\n",
       "8    -49.868403\n",
       "9    -53.204436\n",
       "10   -45.732072\n",
       "11   -34.599025\n",
       "12   -22.721172\n",
       "13    -1.193062\n",
       "14    -8.033691\n",
       "dtype: float64"
      ]
     },
     "execution_count": 81,
     "metadata": {},
     "output_type": "execute_result"
    }
   ],
   "source": [
    "forecast_error = (ynewpd-actualpd)\n",
    "forecast_error"
   ]
  },
  {
   "cell_type": "code",
   "execution_count": 82,
   "metadata": {},
   "outputs": [
    {
     "data": {
      "text/plain": [
       "-32.525632345071955"
      ]
     },
     "execution_count": 82,
     "metadata": {},
     "output_type": "execute_result"
    }
   ],
   "source": [
    "mean_forecast_error = np.mean(forecast_error)\n",
    "mean_forecast_error"
   ]
  },
  {
   "cell_type": "code",
   "execution_count": 83,
   "metadata": {},
   "outputs": [
    {
     "data": {
      "image/png": "[encoded data removed]",
      "text/plain": [
       "<Figure size 432x288 with 1 Axes>"
      ]
     },
     "metadata": {
      "needs_background": "light"
     },
     "output_type": "display_data"
    }
   ],
   "source": [
    "predictons, =plt.plot(ynewpd, label='Predictions')\n",
    "actual, =plt.plot(actualpd, label='Actual')\n",
    "plt.xlabel('Number of weeks')\n",
    "plt.ylabel('Weekly ADR')\n",
    "plt.title(\"Predicted vs. Actual Weekly ADR\")\n",
    "plt.legend(loc = 'upper center')\n",
    "plt.show()"
   ]
  },
  {
   "cell_type": "code",
   "execution_count": 84,
   "metadata": {},
   "outputs": [
    {
     "data": {
      "text/plain": [
       "131.41955578664096"
      ]
     },
     "execution_count": 84,
     "metadata": {},
     "output_type": "execute_result"
    }
   ],
   "source": [
    "np.mean(actualpd)"
   ]
  }
 ],
 "metadata": {
  "kernelspec": {
   "display_name": "Python 3",
   "language": "python",
   "name": "python3"
  },
  "language_info": {
   "codemirror_mode": {
    "name": "ipython",
    "version": 3
   },
   "file_extension": ".py",
   "mimetype": "text/x-python",
   "name": "python",
   "nbconvert_exporter": "python",
   "pygments_lexer": "ipython3",
   "version": "3.6.9"
  }
 },
 "nbformat": 4,
 "nbformat_minor": 2
}
