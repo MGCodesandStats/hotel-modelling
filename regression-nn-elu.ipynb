{
 "cells": [
  {
   "cell_type": "markdown",
   "metadata": {},
   "source": [
    "# Regression-based neural network: Predicting Customer ADR\n",
    "\n",
    "In this example, a regression-based neural network is implemented to predict customer ADR using the hotel cancellation datasets as provided by Antonio, Almeida and Nunes (2019). Attributions provided below."
   ]
  },
  {
   "cell_type": "markdown",
   "metadata": {},
   "source": [
    "#### Attributions\n",
    "\n",
    "The below code uses the Sequential neural network model as built using the TensorFlow library, of which the original authors **(Copyright 2019 The TensorFlow Authors)** have made available under the Apache 2.0 license. Modifications have been made where appropriate for conducting analysis on the dataset specific to this example.\n",
    "\n",
    "The data used in this example is sourced from [Antonio, Almeida and Nunes (2019)](https://www.sciencedirect.com/science/article/pii/S2352340918315191).\n",
    "\n",
    "The below work and findings are not endorsed by the original authors in any way."
   ]
  },
  {
   "cell_type": "markdown",
   "metadata": {},
   "source": [
    "#### Apache 2.0 License"
   ]
  },
  {
   "cell_type": "code",
   "execution_count": 1,
   "metadata": {},
   "outputs": [],
   "source": [
    "#@title Licensed under the Apache License, Version 2.0 (the \"License\"); { display-mode: \"form\" }\n",
    "# you may not use this file except in compliance with the License.\n",
    "# You may obtain a copy of the License at\n",
    "#\n",
    "# https://www.apache.org/licenses/LICENSE-2.0\n",
    "#\n",
    "# Unless required by applicable law or agreed to in writing, software\n",
    "# distributed under the License is distributed on an \"AS IS\" BASIS,\n",
    "# WITHOUT WARRANTIES OR CONDITIONS OF ANY KIND, either express or implied.\n",
    "# See the License for the specific language governing permissions and\n",
    "# limitations under the License."
   ]
  },
  {
   "cell_type": "markdown",
   "metadata": {},
   "source": [
    "# Import Libraries"
   ]
  },
  {
   "cell_type": "code",
   "execution_count": 2,
   "metadata": {},
   "outputs": [
    {
     "name": "stderr",
     "output_type": "stream",
     "text": [
      "2023-04-16 20:10:45.026246: I tensorflow/tsl/cuda/cudart_stub.cc:28] Could not find cuda drivers on your machine, GPU will not be used.\n",
      "2023-04-16 20:10:45.082530: I tensorflow/tsl/cuda/cudart_stub.cc:28] Could not find cuda drivers on your machine, GPU will not be used.\n",
      "2023-04-16 20:10:45.083289: I tensorflow/core/platform/cpu_feature_guard.cc:182] This TensorFlow binary is optimized to use available CPU instructions in performance-critical operations.\n",
      "To enable the following instructions: AVX2 FMA, in other operations, rebuild TensorFlow with the appropriate compiler flags.\n",
      "2023-04-16 20:10:46.087127: W tensorflow/compiler/tf2tensorrt/utils/py_utils.cc:38] TF-TRT Warning: Could not find TensorRT\n"
     ]
    }
   ],
   "source": [
    "import math\n",
    "import matplotlib.pyplot as plt\n",
    "import numpy as np\n",
    "from numpy.random import seed\n",
    "seed(1)\n",
    "import pandas as pd\n",
    "import statsmodels.api as sm\n",
    "import statsmodels.formula.api as smf\n",
    "\n",
    "import tensorflow\n",
    "tensorflow.random.set_seed(1)\n",
    "from tensorflow.keras.layers import Dense\n",
    "from tensorflow.keras.layers import Dropout\n",
    "from tensorflow.keras.models import Sequential\n",
    "from tensorflow.keras.wrappers.scikit_learn import KerasRegressor\n",
    "\n",
    "from sklearn.metrics import mean_absolute_error\n",
    "from sklearn.metrics import mean_squared_error\n",
    "from sklearn.model_selection import train_test_split\n",
    "from sklearn.preprocessing import MinMaxScaler"
   ]
  },
  {
   "cell_type": "markdown",
   "metadata": {},
   "source": [
    "# Data Preprocessing"
   ]
  },
  {
   "cell_type": "code",
   "execution_count": 3,
   "metadata": {},
   "outputs": [
    {
     "data": {
      "text/html": [
       "<div>\n",
       "<style scoped>\n",
       "    .dataframe tbody tr th:only-of-type {\n",
       "        vertical-align: middle;\n",
       "    }\n",
       "\n",
       "    .dataframe tbody tr th {\n",
       "        vertical-align: top;\n",
       "    }\n",
       "\n",
       "    .dataframe thead th {\n",
       "        text-align: right;\n",
       "    }\n",
       "</style>\n",
       "<table border=\"1\" class=\"dataframe\">\n",
       "  <thead>\n",
       "    <tr style=\"text-align: right;\">\n",
       "      <th></th>\n",
       "      <th>IsCanceled</th>\n",
       "      <th>LeadTime</th>\n",
       "      <th>ArrivalDateYear</th>\n",
       "      <th>ArrivalDateMonth</th>\n",
       "      <th>ArrivalDateWeekNumber</th>\n",
       "      <th>ArrivalDateDayOfMonth</th>\n",
       "      <th>StaysInWeekendNights</th>\n",
       "      <th>StaysInWeekNights</th>\n",
       "      <th>Adults</th>\n",
       "      <th>Children</th>\n",
       "      <th>...</th>\n",
       "      <th>DepositType</th>\n",
       "      <th>Agent</th>\n",
       "      <th>Company</th>\n",
       "      <th>DaysInWaitingList</th>\n",
       "      <th>CustomerType</th>\n",
       "      <th>ADR</th>\n",
       "      <th>RequiredCarParkingSpaces</th>\n",
       "      <th>TotalOfSpecialRequests</th>\n",
       "      <th>ReservationStatus</th>\n",
       "      <th>ReservationStatusDate</th>\n",
       "    </tr>\n",
       "  </thead>\n",
       "  <tbody>\n",
       "    <tr>\n",
       "      <th>0</th>\n",
       "      <td>0</td>\n",
       "      <td>342</td>\n",
       "      <td>2015</td>\n",
       "      <td>July</td>\n",
       "      <td>27</td>\n",
       "      <td>1</td>\n",
       "      <td>0</td>\n",
       "      <td>0</td>\n",
       "      <td>2</td>\n",
       "      <td>0</td>\n",
       "      <td>...</td>\n",
       "      <td>No Deposit</td>\n",
       "      <td>NULL</td>\n",
       "      <td>NULL</td>\n",
       "      <td>0</td>\n",
       "      <td>Transient</td>\n",
       "      <td>0.00</td>\n",
       "      <td>0</td>\n",
       "      <td>0</td>\n",
       "      <td>Check-Out</td>\n",
       "      <td>2015-07-01</td>\n",
       "    </tr>\n",
       "    <tr>\n",
       "      <th>1</th>\n",
       "      <td>0</td>\n",
       "      <td>737</td>\n",
       "      <td>2015</td>\n",
       "      <td>July</td>\n",
       "      <td>27</td>\n",
       "      <td>1</td>\n",
       "      <td>0</td>\n",
       "      <td>0</td>\n",
       "      <td>2</td>\n",
       "      <td>0</td>\n",
       "      <td>...</td>\n",
       "      <td>No Deposit</td>\n",
       "      <td>NULL</td>\n",
       "      <td>NULL</td>\n",
       "      <td>0</td>\n",
       "      <td>Transient</td>\n",
       "      <td>0.00</td>\n",
       "      <td>0</td>\n",
       "      <td>0</td>\n",
       "      <td>Check-Out</td>\n",
       "      <td>2015-07-01</td>\n",
       "    </tr>\n",
       "    <tr>\n",
       "      <th>2</th>\n",
       "      <td>0</td>\n",
       "      <td>7</td>\n",
       "      <td>2015</td>\n",
       "      <td>July</td>\n",
       "      <td>27</td>\n",
       "      <td>1</td>\n",
       "      <td>0</td>\n",
       "      <td>1</td>\n",
       "      <td>1</td>\n",
       "      <td>0</td>\n",
       "      <td>...</td>\n",
       "      <td>No Deposit</td>\n",
       "      <td>NULL</td>\n",
       "      <td>NULL</td>\n",
       "      <td>0</td>\n",
       "      <td>Transient</td>\n",
       "      <td>75.00</td>\n",
       "      <td>0</td>\n",
       "      <td>0</td>\n",
       "      <td>Check-Out</td>\n",
       "      <td>2015-07-02</td>\n",
       "    </tr>\n",
       "    <tr>\n",
       "      <th>3</th>\n",
       "      <td>0</td>\n",
       "      <td>13</td>\n",
       "      <td>2015</td>\n",
       "      <td>July</td>\n",
       "      <td>27</td>\n",
       "      <td>1</td>\n",
       "      <td>0</td>\n",
       "      <td>1</td>\n",
       "      <td>1</td>\n",
       "      <td>0</td>\n",
       "      <td>...</td>\n",
       "      <td>No Deposit</td>\n",
       "      <td>304</td>\n",
       "      <td>NULL</td>\n",
       "      <td>0</td>\n",
       "      <td>Transient</td>\n",
       "      <td>75.00</td>\n",
       "      <td>0</td>\n",
       "      <td>0</td>\n",
       "      <td>Check-Out</td>\n",
       "      <td>2015-07-02</td>\n",
       "    </tr>\n",
       "    <tr>\n",
       "      <th>4</th>\n",
       "      <td>0</td>\n",
       "      <td>14</td>\n",
       "      <td>2015</td>\n",
       "      <td>July</td>\n",
       "      <td>27</td>\n",
       "      <td>1</td>\n",
       "      <td>0</td>\n",
       "      <td>2</td>\n",
       "      <td>2</td>\n",
       "      <td>0</td>\n",
       "      <td>...</td>\n",
       "      <td>No Deposit</td>\n",
       "      <td>240</td>\n",
       "      <td>NULL</td>\n",
       "      <td>0</td>\n",
       "      <td>Transient</td>\n",
       "      <td>98.00</td>\n",
       "      <td>0</td>\n",
       "      <td>1</td>\n",
       "      <td>Check-Out</td>\n",
       "      <td>2015-07-03</td>\n",
       "    </tr>\n",
       "    <tr>\n",
       "      <th>...</th>\n",
       "      <td>...</td>\n",
       "      <td>...</td>\n",
       "      <td>...</td>\n",
       "      <td>...</td>\n",
       "      <td>...</td>\n",
       "      <td>...</td>\n",
       "      <td>...</td>\n",
       "      <td>...</td>\n",
       "      <td>...</td>\n",
       "      <td>...</td>\n",
       "      <td>...</td>\n",
       "      <td>...</td>\n",
       "      <td>...</td>\n",
       "      <td>...</td>\n",
       "      <td>...</td>\n",
       "      <td>...</td>\n",
       "      <td>...</td>\n",
       "      <td>...</td>\n",
       "      <td>...</td>\n",
       "      <td>...</td>\n",
       "      <td>...</td>\n",
       "    </tr>\n",
       "    <tr>\n",
       "      <th>40055</th>\n",
       "      <td>0</td>\n",
       "      <td>212</td>\n",
       "      <td>2017</td>\n",
       "      <td>August</td>\n",
       "      <td>35</td>\n",
       "      <td>31</td>\n",
       "      <td>2</td>\n",
       "      <td>8</td>\n",
       "      <td>2</td>\n",
       "      <td>1</td>\n",
       "      <td>...</td>\n",
       "      <td>No Deposit</td>\n",
       "      <td>143</td>\n",
       "      <td>NULL</td>\n",
       "      <td>0</td>\n",
       "      <td>Transient</td>\n",
       "      <td>89.75</td>\n",
       "      <td>0</td>\n",
       "      <td>0</td>\n",
       "      <td>Check-Out</td>\n",
       "      <td>2017-09-10</td>\n",
       "    </tr>\n",
       "    <tr>\n",
       "      <th>40056</th>\n",
       "      <td>0</td>\n",
       "      <td>169</td>\n",
       "      <td>2017</td>\n",
       "      <td>August</td>\n",
       "      <td>35</td>\n",
       "      <td>30</td>\n",
       "      <td>2</td>\n",
       "      <td>9</td>\n",
       "      <td>2</td>\n",
       "      <td>0</td>\n",
       "      <td>...</td>\n",
       "      <td>No Deposit</td>\n",
       "      <td>250</td>\n",
       "      <td>NULL</td>\n",
       "      <td>0</td>\n",
       "      <td>Transient-Party</td>\n",
       "      <td>202.27</td>\n",
       "      <td>0</td>\n",
       "      <td>1</td>\n",
       "      <td>Check-Out</td>\n",
       "      <td>2017-09-10</td>\n",
       "    </tr>\n",
       "    <tr>\n",
       "      <th>40057</th>\n",
       "      <td>0</td>\n",
       "      <td>204</td>\n",
       "      <td>2017</td>\n",
       "      <td>August</td>\n",
       "      <td>35</td>\n",
       "      <td>29</td>\n",
       "      <td>4</td>\n",
       "      <td>10</td>\n",
       "      <td>2</td>\n",
       "      <td>0</td>\n",
       "      <td>...</td>\n",
       "      <td>No Deposit</td>\n",
       "      <td>250</td>\n",
       "      <td>NULL</td>\n",
       "      <td>0</td>\n",
       "      <td>Transient</td>\n",
       "      <td>153.57</td>\n",
       "      <td>0</td>\n",
       "      <td>3</td>\n",
       "      <td>Check-Out</td>\n",
       "      <td>2017-09-12</td>\n",
       "    </tr>\n",
       "    <tr>\n",
       "      <th>40058</th>\n",
       "      <td>0</td>\n",
       "      <td>211</td>\n",
       "      <td>2017</td>\n",
       "      <td>August</td>\n",
       "      <td>35</td>\n",
       "      <td>31</td>\n",
       "      <td>4</td>\n",
       "      <td>10</td>\n",
       "      <td>2</td>\n",
       "      <td>0</td>\n",
       "      <td>...</td>\n",
       "      <td>No Deposit</td>\n",
       "      <td>40</td>\n",
       "      <td>NULL</td>\n",
       "      <td>0</td>\n",
       "      <td>Contract</td>\n",
       "      <td>112.80</td>\n",
       "      <td>0</td>\n",
       "      <td>1</td>\n",
       "      <td>Check-Out</td>\n",
       "      <td>2017-09-14</td>\n",
       "    </tr>\n",
       "    <tr>\n",
       "      <th>40059</th>\n",
       "      <td>0</td>\n",
       "      <td>161</td>\n",
       "      <td>2017</td>\n",
       "      <td>August</td>\n",
       "      <td>35</td>\n",
       "      <td>31</td>\n",
       "      <td>4</td>\n",
       "      <td>10</td>\n",
       "      <td>2</td>\n",
       "      <td>0</td>\n",
       "      <td>...</td>\n",
       "      <td>No Deposit</td>\n",
       "      <td>69</td>\n",
       "      <td>NULL</td>\n",
       "      <td>0</td>\n",
       "      <td>Transient</td>\n",
       "      <td>99.06</td>\n",
       "      <td>0</td>\n",
       "      <td>0</td>\n",
       "      <td>Check-Out</td>\n",
       "      <td>2017-09-14</td>\n",
       "    </tr>\n",
       "  </tbody>\n",
       "</table>\n",
       "<p>40060 rows × 31 columns</p>\n",
       "</div>"
      ],
      "text/plain": [
       "       IsCanceled  LeadTime  ArrivalDateYear ArrivalDateMonth   \n",
       "0               0       342             2015             July  \\\n",
       "1               0       737             2015             July   \n",
       "2               0         7             2015             July   \n",
       "3               0        13             2015             July   \n",
       "4               0        14             2015             July   \n",
       "...           ...       ...              ...              ...   \n",
       "40055           0       212             2017           August   \n",
       "40056           0       169             2017           August   \n",
       "40057           0       204             2017           August   \n",
       "40058           0       211             2017           August   \n",
       "40059           0       161             2017           August   \n",
       "\n",
       "       ArrivalDateWeekNumber  ArrivalDateDayOfMonth  StaysInWeekendNights   \n",
       "0                         27                      1                     0  \\\n",
       "1                         27                      1                     0   \n",
       "2                         27                      1                     0   \n",
       "3                         27                      1                     0   \n",
       "4                         27                      1                     0   \n",
       "...                      ...                    ...                   ...   \n",
       "40055                     35                     31                     2   \n",
       "40056                     35                     30                     2   \n",
       "40057                     35                     29                     4   \n",
       "40058                     35                     31                     4   \n",
       "40059                     35                     31                     4   \n",
       "\n",
       "       StaysInWeekNights  Adults  Children  ...      DepositType        Agent   \n",
       "0                      0       2         0  ...  No Deposit              NULL  \\\n",
       "1                      0       2         0  ...  No Deposit              NULL   \n",
       "2                      1       1         0  ...  No Deposit              NULL   \n",
       "3                      1       1         0  ...  No Deposit               304   \n",
       "4                      2       2         0  ...  No Deposit               240   \n",
       "...                  ...     ...       ...  ...              ...          ...   \n",
       "40055                  8       2         1  ...  No Deposit               143   \n",
       "40056                  9       2         0  ...  No Deposit               250   \n",
       "40057                 10       2         0  ...  No Deposit               250   \n",
       "40058                 10       2         0  ...  No Deposit                40   \n",
       "40059                 10       2         0  ...  No Deposit                69   \n",
       "\n",
       "           Company DaysInWaitingList     CustomerType     ADR   \n",
       "0             NULL                 0        Transient    0.00  \\\n",
       "1             NULL                 0        Transient    0.00   \n",
       "2             NULL                 0        Transient   75.00   \n",
       "3             NULL                 0        Transient   75.00   \n",
       "4             NULL                 0        Transient   98.00   \n",
       "...            ...               ...              ...     ...   \n",
       "40055         NULL                 0        Transient   89.75   \n",
       "40056         NULL                 0  Transient-Party  202.27   \n",
       "40057         NULL                 0        Transient  153.57   \n",
       "40058         NULL                 0         Contract  112.80   \n",
       "40059         NULL                 0        Transient   99.06   \n",
       "\n",
       "       RequiredCarParkingSpaces  TotalOfSpecialRequests ReservationStatus   \n",
       "0                             0                       0         Check-Out  \\\n",
       "1                             0                       0         Check-Out   \n",
       "2                             0                       0         Check-Out   \n",
       "3                             0                       0         Check-Out   \n",
       "4                             0                       1         Check-Out   \n",
       "...                         ...                     ...               ...   \n",
       "40055                         0                       0         Check-Out   \n",
       "40056                         0                       1         Check-Out   \n",
       "40057                         0                       3         Check-Out   \n",
       "40058                         0                       1         Check-Out   \n",
       "40059                         0                       0         Check-Out   \n",
       "\n",
       "      ReservationStatusDate  \n",
       "0                2015-07-01  \n",
       "1                2015-07-01  \n",
       "2                2015-07-02  \n",
       "3                2015-07-02  \n",
       "4                2015-07-03  \n",
       "...                     ...  \n",
       "40055            2017-09-10  \n",
       "40056            2017-09-10  \n",
       "40057            2017-09-12  \n",
       "40058            2017-09-14  \n",
       "40059            2017-09-14  \n",
       "\n",
       "[40060 rows x 31 columns]"
      ]
     },
     "execution_count": 3,
     "metadata": {},
     "output_type": "execute_result"
    }
   ],
   "source": [
    "train_df = pd.read_csv('H1.csv')\n",
    "a=train_df.head()\n",
    "b=train_df\n",
    "b\n",
    "b.sort_values(['ArrivalDateYear','ArrivalDateWeekNumber'], ascending=True)"
   ]
  },
  {
   "cell_type": "markdown",
   "metadata": {},
   "source": [
    "### Numerical variables"
   ]
  },
  {
   "cell_type": "code",
   "execution_count": 4,
   "metadata": {},
   "outputs": [],
   "source": [
    "leadtime = train_df['LeadTime']\n",
    "arrivaldateyear = train_df['ArrivalDateYear']\n",
    "arrivaldateweekno = train_df['ArrivalDateWeekNumber']\n",
    "arrivaldatedayofmonth = train_df['ArrivalDateDayOfMonth']\n",
    "staysweekendnights = train_df['StaysInWeekendNights']\n",
    "staysweeknights = train_df['StaysInWeekNights']\n",
    "adults = train_df['Adults']\n",
    "children = train_df['Children']\n",
    "babies = train_df['Babies']\n",
    "isrepeatedguest = train_df['IsRepeatedGuest'] \n",
    "previouscancellations = train_df['PreviousCancellations']\n",
    "previousbookingsnotcanceled = train_df['PreviousBookingsNotCanceled']\n",
    "bookingchanges = train_df['BookingChanges']\n",
    "agent = train_df['Agent']\n",
    "company = train_df['Company']\n",
    "dayswaitinglist = train_df['DaysInWaitingList']\n",
    "adr = train_df['ADR']\n",
    "rcps = train_df['RequiredCarParkingSpaces']\n",
    "totalsqr = train_df['TotalOfSpecialRequests']"
   ]
  },
  {
   "cell_type": "code",
   "execution_count": 5,
   "metadata": {},
   "outputs": [],
   "source": [
    "y1 = np.array(adr)"
   ]
  },
  {
   "cell_type": "markdown",
   "metadata": {},
   "source": [
    "### Categorical Variables"
   ]
  },
  {
   "cell_type": "code",
   "execution_count": 6,
   "metadata": {},
   "outputs": [],
   "source": [
    "IsCanceled = train_df['IsCanceled']\n",
    "arrivaldatemonth = train_df.ArrivalDateMonth.astype(\"category\").cat.codes\n",
    "arrivaldatemonthcat=pd.Series(arrivaldatemonth)\n",
    "mealcat=train_df.Meal.astype(\"category\").cat.codes\n",
    "mealcat=pd.Series(mealcat)\n",
    "countrycat=train_df.Country.astype(\"category\").cat.codes\n",
    "countrycat=pd.Series(countrycat)\n",
    "marketsegmentcat=train_df.MarketSegment.astype(\"category\").cat.codes\n",
    "marketsegmentcat=pd.Series(marketsegmentcat)\n",
    "distributionchannelcat=train_df.DistributionChannel.astype(\"category\").cat.codes\n",
    "distributionchannelcat=pd.Series(distributionchannelcat)\n",
    "reservedroomtypecat=train_df.ReservedRoomType.astype(\"category\").cat.codes\n",
    "reservedroomtypecat=pd.Series(reservedroomtypecat)\n",
    "assignedroomtypecat=train_df.AssignedRoomType.astype(\"category\").cat.codes\n",
    "assignedroomtypecat=pd.Series(assignedroomtypecat)\n",
    "deposittypecat=train_df.DepositType.astype(\"category\").cat.codes\n",
    "deposittypecat=pd.Series(deposittypecat)\n",
    "customertypecat=train_df.CustomerType.astype(\"category\").cat.codes\n",
    "customertypecat=pd.Series(customertypecat)\n",
    "reservationstatuscat=train_df.ReservationStatus.astype(\"category\").cat.codes\n",
    "reservationstatuscat=pd.Series(reservationstatuscat)"
   ]
  },
  {
   "cell_type": "code",
   "execution_count": 7,
   "metadata": {},
   "outputs": [],
   "source": [
    "x1 = np.column_stack((IsCanceled,countrycat,marketsegmentcat,deposittypecat,customertypecat,rcps,arrivaldateweekno))\n",
    "x1 = sm.add_constant(x1, prepend=True)"
   ]
  },
  {
   "cell_type": "markdown",
   "metadata": {},
   "source": [
    "## Training and Validation Data Partition"
   ]
  },
  {
   "cell_type": "code",
   "execution_count": 8,
   "metadata": {},
   "outputs": [],
   "source": [
    "X_train, X_val, y_train, y_val = train_test_split(x1, y1)"
   ]
  },
  {
   "cell_type": "code",
   "execution_count": 9,
   "metadata": {},
   "outputs": [
    {
     "name": "stdout",
     "output_type": "stream",
     "text": [
      "MinMaxScaler()\n",
      "MinMaxScaler()\n",
      "MinMaxScaler()\n",
      "MinMaxScaler()\n"
     ]
    }
   ],
   "source": [
    "#Variables\n",
    "y_train=np.reshape(y_train, (-1,1))\n",
    "y_val=np.reshape(y_val, (-1,1))\n",
    "\n",
    "scaler_x = MinMaxScaler()\n",
    "scaler_y = MinMaxScaler()\n",
    "\n",
    "print(scaler_x.fit(X_train))\n",
    "xtrain_scale=scaler_x.transform(X_train)\n",
    "print(scaler_x.fit(X_val))\n",
    "xval_scale=scaler_x.transform(X_val)\n",
    "\n",
    "print(scaler_y.fit(y_train))\n",
    "ytrain_scale=scaler_y.transform(y_train)\n",
    "print(scaler_y.fit(y_val))\n",
    "yval_scale=scaler_y.transform(y_val)"
   ]
  },
  {
   "cell_type": "code",
   "execution_count": 10,
   "metadata": {},
   "outputs": [
    {
     "data": {
      "text/plain": [
       "array([[0.09988724],\n",
       "       [0.0746141 ],\n",
       "       [0.40122089],\n",
       "       ...,\n",
       "       [0.24763793],\n",
       "       [0.33706598],\n",
       "       [0.12127221]])"
      ]
     },
     "execution_count": 10,
     "metadata": {},
     "output_type": "execute_result"
    }
   ],
   "source": [
    "ytrain_scale"
   ]
  },
  {
   "cell_type": "code",
   "execution_count": 11,
   "metadata": {},
   "outputs": [
    {
     "data": {
      "text/plain": [
       "array([[0.10134897],\n",
       "       [0.51727859],\n",
       "       [0.12736657],\n",
       "       ...,\n",
       "       [0.12680352],\n",
       "       [0.22521994],\n",
       "       [0.14076246]])"
      ]
     },
     "execution_count": 11,
     "metadata": {},
     "output_type": "execute_result"
    }
   ],
   "source": [
    "yval_scale"
   ]
  },
  {
   "cell_type": "code",
   "execution_count": 12,
   "metadata": {},
   "outputs": [
    {
     "data": {
      "text/plain": [
       "array([[0.        , 1.        , 0.328     , ..., 0.66666667, 0.        ,\n",
       "        0.23076923],\n",
       "       [0.        , 0.        , 0.768     , ..., 0.66666667, 0.        ,\n",
       "        0.19230769],\n",
       "       [0.        , 0.        , 0.136     , ..., 0.66666667, 0.        ,\n",
       "        0.51923077],\n",
       "       ...,\n",
       "       [0.        , 1.        , 0.768     , ..., 0.66666667, 0.        ,\n",
       "        0.30769231],\n",
       "       [0.        , 1.        , 0.368     , ..., 0.66666667, 0.        ,\n",
       "        0.44230769],\n",
       "       [0.        , 0.        , 0.768     , ..., 0.66666667, 0.        ,\n",
       "        0.09615385]])"
      ]
     },
     "execution_count": 12,
     "metadata": {},
     "output_type": "execute_result"
    }
   ],
   "source": [
    "xtrain_scale"
   ]
  },
  {
   "cell_type": "code",
   "execution_count": 13,
   "metadata": {},
   "outputs": [
    {
     "data": {
      "text/plain": [
       "array([[0.        , 1.        , 0.7804878 , ..., 0.66666667, 0.        ,\n",
       "        0.26923077],\n",
       "       [0.        , 1.        , 0.7804878 , ..., 0.66666667, 0.        ,\n",
       "        0.65384615],\n",
       "       [0.        , 0.        , 0.37398374, ..., 0.        , 0.        ,\n",
       "        0.28846154],\n",
       "       ...,\n",
       "       [0.        , 0.        , 0.37398374, ..., 0.66666667, 0.        ,\n",
       "        0.88461538],\n",
       "       [0.        , 0.        , 0.33333333, ..., 0.66666667, 0.        ,\n",
       "        0.15384615],\n",
       "       [0.        , 0.        , 0.37398374, ..., 1.        , 0.        ,\n",
       "        0.38461538]])"
      ]
     },
     "execution_count": 13,
     "metadata": {},
     "output_type": "execute_result"
    }
   ],
   "source": [
    "xval_scale"
   ]
  },
  {
   "cell_type": "markdown",
   "metadata": {},
   "source": [
    "# Neural Network Configuration"
   ]
  },
  {
   "cell_type": "code",
   "execution_count": 14,
   "metadata": {},
   "outputs": [
    {
     "name": "stdout",
     "output_type": "stream",
     "text": [
      "Model: \"sequential\"\n",
      "_________________________________________________________________\n",
      " Layer (type)                Output Shape              Param #   \n",
      "=================================================================\n",
      " dense (Dense)               (None, 8)                 72        \n",
      "                                                                 \n",
      " dense_1 (Dense)             (None, 2670)              24030     \n",
      "                                                                 \n",
      " dense_2 (Dense)             (None, 1)                 2671      \n",
      "                                                                 \n",
      "=================================================================\n",
      "Total params: 26,773\n",
      "Trainable params: 26,773\n",
      "Non-trainable params: 0\n",
      "_________________________________________________________________\n"
     ]
    }
   ],
   "source": [
    "model = Sequential()\n",
    "model.add(Dense(8, input_dim=8, kernel_initializer='normal', activation='elu'))\n",
    "model.add(Dense(2670, activation='elu'))\n",
    "model.add(Dense(1, activation='linear'))\n",
    "model.summary()"
   ]
  },
  {
   "cell_type": "code",
   "execution_count": 15,
   "metadata": {},
   "outputs": [
    {
     "name": "stdout",
     "output_type": "stream",
     "text": [
      "Epoch 1/30\n",
      "161/161 [==============================] - 2s 6ms/step - loss: 0.0141 - mse: 0.0141 - mae: 0.0915 - val_loss: 0.0128 - val_mse: 0.0128 - val_mae: 0.0857\n",
      "Epoch 2/30\n",
      "161/161 [==============================] - 1s 5ms/step - loss: 0.0131 - mse: 0.0131 - mae: 0.0881 - val_loss: 0.0127 - val_mse: 0.0127 - val_mae: 0.0872\n",
      "Epoch 3/30\n",
      "161/161 [==============================] - 1s 4ms/step - loss: 0.0130 - mse: 0.0130 - mae: 0.0879 - val_loss: 0.0129 - val_mse: 0.0129 - val_mae: 0.0848\n",
      "Epoch 4/30\n",
      "161/161 [==============================] - 1s 5ms/step - loss: 0.0130 - mse: 0.0130 - mae: 0.0879 - val_loss: 0.0129 - val_mse: 0.0129 - val_mae: 0.0912\n",
      "Epoch 5/30\n",
      "161/161 [==============================] - 1s 8ms/step - loss: 0.0131 - mse: 0.0131 - mae: 0.0881 - val_loss: 0.0127 - val_mse: 0.0127 - val_mae: 0.0880\n",
      "Epoch 6/30\n",
      "161/161 [==============================] - 1s 5ms/step - loss: 0.0130 - mse: 0.0130 - mae: 0.0876 - val_loss: 0.0126 - val_mse: 0.0126 - val_mae: 0.0877\n",
      "Epoch 7/30\n",
      "161/161 [==============================] - 1s 4ms/step - loss: 0.0129 - mse: 0.0129 - mae: 0.0877 - val_loss: 0.0128 - val_mse: 0.0128 - val_mae: 0.0849\n",
      "Epoch 8/30\n",
      "161/161 [==============================] - 1s 5ms/step - loss: 0.0129 - mse: 0.0129 - mae: 0.0876 - val_loss: 0.0126 - val_mse: 0.0126 - val_mae: 0.0874\n",
      "Epoch 9/30\n",
      "161/161 [==============================] - 1s 5ms/step - loss: 0.0129 - mse: 0.0129 - mae: 0.0875 - val_loss: 0.0127 - val_mse: 0.0127 - val_mae: 0.0846\n",
      "Epoch 10/30\n",
      "161/161 [==============================] - 1s 5ms/step - loss: 0.0131 - mse: 0.0131 - mae: 0.0879 - val_loss: 0.0126 - val_mse: 0.0126 - val_mae: 0.0866\n",
      "Epoch 11/30\n",
      "161/161 [==============================] - 1s 5ms/step - loss: 0.0129 - mse: 0.0129 - mae: 0.0872 - val_loss: 0.0129 - val_mse: 0.0129 - val_mae: 0.0917\n",
      "Epoch 12/30\n",
      "161/161 [==============================] - 1s 4ms/step - loss: 0.0128 - mse: 0.0128 - mae: 0.0871 - val_loss: 0.0125 - val_mse: 0.0125 - val_mae: 0.0860\n",
      "Epoch 13/30\n",
      "161/161 [==============================] - 1s 5ms/step - loss: 0.0128 - mse: 0.0128 - mae: 0.0869 - val_loss: 0.0124 - val_mse: 0.0124 - val_mae: 0.0860\n",
      "Epoch 14/30\n",
      "161/161 [==============================] - 1s 5ms/step - loss: 0.0128 - mse: 0.0128 - mae: 0.0867 - val_loss: 0.0127 - val_mse: 0.0127 - val_mae: 0.0903\n",
      "Epoch 15/30\n",
      "161/161 [==============================] - 1s 5ms/step - loss: 0.0127 - mse: 0.0127 - mae: 0.0866 - val_loss: 0.0123 - val_mse: 0.0123 - val_mae: 0.0841\n",
      "Epoch 16/30\n",
      "161/161 [==============================] - 1s 5ms/step - loss: 0.0127 - mse: 0.0127 - mae: 0.0862 - val_loss: 0.0122 - val_mse: 0.0122 - val_mae: 0.0838\n",
      "Epoch 17/30\n",
      "161/161 [==============================] - 1s 5ms/step - loss: 0.0125 - mse: 0.0125 - mae: 0.0856 - val_loss: 0.0120 - val_mse: 0.0120 - val_mae: 0.0832\n",
      "Epoch 18/30\n",
      "161/161 [==============================] - 1s 5ms/step - loss: 0.0123 - mse: 0.0123 - mae: 0.0847 - val_loss: 0.0120 - val_mse: 0.0120 - val_mae: 0.0807\n",
      "Epoch 19/30\n",
      "161/161 [==============================] - 1s 5ms/step - loss: 0.0120 - mse: 0.0120 - mae: 0.0830 - val_loss: 0.0134 - val_mse: 0.0134 - val_mae: 0.0971\n",
      "Epoch 20/30\n",
      "161/161 [==============================] - 1s 6ms/step - loss: 0.0119 - mse: 0.0119 - mae: 0.0827 - val_loss: 0.0117 - val_mse: 0.0117 - val_mae: 0.0769\n",
      "Epoch 21/30\n",
      "161/161 [==============================] - 1s 5ms/step - loss: 0.0115 - mse: 0.0115 - mae: 0.0810 - val_loss: 0.0109 - val_mse: 0.0109 - val_mae: 0.0785\n",
      "Epoch 22/30\n",
      "161/161 [==============================] - 1s 4ms/step - loss: 0.0112 - mse: 0.0112 - mae: 0.0799 - val_loss: 0.0106 - val_mse: 0.0106 - val_mae: 0.0764\n",
      "Epoch 23/30\n",
      "161/161 [==============================] - 1s 5ms/step - loss: 0.0109 - mse: 0.0109 - mae: 0.0789 - val_loss: 0.0103 - val_mse: 0.0103 - val_mae: 0.0741\n",
      "Epoch 24/30\n",
      "161/161 [==============================] - 1s 4ms/step - loss: 0.0108 - mse: 0.0108 - mae: 0.0782 - val_loss: 0.0102 - val_mse: 0.0102 - val_mae: 0.0772\n",
      "Epoch 25/30\n",
      "161/161 [==============================] - 1s 5ms/step - loss: 0.0106 - mse: 0.0106 - mae: 0.0777 - val_loss: 0.0100 - val_mse: 0.0100 - val_mae: 0.0750\n",
      "Epoch 26/30\n",
      "161/161 [==============================] - 1s 5ms/step - loss: 0.0106 - mse: 0.0106 - mae: 0.0776 - val_loss: 0.0102 - val_mse: 0.0102 - val_mae: 0.0780\n",
      "Epoch 27/30\n",
      "161/161 [==============================] - 1s 5ms/step - loss: 0.0104 - mse: 0.0104 - mae: 0.0772 - val_loss: 0.0114 - val_mse: 0.0114 - val_mae: 0.0750\n",
      "Epoch 28/30\n",
      "161/161 [==============================] - 1s 4ms/step - loss: 0.0106 - mse: 0.0106 - mae: 0.0775 - val_loss: 0.0099 - val_mse: 0.0099 - val_mae: 0.0733\n",
      "Epoch 29/30\n",
      "161/161 [==============================] - 1s 8ms/step - loss: 0.0104 - mse: 0.0104 - mae: 0.0767 - val_loss: 0.0097 - val_mse: 0.0097 - val_mae: 0.0741\n",
      "Epoch 30/30\n",
      "161/161 [==============================] - 1s 5ms/step - loss: 0.0104 - mse: 0.0104 - mae: 0.0770 - val_loss: 0.0101 - val_mse: 0.0101 - val_mae: 0.0785\n",
      "313/313 [==============================] - 1s 3ms/step\n"
     ]
    }
   ],
   "source": [
    "model.compile(loss='mse', optimizer='adam', metrics=['mse','mae'])\n",
    "history=model.fit(xtrain_scale, ytrain_scale, epochs=30, batch_size=150, verbose=1, validation_split=0.2)\n",
    "predictions = model.predict(xval_scale)"
   ]
  },
  {
   "cell_type": "code",
   "execution_count": 16,
   "metadata": {},
   "outputs": [
    {
     "name": "stdout",
     "output_type": "stream",
     "text": [
      "dict_keys(['loss', 'mse', 'mae', 'val_loss', 'val_mse', 'val_mae'])\n"
     ]
    },
    {
     "data": {
      "image/png": "[encoded data removed]",
      "text/plain": [
       "<Figure size 640x480 with 1 Axes>"
      ]
     },
     "metadata": {},
     "output_type": "display_data"
    }
   ],
   "source": [
    "print(history.history.keys())\n",
    "# \"Loss\"\n",
    "plt.plot(history.history['loss'])\n",
    "plt.plot(history.history['val_loss'])\n",
    "plt.title('model loss')\n",
    "plt.ylabel('loss')\n",
    "plt.xlabel('epoch')\n",
    "plt.legend(['train', 'validation'], loc='upper left')\n",
    "plt.show()"
   ]
  },
  {
   "cell_type": "markdown",
   "metadata": {},
   "source": [
    "## Accuracy on validation set"
   ]
  },
  {
   "cell_type": "code",
   "execution_count": 17,
   "metadata": {},
   "outputs": [
    {
     "data": {
      "text/plain": [
       "array([[ 92.935555],\n",
       "       [127.791084],\n",
       "       [ 86.87735 ],\n",
       "       ...,\n",
       "       [ 87.19429 ],\n",
       "       [ 71.56594 ],\n",
       "       [ 99.56055 ]], dtype=float32)"
      ]
     },
     "execution_count": 17,
     "metadata": {},
     "output_type": "execute_result"
    }
   ],
   "source": [
    "predictions = scaler_y.inverse_transform(predictions)\n",
    "predictions"
   ]
  },
  {
   "cell_type": "code",
   "execution_count": 18,
   "metadata": {},
   "outputs": [
    {
     "data": {
      "text/plain": [
       "40.674805370641245"
      ]
     },
     "execution_count": 18,
     "metadata": {},
     "output_type": "execute_result"
    }
   ],
   "source": [
    "mean_absolute_error(y_val, predictions)"
   ]
  },
  {
   "cell_type": "code",
   "execution_count": 19,
   "metadata": {},
   "outputs": [
    {
     "data": {
      "text/plain": [
       "54.48860419666049"
      ]
     },
     "execution_count": 19,
     "metadata": {},
     "output_type": "execute_result"
    }
   ],
   "source": [
    "mean_squared_error(y_val, predictions)\n",
    "math.sqrt(mean_squared_error(y_val, predictions))"
   ]
  },
  {
   "cell_type": "code",
   "execution_count": 20,
   "metadata": {},
   "outputs": [
    {
     "data": {
      "text/plain": [
       "94.62558861707438"
      ]
     },
     "execution_count": 20,
     "metadata": {},
     "output_type": "execute_result"
    }
   ],
   "source": [
    "np.mean(y_val)"
   ]
  },
  {
   "cell_type": "code",
   "execution_count": 21,
   "metadata": {},
   "outputs": [
    {
     "data": {
      "text/plain": [
       "98.08243"
      ]
     },
     "execution_count": 21,
     "metadata": {},
     "output_type": "execute_result"
    }
   ],
   "source": [
    "np.mean(predictions)"
   ]
  },
  {
   "cell_type": "markdown",
   "metadata": {},
   "source": [
    "# Test Data and Accuracy Readings"
   ]
  },
  {
   "cell_type": "code",
   "execution_count": 22,
   "metadata": {},
   "outputs": [
    {
     "data": {
      "text/html": [
       "<div>\n",
       "<style scoped>\n",
       "    .dataframe tbody tr th:only-of-type {\n",
       "        vertical-align: middle;\n",
       "    }\n",
       "\n",
       "    .dataframe tbody tr th {\n",
       "        vertical-align: top;\n",
       "    }\n",
       "\n",
       "    .dataframe thead th {\n",
       "        text-align: right;\n",
       "    }\n",
       "</style>\n",
       "<table border=\"1\" class=\"dataframe\">\n",
       "  <thead>\n",
       "    <tr style=\"text-align: right;\">\n",
       "      <th></th>\n",
       "      <th>IsCanceled</th>\n",
       "      <th>LeadTime</th>\n",
       "      <th>ArrivalDateYear</th>\n",
       "      <th>ArrivalDateMonth</th>\n",
       "      <th>ArrivalDateWeekNumber</th>\n",
       "      <th>ArrivalDateDayOfMonth</th>\n",
       "      <th>StaysInWeekendNights</th>\n",
       "      <th>StaysInWeekNights</th>\n",
       "      <th>Adults</th>\n",
       "      <th>Children</th>\n",
       "      <th>...</th>\n",
       "      <th>DepositType</th>\n",
       "      <th>Agent</th>\n",
       "      <th>Company</th>\n",
       "      <th>DaysInWaitingList</th>\n",
       "      <th>CustomerType</th>\n",
       "      <th>ADR</th>\n",
       "      <th>RequiredCarParkingSpaces</th>\n",
       "      <th>TotalOfSpecialRequests</th>\n",
       "      <th>ReservationStatus</th>\n",
       "      <th>ReservationStatusDate</th>\n",
       "    </tr>\n",
       "  </thead>\n",
       "  <tbody>\n",
       "    <tr>\n",
       "      <th>0</th>\n",
       "      <td>0</td>\n",
       "      <td>6</td>\n",
       "      <td>2015</td>\n",
       "      <td>July</td>\n",
       "      <td>27</td>\n",
       "      <td>1</td>\n",
       "      <td>0</td>\n",
       "      <td>2</td>\n",
       "      <td>1</td>\n",
       "      <td>0.0</td>\n",
       "      <td>...</td>\n",
       "      <td>No Deposit</td>\n",
       "      <td>6</td>\n",
       "      <td>NULL</td>\n",
       "      <td>0</td>\n",
       "      <td>Transient</td>\n",
       "      <td>0.0</td>\n",
       "      <td>0</td>\n",
       "      <td>0</td>\n",
       "      <td>Check-Out</td>\n",
       "      <td>2015-07-03</td>\n",
       "    </tr>\n",
       "    <tr>\n",
       "      <th>1</th>\n",
       "      <td>1</td>\n",
       "      <td>88</td>\n",
       "      <td>2015</td>\n",
       "      <td>July</td>\n",
       "      <td>27</td>\n",
       "      <td>1</td>\n",
       "      <td>0</td>\n",
       "      <td>4</td>\n",
       "      <td>2</td>\n",
       "      <td>0.0</td>\n",
       "      <td>...</td>\n",
       "      <td>No Deposit</td>\n",
       "      <td>9</td>\n",
       "      <td>NULL</td>\n",
       "      <td>0</td>\n",
       "      <td>Transient</td>\n",
       "      <td>76.5</td>\n",
       "      <td>0</td>\n",
       "      <td>1</td>\n",
       "      <td>Canceled</td>\n",
       "      <td>2015-07-01</td>\n",
       "    </tr>\n",
       "    <tr>\n",
       "      <th>2</th>\n",
       "      <td>1</td>\n",
       "      <td>65</td>\n",
       "      <td>2015</td>\n",
       "      <td>July</td>\n",
       "      <td>27</td>\n",
       "      <td>1</td>\n",
       "      <td>0</td>\n",
       "      <td>4</td>\n",
       "      <td>1</td>\n",
       "      <td>0.0</td>\n",
       "      <td>...</td>\n",
       "      <td>No Deposit</td>\n",
       "      <td>9</td>\n",
       "      <td>NULL</td>\n",
       "      <td>0</td>\n",
       "      <td>Transient</td>\n",
       "      <td>68.0</td>\n",
       "      <td>0</td>\n",
       "      <td>1</td>\n",
       "      <td>Canceled</td>\n",
       "      <td>2015-04-30</td>\n",
       "    </tr>\n",
       "    <tr>\n",
       "      <th>3</th>\n",
       "      <td>1</td>\n",
       "      <td>92</td>\n",
       "      <td>2015</td>\n",
       "      <td>July</td>\n",
       "      <td>27</td>\n",
       "      <td>1</td>\n",
       "      <td>2</td>\n",
       "      <td>4</td>\n",
       "      <td>2</td>\n",
       "      <td>0.0</td>\n",
       "      <td>...</td>\n",
       "      <td>No Deposit</td>\n",
       "      <td>9</td>\n",
       "      <td>NULL</td>\n",
       "      <td>0</td>\n",
       "      <td>Transient</td>\n",
       "      <td>76.5</td>\n",
       "      <td>0</td>\n",
       "      <td>2</td>\n",
       "      <td>Canceled</td>\n",
       "      <td>2015-06-23</td>\n",
       "    </tr>\n",
       "    <tr>\n",
       "      <th>4</th>\n",
       "      <td>1</td>\n",
       "      <td>100</td>\n",
       "      <td>2015</td>\n",
       "      <td>July</td>\n",
       "      <td>27</td>\n",
       "      <td>2</td>\n",
       "      <td>0</td>\n",
       "      <td>2</td>\n",
       "      <td>2</td>\n",
       "      <td>0.0</td>\n",
       "      <td>...</td>\n",
       "      <td>No Deposit</td>\n",
       "      <td>9</td>\n",
       "      <td>NULL</td>\n",
       "      <td>0</td>\n",
       "      <td>Transient</td>\n",
       "      <td>76.5</td>\n",
       "      <td>0</td>\n",
       "      <td>1</td>\n",
       "      <td>Canceled</td>\n",
       "      <td>2015-04-02</td>\n",
       "    </tr>\n",
       "  </tbody>\n",
       "</table>\n",
       "<p>5 rows × 31 columns</p>\n",
       "</div>"
      ],
      "text/plain": [
       "   IsCanceled  LeadTime  ArrivalDateYear ArrivalDateMonth   \n",
       "0           0         6             2015             July  \\\n",
       "1           1        88             2015             July   \n",
       "2           1        65             2015             July   \n",
       "3           1        92             2015             July   \n",
       "4           1       100             2015             July   \n",
       "\n",
       "   ArrivalDateWeekNumber  ArrivalDateDayOfMonth  StaysInWeekendNights   \n",
       "0                     27                      1                     0  \\\n",
       "1                     27                      1                     0   \n",
       "2                     27                      1                     0   \n",
       "3                     27                      1                     2   \n",
       "4                     27                      2                     0   \n",
       "\n",
       "   StaysInWeekNights  Adults  Children  ...      DepositType        Agent   \n",
       "0                  2       1       0.0  ...  No Deposit                 6  \\\n",
       "1                  4       2       0.0  ...  No Deposit                 9   \n",
       "2                  4       1       0.0  ...  No Deposit                 9   \n",
       "3                  4       2       0.0  ...  No Deposit                 9   \n",
       "4                  2       2       0.0  ...  No Deposit                 9   \n",
       "\n",
       "       Company DaysInWaitingList CustomerType   ADR  RequiredCarParkingSpaces   \n",
       "0         NULL                 0    Transient   0.0                         0  \\\n",
       "1         NULL                 0    Transient  76.5                         0   \n",
       "2         NULL                 0    Transient  68.0                         0   \n",
       "3         NULL                 0    Transient  76.5                         0   \n",
       "4         NULL                 0    Transient  76.5                         0   \n",
       "\n",
       "   TotalOfSpecialRequests ReservationStatus ReservationStatusDate  \n",
       "0                       0         Check-Out            2015-07-03  \n",
       "1                       1          Canceled            2015-07-01  \n",
       "2                       1          Canceled            2015-04-30  \n",
       "3                       2          Canceled            2015-06-23  \n",
       "4                       1          Canceled            2015-04-02  \n",
       "\n",
       "[5 rows x 31 columns]"
      ]
     },
     "execution_count": 22,
     "metadata": {},
     "output_type": "execute_result"
    }
   ],
   "source": [
    "h2data = pd.read_csv('H2.csv')\n",
    "a=h2data.head()\n",
    "a"
   ]
  },
  {
   "cell_type": "code",
   "execution_count": 23,
   "metadata": {},
   "outputs": [],
   "source": [
    "t_leadtime = h2data['LeadTime'] #1\n",
    "t_arrivaldateyear = h2data['ArrivalDateYear']\n",
    "t_arrivaldateweekno = h2data['ArrivalDateWeekNumber']\n",
    "t_arrivaldatedayofmonth = h2data['ArrivalDateDayOfMonth']\n",
    "t_staysweekendnights = h2data['StaysInWeekendNights'] #2\n",
    "t_staysweeknights = h2data['StaysInWeekNights'] #3\n",
    "t_adults = h2data['Adults'] #4\n",
    "t_children = h2data['Children'] #5\n",
    "t_babies = h2data['Babies'] #6\n",
    "t_isrepeatedguest = h2data['IsRepeatedGuest'] #11\n",
    "t_previouscancellations = h2data['PreviousCancellations'] #12\n",
    "t_previousbookingsnotcanceled = h2data['PreviousBookingsNotCanceled'] #13\n",
    "t_bookingchanges = h2data['BookingChanges'] #16\n",
    "t_agent = h2data['Agent'] #18\n",
    "t_company = h2data['Company'] #19\n",
    "t_dayswaitinglist = h2data['DaysInWaitingList'] #20\n",
    "t_adr = h2data['ADR'] #22\n",
    "t_rcps = h2data['RequiredCarParkingSpaces'] #23\n",
    "t_totalsqr = h2data['TotalOfSpecialRequests'] #24"
   ]
  },
  {
   "cell_type": "code",
   "execution_count": 24,
   "metadata": {},
   "outputs": [],
   "source": [
    "# Categorical variables\n",
    "t_IsCanceled = h2data['IsCanceled']\n",
    "t_arrivaldatemonth = h2data.ArrivalDateMonth.astype(\"category\").cat.codes\n",
    "t_arrivaldatemonthcat = pd.Series(t_arrivaldatemonth)\n",
    "t_mealcat=h2data.Meal.astype(\"category\").cat.codes\n",
    "t_mealcat=pd.Series(t_mealcat)\n",
    "t_countrycat=h2data.Country.astype(\"category\").cat.codes\n",
    "t_countrycat=pd.Series(t_countrycat)\n",
    "t_marketsegmentcat=h2data.MarketSegment.astype(\"category\").cat.codes\n",
    "t_marketsegmentcat=pd.Series(t_marketsegmentcat)\n",
    "t_distributionchannelcat=h2data.DistributionChannel.astype(\"category\").cat.codes\n",
    "t_distributionchannelcat=pd.Series(t_distributionchannelcat)\n",
    "t_reservedroomtypecat=h2data.ReservedRoomType.astype(\"category\").cat.codes\n",
    "t_reservedroomtypecat=pd.Series(t_reservedroomtypecat)\n",
    "t_assignedroomtypecat=h2data.AssignedRoomType.astype(\"category\").cat.codes\n",
    "t_assignedroomtypecat=pd.Series(t_assignedroomtypecat)\n",
    "t_deposittypecat=h2data.DepositType.astype(\"category\").cat.codes\n",
    "t_deposittypecat=pd.Series(t_deposittypecat)\n",
    "t_customertypecat=h2data.CustomerType.astype(\"category\").cat.codes\n",
    "t_customertypecat=pd.Series(t_customertypecat)\n",
    "t_reservationstatuscat=h2data.ReservationStatus.astype(\"category\").cat.codes\n",
    "t_reservationstatuscat=pd.Series(t_reservationstatuscat)"
   ]
  },
  {
   "cell_type": "code",
   "execution_count": 25,
   "metadata": {},
   "outputs": [],
   "source": [
    "atest = np.column_stack((t_IsCanceled,t_countrycat,t_marketsegmentcat,t_deposittypecat,t_customertypecat,t_rcps,t_arrivaldateweekno))\n",
    "atest = sm.add_constant(atest, prepend=True)\n",
    "btest = t_adr\n",
    "btest=btest.values"
   ]
  },
  {
   "cell_type": "code",
   "execution_count": 26,
   "metadata": {},
   "outputs": [
    {
     "data": {
      "text/plain": [
       "(79330, 8)"
      ]
     },
     "execution_count": 26,
     "metadata": {},
     "output_type": "execute_result"
    }
   ],
   "source": [
    "np.shape(atest)"
   ]
  },
  {
   "cell_type": "code",
   "execution_count": 27,
   "metadata": {},
   "outputs": [
    {
     "name": "stdout",
     "output_type": "stream",
     "text": [
      "MinMaxScaler()\n"
     ]
    }
   ],
   "source": [
    "scaler_atest = MinMaxScaler()\n",
    "print(scaler_atest.fit(atest))\n",
    "ascale=scaler_atest.transform(atest)"
   ]
  },
  {
   "cell_type": "code",
   "execution_count": 28,
   "metadata": {},
   "outputs": [
    {
     "data": {
      "text/plain": [
       "(79330, 8)"
      ]
     },
     "execution_count": 28,
     "metadata": {},
     "output_type": "execute_result"
    }
   ],
   "source": [
    "np.shape(ascale)"
   ]
  },
  {
   "cell_type": "code",
   "execution_count": 29,
   "metadata": {},
   "outputs": [
    {
     "name": "stdout",
     "output_type": "stream",
     "text": [
      "2480/2480 [==============================] - 3s 1ms/step\n"
     ]
    },
    {
     "data": {
      "text/plain": [
       "array([[0.2526181 ],\n",
       "       [0.28530645],\n",
       "       [0.28530645],\n",
       "       ...,\n",
       "       [0.23825729],\n",
       "       [0.24180111],\n",
       "       [0.23825729]], dtype=float32)"
      ]
     },
     "execution_count": 29,
     "metadata": {},
     "output_type": "execute_result"
    }
   ],
   "source": [
    "bpred = model.predict(ascale)\n",
    "bpred"
   ]
  },
  {
   "cell_type": "code",
   "execution_count": 30,
   "metadata": {},
   "outputs": [],
   "source": [
    "bpred = scaler_y.inverse_transform(bpred)"
   ]
  },
  {
   "cell_type": "code",
   "execution_count": 31,
   "metadata": {},
   "outputs": [
    {
     "data": {
      "text/plain": [
       "array([[107.67847 ],\n",
       "       [121.61188 ],\n",
       "       [121.61188 ],\n",
       "       ...,\n",
       "       [101.55717 ],\n",
       "       [103.067726],\n",
       "       [101.55717 ]], dtype=float32)"
      ]
     },
     "execution_count": 31,
     "metadata": {},
     "output_type": "execute_result"
    }
   ],
   "source": [
    "bpred"
   ]
  },
  {
   "cell_type": "code",
   "execution_count": 32,
   "metadata": {},
   "outputs": [
    {
     "data": {
      "text/plain": [
       "array([  0.  ,  76.5 ,  68.  , ..., 157.71, 104.4 , 151.2 ])"
      ]
     },
     "execution_count": 32,
     "metadata": {},
     "output_type": "execute_result"
    }
   ],
   "source": [
    "btest"
   ]
  },
  {
   "cell_type": "code",
   "execution_count": 33,
   "metadata": {},
   "outputs": [
    {
     "data": {
      "text/plain": [
       "(79330,)"
      ]
     },
     "execution_count": 33,
     "metadata": {},
     "output_type": "execute_result"
    }
   ],
   "source": [
    "np.shape(btest)"
   ]
  },
  {
   "cell_type": "code",
   "execution_count": 34,
   "metadata": {},
   "outputs": [
    {
     "data": {
      "text/plain": [
       "(79330, 1)"
      ]
     },
     "execution_count": 34,
     "metadata": {},
     "output_type": "execute_result"
    }
   ],
   "source": [
    "np.shape(bpred)"
   ]
  },
  {
   "cell_type": "code",
   "execution_count": 35,
   "metadata": {},
   "outputs": [],
   "source": [
    "bpred=np.reshape(bpred, (79330,)) "
   ]
  },
  {
   "cell_type": "code",
   "execution_count": 36,
   "metadata": {},
   "outputs": [
    {
     "data": {
      "text/plain": [
       "(79330,)"
      ]
     },
     "execution_count": 36,
     "metadata": {},
     "output_type": "execute_result"
    }
   ],
   "source": [
    "np.shape(bpred)"
   ]
  },
  {
   "cell_type": "markdown",
   "metadata": {},
   "source": [
    "## Accuracy on test set"
   ]
  },
  {
   "cell_type": "code",
   "execution_count": 37,
   "metadata": {},
   "outputs": [
    {
     "data": {
      "text/plain": [
       "29.54354074298041"
      ]
     },
     "execution_count": 37,
     "metadata": {},
     "output_type": "execute_result"
    }
   ],
   "source": [
    "mean_absolute_error(btest, bpred)"
   ]
  },
  {
   "cell_type": "code",
   "execution_count": 38,
   "metadata": {},
   "outputs": [
    {
     "data": {
      "text/plain": [
       "1996.8632772215315"
      ]
     },
     "execution_count": 38,
     "metadata": {},
     "output_type": "execute_result"
    }
   ],
   "source": [
    "mean_squared_error(btest, bpred)"
   ]
  },
  {
   "cell_type": "code",
   "execution_count": 39,
   "metadata": {},
   "outputs": [
    {
     "data": {
      "text/plain": [
       "44.68627616194408"
      ]
     },
     "execution_count": 39,
     "metadata": {},
     "output_type": "execute_result"
    }
   ],
   "source": [
    "math.sqrt(mean_squared_error(btest, bpred))"
   ]
  },
  {
   "cell_type": "code",
   "execution_count": 40,
   "metadata": {},
   "outputs": [
    {
     "data": {
      "text/plain": [
       "105.30446539770578"
      ]
     },
     "execution_count": 40,
     "metadata": {},
     "output_type": "execute_result"
    }
   ],
   "source": [
    "np.mean(btest)"
   ]
  },
  {
   "cell_type": "code",
   "execution_count": 41,
   "metadata": {},
   "outputs": [
    {
     "data": {
      "text/plain": [
       "5400.0"
      ]
     },
     "execution_count": 41,
     "metadata": {},
     "output_type": "execute_result"
    }
   ],
   "source": [
    "np.max(btest)"
   ]
  },
  {
   "cell_type": "code",
   "execution_count": 42,
   "metadata": {},
   "outputs": [
    {
     "data": {
      "text/plain": [
       "132.3"
      ]
     },
     "execution_count": 42,
     "metadata": {},
     "output_type": "execute_result"
    }
   ],
   "source": [
    "np.quantile(btest, 0.8)"
   ]
  },
  {
   "cell_type": "code",
   "execution_count": 43,
   "metadata": {},
   "outputs": [
    {
     "data": {
      "text/plain": [
       "156.3030000000002"
      ]
     },
     "execution_count": 43,
     "metadata": {},
     "output_type": "execute_result"
    }
   ],
   "source": [
    "np.quantile(btest, 0.9)"
   ]
  },
  {
   "cell_type": "code",
   "execution_count": 44,
   "metadata": {},
   "outputs": [
    {
     "data": {
      "text/plain": [
       "175.5"
      ]
     },
     "execution_count": 44,
     "metadata": {},
     "output_type": "execute_result"
    }
   ],
   "source": [
    "np.quantile(btest, 0.95)"
   ]
  },
  {
   "cell_type": "code",
   "execution_count": 45,
   "metadata": {},
   "outputs": [
    {
     "data": {
      "text/plain": [
       "228.0"
      ]
     },
     "execution_count": 45,
     "metadata": {},
     "output_type": "execute_result"
    }
   ],
   "source": [
    "np.quantile(btest, 0.99)"
   ]
  },
  {
   "cell_type": "code",
   "execution_count": 46,
   "metadata": {},
   "outputs": [
    {
     "data": {
      "text/plain": [
       "90.00989"
      ]
     },
     "execution_count": 46,
     "metadata": {},
     "output_type": "execute_result"
    }
   ],
   "source": [
    "np.mean(bpred)"
   ]
  }
 ],
 "metadata": {
  "kernelspec": {
   "display_name": "Python 3 (ipykernel)",
   "language": "python",
   "name": "python3"
  },
  "language_info": {
   "codemirror_mode": {
    "name": "ipython",
    "version": 3
   },
   "file_extension": ".py",
   "mimetype": "text/x-python",
   "name": "python",
   "nbconvert_exporter": "python",
   "pygments_lexer": "ipython3",
   "version": "3.8.10"
  }
 },
 "nbformat": 4,
 "nbformat_minor": 4
}
