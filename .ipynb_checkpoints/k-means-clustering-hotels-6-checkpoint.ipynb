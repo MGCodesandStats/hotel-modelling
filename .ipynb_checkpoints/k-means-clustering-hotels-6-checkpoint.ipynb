{
 "cells": [
  {
   "cell_type": "code",
   "execution_count": 1,
   "metadata": {},
   "outputs": [
    {
     "name": "stdout",
     "output_type": "stream",
     "text": [
      "3.6.9\n"
     ]
    }
   ],
   "source": [
    "from platform import python_version\n",
    "print(python_version())"
   ]
  },
  {
   "cell_type": "code",
   "execution_count": 2,
   "metadata": {},
   "outputs": [],
   "source": [
    "import numpy as np\n",
    "from numpy.random import seed\n",
    "seed(1)\n",
    "\n",
    "import os\n",
    "import csv\n",
    "import matplotlib.pyplot as plt\n",
    "import random\n",
    "import pandas as pd\n",
    "from sklearn.preprocessing import MinMaxScaler"
   ]
  },
  {
   "cell_type": "code",
   "execution_count": 3,
   "metadata": {},
   "outputs": [
    {
     "data": {
      "text/html": [
       "<div>\n",
       "<style scoped>\n",
       "    .dataframe tbody tr th:only-of-type {\n",
       "        vertical-align: middle;\n",
       "    }\n",
       "\n",
       "    .dataframe tbody tr th {\n",
       "        vertical-align: top;\n",
       "    }\n",
       "\n",
       "    .dataframe thead th {\n",
       "        text-align: right;\n",
       "    }\n",
       "</style>\n",
       "<table border=\"1\" class=\"dataframe\">\n",
       "  <thead>\n",
       "    <tr style=\"text-align: right;\">\n",
       "      <th></th>\n",
       "      <th>IsCanceled</th>\n",
       "      <th>LeadTime</th>\n",
       "      <th>ArrivalDateYear</th>\n",
       "      <th>ArrivalDateMonth</th>\n",
       "      <th>ArrivalDateWeekNumber</th>\n",
       "      <th>ArrivalDateDayOfMonth</th>\n",
       "      <th>StaysInWeekendNights</th>\n",
       "      <th>StaysInWeekNights</th>\n",
       "      <th>Adults</th>\n",
       "      <th>Children</th>\n",
       "      <th>...</th>\n",
       "      <th>DepositType</th>\n",
       "      <th>Agent</th>\n",
       "      <th>Company</th>\n",
       "      <th>DaysInWaitingList</th>\n",
       "      <th>CustomerType</th>\n",
       "      <th>ADR</th>\n",
       "      <th>RequiredCarParkingSpaces</th>\n",
       "      <th>TotalOfSpecialRequests</th>\n",
       "      <th>ReservationStatus</th>\n",
       "      <th>ReservationStatusDate</th>\n",
       "    </tr>\n",
       "  </thead>\n",
       "  <tbody>\n",
       "    <tr>\n",
       "      <th>45</th>\n",
       "      <td>1</td>\n",
       "      <td>47</td>\n",
       "      <td>2015</td>\n",
       "      <td>July</td>\n",
       "      <td>27</td>\n",
       "      <td>2</td>\n",
       "      <td>2</td>\n",
       "      <td>5</td>\n",
       "      <td>2</td>\n",
       "      <td>2</td>\n",
       "      <td>...</td>\n",
       "      <td>No Deposit</td>\n",
       "      <td>240</td>\n",
       "      <td>NULL</td>\n",
       "      <td>0</td>\n",
       "      <td>Transient</td>\n",
       "      <td>153.00</td>\n",
       "      <td>0</td>\n",
       "      <td>0</td>\n",
       "      <td>Canceled</td>\n",
       "      <td>2015-06-02</td>\n",
       "    </tr>\n",
       "    <tr>\n",
       "      <th>15371</th>\n",
       "      <td>0</td>\n",
       "      <td>186</td>\n",
       "      <td>2015</td>\n",
       "      <td>July</td>\n",
       "      <td>28</td>\n",
       "      <td>7</td>\n",
       "      <td>0</td>\n",
       "      <td>4</td>\n",
       "      <td>2</td>\n",
       "      <td>0</td>\n",
       "      <td>...</td>\n",
       "      <td>No Deposit</td>\n",
       "      <td>240</td>\n",
       "      <td>NULL</td>\n",
       "      <td>0</td>\n",
       "      <td>Transient</td>\n",
       "      <td>154.00</td>\n",
       "      <td>0</td>\n",
       "      <td>1</td>\n",
       "      <td>Check-Out</td>\n",
       "      <td>2015-07-11</td>\n",
       "    </tr>\n",
       "    <tr>\n",
       "      <th>15588</th>\n",
       "      <td>0</td>\n",
       "      <td>33</td>\n",
       "      <td>2015</td>\n",
       "      <td>July</td>\n",
       "      <td>30</td>\n",
       "      <td>20</td>\n",
       "      <td>2</td>\n",
       "      <td>5</td>\n",
       "      <td>2</td>\n",
       "      <td>2</td>\n",
       "      <td>...</td>\n",
       "      <td>No Deposit</td>\n",
       "      <td>242</td>\n",
       "      <td>NULL</td>\n",
       "      <td>0</td>\n",
       "      <td>Transient</td>\n",
       "      <td>168.30</td>\n",
       "      <td>0</td>\n",
       "      <td>1</td>\n",
       "      <td>Check-Out</td>\n",
       "      <td>2015-07-27</td>\n",
       "    </tr>\n",
       "    <tr>\n",
       "      <th>684</th>\n",
       "      <td>0</td>\n",
       "      <td>43</td>\n",
       "      <td>2015</td>\n",
       "      <td>July</td>\n",
       "      <td>30</td>\n",
       "      <td>25</td>\n",
       "      <td>2</td>\n",
       "      <td>4</td>\n",
       "      <td>2</td>\n",
       "      <td>0</td>\n",
       "      <td>...</td>\n",
       "      <td>No Deposit</td>\n",
       "      <td>250</td>\n",
       "      <td>NULL</td>\n",
       "      <td>0</td>\n",
       "      <td>Transient</td>\n",
       "      <td>134.00</td>\n",
       "      <td>0</td>\n",
       "      <td>0</td>\n",
       "      <td>Check-Out</td>\n",
       "      <td>2015-07-31</td>\n",
       "    </tr>\n",
       "    <tr>\n",
       "      <th>16085</th>\n",
       "      <td>0</td>\n",
       "      <td>51</td>\n",
       "      <td>2015</td>\n",
       "      <td>August</td>\n",
       "      <td>32</td>\n",
       "      <td>7</td>\n",
       "      <td>2</td>\n",
       "      <td>5</td>\n",
       "      <td>2</td>\n",
       "      <td>0</td>\n",
       "      <td>...</td>\n",
       "      <td>No Deposit</td>\n",
       "      <td>240</td>\n",
       "      <td>NULL</td>\n",
       "      <td>0</td>\n",
       "      <td>Transient</td>\n",
       "      <td>166.50</td>\n",
       "      <td>0</td>\n",
       "      <td>1</td>\n",
       "      <td>Check-Out</td>\n",
       "      <td>2015-08-14</td>\n",
       "    </tr>\n",
       "    <tr>\n",
       "      <th>...</th>\n",
       "      <td>...</td>\n",
       "      <td>...</td>\n",
       "      <td>...</td>\n",
       "      <td>...</td>\n",
       "      <td>...</td>\n",
       "      <td>...</td>\n",
       "      <td>...</td>\n",
       "      <td>...</td>\n",
       "      <td>...</td>\n",
       "      <td>...</td>\n",
       "      <td>...</td>\n",
       "      <td>...</td>\n",
       "      <td>...</td>\n",
       "      <td>...</td>\n",
       "      <td>...</td>\n",
       "      <td>...</td>\n",
       "      <td>...</td>\n",
       "      <td>...</td>\n",
       "      <td>...</td>\n",
       "      <td>...</td>\n",
       "      <td>...</td>\n",
       "    </tr>\n",
       "    <tr>\n",
       "      <th>12705</th>\n",
       "      <td>1</td>\n",
       "      <td>17</td>\n",
       "      <td>2017</td>\n",
       "      <td>July</td>\n",
       "      <td>28</td>\n",
       "      <td>13</td>\n",
       "      <td>0</td>\n",
       "      <td>1</td>\n",
       "      <td>1</td>\n",
       "      <td>0</td>\n",
       "      <td>...</td>\n",
       "      <td>No Deposit</td>\n",
       "      <td>NULL</td>\n",
       "      <td>20</td>\n",
       "      <td>0</td>\n",
       "      <td>Transient</td>\n",
       "      <td>135.00</td>\n",
       "      <td>0</td>\n",
       "      <td>0</td>\n",
       "      <td>No-Show</td>\n",
       "      <td>2017-07-13</td>\n",
       "    </tr>\n",
       "    <tr>\n",
       "      <th>38804</th>\n",
       "      <td>0</td>\n",
       "      <td>18</td>\n",
       "      <td>2017</td>\n",
       "      <td>July</td>\n",
       "      <td>30</td>\n",
       "      <td>29</td>\n",
       "      <td>0</td>\n",
       "      <td>1</td>\n",
       "      <td>2</td>\n",
       "      <td>2</td>\n",
       "      <td>...</td>\n",
       "      <td>No Deposit</td>\n",
       "      <td>240</td>\n",
       "      <td>NULL</td>\n",
       "      <td>0</td>\n",
       "      <td>Transient-Party</td>\n",
       "      <td>255.00</td>\n",
       "      <td>0</td>\n",
       "      <td>2</td>\n",
       "      <td>Check-Out</td>\n",
       "      <td>2017-07-30</td>\n",
       "    </tr>\n",
       "    <tr>\n",
       "      <th>39412</th>\n",
       "      <td>0</td>\n",
       "      <td>256</td>\n",
       "      <td>2017</td>\n",
       "      <td>August</td>\n",
       "      <td>32</td>\n",
       "      <td>8</td>\n",
       "      <td>2</td>\n",
       "      <td>7</td>\n",
       "      <td>2</td>\n",
       "      <td>1</td>\n",
       "      <td>...</td>\n",
       "      <td>No Deposit</td>\n",
       "      <td>479</td>\n",
       "      <td>NULL</td>\n",
       "      <td>0</td>\n",
       "      <td>Transient</td>\n",
       "      <td>172.81</td>\n",
       "      <td>0</td>\n",
       "      <td>4</td>\n",
       "      <td>Check-Out</td>\n",
       "      <td>2017-08-17</td>\n",
       "    </tr>\n",
       "    <tr>\n",
       "      <th>39459</th>\n",
       "      <td>0</td>\n",
       "      <td>17</td>\n",
       "      <td>2017</td>\n",
       "      <td>August</td>\n",
       "      <td>33</td>\n",
       "      <td>16</td>\n",
       "      <td>0</td>\n",
       "      <td>3</td>\n",
       "      <td>2</td>\n",
       "      <td>0</td>\n",
       "      <td>...</td>\n",
       "      <td>No Deposit</td>\n",
       "      <td>241</td>\n",
       "      <td>NULL</td>\n",
       "      <td>0</td>\n",
       "      <td>Transient</td>\n",
       "      <td>178.39</td>\n",
       "      <td>0</td>\n",
       "      <td>1</td>\n",
       "      <td>Check-Out</td>\n",
       "      <td>2017-08-19</td>\n",
       "    </tr>\n",
       "    <tr>\n",
       "      <th>27753</th>\n",
       "      <td>0</td>\n",
       "      <td>4</td>\n",
       "      <td>2017</td>\n",
       "      <td>August</td>\n",
       "      <td>35</td>\n",
       "      <td>29</td>\n",
       "      <td>0</td>\n",
       "      <td>4</td>\n",
       "      <td>2</td>\n",
       "      <td>0</td>\n",
       "      <td>...</td>\n",
       "      <td>No Deposit</td>\n",
       "      <td>240</td>\n",
       "      <td>NULL</td>\n",
       "      <td>0</td>\n",
       "      <td>Transient</td>\n",
       "      <td>196.50</td>\n",
       "      <td>1</td>\n",
       "      <td>2</td>\n",
       "      <td>Check-Out</td>\n",
       "      <td>2017-09-02</td>\n",
       "    </tr>\n",
       "  </tbody>\n",
       "</table>\n",
       "<p>100 rows × 31 columns</p>\n",
       "</div>"
      ],
      "text/plain": [
       "       IsCanceled  LeadTime  ArrivalDateYear ArrivalDateMonth  \\\n",
       "45              1        47             2015             July   \n",
       "15371           0       186             2015             July   \n",
       "15588           0        33             2015             July   \n",
       "684             0        43             2015             July   \n",
       "16085           0        51             2015           August   \n",
       "...           ...       ...              ...              ...   \n",
       "12705           1        17             2017             July   \n",
       "38804           0        18             2017             July   \n",
       "39412           0       256             2017           August   \n",
       "39459           0        17             2017           August   \n",
       "27753           0         4             2017           August   \n",
       "\n",
       "       ArrivalDateWeekNumber  ArrivalDateDayOfMonth  StaysInWeekendNights  \\\n",
       "45                        27                      2                     2   \n",
       "15371                     28                      7                     0   \n",
       "15588                     30                     20                     2   \n",
       "684                       30                     25                     2   \n",
       "16085                     32                      7                     2   \n",
       "...                      ...                    ...                   ...   \n",
       "12705                     28                     13                     0   \n",
       "38804                     30                     29                     0   \n",
       "39412                     32                      8                     2   \n",
       "39459                     33                     16                     0   \n",
       "27753                     35                     29                     0   \n",
       "\n",
       "       StaysInWeekNights  Adults  Children  ...      DepositType        Agent  \\\n",
       "45                     5       2         2  ...  No Deposit               240   \n",
       "15371                  4       2         0  ...  No Deposit               240   \n",
       "15588                  5       2         2  ...  No Deposit               242   \n",
       "684                    4       2         0  ...  No Deposit               250   \n",
       "16085                  5       2         0  ...  No Deposit               240   \n",
       "...                  ...     ...       ...  ...              ...          ...   \n",
       "12705                  1       1         0  ...  No Deposit              NULL   \n",
       "38804                  1       2         2  ...  No Deposit               240   \n",
       "39412                  7       2         1  ...  No Deposit               479   \n",
       "39459                  3       2         0  ...  No Deposit               241   \n",
       "27753                  4       2         0  ...  No Deposit               240   \n",
       "\n",
       "           Company DaysInWaitingList     CustomerType     ADR  \\\n",
       "45            NULL                 0        Transient  153.00   \n",
       "15371         NULL                 0        Transient  154.00   \n",
       "15588         NULL                 0        Transient  168.30   \n",
       "684           NULL                 0        Transient  134.00   \n",
       "16085         NULL                 0        Transient  166.50   \n",
       "...            ...               ...              ...     ...   \n",
       "12705           20                 0        Transient  135.00   \n",
       "38804         NULL                 0  Transient-Party  255.00   \n",
       "39412         NULL                 0        Transient  172.81   \n",
       "39459         NULL                 0        Transient  178.39   \n",
       "27753         NULL                 0        Transient  196.50   \n",
       "\n",
       "       RequiredCarParkingSpaces  TotalOfSpecialRequests ReservationStatus  \\\n",
       "45                            0                       0          Canceled   \n",
       "15371                         0                       1         Check-Out   \n",
       "15588                         0                       1         Check-Out   \n",
       "684                           0                       0         Check-Out   \n",
       "16085                         0                       1         Check-Out   \n",
       "...                         ...                     ...               ...   \n",
       "12705                         0                       0           No-Show   \n",
       "38804                         0                       2         Check-Out   \n",
       "39412                         0                       4         Check-Out   \n",
       "39459                         0                       1         Check-Out   \n",
       "27753                         1                       2         Check-Out   \n",
       "\n",
       "      ReservationStatusDate  \n",
       "45               2015-06-02  \n",
       "15371            2015-07-11  \n",
       "15588            2015-07-27  \n",
       "684              2015-07-31  \n",
       "16085            2015-08-14  \n",
       "...                     ...  \n",
       "12705            2017-07-13  \n",
       "38804            2017-07-30  \n",
       "39412            2017-08-17  \n",
       "39459            2017-08-19  \n",
       "27753            2017-09-02  \n",
       "\n",
       "[100 rows x 31 columns]"
      ]
     },
     "execution_count": 3,
     "metadata": {},
     "output_type": "execute_result"
    }
   ],
   "source": [
    "df = pd.read_csv('H1.csv')\n",
    "df = df.sample(n = 100)\n",
    "a=df.head()\n",
    "b=df\n",
    "b\n",
    "b.sort_values(['ArrivalDateYear','ArrivalDateWeekNumber'], ascending=True)"
   ]
  },
  {
   "cell_type": "code",
   "execution_count": 4,
   "metadata": {},
   "outputs": [],
   "source": [
    "IsCanceled = df['IsCanceled']"
   ]
  },
  {
   "cell_type": "code",
   "execution_count": 5,
   "metadata": {},
   "outputs": [],
   "source": [
    "leadtime = df['LeadTime']\n",
    "arrivaldateyear = df['ArrivalDateYear']\n",
    "arrivaldateweekno = df['ArrivalDateWeekNumber']\n",
    "arrivaldatedayofmonth = df['ArrivalDateDayOfMonth']\n",
    "staysweekendnights = df['StaysInWeekendNights']\n",
    "staysweeknights = df['StaysInWeekNights']\n",
    "adults = df['Adults']\n",
    "children = df['Children']\n",
    "babies = df['Babies']\n",
    "previouscancellations = df['PreviousCancellations']\n",
    "previousbookingsnotcanceled = df['PreviousBookingsNotCanceled']\n",
    "bookingchanges = df['BookingChanges']\n",
    "dayswaitinglist = df['DaysInWaitingList']\n",
    "adr = df['ADR']\n",
    "rcps = df['RequiredCarParkingSpaces']\n",
    "totalsqr = df['TotalOfSpecialRequests']"
   ]
  },
  {
   "cell_type": "code",
   "execution_count": 6,
   "metadata": {},
   "outputs": [
    {
     "data": {
      "text/plain": [
       "10871        Online TA\n",
       "7752         Online TA\n",
       "35566    Offline TA/TO\n",
       "1353         Online TA\n",
       "17532        Online TA\n",
       "             ...      \n",
       "1312         Online TA\n",
       "10364           Groups\n",
       "16113           Direct\n",
       "23633        Online TA\n",
       "23406           Direct\n",
       "Name: MarketSegment, Length: 100, dtype: object"
      ]
     },
     "execution_count": 6,
     "metadata": {},
     "output_type": "execute_result"
    }
   ],
   "source": [
    "df.MarketSegment"
   ]
  },
  {
   "cell_type": "code",
   "execution_count": 7,
   "metadata": {},
   "outputs": [
    {
     "data": {
      "text/plain": [
       "10871        Online TA\n",
       "7752         Online TA\n",
       "35566    Offline TA/TO\n",
       "1353         Online TA\n",
       "17532        Online TA\n",
       "37792        Corporate\n",
       "19279           Direct\n",
       "16294           Direct\n",
       "18707        Corporate\n",
       "6113         Online TA\n",
       "6409         Online TA\n",
       "3568         Online TA\n",
       "31780           Direct\n",
       "23123        Online TA\n",
       "29768        Online TA\n",
       "11895        Online TA\n",
       "22704        Online TA\n",
       "30202        Online TA\n",
       "23618           Groups\n",
       "35322        Online TA\n",
       "Name: MarketSegment, dtype: object"
      ]
     },
     "execution_count": 7,
     "metadata": {},
     "output_type": "execute_result"
    }
   ],
   "source": [
    "df.MarketSegment[0:20]"
   ]
  },
  {
   "cell_type": "code",
   "execution_count": 8,
   "metadata": {},
   "outputs": [],
   "source": [
    "arrivaldatemonth = df.ArrivalDateMonth.astype(\"category\").cat.codes\n",
    "arrivaldatemonthcat=pd.Series(arrivaldatemonth)\n",
    "mealcat=df.Meal.astype(\"category\").cat.codes\n",
    "mealcat=pd.Series(mealcat)\n",
    "countrycat=df.Country.astype(\"category\").cat.codes\n",
    "countrycat=pd.Series(countrycat)\n",
    "marketsegmentcat=df.MarketSegment.astype(\"category\").cat.codes\n",
    "marketsegmentcat=pd.Series(marketsegmentcat)\n",
    "distributionchannelcat=df.DistributionChannel.astype(\"category\").cat.codes\n",
    "distributionchannelcat=pd.Series(distributionchannelcat)\n",
    "reservedroomtypecat=df.ReservedRoomType.astype(\"category\").cat.codes\n",
    "reservedroomtypecat=pd.Series(reservedroomtypecat)\n",
    "assignedroomtypecat=df.AssignedRoomType.astype(\"category\").cat.codes\n",
    "assignedroomtypecat=pd.Series(assignedroomtypecat)\n",
    "deposittypecat=df.DepositType.astype(\"category\").cat.codes\n",
    "deposittypecat=pd.Series(deposittypecat)\n",
    "customertypecat=df.CustomerType.astype(\"category\").cat.codes\n",
    "customertypecat=pd.Series(customertypecat)\n",
    "reservationstatuscat=df.ReservationStatus.astype(\"category\").cat.codes\n",
    "reservationstatuscat=pd.Series(reservationstatuscat)\n",
    "isrepeatedguestcat = df.IsRepeatedGuest.astype(\"category\").cat.codes\n",
    "isrepeatedguestcat=pd.Series(isrepeatedguestcat)\n",
    "agentcat = df.Agent.astype(\"category\").cat.codes\n",
    "agentcat=pd.Series(agentcat)\n",
    "companycat = df.Company.astype(\"category\").cat.codes\n",
    "companycat=pd.Series(companycat)"
   ]
  },
  {
   "cell_type": "code",
   "execution_count": 9,
   "metadata": {},
   "outputs": [
    {
     "data": {
      "text/plain": [
       "10871    4\n",
       "7752     4\n",
       "35566    3\n",
       "1353     4\n",
       "17532    4\n",
       "        ..\n",
       "1312     4\n",
       "10364    2\n",
       "16113    1\n",
       "23633    4\n",
       "23406    1\n",
       "Length: 100, dtype: int8"
      ]
     },
     "execution_count": 9,
     "metadata": {},
     "output_type": "execute_result"
    }
   ],
   "source": [
    "y1 = marketsegmentcat\n",
    "y1"
   ]
  },
  {
   "cell_type": "code",
   "execution_count": 10,
   "metadata": {},
   "outputs": [
    {
     "data": {
      "text/plain": [
       "10871    4\n",
       "7752     4\n",
       "35566    3\n",
       "1353     4\n",
       "17532    4\n",
       "37792    0\n",
       "19279    1\n",
       "16294    1\n",
       "18707    0\n",
       "6113     4\n",
       "6409     4\n",
       "3568     4\n",
       "31780    1\n",
       "23123    4\n",
       "29768    4\n",
       "11895    4\n",
       "22704    4\n",
       "30202    4\n",
       "23618    2\n",
       "35322    4\n",
       "dtype: int8"
      ]
     },
     "execution_count": 10,
     "metadata": {},
     "output_type": "execute_result"
    }
   ],
   "source": [
    "y1[0:20]"
   ]
  },
  {
   "cell_type": "code",
   "execution_count": 11,
   "metadata": {},
   "outputs": [],
   "source": [
    "y1=np.array(y1)"
   ]
  },
  {
   "cell_type": "code",
   "execution_count": 12,
   "metadata": {},
   "outputs": [],
   "source": [
    "x1 = np.column_stack((leadtime,adr))"
   ]
  },
  {
   "cell_type": "code",
   "execution_count": 13,
   "metadata": {},
   "outputs": [],
   "source": [
    "from sklearn.preprocessing import scale\n",
    "X = scale(x1)"
   ]
  },
  {
   "cell_type": "code",
   "execution_count": 14,
   "metadata": {},
   "outputs": [
    {
     "data": {
      "text/plain": [
       "(100, 2)"
      ]
     },
     "execution_count": 14,
     "metadata": {},
     "output_type": "execute_result"
    }
   ],
   "source": [
    "X.shape"
   ]
  },
  {
   "cell_type": "code",
   "execution_count": 15,
   "metadata": {},
   "outputs": [
    {
     "data": {
      "text/plain": [
       "(100,)"
      ]
     },
     "execution_count": 15,
     "metadata": {},
     "output_type": "execute_result"
    }
   ],
   "source": [
    "y1.shape"
   ]
  },
  {
   "cell_type": "code",
   "execution_count": 16,
   "metadata": {},
   "outputs": [],
   "source": [
    "from sklearn.cluster import KMeans\n",
    "Y = y1"
   ]
  },
  {
   "cell_type": "code",
   "execution_count": 17,
   "metadata": {},
   "outputs": [
    {
     "data": {
      "text/plain": [
       "array([4, 4, 3, 4, 4, 0, 1, 1, 0, 4, 4, 4, 1, 4, 4, 4, 4, 4, 2, 4, 2, 4,\n",
       "       3, 4, 2, 4, 4, 4, 2, 2, 4, 4, 4, 4, 3, 0, 1, 4, 2, 4, 3, 2, 3, 1,\n",
       "       4, 4, 3, 4, 1, 4, 4, 4, 2, 4, 2, 4, 4, 4, 4, 4, 4, 3, 2, 3, 2, 4,\n",
       "       3, 1, 3, 3, 4, 1, 0, 1, 4, 1, 3, 4, 3, 3, 0, 4, 2, 4, 1, 4, 4, 4,\n",
       "       4, 4, 1, 3, 4, 4, 1, 4, 2, 1, 4, 1], dtype=int8)"
      ]
     },
     "execution_count": 17,
     "metadata": {},
     "output_type": "execute_result"
    }
   ],
   "source": [
    "Y"
   ]
  },
  {
   "cell_type": "code",
   "execution_count": 18,
   "metadata": {},
   "outputs": [
    {
     "data": {
      "text/plain": [
       "array([[ 1.07577693, -1.01441847],\n",
       "       [-0.75329711,  2.25432473],\n",
       "       [-0.60321924, -0.80994917],\n",
       "       [-0.20926483,  0.26328418],\n",
       "       [ 0.53174465, -0.40967609],\n",
       "       [-0.82833604,  0.40156369],\n",
       "       [-0.89399511, -1.01810593],\n",
       "       [ 0.59740372,  1.40823851],\n",
       "       [-0.89399511, -1.16560407],\n",
       "       [ 0.95383866, -0.48416265],\n",
       "       [-0.34058296,  0.38312642],\n",
       "       [-0.2749239 , -1.01441847],\n",
       "       [ 1.02887759, -0.20133496],\n",
       "       [-0.4719011 , -0.6309233 ],\n",
       "       [ 0.00647211, -0.36487353],\n",
       "       [ 2.10756228, -0.44194131],\n",
       "       [-0.88461524, -0.55385552],\n",
       "       [-0.3874823 , -0.7821089 ],\n",
       "       [-0.78143671, -0.23765638],\n",
       "       [-0.05918696,  0.63866696],\n",
       "       [ 2.28577975, -0.6309233 ],\n",
       "       [ 1.07577693,  1.74250618],\n",
       "       [ 1.27275413, -0.74892182],\n",
       "       [-0.88461524, -0.92591959],\n",
       "       [ 0.10965064, -0.48342516],\n",
       "       [ 1.3665528 ,  0.5121873 ],\n",
       "       [-0.2749239 ,  1.1329701 ],\n",
       "       [-0.46252123,  1.02050277],\n",
       "       [-0.51880043, -0.79685871],\n",
       "       [ 0.18468958, -1.18404134],\n",
       "       [-0.73453737, -0.92591959],\n",
       "       [-0.70639777, -0.80792107],\n",
       "       [ 1.01949773,  1.26811528],\n",
       "       [-0.86585551,  1.52955573],\n",
       "       [-0.81895617,  0.09734877],\n",
       "       [-0.80019644, -0.98123139],\n",
       "       [-0.89399511, -0.5479556 ],\n",
       "       [-0.85647564,  1.81201468],\n",
       "       [ 3.52392217, -0.94435686],\n",
       "       [-0.82833604, -0.61248604],\n",
       "       [ 2.82981203, -0.47420653],\n",
       "       [ 2.28577975, -0.87060778],\n",
       "       [-0.6970179 , -0.70467237],\n",
       "       [ 0.38166678,  1.01441847],\n",
       "       [-0.88461524, -0.92591959],\n",
       "       [ 0.85066012,  1.0284308 ],\n",
       "       [ 0.22220905, -0.01511856],\n",
       "       [-0.72515751,  2.89059484],\n",
       "       [-0.74391724,  1.15749167],\n",
       "       [-0.73453737,  1.47811576],\n",
       "       [-0.6688783 ,  2.04248052],\n",
       "       [-0.88461524,  2.04248052],\n",
       "       [ 1.09453666, -0.40875423],\n",
       "       [-0.5844595 ,  1.29208373],\n",
       "       [ 1.44159173, -0.99303124],\n",
       "       [-0.4156219 ,  1.25889664],\n",
       "       [-0.88461524, -0.92591959],\n",
       "       [ 1.80740654, -0.33408329],\n",
       "       [-0.09670643, -0.71573473],\n",
       "       [ 0.15654998,  1.3455518 ],\n",
       "       [ 0.17530971,  0.4568755 ],\n",
       "       [ 1.34779307, -0.33592702],\n",
       "       [ 1.79802667, -1.81090844],\n",
       "       [-0.45314137, -0.51329353],\n",
       "       [ 1.01011786, -0.15155434],\n",
       "       [-0.25616416,  0.29094009],\n",
       "       [-0.26554403, -0.01327483],\n",
       "       [ 1.35717293,  0.27342468],\n",
       "       [ 1.5072508 ,  1.3752358 ],\n",
       "       [-0.87523537, -0.70467237],\n",
       "       [-0.86585551,  0.40156369],\n",
       "       [-0.87523537, -0.42811336],\n",
       "       [-0.85647564, -0.75998418],\n",
       "       [-0.85647564,  0.97311899],\n",
       "       [-0.89399511, -0.92591959],\n",
       "       [-0.49066083,  0.65968544],\n",
       "       [-0.6125991 , -0.79685871],\n",
       "       [ 0.07213118, -0.26770913],\n",
       "       [-0.3593427 , -1.091855  ],\n",
       "       [-0.87523537, -0.73232828],\n",
       "       [-0.73453737,  0.67812271],\n",
       "       [-0.88461524, -0.24374068],\n",
       "       [ 2.26702002, -0.98473447],\n",
       "       [-0.89399511, -1.01810593],\n",
       "       [ 0.75686145, -1.0641991 ],\n",
       "       [ 0.59740372, -0.84848306],\n",
       "       [ 0.54112452, -0.15155434],\n",
       "       [-0.32182323, -0.24374068],\n",
       "       [-0.79081657, -0.15763864],\n",
       "       [-0.89399511,  0.35731425],\n",
       "       [-0.81895617, -1.6634103 ],\n",
       "       [ 0.43794598,  0.34993934],\n",
       "       [-0.68763804,  2.59559856],\n",
       "       [-0.45314137,  1.00999353],\n",
       "       [-0.6407387 , -0.42811336],\n",
       "       [-0.16236549,  0.65968544],\n",
       "       [ 0.80376079, -0.73048455],\n",
       "       [-0.3312031 ,  1.6552979 ],\n",
       "       [-0.88461524, -0.61248604],\n",
       "       [-0.5000407 ,  0.01438107]])"
      ]
     },
     "execution_count": 18,
     "metadata": {},
     "output_type": "execute_result"
    }
   ],
   "source": [
    "X"
   ]
  },
  {
   "cell_type": "code",
   "execution_count": 19,
   "metadata": {},
   "outputs": [
    {
     "data": {
      "text/plain": [
       "KMeans(algorithm='auto', copy_x=True, init='k-means++', max_iter=300,\n",
       "       n_clusters=5, n_init=10, n_jobs=None, precompute_distances='auto',\n",
       "       random_state=None, tol=0.0001, verbose=0)"
      ]
     },
     "execution_count": 19,
     "metadata": {},
     "output_type": "execute_result"
    }
   ],
   "source": [
    "km = KMeans(n_clusters = 5, n_jobs = None, random_state = None)\n",
    "km.fit(X)"
   ]
  },
  {
   "cell_type": "code",
   "execution_count": 20,
   "metadata": {},
   "outputs": [],
   "source": [
    "color_theme = np.array(['firebrick', 'dodgerblue', 'forestgreen', 'goldenrod', 'rebeccapurple'])"
   ]
  },
  {
   "cell_type": "code",
   "execution_count": 21,
   "metadata": {},
   "outputs": [
    {
     "data": {
      "text/plain": [
       "Text(0.5, 1.0, 'Labels: Actual')"
      ]
     },
     "execution_count": 21,
     "metadata": {},
     "output_type": "execute_result"
    },
    {
     "data": {
      "image/png": "[encoded data removed]",
      "text/plain": [
       "<Figure size 432x288 with 1 Axes>"
      ]
     },
     "metadata": {
      "needs_background": "light"
     },
     "output_type": "display_data"
    }
   ],
   "source": [
    "plt.scatter(x=X[:,0],y=X[:,1], c=color_theme[Y], s=50)\n",
    "plt.xlabel(\"Lead Time\")\n",
    "plt.ylabel(\"ADR\")\n",
    "plt.title('Labels: Actual')"
   ]
  },
  {
   "cell_type": "code",
   "execution_count": 22,
   "metadata": {},
   "outputs": [
    {
     "data": {
      "text/plain": [
       "array([2., 0., 4., 1., 1., 1., 4., 3., 4., 2., 1., 4., 2., 4., 1., 2., 4.,\n",
       "       4., 4., 1., 2., 3., 2., 4., 1., 3., 0., 0., 4., 4., 4., 4., 3., 0.,\n",
       "       1., 4., 4., 0., 2., 4., 2., 2., 4., 3., 4., 3., 1., 0., 0., 0., 0.,\n",
       "       0., 2., 0., 2., 0., 4., 2., 4., 3., 1., 2., 2., 4., 2., 1., 1., 3.,\n",
       "       3., 4., 1., 4., 4., 0., 4., 1., 4., 1., 4., 4., 1., 4., 2., 4., 2.,\n",
       "       2., 1., 1., 4., 1., 4., 1., 0., 0., 4., 1., 2., 0., 4., 1.])"
      ]
     },
     "execution_count": 22,
     "metadata": {},
     "output_type": "execute_result"
    }
   ],
   "source": [
    "km.labels_.astype(float)"
   ]
  },
  {
   "cell_type": "code",
   "execution_count": 23,
   "metadata": {},
   "outputs": [
    {
     "name": "stdout",
     "output_type": "stream",
     "text": [
      "[[-0.64366991  1.63409504]\n",
      " [-0.21139662  0.16832387]\n",
      " [ 1.59413799 -0.70910702]\n",
      " [ 0.92361464  1.10756765]\n",
      " [-0.69563851 -0.77481533]]\n"
     ]
    }
   ],
   "source": [
    "centers = km.cluster_centers_\n",
    "print(centers)"
   ]
  },
  {
   "cell_type": "code",
   "execution_count": 24,
   "metadata": {},
   "outputs": [
    {
     "data": {
      "image/png": "[encoded data removed]",
      "text/plain": [
       "<Figure size 432x288 with 1 Axes>"
      ]
     },
     "metadata": {
      "needs_background": "light"
     },
     "output_type": "display_data"
    }
   ],
   "source": [
    "plt.scatter(x=X[:,0],y=X[:,1], c=color_theme[km.labels_], s=50)\n",
    "plt.xlabel(\"Lead Time\")\n",
    "plt.ylabel(\"ADR\")\n",
    "plt.title('Labels: K-Means Classification')\n",
    "plt.show()"
   ]
  },
  {
   "cell_type": "code",
   "execution_count": 25,
   "metadata": {},
   "outputs": [
    {
     "data": {
      "text/plain": [
       "array([2, 0, 4, 1, 1, 1, 4, 3, 4, 2, 1, 4, 2, 4, 1, 2, 4, 4, 4, 1, 2, 3,\n",
       "       2, 4, 1, 3, 0, 0, 4, 4, 4, 4, 3, 0, 1, 4, 4, 0, 2, 4, 2, 2, 4, 3,\n",
       "       4, 3, 1, 0, 0, 0, 0, 0, 2, 0, 2, 0, 4, 2, 4, 3, 1, 2, 2, 4, 2, 1,\n",
       "       1, 3, 3, 4, 1, 4, 4, 0, 4, 1, 4, 1, 4, 4, 1, 4, 2, 4, 2, 2, 1, 1,\n",
       "       4, 1, 4, 1, 0, 0, 4, 1, 2, 0, 4, 1], dtype=int32)"
      ]
     },
     "execution_count": 25,
     "metadata": {},
     "output_type": "execute_result"
    }
   ],
   "source": [
    "km.labels_"
   ]
  },
  {
   "cell_type": "code",
   "execution_count": 26,
   "metadata": {},
   "outputs": [
    {
     "data": {
      "text/plain": [
       "array([4, 4, 3, 4, 4, 0, 1, 1, 0, 4, 4, 4, 1, 4, 4, 4, 4, 4, 2, 4, 2, 4,\n",
       "       3, 4, 2, 4, 4, 4, 2, 2, 4, 4, 4, 4, 3, 0, 1, 4, 2, 4, 3, 2, 3, 1,\n",
       "       4, 4, 3, 4, 1, 4, 4, 4, 2, 4, 2, 4, 4, 4, 4, 4, 4, 3, 2, 3, 2, 4,\n",
       "       3, 1, 3, 3, 4, 1, 0, 1, 4, 1, 3, 4, 3, 3, 0, 4, 2, 4, 1, 4, 4, 4,\n",
       "       4, 4, 1, 3, 4, 4, 1, 4, 2, 1, 4, 1], dtype=int8)"
      ]
     },
     "execution_count": 26,
     "metadata": {},
     "output_type": "execute_result"
    }
   ],
   "source": [
    "Y"
   ]
  }
 ],
 "metadata": {
  "kernelspec": {
   "display_name": "Python 3",
   "language": "python",
   "name": "python3"
  },
  "language_info": {
   "codemirror_mode": {
    "name": "ipython",
    "version": 3
   },
   "file_extension": ".py",
   "mimetype": "text/x-python",
   "name": "python",
   "nbconvert_exporter": "python",
   "pygments_lexer": "ipython3",
   "version": "3.6.9"
  }
 },
 "nbformat": 4,
 "nbformat_minor": 4
}
