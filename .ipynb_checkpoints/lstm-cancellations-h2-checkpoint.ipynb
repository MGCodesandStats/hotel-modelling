{
 "cells": [
  {
   "cell_type": "markdown",
   "metadata": {},
   "source": [
    "## Python version"
   ]
  },
  {
   "cell_type": "code",
   "execution_count": 1,
   "metadata": {},
   "outputs": [
    {
     "name": "stdout",
     "output_type": "stream",
     "text": [
      "3.6.9\n"
     ]
    }
   ],
   "source": [
    "from platform import python_version\n",
    "print(python_version())"
   ]
  },
  {
   "cell_type": "markdown",
   "metadata": {},
   "source": [
    "## Import Libraries"
   ]
  },
  {
   "cell_type": "code",
   "execution_count": 2,
   "metadata": {},
   "outputs": [
    {
     "name": "stdout",
     "output_type": "stream",
     "text": [
      "2.2.0\n"
     ]
    }
   ],
   "source": [
    "import tensorflow as tf\n",
    "print(tf.__version__)"
   ]
  },
  {
   "cell_type": "code",
   "execution_count": 3,
   "metadata": {},
   "outputs": [],
   "source": [
    "tf.random.set_seed(1234)"
   ]
  },
  {
   "cell_type": "code",
   "execution_count": 4,
   "metadata": {},
   "outputs": [],
   "source": [
    "import csv\n",
    "import math\n",
    "import matplotlib.pyplot as plt\n",
    "import numpy as np\n",
    "import os\n",
    "import pandas as pd\n",
    "import random\n",
    "import statsmodels.api as sm\n",
    "import statsmodels.formula.api as smf\n",
    "\n",
    "from math import sqrt\n",
    "from numpy.random import seed\n",
    "seed(1)\n",
    "from pandas import DataFrame\n",
    "from sklearn.metrics import mean_squared_error\n",
    "from sklearn.model_selection import train_test_split\n",
    "from sklearn.preprocessing import MinMaxScaler\n",
    "from statsmodels.tsa.stattools import adfuller\n",
    "from tensorflow.keras.layers import Dense\n",
    "from tensorflow.keras import layers\n",
    "from tensorflow.keras.layers import LSTM\n",
    "\n",
    "dtypes = {\n",
    "        'IsCanceled':                                    'float64',\n",
    "        'LeadTime':                                          'float64',\n",
    "        'StaysInWeekendNights':                                     'float64',\n",
    "        'StaysInWeekNights':                                     'float64',\n",
    "        'Adults':                            'float64',\n",
    "        'Children':                            'float64',\n",
    "        'Babies':                                  'float64',\n",
    "        'Meal':                                    'category',\n",
    "        'Country':                                               'category',\n",
    "        'MarketSegment':                                    'category',\n",
    "        'DistributionChannel':                                       'category',\n",
    "        'IsRepeatedGuest':                               'float64',\n",
    "        'PreviousCancellations':                                    'float64',\n",
    "        'PreviousBookingsNotCanceled':                          'float64',\n",
    "        'ReservedRoomType':                                             'category',\n",
    "        'AssignedRoomType':                                            'category',\n",
    "        'BookingChanges':                                                'float64',\n",
    "        'DepositType':                                              'category',\n",
    "        'Agent':                                              'category',\n",
    "        'Company':                                 'category',\n",
    "        'DaysInWaitingList':                                           'float64',\n",
    "        'CustomerType':                                           'category',\n",
    "        'ADR':                                          'float64',\n",
    "        'RequiredCarParkingSpaces':                                      'float64',\n",
    "        'TotalOfSpecialRequests':                                              'float64',\n",
    "        'ReservationStatus':                                                'category'\n",
    "        }"
   ]
  },
  {
   "cell_type": "markdown",
   "metadata": {},
   "source": [
    "## Data Import and Manipulation"
   ]
  },
  {
   "cell_type": "code",
   "execution_count": 5,
   "metadata": {},
   "outputs": [],
   "source": [
    "train_df = pd.read_csv(\"H2.csv\", dtype=dtypes, converters={'ArrivalDateWeekNumber': '{:0>2}'.format})"
   ]
  },
  {
   "cell_type": "code",
   "execution_count": 6,
   "metadata": {},
   "outputs": [
    {
     "data": {
      "text/plain": [
       "pandas.core.frame.DataFrame"
      ]
     },
     "execution_count": 6,
     "metadata": {},
     "output_type": "execute_result"
    }
   ],
   "source": [
    "a=train_df.head()\n",
    "b=train_df\n",
    "b\n",
    "c=b.sort_values(['ArrivalDateYear','ArrivalDateWeekNumber'], ascending=True)\n",
    "c=pd.DataFrame(c)\n",
    "c\n",
    "type(c)"
   ]
  },
  {
   "cell_type": "code",
   "execution_count": 7,
   "metadata": {},
   "outputs": [
    {
     "data": {
      "text/html": [
       "<div>\n",
       "<style scoped>\n",
       "    .dataframe tbody tr th:only-of-type {\n",
       "        vertical-align: middle;\n",
       "    }\n",
       "\n",
       "    .dataframe tbody tr th {\n",
       "        vertical-align: top;\n",
       "    }\n",
       "\n",
       "    .dataframe thead th {\n",
       "        text-align: right;\n",
       "    }\n",
       "</style>\n",
       "<table border=\"1\" class=\"dataframe\">\n",
       "  <thead>\n",
       "    <tr style=\"text-align: right;\">\n",
       "      <th></th>\n",
       "      <th>ArrivalDateYear</th>\n",
       "      <th>ArrivalDateWeekNumber</th>\n",
       "    </tr>\n",
       "  </thead>\n",
       "  <tbody>\n",
       "    <tr>\n",
       "      <th>0</th>\n",
       "      <td>2015</td>\n",
       "      <td>27</td>\n",
       "    </tr>\n",
       "    <tr>\n",
       "      <th>1</th>\n",
       "      <td>2015</td>\n",
       "      <td>27</td>\n",
       "    </tr>\n",
       "    <tr>\n",
       "      <th>2</th>\n",
       "      <td>2015</td>\n",
       "      <td>27</td>\n",
       "    </tr>\n",
       "    <tr>\n",
       "      <th>3</th>\n",
       "      <td>2015</td>\n",
       "      <td>27</td>\n",
       "    </tr>\n",
       "    <tr>\n",
       "      <th>4</th>\n",
       "      <td>2015</td>\n",
       "      <td>27</td>\n",
       "    </tr>\n",
       "    <tr>\n",
       "      <th>...</th>\n",
       "      <td>...</td>\n",
       "      <td>...</td>\n",
       "    </tr>\n",
       "    <tr>\n",
       "      <th>79325</th>\n",
       "      <td>2017</td>\n",
       "      <td>35</td>\n",
       "    </tr>\n",
       "    <tr>\n",
       "      <th>79326</th>\n",
       "      <td>2017</td>\n",
       "      <td>35</td>\n",
       "    </tr>\n",
       "    <tr>\n",
       "      <th>79327</th>\n",
       "      <td>2017</td>\n",
       "      <td>35</td>\n",
       "    </tr>\n",
       "    <tr>\n",
       "      <th>79328</th>\n",
       "      <td>2017</td>\n",
       "      <td>35</td>\n",
       "    </tr>\n",
       "    <tr>\n",
       "      <th>79329</th>\n",
       "      <td>2017</td>\n",
       "      <td>35</td>\n",
       "    </tr>\n",
       "  </tbody>\n",
       "</table>\n",
       "<p>79330 rows × 2 columns</p>\n",
       "</div>"
      ],
      "text/plain": [
       "       ArrivalDateYear ArrivalDateWeekNumber\n",
       "0                 2015                    27\n",
       "1                 2015                    27\n",
       "2                 2015                    27\n",
       "3                 2015                    27\n",
       "4                 2015                    27\n",
       "...                ...                   ...\n",
       "79325             2017                    35\n",
       "79326             2017                    35\n",
       "79327             2017                    35\n",
       "79328             2017                    35\n",
       "79329             2017                    35\n",
       "\n",
       "[79330 rows x 2 columns]"
      ]
     },
     "execution_count": 7,
     "metadata": {},
     "output_type": "execute_result"
    }
   ],
   "source": [
    "df = DataFrame(c, columns= ['ArrivalDateYear', 'ArrivalDateWeekNumber']) \n",
    "df"
   ]
  },
  {
   "cell_type": "code",
   "execution_count": 8,
   "metadata": {},
   "outputs": [
    {
     "name": "stdout",
     "output_type": "stream",
     "text": [
      "0        201527\n",
      "1        201527\n",
      "2        201527\n",
      "3        201527\n",
      "4        201527\n",
      "          ...  \n",
      "79325    201735\n",
      "79326    201735\n",
      "79327    201735\n",
      "79328    201735\n",
      "79329    201735\n",
      "Length: 79330, dtype: object\n"
     ]
    }
   ],
   "source": [
    "# https://datatofish.com/concatenate-values-python/\n",
    "\n",
    "df1 = df['ArrivalDateYear'].map(str) + df['ArrivalDateWeekNumber'].map(str)\n",
    "print (df1)\n",
    "df1=pd.DataFrame(df1)"
   ]
  },
  {
   "cell_type": "code",
   "execution_count": 9,
   "metadata": {
    "scrolled": true
   },
   "outputs": [
    {
     "data": {
      "text/html": [
       "<div>\n",
       "<style scoped>\n",
       "    .dataframe tbody tr th:only-of-type {\n",
       "        vertical-align: middle;\n",
       "    }\n",
       "\n",
       "    .dataframe tbody tr th {\n",
       "        vertical-align: top;\n",
       "    }\n",
       "\n",
       "    .dataframe thead th {\n",
       "        text-align: right;\n",
       "    }\n",
       "</style>\n",
       "<table border=\"1\" class=\"dataframe\">\n",
       "  <thead>\n",
       "    <tr style=\"text-align: right;\">\n",
       "      <th></th>\n",
       "      <th>IsCanceled</th>\n",
       "    </tr>\n",
       "  </thead>\n",
       "  <tbody>\n",
       "    <tr>\n",
       "      <th>0</th>\n",
       "      <td>0.0</td>\n",
       "    </tr>\n",
       "    <tr>\n",
       "      <th>1</th>\n",
       "      <td>1.0</td>\n",
       "    </tr>\n",
       "    <tr>\n",
       "      <th>2</th>\n",
       "      <td>1.0</td>\n",
       "    </tr>\n",
       "    <tr>\n",
       "      <th>3</th>\n",
       "      <td>1.0</td>\n",
       "    </tr>\n",
       "    <tr>\n",
       "      <th>4</th>\n",
       "      <td>1.0</td>\n",
       "    </tr>\n",
       "    <tr>\n",
       "      <th>...</th>\n",
       "      <td>...</td>\n",
       "    </tr>\n",
       "    <tr>\n",
       "      <th>79325</th>\n",
       "      <td>0.0</td>\n",
       "    </tr>\n",
       "    <tr>\n",
       "      <th>79326</th>\n",
       "      <td>0.0</td>\n",
       "    </tr>\n",
       "    <tr>\n",
       "      <th>79327</th>\n",
       "      <td>0.0</td>\n",
       "    </tr>\n",
       "    <tr>\n",
       "      <th>79328</th>\n",
       "      <td>0.0</td>\n",
       "    </tr>\n",
       "    <tr>\n",
       "      <th>79329</th>\n",
       "      <td>0.0</td>\n",
       "    </tr>\n",
       "  </tbody>\n",
       "</table>\n",
       "<p>79330 rows × 1 columns</p>\n",
       "</div>"
      ],
      "text/plain": [
       "       IsCanceled\n",
       "0             0.0\n",
       "1             1.0\n",
       "2             1.0\n",
       "3             1.0\n",
       "4             1.0\n",
       "...           ...\n",
       "79325         0.0\n",
       "79326         0.0\n",
       "79327         0.0\n",
       "79328         0.0\n",
       "79329         0.0\n",
       "\n",
       "[79330 rows x 1 columns]"
      ]
     },
     "execution_count": 9,
     "metadata": {},
     "output_type": "execute_result"
    }
   ],
   "source": [
    "df2 = DataFrame(c, columns= ['IsCanceled']) \n",
    "df2"
   ]
  },
  {
   "cell_type": "code",
   "execution_count": 10,
   "metadata": {},
   "outputs": [
    {
     "data": {
      "text/plain": [
       "pandas.core.frame.DataFrame"
      ]
     },
     "execution_count": 10,
     "metadata": {},
     "output_type": "execute_result"
    }
   ],
   "source": [
    "type(df1)"
   ]
  },
  {
   "cell_type": "code",
   "execution_count": 11,
   "metadata": {},
   "outputs": [],
   "source": [
    "df3=pd.concat([df1, df2], axis = 1)\n",
    "df3\n",
    "df3.columns = ['FullDate', 'IsCanceled']"
   ]
  },
  {
   "cell_type": "code",
   "execution_count": 12,
   "metadata": {},
   "outputs": [
    {
     "data": {
      "text/html": [
       "<div>\n",
       "<style scoped>\n",
       "    .dataframe tbody tr th:only-of-type {\n",
       "        vertical-align: middle;\n",
       "    }\n",
       "\n",
       "    .dataframe tbody tr th {\n",
       "        vertical-align: top;\n",
       "    }\n",
       "\n",
       "    .dataframe thead th {\n",
       "        text-align: right;\n",
       "    }\n",
       "</style>\n",
       "<table border=\"1\" class=\"dataframe\">\n",
       "  <thead>\n",
       "    <tr style=\"text-align: right;\">\n",
       "      <th></th>\n",
       "      <th>FullDate</th>\n",
       "      <th>IsCanceled</th>\n",
       "    </tr>\n",
       "  </thead>\n",
       "  <tbody>\n",
       "    <tr>\n",
       "      <th>0</th>\n",
       "      <td>201527</td>\n",
       "      <td>0.0</td>\n",
       "    </tr>\n",
       "    <tr>\n",
       "      <th>6</th>\n",
       "      <td>201527</td>\n",
       "      <td>0.0</td>\n",
       "    </tr>\n",
       "    <tr>\n",
       "      <th>10</th>\n",
       "      <td>201527</td>\n",
       "      <td>0.0</td>\n",
       "    </tr>\n",
       "    <tr>\n",
       "      <th>11</th>\n",
       "      <td>201527</td>\n",
       "      <td>0.0</td>\n",
       "    </tr>\n",
       "    <tr>\n",
       "      <th>12</th>\n",
       "      <td>201527</td>\n",
       "      <td>0.0</td>\n",
       "    </tr>\n",
       "    <tr>\n",
       "      <th>...</th>\n",
       "      <td>...</td>\n",
       "      <td>...</td>\n",
       "    </tr>\n",
       "    <tr>\n",
       "      <th>33650</th>\n",
       "      <td>201735</td>\n",
       "      <td>1.0</td>\n",
       "    </tr>\n",
       "    <tr>\n",
       "      <th>33651</th>\n",
       "      <td>201735</td>\n",
       "      <td>1.0</td>\n",
       "    </tr>\n",
       "    <tr>\n",
       "      <th>33652</th>\n",
       "      <td>201735</td>\n",
       "      <td>1.0</td>\n",
       "    </tr>\n",
       "    <tr>\n",
       "      <th>33653</th>\n",
       "      <td>201735</td>\n",
       "      <td>1.0</td>\n",
       "    </tr>\n",
       "    <tr>\n",
       "      <th>45587</th>\n",
       "      <td>201735</td>\n",
       "      <td>1.0</td>\n",
       "    </tr>\n",
       "  </tbody>\n",
       "</table>\n",
       "<p>79330 rows × 2 columns</p>\n",
       "</div>"
      ],
      "text/plain": [
       "      FullDate  IsCanceled\n",
       "0       201527         0.0\n",
       "6       201527         0.0\n",
       "10      201527         0.0\n",
       "11      201527         0.0\n",
       "12      201527         0.0\n",
       "...        ...         ...\n",
       "33650   201735         1.0\n",
       "33651   201735         1.0\n",
       "33652   201735         1.0\n",
       "33653   201735         1.0\n",
       "45587   201735         1.0\n",
       "\n",
       "[79330 rows x 2 columns]"
      ]
     },
     "execution_count": 12,
     "metadata": {},
     "output_type": "execute_result"
    }
   ],
   "source": [
    "df3\n",
    "df3.sort_values(['FullDate','IsCanceled'], ascending=True)"
   ]
  },
  {
   "cell_type": "code",
   "execution_count": 13,
   "metadata": {},
   "outputs": [
    {
     "data": {
      "text/html": [
       "<div>\n",
       "<style scoped>\n",
       "    .dataframe tbody tr th:only-of-type {\n",
       "        vertical-align: middle;\n",
       "    }\n",
       "\n",
       "    .dataframe tbody tr th {\n",
       "        vertical-align: top;\n",
       "    }\n",
       "\n",
       "    .dataframe thead th {\n",
       "        text-align: right;\n",
       "    }\n",
       "</style>\n",
       "<table border=\"1\" class=\"dataframe\">\n",
       "  <thead>\n",
       "    <tr style=\"text-align: right;\">\n",
       "      <th></th>\n",
       "      <th>IsCanceled</th>\n",
       "    </tr>\n",
       "    <tr>\n",
       "      <th>FullDate</th>\n",
       "      <th></th>\n",
       "    </tr>\n",
       "  </thead>\n",
       "  <tbody>\n",
       "    <tr>\n",
       "      <th>201527</th>\n",
       "      <td>97.0</td>\n",
       "    </tr>\n",
       "    <tr>\n",
       "      <th>201528</th>\n",
       "      <td>153.0</td>\n",
       "    </tr>\n",
       "    <tr>\n",
       "      <th>201529</th>\n",
       "      <td>228.0</td>\n",
       "    </tr>\n",
       "    <tr>\n",
       "      <th>201530</th>\n",
       "      <td>321.0</td>\n",
       "    </tr>\n",
       "    <tr>\n",
       "      <th>201531</th>\n",
       "      <td>159.0</td>\n",
       "    </tr>\n",
       "    <tr>\n",
       "      <th>...</th>\n",
       "      <td>...</td>\n",
       "    </tr>\n",
       "    <tr>\n",
       "      <th>201731</th>\n",
       "      <td>253.0</td>\n",
       "    </tr>\n",
       "    <tr>\n",
       "      <th>201732</th>\n",
       "      <td>269.0</td>\n",
       "    </tr>\n",
       "    <tr>\n",
       "      <th>201733</th>\n",
       "      <td>341.0</td>\n",
       "    </tr>\n",
       "    <tr>\n",
       "      <th>201734</th>\n",
       "      <td>201.0</td>\n",
       "    </tr>\n",
       "    <tr>\n",
       "      <th>201735</th>\n",
       "      <td>129.0</td>\n",
       "    </tr>\n",
       "  </tbody>\n",
       "</table>\n",
       "<p>115 rows × 1 columns</p>\n",
       "</div>"
      ],
      "text/plain": [
       "          IsCanceled\n",
       "FullDate            \n",
       "201527          97.0\n",
       "201528         153.0\n",
       "201529         228.0\n",
       "201530         321.0\n",
       "201531         159.0\n",
       "...              ...\n",
       "201731         253.0\n",
       "201732         269.0\n",
       "201733         341.0\n",
       "201734         201.0\n",
       "201735         129.0\n",
       "\n",
       "[115 rows x 1 columns]"
      ]
     },
     "execution_count": 13,
     "metadata": {},
     "output_type": "execute_result"
    }
   ],
   "source": [
    "df4 = df3.groupby('FullDate').agg(sum)\n",
    "df4\n",
    "df4.sort_values(['FullDate'], ascending=True)"
   ]
  },
  {
   "cell_type": "code",
   "execution_count": 14,
   "metadata": {},
   "outputs": [
    {
     "data": {
      "text/plain": [
       "FullDate\n",
       "201527     97.0\n",
       "201528    153.0\n",
       "201529    228.0\n",
       "201530    321.0\n",
       "201531    159.0\n",
       "          ...  \n",
       "201731    253.0\n",
       "201732    269.0\n",
       "201733    341.0\n",
       "201734    201.0\n",
       "201735    129.0\n",
       "Name: IsCanceled, Length: 115, dtype: float64"
      ]
     },
     "execution_count": 14,
     "metadata": {},
     "output_type": "execute_result"
    }
   ],
   "source": [
    "tseries=df4['IsCanceled']\n",
    "tseries"
   ]
  },
  {
   "cell_type": "code",
   "execution_count": 15,
   "metadata": {},
   "outputs": [
    {
     "name": "stdout",
     "output_type": "stream",
     "text": [
      "ADF Statistic: -3.076840\n",
      "p-value: 0.028315\n",
      "Critical Values:\n",
      "\t1%: -3.495\n",
      "\t5%: -2.890\n",
      "\t10%: -2.582\n"
     ]
    }
   ],
   "source": [
    "result = adfuller(tseries)\n",
    "print('ADF Statistic: %f' % result[0])\n",
    "print('p-value: %f' % result[1])\n",
    "print('Critical Values:')\n",
    "for key, value in result[4].items():\n",
    "    print('\\t%s: %.3f' % (key, value))"
   ]
  },
  {
   "cell_type": "code",
   "execution_count": 16,
   "metadata": {},
   "outputs": [
    {
     "data": {
      "image/png": "[encoded data removed]",
      "text/plain": [
       "<Figure size 432x288 with 1 Axes>"
      ]
     },
     "metadata": {
      "needs_background": "light"
     },
     "output_type": "display_data"
    }
   ],
   "source": [
    "import matplotlib.pyplot as plt\n",
    "plt.plot(tseries)\n",
    "plt.tick_params(\n",
    "    axis='x',          # changes apply to the x-axis\n",
    "    which='both',      # both major and minor ticks are affected\n",
    "    bottom=False,      # ticks along the bottom edge are off\n",
    "    top=False,         # ticks along the top edge are off\n",
    "    labelbottom=False) # labels along the bottom edge are off\n",
    "plt.ylabel('Cancellations')\n",
    "plt.title(\"Cancellations Per Week\")\n",
    "plt.show()"
   ]
  },
  {
   "cell_type": "code",
   "execution_count": 17,
   "metadata": {},
   "outputs": [
    {
     "data": {
      "text/html": [
       "<div>\n",
       "<style scoped>\n",
       "    .dataframe tbody tr th:only-of-type {\n",
       "        vertical-align: middle;\n",
       "    }\n",
       "\n",
       "    .dataframe tbody tr th {\n",
       "        vertical-align: top;\n",
       "    }\n",
       "\n",
       "    .dataframe thead th {\n",
       "        text-align: right;\n",
       "    }\n",
       "</style>\n",
       "<table border=\"1\" class=\"dataframe\">\n",
       "  <thead>\n",
       "    <tr style=\"text-align: right;\">\n",
       "      <th></th>\n",
       "      <th>IsCanceled</th>\n",
       "    </tr>\n",
       "    <tr>\n",
       "      <th>FullDate</th>\n",
       "      <th></th>\n",
       "    </tr>\n",
       "  </thead>\n",
       "  <tbody>\n",
       "    <tr>\n",
       "      <th>201527</th>\n",
       "      <td>97.0</td>\n",
       "    </tr>\n",
       "    <tr>\n",
       "      <th>201528</th>\n",
       "      <td>153.0</td>\n",
       "    </tr>\n",
       "    <tr>\n",
       "      <th>201529</th>\n",
       "      <td>228.0</td>\n",
       "    </tr>\n",
       "    <tr>\n",
       "      <th>201530</th>\n",
       "      <td>321.0</td>\n",
       "    </tr>\n",
       "    <tr>\n",
       "      <th>201531</th>\n",
       "      <td>159.0</td>\n",
       "    </tr>\n",
       "    <tr>\n",
       "      <th>...</th>\n",
       "      <td>...</td>\n",
       "    </tr>\n",
       "    <tr>\n",
       "      <th>201731</th>\n",
       "      <td>253.0</td>\n",
       "    </tr>\n",
       "    <tr>\n",
       "      <th>201732</th>\n",
       "      <td>269.0</td>\n",
       "    </tr>\n",
       "    <tr>\n",
       "      <th>201733</th>\n",
       "      <td>341.0</td>\n",
       "    </tr>\n",
       "    <tr>\n",
       "      <th>201734</th>\n",
       "      <td>201.0</td>\n",
       "    </tr>\n",
       "    <tr>\n",
       "      <th>201735</th>\n",
       "      <td>129.0</td>\n",
       "    </tr>\n",
       "  </tbody>\n",
       "</table>\n",
       "<p>115 rows × 1 columns</p>\n",
       "</div>"
      ],
      "text/plain": [
       "          IsCanceled\n",
       "FullDate            \n",
       "201527          97.0\n",
       "201528         153.0\n",
       "201529         228.0\n",
       "201530         321.0\n",
       "201531         159.0\n",
       "...              ...\n",
       "201731         253.0\n",
       "201732         269.0\n",
       "201733         341.0\n",
       "201734         201.0\n",
       "201735         129.0\n",
       "\n",
       "[115 rows x 1 columns]"
      ]
     },
     "execution_count": 17,
     "metadata": {},
     "output_type": "execute_result"
    }
   ],
   "source": [
    "df=pd.DataFrame(tseries)\n",
    "df"
   ]
  },
  {
   "cell_type": "code",
   "execution_count": 18,
   "metadata": {},
   "outputs": [],
   "source": [
    "df = df[:100]"
   ]
  },
  {
   "cell_type": "code",
   "execution_count": 19,
   "metadata": {},
   "outputs": [
    {
     "data": {
      "text/html": [
       "<div>\n",
       "<style scoped>\n",
       "    .dataframe tbody tr th:only-of-type {\n",
       "        vertical-align: middle;\n",
       "    }\n",
       "\n",
       "    .dataframe tbody tr th {\n",
       "        vertical-align: top;\n",
       "    }\n",
       "\n",
       "    .dataframe thead th {\n",
       "        text-align: right;\n",
       "    }\n",
       "</style>\n",
       "<table border=\"1\" class=\"dataframe\">\n",
       "  <thead>\n",
       "    <tr style=\"text-align: right;\">\n",
       "      <th></th>\n",
       "      <th>IsCanceled</th>\n",
       "    </tr>\n",
       "    <tr>\n",
       "      <th>FullDate</th>\n",
       "      <th></th>\n",
       "    </tr>\n",
       "  </thead>\n",
       "  <tbody>\n",
       "    <tr>\n",
       "      <th>201527</th>\n",
       "      <td>97.0</td>\n",
       "    </tr>\n",
       "    <tr>\n",
       "      <th>201528</th>\n",
       "      <td>153.0</td>\n",
       "    </tr>\n",
       "    <tr>\n",
       "      <th>201529</th>\n",
       "      <td>228.0</td>\n",
       "    </tr>\n",
       "    <tr>\n",
       "      <th>201530</th>\n",
       "      <td>321.0</td>\n",
       "    </tr>\n",
       "    <tr>\n",
       "      <th>201531</th>\n",
       "      <td>159.0</td>\n",
       "    </tr>\n",
       "    <tr>\n",
       "      <th>...</th>\n",
       "      <td>...</td>\n",
       "    </tr>\n",
       "    <tr>\n",
       "      <th>201716</th>\n",
       "      <td>417.0</td>\n",
       "    </tr>\n",
       "    <tr>\n",
       "      <th>201717</th>\n",
       "      <td>568.0</td>\n",
       "    </tr>\n",
       "    <tr>\n",
       "      <th>201718</th>\n",
       "      <td>532.0</td>\n",
       "    </tr>\n",
       "    <tr>\n",
       "      <th>201719</th>\n",
       "      <td>385.0</td>\n",
       "    </tr>\n",
       "    <tr>\n",
       "      <th>201720</th>\n",
       "      <td>666.0</td>\n",
       "    </tr>\n",
       "  </tbody>\n",
       "</table>\n",
       "<p>100 rows × 1 columns</p>\n",
       "</div>"
      ],
      "text/plain": [
       "          IsCanceled\n",
       "FullDate            \n",
       "201527          97.0\n",
       "201528         153.0\n",
       "201529         228.0\n",
       "201530         321.0\n",
       "201531         159.0\n",
       "...              ...\n",
       "201716         417.0\n",
       "201717         568.0\n",
       "201718         532.0\n",
       "201719         385.0\n",
       "201720         666.0\n",
       "\n",
       "[100 rows x 1 columns]"
      ]
     },
     "execution_count": 19,
     "metadata": {},
     "output_type": "execute_result"
    }
   ],
   "source": [
    "df"
   ]
  },
  {
   "cell_type": "code",
   "execution_count": 20,
   "metadata": {},
   "outputs": [],
   "source": [
    "df=np.array(df)"
   ]
  },
  {
   "cell_type": "markdown",
   "metadata": {},
   "source": [
    "### Training and Validation data partition"
   ]
  },
  {
   "cell_type": "code",
   "execution_count": 21,
   "metadata": {},
   "outputs": [],
   "source": [
    "train_size = int(len(df) * 0.8)\n",
    "val_size = len(df) - train_size\n",
    "train, val = df[0:train_size,:], df[train_size:len(df),:]"
   ]
  },
  {
   "cell_type": "markdown",
   "metadata": {},
   "source": [
    "### Form dataset matrix"
   ]
  },
  {
   "cell_type": "code",
   "execution_count": 22,
   "metadata": {},
   "outputs": [],
   "source": [
    "def create_dataset(df, previous=1):\n",
    "    dataX, dataY = [], []\n",
    "    for i in range(len(df)-previous-1):\n",
    "        a = df[i:(i+previous), 0]\n",
    "        dataX.append(a)\n",
    "        dataY.append(df[i + previous, 0])\n",
    "    return np.array(dataX), np.array(dataY)"
   ]
  },
  {
   "cell_type": "code",
   "execution_count": 23,
   "metadata": {},
   "outputs": [
    {
     "data": {
      "text/plain": [
       "array([[ 97.],\n",
       "       [153.],\n",
       "       [228.],\n",
       "       [321.],\n",
       "       [159.],\n",
       "       [308.],\n",
       "       [428.],\n",
       "       [191.],\n",
       "       [212.],\n",
       "       [266.],\n",
       "       [331.],\n",
       "       [429.],\n",
       "       [414.],\n",
       "       [324.],\n",
       "       [391.],\n",
       "       [434.],\n",
       "       [150.],\n",
       "       [199.],\n",
       "       [ 67.],\n",
       "       [ 81.],\n",
       "       [ 41.],\n",
       "       [103.],\n",
       "       [169.],\n",
       "       [263.],\n",
       "       [ 21.],\n",
       "       [ 43.],\n",
       "       [181.],\n",
       "       [ 40.],\n",
       "       [ 35.],\n",
       "       [ 65.],\n",
       "       [148.],\n",
       "       [148.],\n",
       "       [ 89.],\n",
       "       [117.],\n",
       "       [355.],\n",
       "       [213.],\n",
       "       [294.],\n",
       "       [134.],\n",
       "       [233.],\n",
       "       [433.],\n",
       "       [226.],\n",
       "       [341.],\n",
       "       [357.],\n",
       "       [394.],\n",
       "       [393.],\n",
       "       [293.],\n",
       "       [330.],\n",
       "       [382.],\n",
       "       [269.],\n",
       "       [398.],\n",
       "       [387.],\n",
       "       [626.],\n",
       "       [234.],\n",
       "       [338.],\n",
       "       [283.],\n",
       "       [210.],\n",
       "       [220.],\n",
       "       [211.],\n",
       "       [257.],\n",
       "       [309.],\n",
       "       [295.],\n",
       "       [276.],\n",
       "       [293.],\n",
       "       [348.],\n",
       "       [357.],\n",
       "       [321.],\n",
       "       [472.],\n",
       "       [379.],\n",
       "       [540.],\n",
       "       [473.],\n",
       "       [368.],\n",
       "       [538.],\n",
       "       [384.],\n",
       "       [233.],\n",
       "       [195.],\n",
       "       [295.],\n",
       "       [253.],\n",
       "       [152.],\n",
       "       [148.],\n",
       "       [325.],\n",
       "       [224.],\n",
       "       [278.],\n",
       "       [213.],\n",
       "       [293.],\n",
       "       [211.],\n",
       "       [148.],\n",
       "       [295.],\n",
       "       [277.],\n",
       "       [301.],\n",
       "       [229.],\n",
       "       [353.],\n",
       "       [283.],\n",
       "       [226.],\n",
       "       [432.],\n",
       "       [447.],\n",
       "       [417.],\n",
       "       [568.],\n",
       "       [532.],\n",
       "       [385.],\n",
       "       [666.]])"
      ]
     },
     "execution_count": 23,
     "metadata": {},
     "output_type": "execute_result"
    }
   ],
   "source": [
    "df"
   ]
  },
  {
   "cell_type": "markdown",
   "metadata": {},
   "source": [
    "## Normalize dataset with MinMaxScaler"
   ]
  },
  {
   "cell_type": "code",
   "execution_count": 24,
   "metadata": {},
   "outputs": [
    {
     "data": {
      "text/plain": [
       "array([[0.12561983],\n",
       "       [0.21818182],\n",
       "       [0.34214876],\n",
       "       [0.49586777],\n",
       "       [0.22809917],\n",
       "       [0.47438017],\n",
       "       [0.67272727],\n",
       "       [0.28099174],\n",
       "       [0.31570248],\n",
       "       [0.40495868],\n",
       "       [0.51239669],\n",
       "       [0.67438017],\n",
       "       [0.64958678],\n",
       "       [0.50082645],\n",
       "       [0.61157025],\n",
       "       [0.68264463],\n",
       "       [0.21322314],\n",
       "       [0.29421488],\n",
       "       [0.07603306],\n",
       "       [0.09917355],\n",
       "       [0.03305785],\n",
       "       [0.13553719],\n",
       "       [0.2446281 ],\n",
       "       [0.4       ],\n",
       "       [0.        ],\n",
       "       [0.03636364],\n",
       "       [0.26446281],\n",
       "       [0.03140496],\n",
       "       [0.0231405 ],\n",
       "       [0.07272727],\n",
       "       [0.20991736],\n",
       "       [0.20991736],\n",
       "       [0.11239669],\n",
       "       [0.15867769],\n",
       "       [0.55206612],\n",
       "       [0.31735537],\n",
       "       [0.45123967],\n",
       "       [0.18677686],\n",
       "       [0.35041322],\n",
       "       [0.68099174],\n",
       "       [0.33884298],\n",
       "       [0.52892562],\n",
       "       [0.5553719 ],\n",
       "       [0.61652893],\n",
       "       [0.61487603],\n",
       "       [0.44958678],\n",
       "       [0.5107438 ],\n",
       "       [0.59669421],\n",
       "       [0.40991736],\n",
       "       [0.6231405 ],\n",
       "       [0.60495868],\n",
       "       [1.        ],\n",
       "       [0.35206612],\n",
       "       [0.52396694],\n",
       "       [0.43305785],\n",
       "       [0.31239669],\n",
       "       [0.32892562],\n",
       "       [0.31404959],\n",
       "       [0.39008264],\n",
       "       [0.47603306],\n",
       "       [0.45289256],\n",
       "       [0.4214876 ],\n",
       "       [0.44958678],\n",
       "       [0.54049587],\n",
       "       [0.5553719 ],\n",
       "       [0.49586777],\n",
       "       [0.74545455],\n",
       "       [0.59173554],\n",
       "       [0.85785124],\n",
       "       [0.74710744],\n",
       "       [0.57355372],\n",
       "       [0.85454545],\n",
       "       [0.6       ],\n",
       "       [0.35041322],\n",
       "       [0.28760331],\n",
       "       [0.45289256],\n",
       "       [0.38347107],\n",
       "       [0.21652893],\n",
       "       [0.20991736],\n",
       "       [0.50247934]])"
      ]
     },
     "execution_count": 24,
     "metadata": {},
     "output_type": "execute_result"
    }
   ],
   "source": [
    "scaler = MinMaxScaler(feature_range=(0, 1))\n",
    "train = scaler.fit_transform(train)\n",
    "train"
   ]
  },
  {
   "cell_type": "code",
   "execution_count": 25,
   "metadata": {},
   "outputs": [
    {
     "data": {
      "text/plain": [
       "array([[0.14671815],\n",
       "       [0.25096525],\n",
       "       [0.12548263],\n",
       "       [0.27992278],\n",
       "       [0.12162162],\n",
       "       [0.        ],\n",
       "       [0.28378378],\n",
       "       [0.24903475],\n",
       "       [0.2953668 ],\n",
       "       [0.15637066],\n",
       "       [0.3957529 ],\n",
       "       [0.26061776],\n",
       "       [0.15057915],\n",
       "       [0.54826255],\n",
       "       [0.57722008],\n",
       "       [0.51930502],\n",
       "       [0.81081081],\n",
       "       [0.74131274],\n",
       "       [0.45752896],\n",
       "       [1.        ]])"
      ]
     },
     "execution_count": 25,
     "metadata": {},
     "output_type": "execute_result"
    }
   ],
   "source": [
    "val = scaler.fit_transform(val)\n",
    "val"
   ]
  },
  {
   "cell_type": "code",
   "execution_count": 26,
   "metadata": {},
   "outputs": [],
   "source": [
    "# Lookback period\n",
    "lookback = 5\n",
    "X_train, Y_train = create_dataset(train, lookback)\n",
    "X_val, Y_val = create_dataset(val, lookback)"
   ]
  },
  {
   "cell_type": "code",
   "execution_count": 27,
   "metadata": {},
   "outputs": [
    {
     "data": {
      "text/plain": [
       "array([[0.12561983, 0.21818182, 0.34214876, 0.49586777, 0.22809917],\n",
       "       [0.21818182, 0.34214876, 0.49586777, 0.22809917, 0.47438017],\n",
       "       [0.34214876, 0.49586777, 0.22809917, 0.47438017, 0.67272727],\n",
       "       [0.49586777, 0.22809917, 0.47438017, 0.67272727, 0.28099174],\n",
       "       [0.22809917, 0.47438017, 0.67272727, 0.28099174, 0.31570248],\n",
       "       [0.47438017, 0.67272727, 0.28099174, 0.31570248, 0.40495868],\n",
       "       [0.67272727, 0.28099174, 0.31570248, 0.40495868, 0.51239669],\n",
       "       [0.28099174, 0.31570248, 0.40495868, 0.51239669, 0.67438017],\n",
       "       [0.31570248, 0.40495868, 0.51239669, 0.67438017, 0.64958678],\n",
       "       [0.40495868, 0.51239669, 0.67438017, 0.64958678, 0.50082645],\n",
       "       [0.51239669, 0.67438017, 0.64958678, 0.50082645, 0.61157025],\n",
       "       [0.67438017, 0.64958678, 0.50082645, 0.61157025, 0.68264463],\n",
       "       [0.64958678, 0.50082645, 0.61157025, 0.68264463, 0.21322314],\n",
       "       [0.50082645, 0.61157025, 0.68264463, 0.21322314, 0.29421488],\n",
       "       [0.61157025, 0.68264463, 0.21322314, 0.29421488, 0.07603306],\n",
       "       [0.68264463, 0.21322314, 0.29421488, 0.07603306, 0.09917355],\n",
       "       [0.21322314, 0.29421488, 0.07603306, 0.09917355, 0.03305785],\n",
       "       [0.29421488, 0.07603306, 0.09917355, 0.03305785, 0.13553719],\n",
       "       [0.07603306, 0.09917355, 0.03305785, 0.13553719, 0.2446281 ],\n",
       "       [0.09917355, 0.03305785, 0.13553719, 0.2446281 , 0.4       ],\n",
       "       [0.03305785, 0.13553719, 0.2446281 , 0.4       , 0.        ],\n",
       "       [0.13553719, 0.2446281 , 0.4       , 0.        , 0.03636364],\n",
       "       [0.2446281 , 0.4       , 0.        , 0.03636364, 0.26446281],\n",
       "       [0.4       , 0.        , 0.03636364, 0.26446281, 0.03140496],\n",
       "       [0.        , 0.03636364, 0.26446281, 0.03140496, 0.0231405 ],\n",
       "       [0.03636364, 0.26446281, 0.03140496, 0.0231405 , 0.07272727],\n",
       "       [0.26446281, 0.03140496, 0.0231405 , 0.07272727, 0.20991736],\n",
       "       [0.03140496, 0.0231405 , 0.07272727, 0.20991736, 0.20991736],\n",
       "       [0.0231405 , 0.07272727, 0.20991736, 0.20991736, 0.11239669],\n",
       "       [0.07272727, 0.20991736, 0.20991736, 0.11239669, 0.15867769],\n",
       "       [0.20991736, 0.20991736, 0.11239669, 0.15867769, 0.55206612],\n",
       "       [0.20991736, 0.11239669, 0.15867769, 0.55206612, 0.31735537],\n",
       "       [0.11239669, 0.15867769, 0.55206612, 0.31735537, 0.45123967],\n",
       "       [0.15867769, 0.55206612, 0.31735537, 0.45123967, 0.18677686],\n",
       "       [0.55206612, 0.31735537, 0.45123967, 0.18677686, 0.35041322],\n",
       "       [0.31735537, 0.45123967, 0.18677686, 0.35041322, 0.68099174],\n",
       "       [0.45123967, 0.18677686, 0.35041322, 0.68099174, 0.33884298],\n",
       "       [0.18677686, 0.35041322, 0.68099174, 0.33884298, 0.52892562],\n",
       "       [0.35041322, 0.68099174, 0.33884298, 0.52892562, 0.5553719 ],\n",
       "       [0.68099174, 0.33884298, 0.52892562, 0.5553719 , 0.61652893],\n",
       "       [0.33884298, 0.52892562, 0.5553719 , 0.61652893, 0.61487603],\n",
       "       [0.52892562, 0.5553719 , 0.61652893, 0.61487603, 0.44958678],\n",
       "       [0.5553719 , 0.61652893, 0.61487603, 0.44958678, 0.5107438 ],\n",
       "       [0.61652893, 0.61487603, 0.44958678, 0.5107438 , 0.59669421],\n",
       "       [0.61487603, 0.44958678, 0.5107438 , 0.59669421, 0.40991736],\n",
       "       [0.44958678, 0.5107438 , 0.59669421, 0.40991736, 0.6231405 ],\n",
       "       [0.5107438 , 0.59669421, 0.40991736, 0.6231405 , 0.60495868],\n",
       "       [0.59669421, 0.40991736, 0.6231405 , 0.60495868, 1.        ],\n",
       "       [0.40991736, 0.6231405 , 0.60495868, 1.        , 0.35206612],\n",
       "       [0.6231405 , 0.60495868, 1.        , 0.35206612, 0.52396694],\n",
       "       [0.60495868, 1.        , 0.35206612, 0.52396694, 0.43305785],\n",
       "       [1.        , 0.35206612, 0.52396694, 0.43305785, 0.31239669],\n",
       "       [0.35206612, 0.52396694, 0.43305785, 0.31239669, 0.32892562],\n",
       "       [0.52396694, 0.43305785, 0.31239669, 0.32892562, 0.31404959],\n",
       "       [0.43305785, 0.31239669, 0.32892562, 0.31404959, 0.39008264],\n",
       "       [0.31239669, 0.32892562, 0.31404959, 0.39008264, 0.47603306],\n",
       "       [0.32892562, 0.31404959, 0.39008264, 0.47603306, 0.45289256],\n",
       "       [0.31404959, 0.39008264, 0.47603306, 0.45289256, 0.4214876 ],\n",
       "       [0.39008264, 0.47603306, 0.45289256, 0.4214876 , 0.44958678],\n",
       "       [0.47603306, 0.45289256, 0.4214876 , 0.44958678, 0.54049587],\n",
       "       [0.45289256, 0.4214876 , 0.44958678, 0.54049587, 0.5553719 ],\n",
       "       [0.4214876 , 0.44958678, 0.54049587, 0.5553719 , 0.49586777],\n",
       "       [0.44958678, 0.54049587, 0.5553719 , 0.49586777, 0.74545455],\n",
       "       [0.54049587, 0.5553719 , 0.49586777, 0.74545455, 0.59173554],\n",
       "       [0.5553719 , 0.49586777, 0.74545455, 0.59173554, 0.85785124],\n",
       "       [0.49586777, 0.74545455, 0.59173554, 0.85785124, 0.74710744],\n",
       "       [0.74545455, 0.59173554, 0.85785124, 0.74710744, 0.57355372],\n",
       "       [0.59173554, 0.85785124, 0.74710744, 0.57355372, 0.85454545],\n",
       "       [0.85785124, 0.74710744, 0.57355372, 0.85454545, 0.6       ],\n",
       "       [0.74710744, 0.57355372, 0.85454545, 0.6       , 0.35041322],\n",
       "       [0.57355372, 0.85454545, 0.6       , 0.35041322, 0.28760331],\n",
       "       [0.85454545, 0.6       , 0.35041322, 0.28760331, 0.45289256],\n",
       "       [0.6       , 0.35041322, 0.28760331, 0.45289256, 0.38347107],\n",
       "       [0.35041322, 0.28760331, 0.45289256, 0.38347107, 0.21652893]])"
      ]
     },
     "execution_count": 27,
     "metadata": {},
     "output_type": "execute_result"
    }
   ],
   "source": [
    "X_train"
   ]
  },
  {
   "cell_type": "code",
   "execution_count": 28,
   "metadata": {},
   "outputs": [
    {
     "data": {
      "text/plain": [
       "array([0.47438017, 0.67272727, 0.28099174, 0.31570248, 0.40495868,\n",
       "       0.51239669, 0.67438017, 0.64958678, 0.50082645, 0.61157025,\n",
       "       0.68264463, 0.21322314, 0.29421488, 0.07603306, 0.09917355,\n",
       "       0.03305785, 0.13553719, 0.2446281 , 0.4       , 0.        ,\n",
       "       0.03636364, 0.26446281, 0.03140496, 0.0231405 , 0.07272727,\n",
       "       0.20991736, 0.20991736, 0.11239669, 0.15867769, 0.55206612,\n",
       "       0.31735537, 0.45123967, 0.18677686, 0.35041322, 0.68099174,\n",
       "       0.33884298, 0.52892562, 0.5553719 , 0.61652893, 0.61487603,\n",
       "       0.44958678, 0.5107438 , 0.59669421, 0.40991736, 0.6231405 ,\n",
       "       0.60495868, 1.        , 0.35206612, 0.52396694, 0.43305785,\n",
       "       0.31239669, 0.32892562, 0.31404959, 0.39008264, 0.47603306,\n",
       "       0.45289256, 0.4214876 , 0.44958678, 0.54049587, 0.5553719 ,\n",
       "       0.49586777, 0.74545455, 0.59173554, 0.85785124, 0.74710744,\n",
       "       0.57355372, 0.85454545, 0.6       , 0.35041322, 0.28760331,\n",
       "       0.45289256, 0.38347107, 0.21652893, 0.20991736])"
      ]
     },
     "execution_count": 28,
     "metadata": {},
     "output_type": "execute_result"
    }
   ],
   "source": [
    "Y_train"
   ]
  },
  {
   "cell_type": "markdown",
   "metadata": {},
   "source": [
    "## Configure LSTM model"
   ]
  },
  {
   "cell_type": "code",
   "execution_count": 29,
   "metadata": {},
   "outputs": [
    {
     "name": "stdout",
     "output_type": "stream",
     "text": [
      "Epoch 1/20\n",
      "59/59 - 1s - loss: 0.0735 - val_loss: 0.0615\n",
      "Epoch 2/20\n",
      "59/59 - 0s - loss: 0.0388 - val_loss: 0.0376\n",
      "Epoch 3/20\n",
      "59/59 - 0s - loss: 0.0320 - val_loss: 0.0338\n",
      "Epoch 4/20\n",
      "59/59 - 0s - loss: 0.0311 - val_loss: 0.0332\n",
      "Epoch 5/20\n",
      "59/59 - 0s - loss: 0.0313 - val_loss: 0.0330\n",
      "Epoch 6/20\n",
      "59/59 - 0s - loss: 0.0311 - val_loss: 0.0328\n",
      "Epoch 7/20\n",
      "59/59 - 0s - loss: 0.0312 - val_loss: 0.0326\n",
      "Epoch 8/20\n",
      "59/59 - 0s - loss: 0.0312 - val_loss: 0.0325\n",
      "Epoch 9/20\n",
      "59/59 - 0s - loss: 0.0327 - val_loss: 0.0327\n",
      "Epoch 10/20\n",
      "59/59 - 0s - loss: 0.0306 - val_loss: 0.0319\n",
      "Epoch 11/20\n",
      "59/59 - 0s - loss: 0.0305 - val_loss: 0.0322\n",
      "Epoch 12/20\n",
      "59/59 - 0s - loss: 0.0312 - val_loss: 0.0318\n",
      "Epoch 13/20\n",
      "59/59 - 0s - loss: 0.0302 - val_loss: 0.0316\n",
      "Epoch 14/20\n",
      "59/59 - 0s - loss: 0.0302 - val_loss: 0.0317\n",
      "Epoch 15/20\n",
      "59/59 - 0s - loss: 0.0300 - val_loss: 0.0308\n",
      "Epoch 16/20\n",
      "59/59 - 0s - loss: 0.0298 - val_loss: 0.0312\n",
      "Epoch 17/20\n",
      "59/59 - 0s - loss: 0.0296 - val_loss: 0.0305\n",
      "Epoch 18/20\n",
      "59/59 - 0s - loss: 0.0295 - val_loss: 0.0303\n",
      "Epoch 19/20\n",
      "59/59 - 0s - loss: 0.0297 - val_loss: 0.0304\n",
      "Epoch 20/20\n",
      "59/59 - 0s - loss: 0.0298 - val_loss: 0.0304\n",
      "dict_keys(['loss', 'val_loss'])\n"
     ]
    },
    {
     "data": {
      "image/png": "[encoded data removed]",
      "text/plain": [
       "<Figure size 432x288 with 1 Axes>"
      ]
     },
     "metadata": {
      "needs_background": "light"
     },
     "output_type": "display_data"
    }
   ],
   "source": [
    "# reshape input to be [samples, time steps, features]\n",
    "X_train = np.reshape(X_train, (X_train.shape[0], 1, X_train.shape[1]))\n",
    "X_val = np.reshape(X_val, (X_val.shape[0], 1, X_val.shape[1]))\n",
    "\n",
    "# Generate LSTM network\n",
    "model = tf.keras.Sequential()\n",
    "model.add(LSTM(4, input_shape=(1, lookback)))\n",
    "model.add(Dense(1))\n",
    "model.compile(loss='mean_squared_error', optimizer='adam')\n",
    "history=model.fit(X_train, Y_train, validation_split=0.2, epochs=20, batch_size=1, verbose=2)\n",
    "\n",
    "\n",
    "# list all data in history\n",
    "print(history.history.keys())\n",
    "# summarize history for accuracy\n",
    "plt.plot(history.history['loss'])\n",
    "plt.plot(history.history['val_loss'])\n",
    "plt.title('model loss')\n",
    "plt.ylabel('loss')\n",
    "plt.xlabel('epoch')\n",
    "plt.legend(['train', 'val'], loc='upper left')\n",
    "plt.show()"
   ]
  },
  {
   "cell_type": "code",
   "execution_count": 30,
   "metadata": {},
   "outputs": [],
   "source": [
    "# Generate predictions\n",
    "trainpred = model.predict(X_train)\n",
    "valpred = model.predict(X_val)"
   ]
  },
  {
   "cell_type": "code",
   "execution_count": 31,
   "metadata": {},
   "outputs": [
    {
     "data": {
      "text/plain": [
       "array([[0.2862504 ],\n",
       "       [0.40297306],\n",
       "       [0.46644175],\n",
       "       [0.36749193],\n",
       "       [0.39303473],\n",
       "       [0.4249129 ],\n",
       "       [0.42848247],\n",
       "       [0.46531695],\n",
       "       [0.49423864],\n",
       "       [0.4940658 ],\n",
       "       [0.5447918 ],\n",
       "       [0.55649906],\n",
       "       [0.42240238],\n",
       "       [0.431204  ],\n",
       "       [0.33252674],\n",
       "       [0.27535757],\n",
       "       [0.20001814],\n",
       "       [0.20677629],\n",
       "       [0.22229311],\n",
       "       [0.2792463 ],\n",
       "       [0.17317045],\n",
       "       [0.21197218],\n",
       "       [0.27907428],\n",
       "       [0.17656478],\n",
       "       [0.15055466],\n",
       "       [0.18367049],\n",
       "       [0.21418887],\n",
       "       [0.20212483],\n",
       "       [0.19005892],\n",
       "       [0.22811407],\n",
       "       [0.35602114],\n",
       "       [0.28941384],\n",
       "       [0.36770573],\n",
       "       [0.32297924],\n",
       "       [0.38361332],\n",
       "       [0.45015535],\n",
       "       [0.35987163],\n",
       "       [0.44546905],\n",
       "       [0.47604766],\n",
       "       [0.5034349 ],\n",
       "       [0.50622934],\n",
       "       [0.48758385],\n",
       "       [0.5065954 ],\n",
       "       [0.51455504],\n",
       "       [0.45426023],\n",
       "       [0.511896  ],\n",
       "       [0.50655353],\n",
       "       [0.61766183],\n",
       "       [0.47273448],\n",
       "       [0.56004924],\n",
       "       [0.5009065 ],\n",
       "       [0.43756852],\n",
       "       [0.39115533],\n",
       "       [0.3758925 ],\n",
       "       [0.37506664],\n",
       "       [0.39431658],\n",
       "       [0.39989874],\n",
       "       [0.40952703],\n",
       "       [0.4332084 ],\n",
       "       [0.46139345],\n",
       "       [0.4674691 ],\n",
       "       [0.4639339 ],\n",
       "       [0.54643756],\n",
       "       [0.518256  ],\n",
       "       [0.6090388 ],\n",
       "       [0.5952712 ],\n",
       "       [0.5856044 ],\n",
       "       [0.64367825],\n",
       "       [0.5835569 ],\n",
       "       [0.51115066],\n",
       "       [0.46428898],\n",
       "       [0.4654338 ],\n",
       "       [0.3941676 ],\n",
       "       [0.32524964]], dtype=float32)"
      ]
     },
     "execution_count": 31,
     "metadata": {},
     "output_type": "execute_result"
    }
   ],
   "source": [
    "trainpred"
   ]
  },
  {
   "cell_type": "code",
   "execution_count": 32,
   "metadata": {},
   "outputs": [
    {
     "data": {
      "text/plain": [
       "array([[0.2281484 ],\n",
       "       [0.18742213],\n",
       "       [0.27041024],\n",
       "       [0.24771473],\n",
       "       [0.25866792],\n",
       "       [0.24172953],\n",
       "       [0.34314436],\n",
       "       [0.29770067],\n",
       "       [0.26489577],\n",
       "       [0.3945387 ],\n",
       "       [0.40519232],\n",
       "       [0.4127321 ],\n",
       "       [0.5444021 ],\n",
       "       [0.5660369 ]], dtype=float32)"
      ]
     },
     "execution_count": 32,
     "metadata": {},
     "output_type": "execute_result"
    }
   ],
   "source": [
    "valpred"
   ]
  },
  {
   "cell_type": "code",
   "execution_count": 33,
   "metadata": {},
   "outputs": [],
   "source": [
    "# Convert predictions back to normal values\n",
    "trainpred = scaler.inverse_transform(trainpred)\n",
    "Y_train = scaler.inverse_transform([Y_train])\n",
    "valpred = scaler.inverse_transform(valpred)\n",
    "Y_val = scaler.inverse_transform([Y_val])\n",
    "predictions = valpred"
   ]
  },
  {
   "cell_type": "code",
   "execution_count": 34,
   "metadata": {},
   "outputs": [
    {
     "data": {
      "text/plain": [
       "(1, 74)"
      ]
     },
     "execution_count": 34,
     "metadata": {},
     "output_type": "execute_result"
    }
   ],
   "source": [
    "Y_train.shape"
   ]
  },
  {
   "cell_type": "code",
   "execution_count": 35,
   "metadata": {},
   "outputs": [
    {
     "data": {
      "text/plain": [
       "(1, 14)"
      ]
     },
     "execution_count": 35,
     "metadata": {},
     "output_type": "execute_result"
    }
   ],
   "source": [
    "Y_val.shape"
   ]
  },
  {
   "cell_type": "code",
   "execution_count": 36,
   "metadata": {},
   "outputs": [
    {
     "data": {
      "text/plain": [
       "(74, 1, 5)"
      ]
     },
     "execution_count": 36,
     "metadata": {},
     "output_type": "execute_result"
    }
   ],
   "source": [
    "X_train.shape"
   ]
  },
  {
   "cell_type": "code",
   "execution_count": 37,
   "metadata": {},
   "outputs": [
    {
     "data": {
      "text/plain": [
       "(14, 1, 5)"
      ]
     },
     "execution_count": 37,
     "metadata": {},
     "output_type": "execute_result"
    }
   ],
   "source": [
    "X_val.shape"
   ]
  },
  {
   "cell_type": "code",
   "execution_count": 38,
   "metadata": {},
   "outputs": [
    {
     "data": {
      "text/plain": [
       "array([[393.72892562, 496.47272727, 293.55371901, 311.5338843 ,\n",
       "        357.76859504, 413.4214876 , 497.32892562, 484.48595041,\n",
       "        407.42809917, 464.79338843, 501.60991736, 258.44958678,\n",
       "        300.40330579, 187.38512397, 199.37190083, 165.12396694,\n",
       "        218.20826446, 274.71735537, 355.2       , 148.        ,\n",
       "        166.83636364, 284.99173554, 164.2677686 , 159.98677686,\n",
       "        185.67272727, 256.73719008, 256.73719008, 206.2214876 ,\n",
       "        230.19504132, 433.97024793, 312.39008264, 381.74214876,\n",
       "        244.75041322, 329.51404959, 500.75371901, 323.52066116,\n",
       "        421.98347107, 435.68264463, 467.36198347, 466.50578512,\n",
       "        380.88595041, 412.56528926, 457.08760331, 360.33719008,\n",
       "        470.78677686, 461.36859504, 666.        , 330.37024793,\n",
       "        419.41487603, 372.32396694, 309.8214876 , 318.38347107,\n",
       "        310.67768595, 350.06280992, 394.58512397, 382.59834711,\n",
       "        366.33057851, 380.88595041, 427.9768595 , 435.68264463,\n",
       "        404.85950413, 534.14545455, 454.51900826, 592.36694215,\n",
       "        535.00165289, 445.10082645, 590.65454545, 458.8       ,\n",
       "        329.51404959, 296.9785124 , 382.59834711, 346.63801653,\n",
       "        260.16198347, 256.73719008]])"
      ]
     },
     "execution_count": 38,
     "metadata": {},
     "output_type": "execute_result"
    }
   ],
   "source": [
    "Y_train"
   ]
  },
  {
   "cell_type": "code",
   "execution_count": 39,
   "metadata": {},
   "outputs": [
    {
     "data": {
      "text/plain": [
       "array([[148., 295., 277., 301., 229., 353., 283., 226., 432., 447., 417.,\n",
       "        568., 532., 385.]])"
      ]
     },
     "execution_count": 39,
     "metadata": {},
     "output_type": "execute_result"
    }
   ],
   "source": [
    "Y_val"
   ]
  },
  {
   "cell_type": "code",
   "execution_count": 40,
   "metadata": {},
   "outputs": [
    {
     "data": {
      "text/plain": [
       "array([[[0.12561983, 0.21818182, 0.34214876, 0.49586777, 0.22809917]],\n",
       "\n",
       "       [[0.21818182, 0.34214876, 0.49586777, 0.22809917, 0.47438017]],\n",
       "\n",
       "       [[0.34214876, 0.49586777, 0.22809917, 0.47438017, 0.67272727]],\n",
       "\n",
       "       [[0.49586777, 0.22809917, 0.47438017, 0.67272727, 0.28099174]],\n",
       "\n",
       "       [[0.22809917, 0.47438017, 0.67272727, 0.28099174, 0.31570248]],\n",
       "\n",
       "       [[0.47438017, 0.67272727, 0.28099174, 0.31570248, 0.40495868]],\n",
       "\n",
       "       [[0.67272727, 0.28099174, 0.31570248, 0.40495868, 0.51239669]],\n",
       "\n",
       "       [[0.28099174, 0.31570248, 0.40495868, 0.51239669, 0.67438017]],\n",
       "\n",
       "       [[0.31570248, 0.40495868, 0.51239669, 0.67438017, 0.64958678]],\n",
       "\n",
       "       [[0.40495868, 0.51239669, 0.67438017, 0.64958678, 0.50082645]],\n",
       "\n",
       "       [[0.51239669, 0.67438017, 0.64958678, 0.50082645, 0.61157025]],\n",
       "\n",
       "       [[0.67438017, 0.64958678, 0.50082645, 0.61157025, 0.68264463]],\n",
       "\n",
       "       [[0.64958678, 0.50082645, 0.61157025, 0.68264463, 0.21322314]],\n",
       "\n",
       "       [[0.50082645, 0.61157025, 0.68264463, 0.21322314, 0.29421488]],\n",
       "\n",
       "       [[0.61157025, 0.68264463, 0.21322314, 0.29421488, 0.07603306]],\n",
       "\n",
       "       [[0.68264463, 0.21322314, 0.29421488, 0.07603306, 0.09917355]],\n",
       "\n",
       "       [[0.21322314, 0.29421488, 0.07603306, 0.09917355, 0.03305785]],\n",
       "\n",
       "       [[0.29421488, 0.07603306, 0.09917355, 0.03305785, 0.13553719]],\n",
       "\n",
       "       [[0.07603306, 0.09917355, 0.03305785, 0.13553719, 0.2446281 ]],\n",
       "\n",
       "       [[0.09917355, 0.03305785, 0.13553719, 0.2446281 , 0.4       ]],\n",
       "\n",
       "       [[0.03305785, 0.13553719, 0.2446281 , 0.4       , 0.        ]],\n",
       "\n",
       "       [[0.13553719, 0.2446281 , 0.4       , 0.        , 0.03636364]],\n",
       "\n",
       "       [[0.2446281 , 0.4       , 0.        , 0.03636364, 0.26446281]],\n",
       "\n",
       "       [[0.4       , 0.        , 0.03636364, 0.26446281, 0.03140496]],\n",
       "\n",
       "       [[0.        , 0.03636364, 0.26446281, 0.03140496, 0.0231405 ]],\n",
       "\n",
       "       [[0.03636364, 0.26446281, 0.03140496, 0.0231405 , 0.07272727]],\n",
       "\n",
       "       [[0.26446281, 0.03140496, 0.0231405 , 0.07272727, 0.20991736]],\n",
       "\n",
       "       [[0.03140496, 0.0231405 , 0.07272727, 0.20991736, 0.20991736]],\n",
       "\n",
       "       [[0.0231405 , 0.07272727, 0.20991736, 0.20991736, 0.11239669]],\n",
       "\n",
       "       [[0.07272727, 0.20991736, 0.20991736, 0.11239669, 0.15867769]],\n",
       "\n",
       "       [[0.20991736, 0.20991736, 0.11239669, 0.15867769, 0.55206612]],\n",
       "\n",
       "       [[0.20991736, 0.11239669, 0.15867769, 0.55206612, 0.31735537]],\n",
       "\n",
       "       [[0.11239669, 0.15867769, 0.55206612, 0.31735537, 0.45123967]],\n",
       "\n",
       "       [[0.15867769, 0.55206612, 0.31735537, 0.45123967, 0.18677686]],\n",
       "\n",
       "       [[0.55206612, 0.31735537, 0.45123967, 0.18677686, 0.35041322]],\n",
       "\n",
       "       [[0.31735537, 0.45123967, 0.18677686, 0.35041322, 0.68099174]],\n",
       "\n",
       "       [[0.45123967, 0.18677686, 0.35041322, 0.68099174, 0.33884298]],\n",
       "\n",
       "       [[0.18677686, 0.35041322, 0.68099174, 0.33884298, 0.52892562]],\n",
       "\n",
       "       [[0.35041322, 0.68099174, 0.33884298, 0.52892562, 0.5553719 ]],\n",
       "\n",
       "       [[0.68099174, 0.33884298, 0.52892562, 0.5553719 , 0.61652893]],\n",
       "\n",
       "       [[0.33884298, 0.52892562, 0.5553719 , 0.61652893, 0.61487603]],\n",
       "\n",
       "       [[0.52892562, 0.5553719 , 0.61652893, 0.61487603, 0.44958678]],\n",
       "\n",
       "       [[0.5553719 , 0.61652893, 0.61487603, 0.44958678, 0.5107438 ]],\n",
       "\n",
       "       [[0.61652893, 0.61487603, 0.44958678, 0.5107438 , 0.59669421]],\n",
       "\n",
       "       [[0.61487603, 0.44958678, 0.5107438 , 0.59669421, 0.40991736]],\n",
       "\n",
       "       [[0.44958678, 0.5107438 , 0.59669421, 0.40991736, 0.6231405 ]],\n",
       "\n",
       "       [[0.5107438 , 0.59669421, 0.40991736, 0.6231405 , 0.60495868]],\n",
       "\n",
       "       [[0.59669421, 0.40991736, 0.6231405 , 0.60495868, 1.        ]],\n",
       "\n",
       "       [[0.40991736, 0.6231405 , 0.60495868, 1.        , 0.35206612]],\n",
       "\n",
       "       [[0.6231405 , 0.60495868, 1.        , 0.35206612, 0.52396694]],\n",
       "\n",
       "       [[0.60495868, 1.        , 0.35206612, 0.52396694, 0.43305785]],\n",
       "\n",
       "       [[1.        , 0.35206612, 0.52396694, 0.43305785, 0.31239669]],\n",
       "\n",
       "       [[0.35206612, 0.52396694, 0.43305785, 0.31239669, 0.32892562]],\n",
       "\n",
       "       [[0.52396694, 0.43305785, 0.31239669, 0.32892562, 0.31404959]],\n",
       "\n",
       "       [[0.43305785, 0.31239669, 0.32892562, 0.31404959, 0.39008264]],\n",
       "\n",
       "       [[0.31239669, 0.32892562, 0.31404959, 0.39008264, 0.47603306]],\n",
       "\n",
       "       [[0.32892562, 0.31404959, 0.39008264, 0.47603306, 0.45289256]],\n",
       "\n",
       "       [[0.31404959, 0.39008264, 0.47603306, 0.45289256, 0.4214876 ]],\n",
       "\n",
       "       [[0.39008264, 0.47603306, 0.45289256, 0.4214876 , 0.44958678]],\n",
       "\n",
       "       [[0.47603306, 0.45289256, 0.4214876 , 0.44958678, 0.54049587]],\n",
       "\n",
       "       [[0.45289256, 0.4214876 , 0.44958678, 0.54049587, 0.5553719 ]],\n",
       "\n",
       "       [[0.4214876 , 0.44958678, 0.54049587, 0.5553719 , 0.49586777]],\n",
       "\n",
       "       [[0.44958678, 0.54049587, 0.5553719 , 0.49586777, 0.74545455]],\n",
       "\n",
       "       [[0.54049587, 0.5553719 , 0.49586777, 0.74545455, 0.59173554]],\n",
       "\n",
       "       [[0.5553719 , 0.49586777, 0.74545455, 0.59173554, 0.85785124]],\n",
       "\n",
       "       [[0.49586777, 0.74545455, 0.59173554, 0.85785124, 0.74710744]],\n",
       "\n",
       "       [[0.74545455, 0.59173554, 0.85785124, 0.74710744, 0.57355372]],\n",
       "\n",
       "       [[0.59173554, 0.85785124, 0.74710744, 0.57355372, 0.85454545]],\n",
       "\n",
       "       [[0.85785124, 0.74710744, 0.57355372, 0.85454545, 0.6       ]],\n",
       "\n",
       "       [[0.74710744, 0.57355372, 0.85454545, 0.6       , 0.35041322]],\n",
       "\n",
       "       [[0.57355372, 0.85454545, 0.6       , 0.35041322, 0.28760331]],\n",
       "\n",
       "       [[0.85454545, 0.6       , 0.35041322, 0.28760331, 0.45289256]],\n",
       "\n",
       "       [[0.6       , 0.35041322, 0.28760331, 0.45289256, 0.38347107]],\n",
       "\n",
       "       [[0.35041322, 0.28760331, 0.45289256, 0.38347107, 0.21652893]]])"
      ]
     },
     "execution_count": 40,
     "metadata": {},
     "output_type": "execute_result"
    }
   ],
   "source": [
    "X_train"
   ]
  },
  {
   "cell_type": "code",
   "execution_count": 41,
   "metadata": {},
   "outputs": [
    {
     "data": {
      "text/plain": [
       "array([[[0.14671815, 0.25096525, 0.12548263, 0.27992278, 0.12162162]],\n",
       "\n",
       "       [[0.25096525, 0.12548263, 0.27992278, 0.12162162, 0.        ]],\n",
       "\n",
       "       [[0.12548263, 0.27992278, 0.12162162, 0.        , 0.28378378]],\n",
       "\n",
       "       [[0.27992278, 0.12162162, 0.        , 0.28378378, 0.24903475]],\n",
       "\n",
       "       [[0.12162162, 0.        , 0.28378378, 0.24903475, 0.2953668 ]],\n",
       "\n",
       "       [[0.        , 0.28378378, 0.24903475, 0.2953668 , 0.15637066]],\n",
       "\n",
       "       [[0.28378378, 0.24903475, 0.2953668 , 0.15637066, 0.3957529 ]],\n",
       "\n",
       "       [[0.24903475, 0.2953668 , 0.15637066, 0.3957529 , 0.26061776]],\n",
       "\n",
       "       [[0.2953668 , 0.15637066, 0.3957529 , 0.26061776, 0.15057915]],\n",
       "\n",
       "       [[0.15637066, 0.3957529 , 0.26061776, 0.15057915, 0.54826255]],\n",
       "\n",
       "       [[0.3957529 , 0.26061776, 0.15057915, 0.54826255, 0.57722008]],\n",
       "\n",
       "       [[0.26061776, 0.15057915, 0.54826255, 0.57722008, 0.51930502]],\n",
       "\n",
       "       [[0.15057915, 0.54826255, 0.57722008, 0.51930502, 0.81081081]],\n",
       "\n",
       "       [[0.54826255, 0.57722008, 0.51930502, 0.81081081, 0.74131274]]])"
      ]
     },
     "execution_count": 41,
     "metadata": {},
     "output_type": "execute_result"
    }
   ],
   "source": [
    "X_val"
   ]
  },
  {
   "cell_type": "code",
   "execution_count": 42,
   "metadata": {},
   "outputs": [
    {
     "name": "stdout",
     "output_type": "stream",
     "text": [
      "Train Score: 88.51 RMSE\n",
      "Validation Score: 94.14 RMSE\n"
     ]
    }
   ],
   "source": [
    "# calculate RMSE\n",
    "trainScore = math.sqrt(mean_squared_error(Y_train[0], trainpred[:,0]))\n",
    "print('Train Score: %.2f RMSE' % (trainScore))\n",
    "valScore = math.sqrt(mean_squared_error(Y_val[0], valpred[:,0]))\n",
    "print('Validation Score: %.2f RMSE' % (valScore))"
   ]
  },
  {
   "cell_type": "code",
   "execution_count": 43,
   "metadata": {},
   "outputs": [],
   "source": [
    "# Train predictions\n",
    "trainpredPlot = np.empty_like(df)\n",
    "trainpredPlot[:, :] = np.nan\n",
    "trainpredPlot[lookback:len(trainpred)+lookback, :] = trainpred"
   ]
  },
  {
   "cell_type": "code",
   "execution_count": 44,
   "metadata": {},
   "outputs": [],
   "source": [
    "# Validation predictions\n",
    "valpredPlot = np.empty_like(df)\n",
    "valpredPlot[:, :] = np.nan\n",
    "valpredPlot[len(trainpred)+(lookback*2)+1:len(df)-1, :] = valpred"
   ]
  },
  {
   "cell_type": "code",
   "execution_count": 45,
   "metadata": {},
   "outputs": [
    {
     "data": {
      "image/png": "[encoded data removed]",
      "text/plain": [
       "<Figure size 432x288 with 1 Axes>"
      ]
     },
     "metadata": {
      "needs_background": "light"
     },
     "output_type": "display_data"
    }
   ],
   "source": [
    "# Plot all predictions\n",
    "inversetransform, =plt.plot(scaler.inverse_transform(df))\n",
    "trainpred, =plt.plot(scaler.inverse_transform(trainpredPlot))\n",
    "valpred, =plt.plot(scaler.inverse_transform(valpredPlot))\n",
    "plt.xlabel('Number of weeks')\n",
    "plt.ylabel('Cancellations')\n",
    "plt.title(\"Predicted vs. Actual Cancellations Per Week\")\n",
    "plt.show()"
   ]
  },
  {
   "cell_type": "code",
   "execution_count": 46,
   "metadata": {},
   "outputs": [],
   "source": [
    "Y_val=Y_val.reshape(-1)\n",
    "Y_val.shape\n",
    "Y_val=pd.Series(Y_val)"
   ]
  },
  {
   "cell_type": "code",
   "execution_count": 47,
   "metadata": {},
   "outputs": [
    {
     "data": {
      "text/plain": [
       "0     148.0\n",
       "1     295.0\n",
       "2     277.0\n",
       "3     301.0\n",
       "4     229.0\n",
       "5     353.0\n",
       "6     283.0\n",
       "7     226.0\n",
       "8     432.0\n",
       "9     447.0\n",
       "10    417.0\n",
       "11    568.0\n",
       "12    532.0\n",
       "13    385.0\n",
       "dtype: float64"
      ]
     },
     "execution_count": 47,
     "metadata": {},
     "output_type": "execute_result"
    }
   ],
   "source": [
    "Y_val"
   ]
  },
  {
   "cell_type": "code",
   "execution_count": 48,
   "metadata": {},
   "outputs": [],
   "source": [
    "predictions=predictions.reshape(-1)\n",
    "predictions.shape\n",
    "predictions=pd.Series(predictions)"
   ]
  },
  {
   "cell_type": "code",
   "execution_count": 49,
   "metadata": {},
   "outputs": [
    {
     "data": {
      "text/plain": [
       "0     266.180878\n",
       "1     245.084671\n",
       "2     288.072510\n",
       "3     276.316223\n",
       "4     281.989990\n",
       "5     273.215912\n",
       "6     325.748779\n",
       "7     302.208954\n",
       "8     285.216003\n",
       "9     352.371033\n",
       "10    357.889618\n",
       "11    361.795227\n",
       "12    430.000305\n",
       "13    441.207092\n",
       "dtype: float32"
      ]
     },
     "execution_count": 49,
     "metadata": {},
     "output_type": "execute_result"
    }
   ],
   "source": [
    "predictions"
   ]
  },
  {
   "cell_type": "code",
   "execution_count": 50,
   "metadata": {},
   "outputs": [],
   "source": [
    "import numpy as np\n",
    "\n",
    "def mda(actual: np.ndarray, predicted: np.ndarray):\n",
    "    \"\"\" Mean Directional Accuracy \"\"\"\n",
    "    return np.mean((np.sign(actual[1:] - actual[:-1]) == np.sign(predicted[1:] - predicted[:-1])).astype(int))"
   ]
  },
  {
   "cell_type": "code",
   "execution_count": 51,
   "metadata": {},
   "outputs": [
    {
     "data": {
      "text/plain": [
       "0.8571428571428571"
      ]
     },
     "execution_count": 51,
     "metadata": {},
     "output_type": "execute_result"
    }
   ],
   "source": [
    "mda(Y_val, predictions)"
   ]
  },
  {
   "cell_type": "code",
   "execution_count": 52,
   "metadata": {},
   "outputs": [
    {
     "name": "stdout",
     "output_type": "stream",
     "text": [
      "RMSE: 94.141480\n"
     ]
    }
   ],
   "source": [
    "# https://machinelearningmastery.com/time-series-forecasting-performance-measures-with-python/\n",
    "\n",
    "mse = mean_squared_error(Y_val, predictions)\n",
    "rmse = sqrt(mse)\n",
    "print('RMSE: %f' % rmse)"
   ]
  },
  {
   "cell_type": "code",
   "execution_count": 53,
   "metadata": {},
   "outputs": [
    {
     "data": {
      "text/plain": [
       "0     118.180878\n",
       "1     -49.915329\n",
       "2      11.072510\n",
       "3     -24.683777\n",
       "4      52.989990\n",
       "5     -79.784088\n",
       "6      42.748779\n",
       "7      76.208954\n",
       "8    -146.783997\n",
       "9     -94.628967\n",
       "10    -59.110382\n",
       "11   -206.204773\n",
       "12   -101.999695\n",
       "13     56.207092\n",
       "dtype: float64"
      ]
     },
     "execution_count": 53,
     "metadata": {},
     "output_type": "execute_result"
    }
   ],
   "source": [
    "forecast_error = (predictions-Y_val)\n",
    "forecast_error"
   ]
  },
  {
   "cell_type": "code",
   "execution_count": 54,
   "metadata": {},
   "outputs": [
    {
     "data": {
      "text/plain": [
       "-28.97877175467355"
      ]
     },
     "execution_count": 54,
     "metadata": {},
     "output_type": "execute_result"
    }
   ],
   "source": [
    "mean_forecast_error = np.mean(forecast_error)\n",
    "mean_forecast_error"
   ]
  },
  {
   "cell_type": "code",
   "execution_count": 55,
   "metadata": {},
   "outputs": [
    {
     "data": {
      "text/plain": [
       "array([[[0.12561983, 0.21818182, 0.34214876, 0.49586777, 0.22809917]],\n",
       "\n",
       "       [[0.21818182, 0.34214876, 0.49586777, 0.22809917, 0.47438017]],\n",
       "\n",
       "       [[0.34214876, 0.49586777, 0.22809917, 0.47438017, 0.67272727]],\n",
       "\n",
       "       [[0.49586777, 0.22809917, 0.47438017, 0.67272727, 0.28099174]],\n",
       "\n",
       "       [[0.22809917, 0.47438017, 0.67272727, 0.28099174, 0.31570248]],\n",
       "\n",
       "       [[0.47438017, 0.67272727, 0.28099174, 0.31570248, 0.40495868]],\n",
       "\n",
       "       [[0.67272727, 0.28099174, 0.31570248, 0.40495868, 0.51239669]],\n",
       "\n",
       "       [[0.28099174, 0.31570248, 0.40495868, 0.51239669, 0.67438017]],\n",
       "\n",
       "       [[0.31570248, 0.40495868, 0.51239669, 0.67438017, 0.64958678]],\n",
       "\n",
       "       [[0.40495868, 0.51239669, 0.67438017, 0.64958678, 0.50082645]],\n",
       "\n",
       "       [[0.51239669, 0.67438017, 0.64958678, 0.50082645, 0.61157025]],\n",
       "\n",
       "       [[0.67438017, 0.64958678, 0.50082645, 0.61157025, 0.68264463]],\n",
       "\n",
       "       [[0.64958678, 0.50082645, 0.61157025, 0.68264463, 0.21322314]],\n",
       "\n",
       "       [[0.50082645, 0.61157025, 0.68264463, 0.21322314, 0.29421488]],\n",
       "\n",
       "       [[0.61157025, 0.68264463, 0.21322314, 0.29421488, 0.07603306]],\n",
       "\n",
       "       [[0.68264463, 0.21322314, 0.29421488, 0.07603306, 0.09917355]],\n",
       "\n",
       "       [[0.21322314, 0.29421488, 0.07603306, 0.09917355, 0.03305785]],\n",
       "\n",
       "       [[0.29421488, 0.07603306, 0.09917355, 0.03305785, 0.13553719]],\n",
       "\n",
       "       [[0.07603306, 0.09917355, 0.03305785, 0.13553719, 0.2446281 ]],\n",
       "\n",
       "       [[0.09917355, 0.03305785, 0.13553719, 0.2446281 , 0.4       ]],\n",
       "\n",
       "       [[0.03305785, 0.13553719, 0.2446281 , 0.4       , 0.        ]],\n",
       "\n",
       "       [[0.13553719, 0.2446281 , 0.4       , 0.        , 0.03636364]],\n",
       "\n",
       "       [[0.2446281 , 0.4       , 0.        , 0.03636364, 0.26446281]],\n",
       "\n",
       "       [[0.4       , 0.        , 0.03636364, 0.26446281, 0.03140496]],\n",
       "\n",
       "       [[0.        , 0.03636364, 0.26446281, 0.03140496, 0.0231405 ]],\n",
       "\n",
       "       [[0.03636364, 0.26446281, 0.03140496, 0.0231405 , 0.07272727]],\n",
       "\n",
       "       [[0.26446281, 0.03140496, 0.0231405 , 0.07272727, 0.20991736]],\n",
       "\n",
       "       [[0.03140496, 0.0231405 , 0.07272727, 0.20991736, 0.20991736]],\n",
       "\n",
       "       [[0.0231405 , 0.07272727, 0.20991736, 0.20991736, 0.11239669]],\n",
       "\n",
       "       [[0.07272727, 0.20991736, 0.20991736, 0.11239669, 0.15867769]],\n",
       "\n",
       "       [[0.20991736, 0.20991736, 0.11239669, 0.15867769, 0.55206612]],\n",
       "\n",
       "       [[0.20991736, 0.11239669, 0.15867769, 0.55206612, 0.31735537]],\n",
       "\n",
       "       [[0.11239669, 0.15867769, 0.55206612, 0.31735537, 0.45123967]],\n",
       "\n",
       "       [[0.15867769, 0.55206612, 0.31735537, 0.45123967, 0.18677686]],\n",
       "\n",
       "       [[0.55206612, 0.31735537, 0.45123967, 0.18677686, 0.35041322]],\n",
       "\n",
       "       [[0.31735537, 0.45123967, 0.18677686, 0.35041322, 0.68099174]],\n",
       "\n",
       "       [[0.45123967, 0.18677686, 0.35041322, 0.68099174, 0.33884298]],\n",
       "\n",
       "       [[0.18677686, 0.35041322, 0.68099174, 0.33884298, 0.52892562]],\n",
       "\n",
       "       [[0.35041322, 0.68099174, 0.33884298, 0.52892562, 0.5553719 ]],\n",
       "\n",
       "       [[0.68099174, 0.33884298, 0.52892562, 0.5553719 , 0.61652893]],\n",
       "\n",
       "       [[0.33884298, 0.52892562, 0.5553719 , 0.61652893, 0.61487603]],\n",
       "\n",
       "       [[0.52892562, 0.5553719 , 0.61652893, 0.61487603, 0.44958678]],\n",
       "\n",
       "       [[0.5553719 , 0.61652893, 0.61487603, 0.44958678, 0.5107438 ]],\n",
       "\n",
       "       [[0.61652893, 0.61487603, 0.44958678, 0.5107438 , 0.59669421]],\n",
       "\n",
       "       [[0.61487603, 0.44958678, 0.5107438 , 0.59669421, 0.40991736]],\n",
       "\n",
       "       [[0.44958678, 0.5107438 , 0.59669421, 0.40991736, 0.6231405 ]],\n",
       "\n",
       "       [[0.5107438 , 0.59669421, 0.40991736, 0.6231405 , 0.60495868]],\n",
       "\n",
       "       [[0.59669421, 0.40991736, 0.6231405 , 0.60495868, 1.        ]],\n",
       "\n",
       "       [[0.40991736, 0.6231405 , 0.60495868, 1.        , 0.35206612]],\n",
       "\n",
       "       [[0.6231405 , 0.60495868, 1.        , 0.35206612, 0.52396694]],\n",
       "\n",
       "       [[0.60495868, 1.        , 0.35206612, 0.52396694, 0.43305785]],\n",
       "\n",
       "       [[1.        , 0.35206612, 0.52396694, 0.43305785, 0.31239669]],\n",
       "\n",
       "       [[0.35206612, 0.52396694, 0.43305785, 0.31239669, 0.32892562]],\n",
       "\n",
       "       [[0.52396694, 0.43305785, 0.31239669, 0.32892562, 0.31404959]],\n",
       "\n",
       "       [[0.43305785, 0.31239669, 0.32892562, 0.31404959, 0.39008264]],\n",
       "\n",
       "       [[0.31239669, 0.32892562, 0.31404959, 0.39008264, 0.47603306]],\n",
       "\n",
       "       [[0.32892562, 0.31404959, 0.39008264, 0.47603306, 0.45289256]],\n",
       "\n",
       "       [[0.31404959, 0.39008264, 0.47603306, 0.45289256, 0.4214876 ]],\n",
       "\n",
       "       [[0.39008264, 0.47603306, 0.45289256, 0.4214876 , 0.44958678]],\n",
       "\n",
       "       [[0.47603306, 0.45289256, 0.4214876 , 0.44958678, 0.54049587]],\n",
       "\n",
       "       [[0.45289256, 0.4214876 , 0.44958678, 0.54049587, 0.5553719 ]],\n",
       "\n",
       "       [[0.4214876 , 0.44958678, 0.54049587, 0.5553719 , 0.49586777]],\n",
       "\n",
       "       [[0.44958678, 0.54049587, 0.5553719 , 0.49586777, 0.74545455]],\n",
       "\n",
       "       [[0.54049587, 0.5553719 , 0.49586777, 0.74545455, 0.59173554]],\n",
       "\n",
       "       [[0.5553719 , 0.49586777, 0.74545455, 0.59173554, 0.85785124]],\n",
       "\n",
       "       [[0.49586777, 0.74545455, 0.59173554, 0.85785124, 0.74710744]],\n",
       "\n",
       "       [[0.74545455, 0.59173554, 0.85785124, 0.74710744, 0.57355372]],\n",
       "\n",
       "       [[0.59173554, 0.85785124, 0.74710744, 0.57355372, 0.85454545]],\n",
       "\n",
       "       [[0.85785124, 0.74710744, 0.57355372, 0.85454545, 0.6       ]],\n",
       "\n",
       "       [[0.74710744, 0.57355372, 0.85454545, 0.6       , 0.35041322]],\n",
       "\n",
       "       [[0.57355372, 0.85454545, 0.6       , 0.35041322, 0.28760331]],\n",
       "\n",
       "       [[0.85454545, 0.6       , 0.35041322, 0.28760331, 0.45289256]],\n",
       "\n",
       "       [[0.6       , 0.35041322, 0.28760331, 0.45289256, 0.38347107]],\n",
       "\n",
       "       [[0.35041322, 0.28760331, 0.45289256, 0.38347107, 0.21652893]]])"
      ]
     },
     "execution_count": 55,
     "metadata": {},
     "output_type": "execute_result"
    }
   ],
   "source": [
    "X_train"
   ]
  },
  {
   "cell_type": "code",
   "execution_count": 56,
   "metadata": {},
   "outputs": [
    {
     "data": {
      "text/plain": [
       "(74, 1, 5)"
      ]
     },
     "execution_count": 56,
     "metadata": {},
     "output_type": "execute_result"
    }
   ],
   "source": [
    "X_train.shape"
   ]
  },
  {
   "cell_type": "markdown",
   "metadata": {},
   "source": [
    "## Validate Predictions on Test Data"
   ]
  },
  {
   "cell_type": "code",
   "execution_count": 57,
   "metadata": {},
   "outputs": [],
   "source": [
    "# Test (unseen) predictions\n",
    "# (t) and (t-5)\n",
    "Xnew = np.array([tseries.iloc[95:100],tseries.iloc[96:101],tseries.iloc[97:102],tseries.iloc[98:103],tseries.iloc[99:104],tseries.iloc[100:105],tseries.iloc[101:106],tseries.iloc[102:107],tseries.iloc[103:108],tseries.iloc[104:109],tseries.iloc[105:110],tseries.iloc[106:111],tseries.iloc[107:112],tseries.iloc[108:113],tseries.iloc[109:114]])"
   ]
  },
  {
   "cell_type": "code",
   "execution_count": 58,
   "metadata": {},
   "outputs": [
    {
     "data": {
      "text/plain": [
       "array([[417., 568., 532., 385., 666.],\n",
       "       [568., 532., 385., 666., 407.],\n",
       "       [532., 385., 666., 407., 463.],\n",
       "       [385., 666., 407., 463., 456.],\n",
       "       [666., 407., 463., 456., 407.],\n",
       "       [407., 463., 456., 407., 374.],\n",
       "       [463., 456., 407., 374., 391.],\n",
       "       [456., 407., 374., 391., 298.],\n",
       "       [407., 374., 391., 298., 351.],\n",
       "       [374., 391., 298., 351., 222.],\n",
       "       [391., 298., 351., 222., 351.],\n",
       "       [298., 351., 222., 351., 253.],\n",
       "       [351., 222., 351., 253., 269.],\n",
       "       [222., 351., 253., 269., 341.],\n",
       "       [351., 253., 269., 341., 201.]])"
      ]
     },
     "execution_count": 58,
     "metadata": {},
     "output_type": "execute_result"
    }
   ],
   "source": [
    "Xnew"
   ]
  },
  {
   "cell_type": "code",
   "execution_count": 59,
   "metadata": {},
   "outputs": [],
   "source": [
    "Xnew = scaler.fit_transform(Xnew)\n",
    "Xnew\n",
    "Xnewformat = np.reshape(Xnew, (Xnew.shape[0], 1, Xnew.shape[1]))\n",
    "ynew=model.predict(Xnewformat)"
   ]
  },
  {
   "cell_type": "code",
   "execution_count": 60,
   "metadata": {},
   "outputs": [
    {
     "data": {
      "text/plain": [
       "(15, 5)"
      ]
     },
     "execution_count": 60,
     "metadata": {},
     "output_type": "execute_result"
    }
   ],
   "source": [
    "Xnew.shape"
   ]
  },
  {
   "cell_type": "code",
   "execution_count": 61,
   "metadata": {},
   "outputs": [
    {
     "data": {
      "text/plain": [
       "array([[0.63971955],\n",
       "       [0.51149243],\n",
       "       [0.5521302 ],\n",
       "       [0.5207744 ],\n",
       "       [0.49080825],\n",
       "       [0.43026423],\n",
       "       [0.43273112],\n",
       "       [0.34770796],\n",
       "       [0.35657313],\n",
       "       [0.24842843],\n",
       "       [0.3095932 ],\n",
       "       [0.22141275],\n",
       "       [0.21947318],\n",
       "       [0.26446947],\n",
       "       [0.17358491]], dtype=float32)"
      ]
     },
     "execution_count": 61,
     "metadata": {},
     "output_type": "execute_result"
    }
   ],
   "source": [
    "ynew"
   ]
  },
  {
   "cell_type": "code",
   "execution_count": 62,
   "metadata": {},
   "outputs": [
    {
     "data": {
      "text/plain": [
       "numpy.ndarray"
      ]
     },
     "execution_count": 62,
     "metadata": {},
     "output_type": "execute_result"
    }
   ],
   "source": [
    "type(ynew)"
   ]
  },
  {
   "cell_type": "code",
   "execution_count": 63,
   "metadata": {},
   "outputs": [
    {
     "data": {
      "text/plain": [
       "(15, 1)"
      ]
     },
     "execution_count": 63,
     "metadata": {},
     "output_type": "execute_result"
    }
   ],
   "source": [
    "ynew.shape"
   ]
  },
  {
   "cell_type": "code",
   "execution_count": 64,
   "metadata": {},
   "outputs": [
    {
     "data": {
      "text/plain": [
       "FullDate\n",
       "201721    407.0\n",
       "201722    463.0\n",
       "201723    456.0\n",
       "201724    407.0\n",
       "201725    374.0\n",
       "201726    391.0\n",
       "201727    298.0\n",
       "201728    351.0\n",
       "201729    222.0\n",
       "201730    351.0\n",
       "201731    253.0\n",
       "201732    269.0\n",
       "201733    341.0\n",
       "201734    201.0\n",
       "201735    129.0\n",
       "Name: IsCanceled, dtype: float64"
      ]
     },
     "execution_count": 64,
     "metadata": {},
     "output_type": "execute_result"
    }
   ],
   "source": [
    "actual = tseries.iloc[100:115]\n",
    "actual"
   ]
  },
  {
   "cell_type": "code",
   "execution_count": 65,
   "metadata": {},
   "outputs": [
    {
     "data": {
      "text/plain": [
       "array([407., 463., 456., 407., 374., 391., 298., 351., 222., 351., 253.,\n",
       "       269., 341., 201., 129.])"
      ]
     },
     "execution_count": 65,
     "metadata": {},
     "output_type": "execute_result"
    }
   ],
   "source": [
    "actual = np.array(actual)\n",
    "actual"
   ]
  },
  {
   "cell_type": "code",
   "execution_count": 66,
   "metadata": {},
   "outputs": [
    {
     "data": {
      "text/plain": [
       "(15, 1)"
      ]
     },
     "execution_count": 66,
     "metadata": {},
     "output_type": "execute_result"
    }
   ],
   "source": [
    "actual=actual.reshape(15,-1)\n",
    "actual.shape"
   ]
  },
  {
   "cell_type": "code",
   "execution_count": 67,
   "metadata": {},
   "outputs": [
    {
     "data": {
      "text/plain": [
       "array([[407.],\n",
       "       [463.],\n",
       "       [456.],\n",
       "       [407.],\n",
       "       [374.],\n",
       "       [391.],\n",
       "       [298.],\n",
       "       [351.],\n",
       "       [222.],\n",
       "       [351.],\n",
       "       [253.],\n",
       "       [269.],\n",
       "       [341.],\n",
       "       [201.],\n",
       "       [129.]])"
      ]
     },
     "execution_count": 67,
     "metadata": {},
     "output_type": "execute_result"
    }
   ],
   "source": [
    "actual"
   ]
  },
  {
   "cell_type": "code",
   "execution_count": 68,
   "metadata": {},
   "outputs": [],
   "source": [
    "ynew=ynew.reshape(-1)\n",
    "actual=actual.reshape(-1)\n",
    "actualpd=pd.Series(actual)"
   ]
  },
  {
   "cell_type": "code",
   "execution_count": 69,
   "metadata": {},
   "outputs": [
    {
     "data": {
      "text/plain": [
       "21.0"
      ]
     },
     "execution_count": 69,
     "metadata": {},
     "output_type": "execute_result"
    }
   ],
   "source": [
    "np.min(df)"
   ]
  },
  {
   "cell_type": "code",
   "execution_count": 70,
   "metadata": {},
   "outputs": [
    {
     "data": {
      "text/plain": [
       "array([0.63971955, 0.51149243, 0.5521302 , 0.5207744 , 0.49080825,\n",
       "       0.43026423, 0.43273112, 0.34770796, 0.35657313, 0.24842843,\n",
       "       0.3095932 , 0.22141275, 0.21947318, 0.26446947, 0.17358491],\n",
       "      dtype=float32)"
      ]
     },
     "execution_count": 70,
     "metadata": {},
     "output_type": "execute_result"
    }
   ],
   "source": [
    "ynew"
   ]
  },
  {
   "cell_type": "code",
   "execution_count": 71,
   "metadata": {},
   "outputs": [],
   "source": [
    "maxcancel=np.max(tseries)"
   ]
  },
  {
   "cell_type": "code",
   "execution_count": 72,
   "metadata": {},
   "outputs": [],
   "source": [
    "mincancel=np.min(tseries)"
   ]
  },
  {
   "cell_type": "code",
   "execution_count": 73,
   "metadata": {},
   "outputs": [],
   "source": [
    "ynew = ynew * np.abs(maxcancel-mincancel) + np.min(tseries)\n",
    "ynewpd=pd.Series(ynew)"
   ]
  },
  {
   "cell_type": "code",
   "execution_count": 74,
   "metadata": {},
   "outputs": [
    {
     "data": {
      "text/plain": [
       "0     407.0\n",
       "1     463.0\n",
       "2     456.0\n",
       "3     407.0\n",
       "4     374.0\n",
       "5     391.0\n",
       "6     298.0\n",
       "7     351.0\n",
       "8     222.0\n",
       "9     351.0\n",
       "10    253.0\n",
       "11    269.0\n",
       "12    341.0\n",
       "13    201.0\n",
       "14    129.0\n",
       "dtype: float64"
      ]
     },
     "execution_count": 74,
     "metadata": {},
     "output_type": "execute_result"
    }
   ],
   "source": [
    "actualpd"
   ]
  },
  {
   "cell_type": "code",
   "execution_count": 75,
   "metadata": {},
   "outputs": [
    {
     "data": {
      "text/plain": [
       "0     433.619110\n",
       "1     350.912628\n",
       "2     377.123993\n",
       "3     356.899506\n",
       "4     337.571320\n",
       "5     298.520416\n",
       "6     300.111572\n",
       "7     245.271637\n",
       "8     250.989670\n",
       "9     181.236343\n",
       "10    220.687622\n",
       "11    163.811218\n",
       "12    162.560196\n",
       "13    191.582809\n",
       "14    132.962265\n",
       "dtype: float32"
      ]
     },
     "execution_count": 75,
     "metadata": {},
     "output_type": "execute_result"
    }
   ],
   "source": [
    "ynewpd"
   ]
  },
  {
   "cell_type": "code",
   "execution_count": 76,
   "metadata": {},
   "outputs": [
    {
     "data": {
      "text/plain": [
       "0.8666666666666667"
      ]
     },
     "execution_count": 76,
     "metadata": {},
     "output_type": "execute_result"
    }
   ],
   "source": [
    "mda(actualpd, ynewpd)"
   ]
  },
  {
   "cell_type": "code",
   "execution_count": 77,
   "metadata": {},
   "outputs": [
    {
     "name": "stdout",
     "output_type": "stream",
     "text": [
      "RMSE: 88.234583\n"
     ]
    }
   ],
   "source": [
    "mse = mean_squared_error(actualpd, ynewpd)\n",
    "rmse = sqrt(mse)\n",
    "print('RMSE: %f' % rmse)"
   ]
  },
  {
   "cell_type": "code",
   "execution_count": 78,
   "metadata": {},
   "outputs": [
    {
     "data": {
      "text/plain": [
       "0      26.619110\n",
       "1    -112.087372\n",
       "2     -78.876007\n",
       "3     -50.100494\n",
       "4     -36.428680\n",
       "5     -92.479584\n",
       "6       2.111572\n",
       "7    -105.728363\n",
       "8      28.989670\n",
       "9    -169.763657\n",
       "10    -32.312378\n",
       "11   -105.188782\n",
       "12   -178.439804\n",
       "13     -9.417191\n",
       "14      3.962265\n",
       "dtype: float64"
      ]
     },
     "execution_count": 78,
     "metadata": {},
     "output_type": "execute_result"
    }
   ],
   "source": [
    "forecast_error = (ynewpd-actualpd)\n",
    "forecast_error"
   ]
  },
  {
   "cell_type": "code",
   "execution_count": 79,
   "metadata": {},
   "outputs": [
    {
     "data": {
      "text/plain": [
       "-60.60931294759114"
      ]
     },
     "execution_count": 79,
     "metadata": {},
     "output_type": "execute_result"
    }
   ],
   "source": [
    "mean_forecast_error = np.mean(forecast_error)\n",
    "mean_forecast_error"
   ]
  },
  {
   "cell_type": "code",
   "execution_count": 80,
   "metadata": {},
   "outputs": [
    {
     "data": {
      "image/png": "[encoded data removed]",
      "text/plain": [
       "<Figure size 432x288 with 1 Axes>"
      ]
     },
     "metadata": {
      "needs_background": "light"
     },
     "output_type": "display_data"
    }
   ],
   "source": [
    "predictons, =plt.plot(ynewpd, label='Predictions')\n",
    "actual, =plt.plot(actualpd, label='Actual')\n",
    "plt.xlabel('Number of weeks')\n",
    "plt.ylabel('Cancellations')\n",
    "plt.title(\"Predicted vs. Actual Cancellations Per Week\")\n",
    "plt.legend(loc = 'upper center')\n",
    "plt.show()"
   ]
  }
 ],
 "metadata": {
  "kernelspec": {
   "display_name": "Python 3",
   "language": "python",
   "name": "python3"
  },
  "language_info": {
   "codemirror_mode": {
    "name": "ipython",
    "version": 3
   },
   "file_extension": ".py",
   "mimetype": "text/x-python",
   "name": "python",
   "nbconvert_exporter": "python",
   "pygments_lexer": "ipython3",
   "version": "3.6.9"
  }
 },
 "nbformat": 4,
 "nbformat_minor": 2
}
