{
 "cells": [
  {
   "cell_type": "markdown",
   "metadata": {},
   "source": [
    "# Predicting Weekly Hotel Cancellations with LSTM\n",
    "\n",
    "In this example, the LSTM model is used to forecast weekly hotel cancellations on the hotel cancellation datasets as provided by Antonio, Almeida and Nunes (2019). Attributions provided below."
   ]
  },
  {
   "cell_type": "markdown",
   "metadata": {},
   "source": [
    "#### Attributions\n",
    "\n",
    "The below code uses the LSTM model from the TensorFlow library, of which the original authors **(Copyright 2019 The TensorFlow Authors)** have made available under the Apache 2.0 license. Modifications have been made where appropriate for conducting analysis on the dataset specific to this example.\n",
    "\n",
    "The data used in this example is sourced from [Antonio, Almeida and Nunes (2019)](https://www.sciencedirect.com/science/article/pii/S2352340918315191).\n",
    "\n",
    "The below work and findings are not endorsed by the original authors in any way."
   ]
  },
  {
   "cell_type": "markdown",
   "metadata": {},
   "source": [
    "#### Apache 2.0 License"
   ]
  },
  {
   "cell_type": "code",
   "execution_count": 1,
   "metadata": {},
   "outputs": [],
   "source": [
    "#@title Licensed under the Apache License, Version 2.0 (the \"License\"); { display-mode: \"form\" }\n",
    "# you may not use this file except in compliance with the License.\n",
    "# You may obtain a copy of the License at\n",
    "#\n",
    "# https://www.apache.org/licenses/LICENSE-2.0\n",
    "#\n",
    "# Unless required by applicable law or agreed to in writing, software\n",
    "# distributed under the License is distributed on an \"AS IS\" BASIS,\n",
    "# WITHOUT WARRANTIES OR CONDITIONS OF ANY KIND, either express or implied.\n",
    "# See the License for the specific language governing permissions and\n",
    "# limitations under the License."
   ]
  },
  {
   "cell_type": "markdown",
   "metadata": {},
   "source": [
    "## Python version"
   ]
  },
  {
   "cell_type": "code",
   "execution_count": 2,
   "metadata": {},
   "outputs": [
    {
     "name": "stdout",
     "output_type": "stream",
     "text": [
      "3.8.10\n"
     ]
    }
   ],
   "source": [
    "from platform import python_version\n",
    "print(python_version())"
   ]
  },
  {
   "cell_type": "markdown",
   "metadata": {},
   "source": [
    "## Import Libraries"
   ]
  },
  {
   "cell_type": "code",
   "execution_count": 3,
   "metadata": {},
   "outputs": [
    {
     "name": "stderr",
     "output_type": "stream",
     "text": [
      "2023-06-26 20:11:34.455814: I tensorflow/tsl/cuda/cudart_stub.cc:28] Could not find cuda drivers on your machine, GPU will not be used.\n",
      "2023-06-26 20:11:34.494160: I tensorflow/tsl/cuda/cudart_stub.cc:28] Could not find cuda drivers on your machine, GPU will not be used.\n",
      "2023-06-26 20:11:34.494593: I tensorflow/core/platform/cpu_feature_guard.cc:182] This TensorFlow binary is optimized to use available CPU instructions in performance-critical operations.\n",
      "To enable the following instructions: AVX2 FMA, in other operations, rebuild TensorFlow with the appropriate compiler flags.\n",
      "2023-06-26 20:11:35.162956: W tensorflow/compiler/tf2tensorrt/utils/py_utils.cc:38] TF-TRT Warning: Could not find TensorRT\n"
     ]
    },
    {
     "name": "stdout",
     "output_type": "stream",
     "text": [
      "2.12.0\n"
     ]
    }
   ],
   "source": [
    "import tensorflow as tf\n",
    "print(tf.__version__)"
   ]
  },
  {
   "cell_type": "code",
   "execution_count": 4,
   "metadata": {},
   "outputs": [],
   "source": [
    "tf.random.set_seed(1234)"
   ]
  },
  {
   "cell_type": "code",
   "execution_count": 5,
   "metadata": {},
   "outputs": [],
   "source": [
    "import csv\n",
    "import math\n",
    "import matplotlib.pyplot as plt\n",
    "import numpy as np\n",
    "import os\n",
    "import pandas as pd\n",
    "import random\n",
    "import statsmodels.api as sm\n",
    "import statsmodels.formula.api as smf\n",
    "\n",
    "from math import sqrt\n",
    "from numpy.random import seed\n",
    "seed(1)\n",
    "from pandas import DataFrame\n",
    "from sklearn.metrics import mean_squared_error\n",
    "from sklearn.model_selection import train_test_split\n",
    "from sklearn.preprocessing import MinMaxScaler\n",
    "from statsmodels.tsa.stattools import adfuller\n",
    "from tensorflow.keras.layers import Dense\n",
    "from tensorflow.keras import layers\n",
    "from tensorflow.keras.layers import LSTM\n",
    "\n",
    "dtypes = {\n",
    "        'IsCanceled':                                    'float64',\n",
    "        'LeadTime':                                          'float64',\n",
    "        'StaysInWeekendNights':                                     'float64',\n",
    "        'StaysInWeekNights':                                     'float64',\n",
    "        'Adults':                            'float64',\n",
    "        'Children':                            'float64',\n",
    "        'Babies':                                  'float64',\n",
    "        'Meal':                                    'category',\n",
    "        'Country':                                               'category',\n",
    "        'MarketSegment':                                    'category',\n",
    "        'DistributionChannel':                                       'category',\n",
    "        'IsRepeatedGuest':                               'float64',\n",
    "        'PreviousCancellations':                                    'float64',\n",
    "        'PreviousBookingsNotCanceled':                          'float64',\n",
    "        'ReservedRoomType':                                             'category',\n",
    "        'AssignedRoomType':                                            'category',\n",
    "        'BookingChanges':                                                'float64',\n",
    "        'DepositType':                                              'category',\n",
    "        'Agent':                                              'category',\n",
    "        'Company':                                 'category',\n",
    "        'DaysInWaitingList':                                           'float64',\n",
    "        'CustomerType':                                           'category',\n",
    "        'ADR':                                          'float64',\n",
    "        'RequiredCarParkingSpaces':                                      'float64',\n",
    "        'TotalOfSpecialRequests':                                              'float64',\n",
    "        'ReservationStatus':                                                'category'\n",
    "        }"
   ]
  },
  {
   "cell_type": "markdown",
   "metadata": {},
   "source": [
    "## Data Import and Manipulation"
   ]
  },
  {
   "cell_type": "code",
   "execution_count": 6,
   "metadata": {},
   "outputs": [],
   "source": [
    "train_df = pd.read_csv(\"H1.csv\", dtype=dtypes, converters={'ArrivalDateWeekNumber': '{:0>2}'.format})"
   ]
  },
  {
   "cell_type": "code",
   "execution_count": 7,
   "metadata": {},
   "outputs": [
    {
     "data": {
      "text/plain": [
       "pandas.core.frame.DataFrame"
      ]
     },
     "execution_count": 7,
     "metadata": {},
     "output_type": "execute_result"
    }
   ],
   "source": [
    "a=train_df.head()\n",
    "b=train_df\n",
    "b\n",
    "c=b.sort_values(['ArrivalDateYear','ArrivalDateWeekNumber'], ascending=True)\n",
    "c=pd.DataFrame(c)\n",
    "c\n",
    "type(c)"
   ]
  },
  {
   "cell_type": "code",
   "execution_count": 8,
   "metadata": {},
   "outputs": [
    {
     "data": {
      "text/html": [
       "<div>\n",
       "<style scoped>\n",
       "    .dataframe tbody tr th:only-of-type {\n",
       "        vertical-align: middle;\n",
       "    }\n",
       "\n",
       "    .dataframe tbody tr th {\n",
       "        vertical-align: top;\n",
       "    }\n",
       "\n",
       "    .dataframe thead th {\n",
       "        text-align: right;\n",
       "    }\n",
       "</style>\n",
       "<table border=\"1\" class=\"dataframe\">\n",
       "  <thead>\n",
       "    <tr style=\"text-align: right;\">\n",
       "      <th></th>\n",
       "      <th>ArrivalDateYear</th>\n",
       "      <th>ArrivalDateWeekNumber</th>\n",
       "    </tr>\n",
       "  </thead>\n",
       "  <tbody>\n",
       "    <tr>\n",
       "      <th>0</th>\n",
       "      <td>2015</td>\n",
       "      <td>27</td>\n",
       "    </tr>\n",
       "    <tr>\n",
       "      <th>1</th>\n",
       "      <td>2015</td>\n",
       "      <td>27</td>\n",
       "    </tr>\n",
       "    <tr>\n",
       "      <th>2</th>\n",
       "      <td>2015</td>\n",
       "      <td>27</td>\n",
       "    </tr>\n",
       "    <tr>\n",
       "      <th>3</th>\n",
       "      <td>2015</td>\n",
       "      <td>27</td>\n",
       "    </tr>\n",
       "    <tr>\n",
       "      <th>4</th>\n",
       "      <td>2015</td>\n",
       "      <td>27</td>\n",
       "    </tr>\n",
       "    <tr>\n",
       "      <th>...</th>\n",
       "      <td>...</td>\n",
       "      <td>...</td>\n",
       "    </tr>\n",
       "    <tr>\n",
       "      <th>40055</th>\n",
       "      <td>2017</td>\n",
       "      <td>35</td>\n",
       "    </tr>\n",
       "    <tr>\n",
       "      <th>40056</th>\n",
       "      <td>2017</td>\n",
       "      <td>35</td>\n",
       "    </tr>\n",
       "    <tr>\n",
       "      <th>40057</th>\n",
       "      <td>2017</td>\n",
       "      <td>35</td>\n",
       "    </tr>\n",
       "    <tr>\n",
       "      <th>40058</th>\n",
       "      <td>2017</td>\n",
       "      <td>35</td>\n",
       "    </tr>\n",
       "    <tr>\n",
       "      <th>40059</th>\n",
       "      <td>2017</td>\n",
       "      <td>35</td>\n",
       "    </tr>\n",
       "  </tbody>\n",
       "</table>\n",
       "<p>40060 rows × 2 columns</p>\n",
       "</div>"
      ],
      "text/plain": [
       "       ArrivalDateYear ArrivalDateWeekNumber\n",
       "0                 2015                    27\n",
       "1                 2015                    27\n",
       "2                 2015                    27\n",
       "3                 2015                    27\n",
       "4                 2015                    27\n",
       "...                ...                   ...\n",
       "40055             2017                    35\n",
       "40056             2017                    35\n",
       "40057             2017                    35\n",
       "40058             2017                    35\n",
       "40059             2017                    35\n",
       "\n",
       "[40060 rows x 2 columns]"
      ]
     },
     "execution_count": 8,
     "metadata": {},
     "output_type": "execute_result"
    }
   ],
   "source": [
    "df = DataFrame(c, columns= ['ArrivalDateYear', 'ArrivalDateWeekNumber']) \n",
    "df"
   ]
  },
  {
   "cell_type": "code",
   "execution_count": 9,
   "metadata": {},
   "outputs": [
    {
     "name": "stdout",
     "output_type": "stream",
     "text": [
      "0        201527\n",
      "1        201527\n",
      "2        201527\n",
      "3        201527\n",
      "4        201527\n",
      "          ...  \n",
      "40055    201735\n",
      "40056    201735\n",
      "40057    201735\n",
      "40058    201735\n",
      "40059    201735\n",
      "Length: 40060, dtype: object\n"
     ]
    }
   ],
   "source": [
    "# https://datatofish.com/concatenate-values-python/\n",
    "\n",
    "df1 = df['ArrivalDateYear'].map(str) + df['ArrivalDateWeekNumber'].map(str)\n",
    "print (df1)\n",
    "df1=pd.DataFrame(df1)"
   ]
  },
  {
   "cell_type": "code",
   "execution_count": 10,
   "metadata": {
    "scrolled": true
   },
   "outputs": [
    {
     "data": {
      "text/html": [
       "<div>\n",
       "<style scoped>\n",
       "    .dataframe tbody tr th:only-of-type {\n",
       "        vertical-align: middle;\n",
       "    }\n",
       "\n",
       "    .dataframe tbody tr th {\n",
       "        vertical-align: top;\n",
       "    }\n",
       "\n",
       "    .dataframe thead th {\n",
       "        text-align: right;\n",
       "    }\n",
       "</style>\n",
       "<table border=\"1\" class=\"dataframe\">\n",
       "  <thead>\n",
       "    <tr style=\"text-align: right;\">\n",
       "      <th></th>\n",
       "      <th>IsCanceled</th>\n",
       "    </tr>\n",
       "  </thead>\n",
       "  <tbody>\n",
       "    <tr>\n",
       "      <th>0</th>\n",
       "      <td>0.0</td>\n",
       "    </tr>\n",
       "    <tr>\n",
       "      <th>1</th>\n",
       "      <td>0.0</td>\n",
       "    </tr>\n",
       "    <tr>\n",
       "      <th>2</th>\n",
       "      <td>0.0</td>\n",
       "    </tr>\n",
       "    <tr>\n",
       "      <th>3</th>\n",
       "      <td>0.0</td>\n",
       "    </tr>\n",
       "    <tr>\n",
       "      <th>4</th>\n",
       "      <td>0.0</td>\n",
       "    </tr>\n",
       "    <tr>\n",
       "      <th>...</th>\n",
       "      <td>...</td>\n",
       "    </tr>\n",
       "    <tr>\n",
       "      <th>40055</th>\n",
       "      <td>0.0</td>\n",
       "    </tr>\n",
       "    <tr>\n",
       "      <th>40056</th>\n",
       "      <td>0.0</td>\n",
       "    </tr>\n",
       "    <tr>\n",
       "      <th>40057</th>\n",
       "      <td>0.0</td>\n",
       "    </tr>\n",
       "    <tr>\n",
       "      <th>40058</th>\n",
       "      <td>0.0</td>\n",
       "    </tr>\n",
       "    <tr>\n",
       "      <th>40059</th>\n",
       "      <td>0.0</td>\n",
       "    </tr>\n",
       "  </tbody>\n",
       "</table>\n",
       "<p>40060 rows × 1 columns</p>\n",
       "</div>"
      ],
      "text/plain": [
       "       IsCanceled\n",
       "0             0.0\n",
       "1             0.0\n",
       "2             0.0\n",
       "3             0.0\n",
       "4             0.0\n",
       "...           ...\n",
       "40055         0.0\n",
       "40056         0.0\n",
       "40057         0.0\n",
       "40058         0.0\n",
       "40059         0.0\n",
       "\n",
       "[40060 rows x 1 columns]"
      ]
     },
     "execution_count": 10,
     "metadata": {},
     "output_type": "execute_result"
    }
   ],
   "source": [
    "df2 = DataFrame(c, columns= ['IsCanceled']) \n",
    "df2"
   ]
  },
  {
   "cell_type": "code",
   "execution_count": 11,
   "metadata": {},
   "outputs": [
    {
     "data": {
      "text/plain": [
       "pandas.core.frame.DataFrame"
      ]
     },
     "execution_count": 11,
     "metadata": {},
     "output_type": "execute_result"
    }
   ],
   "source": [
    "type(df1)"
   ]
  },
  {
   "cell_type": "code",
   "execution_count": 12,
   "metadata": {},
   "outputs": [],
   "source": [
    "df3=pd.concat([df1, df2], axis = 1)\n",
    "df3\n",
    "df3.columns = ['FullDate', 'IsCanceled']"
   ]
  },
  {
   "cell_type": "code",
   "execution_count": 13,
   "metadata": {},
   "outputs": [
    {
     "data": {
      "text/html": [
       "<div>\n",
       "<style scoped>\n",
       "    .dataframe tbody tr th:only-of-type {\n",
       "        vertical-align: middle;\n",
       "    }\n",
       "\n",
       "    .dataframe tbody tr th {\n",
       "        vertical-align: top;\n",
       "    }\n",
       "\n",
       "    .dataframe thead th {\n",
       "        text-align: right;\n",
       "    }\n",
       "</style>\n",
       "<table border=\"1\" class=\"dataframe\">\n",
       "  <thead>\n",
       "    <tr style=\"text-align: right;\">\n",
       "      <th></th>\n",
       "      <th>FullDate</th>\n",
       "      <th>IsCanceled</th>\n",
       "    </tr>\n",
       "  </thead>\n",
       "  <tbody>\n",
       "    <tr>\n",
       "      <th>0</th>\n",
       "      <td>201527</td>\n",
       "      <td>0.0</td>\n",
       "    </tr>\n",
       "    <tr>\n",
       "      <th>1</th>\n",
       "      <td>201527</td>\n",
       "      <td>0.0</td>\n",
       "    </tr>\n",
       "    <tr>\n",
       "      <th>2</th>\n",
       "      <td>201527</td>\n",
       "      <td>0.0</td>\n",
       "    </tr>\n",
       "    <tr>\n",
       "      <th>3</th>\n",
       "      <td>201527</td>\n",
       "      <td>0.0</td>\n",
       "    </tr>\n",
       "    <tr>\n",
       "      <th>4</th>\n",
       "      <td>201527</td>\n",
       "      <td>0.0</td>\n",
       "    </tr>\n",
       "    <tr>\n",
       "      <th>...</th>\n",
       "      <td>...</td>\n",
       "      <td>...</td>\n",
       "    </tr>\n",
       "    <tr>\n",
       "      <th>13799</th>\n",
       "      <td>201735</td>\n",
       "      <td>1.0</td>\n",
       "    </tr>\n",
       "    <tr>\n",
       "      <th>13800</th>\n",
       "      <td>201735</td>\n",
       "      <td>1.0</td>\n",
       "    </tr>\n",
       "    <tr>\n",
       "      <th>13801</th>\n",
       "      <td>201735</td>\n",
       "      <td>1.0</td>\n",
       "    </tr>\n",
       "    <tr>\n",
       "      <th>13802</th>\n",
       "      <td>201735</td>\n",
       "      <td>1.0</td>\n",
       "    </tr>\n",
       "    <tr>\n",
       "      <th>27627</th>\n",
       "      <td>201735</td>\n",
       "      <td>1.0</td>\n",
       "    </tr>\n",
       "  </tbody>\n",
       "</table>\n",
       "<p>40060 rows × 2 columns</p>\n",
       "</div>"
      ],
      "text/plain": [
       "      FullDate  IsCanceled\n",
       "0       201527         0.0\n",
       "1       201527         0.0\n",
       "2       201527         0.0\n",
       "3       201527         0.0\n",
       "4       201527         0.0\n",
       "...        ...         ...\n",
       "13799   201735         1.0\n",
       "13800   201735         1.0\n",
       "13801   201735         1.0\n",
       "13802   201735         1.0\n",
       "27627   201735         1.0\n",
       "\n",
       "[40060 rows x 2 columns]"
      ]
     },
     "execution_count": 13,
     "metadata": {},
     "output_type": "execute_result"
    }
   ],
   "source": [
    "df3\n",
    "df3.sort_values(['FullDate','IsCanceled'], ascending=True)"
   ]
  },
  {
   "cell_type": "code",
   "execution_count": 14,
   "metadata": {},
   "outputs": [
    {
     "data": {
      "text/html": [
       "<div>\n",
       "<style scoped>\n",
       "    .dataframe tbody tr th:only-of-type {\n",
       "        vertical-align: middle;\n",
       "    }\n",
       "\n",
       "    .dataframe tbody tr th {\n",
       "        vertical-align: top;\n",
       "    }\n",
       "\n",
       "    .dataframe thead th {\n",
       "        text-align: right;\n",
       "    }\n",
       "</style>\n",
       "<table border=\"1\" class=\"dataframe\">\n",
       "  <thead>\n",
       "    <tr style=\"text-align: right;\">\n",
       "      <th></th>\n",
       "      <th>IsCanceled</th>\n",
       "    </tr>\n",
       "    <tr>\n",
       "      <th>FullDate</th>\n",
       "      <th></th>\n",
       "    </tr>\n",
       "  </thead>\n",
       "  <tbody>\n",
       "    <tr>\n",
       "      <th>201527</th>\n",
       "      <td>41.0</td>\n",
       "    </tr>\n",
       "    <tr>\n",
       "      <th>201528</th>\n",
       "      <td>48.0</td>\n",
       "    </tr>\n",
       "    <tr>\n",
       "      <th>201529</th>\n",
       "      <td>87.0</td>\n",
       "    </tr>\n",
       "    <tr>\n",
       "      <th>201530</th>\n",
       "      <td>74.0</td>\n",
       "    </tr>\n",
       "    <tr>\n",
       "      <th>201531</th>\n",
       "      <td>101.0</td>\n",
       "    </tr>\n",
       "    <tr>\n",
       "      <th>...</th>\n",
       "      <td>...</td>\n",
       "    </tr>\n",
       "    <tr>\n",
       "      <th>201731</th>\n",
       "      <td>173.0</td>\n",
       "    </tr>\n",
       "    <tr>\n",
       "      <th>201732</th>\n",
       "      <td>140.0</td>\n",
       "    </tr>\n",
       "    <tr>\n",
       "      <th>201733</th>\n",
       "      <td>182.0</td>\n",
       "    </tr>\n",
       "    <tr>\n",
       "      <th>201734</th>\n",
       "      <td>143.0</td>\n",
       "    </tr>\n",
       "    <tr>\n",
       "      <th>201735</th>\n",
       "      <td>100.0</td>\n",
       "    </tr>\n",
       "  </tbody>\n",
       "</table>\n",
       "<p>115 rows × 1 columns</p>\n",
       "</div>"
      ],
      "text/plain": [
       "          IsCanceled\n",
       "FullDate            \n",
       "201527          41.0\n",
       "201528          48.0\n",
       "201529          87.0\n",
       "201530          74.0\n",
       "201531         101.0\n",
       "...              ...\n",
       "201731         173.0\n",
       "201732         140.0\n",
       "201733         182.0\n",
       "201734         143.0\n",
       "201735         100.0\n",
       "\n",
       "[115 rows x 1 columns]"
      ]
     },
     "execution_count": 14,
     "metadata": {},
     "output_type": "execute_result"
    }
   ],
   "source": [
    "df4 = df3.groupby('FullDate').agg(sum)\n",
    "df4\n",
    "df4.sort_values(['FullDate'], ascending=True)"
   ]
  },
  {
   "cell_type": "code",
   "execution_count": 15,
   "metadata": {},
   "outputs": [
    {
     "data": {
      "text/plain": [
       "FullDate\n",
       "201527     41.0\n",
       "201528     48.0\n",
       "201529     87.0\n",
       "201530     74.0\n",
       "201531    101.0\n",
       "          ...  \n",
       "201731    173.0\n",
       "201732    140.0\n",
       "201733    182.0\n",
       "201734    143.0\n",
       "201735    100.0\n",
       "Name: IsCanceled, Length: 115, dtype: float64"
      ]
     },
     "execution_count": 15,
     "metadata": {},
     "output_type": "execute_result"
    }
   ],
   "source": [
    "tseries=df4['IsCanceled']\n",
    "tseries"
   ]
  },
  {
   "cell_type": "code",
   "execution_count": 16,
   "metadata": {},
   "outputs": [
    {
     "name": "stdout",
     "output_type": "stream",
     "text": [
      "ADF Statistic: -2.914054\n",
      "p-value: 0.043738\n",
      "Critical Values:\n",
      "\t1%: -3.490\n",
      "\t5%: -2.888\n",
      "\t10%: -2.581\n"
     ]
    }
   ],
   "source": [
    "result = adfuller(tseries)\n",
    "print('ADF Statistic: %f' % result[0])\n",
    "print('p-value: %f' % result[1])\n",
    "print('Critical Values:')\n",
    "for key, value in result[4].items():\n",
    "    print('\\t%s: %.3f' % (key, value))"
   ]
  },
  {
   "cell_type": "code",
   "execution_count": 17,
   "metadata": {},
   "outputs": [
    {
     "data": {
      "image/png": "[encoded data removed]",
      "text/plain": [
       "<Figure size 640x480 with 1 Axes>"
      ]
     },
     "metadata": {},
     "output_type": "display_data"
    }
   ],
   "source": [
    "import matplotlib.pyplot as plt\n",
    "plt.plot(tseries)\n",
    "plt.tick_params(\n",
    "    axis='x',          # changes apply to the x-axis\n",
    "    which='both',      # both major and minor ticks are affected\n",
    "    bottom=False,      # ticks along the bottom edge are off\n",
    "    top=False,         # ticks along the top edge are off\n",
    "    labelbottom=False) # labels along the bottom edge are off\n",
    "plt.ylabel('Cancellations')\n",
    "plt.title(\"Cancellations Per Week\")\n",
    "plt.show()"
   ]
  },
  {
   "cell_type": "code",
   "execution_count": 18,
   "metadata": {},
   "outputs": [
    {
     "data": {
      "text/html": [
       "<div>\n",
       "<style scoped>\n",
       "    .dataframe tbody tr th:only-of-type {\n",
       "        vertical-align: middle;\n",
       "    }\n",
       "\n",
       "    .dataframe tbody tr th {\n",
       "        vertical-align: top;\n",
       "    }\n",
       "\n",
       "    .dataframe thead th {\n",
       "        text-align: right;\n",
       "    }\n",
       "</style>\n",
       "<table border=\"1\" class=\"dataframe\">\n",
       "  <thead>\n",
       "    <tr style=\"text-align: right;\">\n",
       "      <th></th>\n",
       "      <th>IsCanceled</th>\n",
       "    </tr>\n",
       "    <tr>\n",
       "      <th>FullDate</th>\n",
       "      <th></th>\n",
       "    </tr>\n",
       "  </thead>\n",
       "  <tbody>\n",
       "    <tr>\n",
       "      <th>201527</th>\n",
       "      <td>41.0</td>\n",
       "    </tr>\n",
       "    <tr>\n",
       "      <th>201528</th>\n",
       "      <td>48.0</td>\n",
       "    </tr>\n",
       "    <tr>\n",
       "      <th>201529</th>\n",
       "      <td>87.0</td>\n",
       "    </tr>\n",
       "    <tr>\n",
       "      <th>201530</th>\n",
       "      <td>74.0</td>\n",
       "    </tr>\n",
       "    <tr>\n",
       "      <th>201531</th>\n",
       "      <td>101.0</td>\n",
       "    </tr>\n",
       "    <tr>\n",
       "      <th>...</th>\n",
       "      <td>...</td>\n",
       "    </tr>\n",
       "    <tr>\n",
       "      <th>201731</th>\n",
       "      <td>173.0</td>\n",
       "    </tr>\n",
       "    <tr>\n",
       "      <th>201732</th>\n",
       "      <td>140.0</td>\n",
       "    </tr>\n",
       "    <tr>\n",
       "      <th>201733</th>\n",
       "      <td>182.0</td>\n",
       "    </tr>\n",
       "    <tr>\n",
       "      <th>201734</th>\n",
       "      <td>143.0</td>\n",
       "    </tr>\n",
       "    <tr>\n",
       "      <th>201735</th>\n",
       "      <td>100.0</td>\n",
       "    </tr>\n",
       "  </tbody>\n",
       "</table>\n",
       "<p>115 rows × 1 columns</p>\n",
       "</div>"
      ],
      "text/plain": [
       "          IsCanceled\n",
       "FullDate            \n",
       "201527          41.0\n",
       "201528          48.0\n",
       "201529          87.0\n",
       "201530          74.0\n",
       "201531         101.0\n",
       "...              ...\n",
       "201731         173.0\n",
       "201732         140.0\n",
       "201733         182.0\n",
       "201734         143.0\n",
       "201735         100.0\n",
       "\n",
       "[115 rows x 1 columns]"
      ]
     },
     "execution_count": 18,
     "metadata": {},
     "output_type": "execute_result"
    }
   ],
   "source": [
    "df=pd.DataFrame(tseries)\n",
    "df"
   ]
  },
  {
   "cell_type": "code",
   "execution_count": 19,
   "metadata": {},
   "outputs": [],
   "source": [
    "df = df[:100]"
   ]
  },
  {
   "cell_type": "code",
   "execution_count": 20,
   "metadata": {},
   "outputs": [
    {
     "data": {
      "text/html": [
       "<div>\n",
       "<style scoped>\n",
       "    .dataframe tbody tr th:only-of-type {\n",
       "        vertical-align: middle;\n",
       "    }\n",
       "\n",
       "    .dataframe tbody tr th {\n",
       "        vertical-align: top;\n",
       "    }\n",
       "\n",
       "    .dataframe thead th {\n",
       "        text-align: right;\n",
       "    }\n",
       "</style>\n",
       "<table border=\"1\" class=\"dataframe\">\n",
       "  <thead>\n",
       "    <tr style=\"text-align: right;\">\n",
       "      <th></th>\n",
       "      <th>IsCanceled</th>\n",
       "    </tr>\n",
       "    <tr>\n",
       "      <th>FullDate</th>\n",
       "      <th></th>\n",
       "    </tr>\n",
       "  </thead>\n",
       "  <tbody>\n",
       "    <tr>\n",
       "      <th>201527</th>\n",
       "      <td>41.0</td>\n",
       "    </tr>\n",
       "    <tr>\n",
       "      <th>201528</th>\n",
       "      <td>48.0</td>\n",
       "    </tr>\n",
       "    <tr>\n",
       "      <th>201529</th>\n",
       "      <td>87.0</td>\n",
       "    </tr>\n",
       "    <tr>\n",
       "      <th>201530</th>\n",
       "      <td>74.0</td>\n",
       "    </tr>\n",
       "    <tr>\n",
       "      <th>201531</th>\n",
       "      <td>101.0</td>\n",
       "    </tr>\n",
       "    <tr>\n",
       "      <th>...</th>\n",
       "      <td>...</td>\n",
       "    </tr>\n",
       "    <tr>\n",
       "      <th>201716</th>\n",
       "      <td>104.0</td>\n",
       "    </tr>\n",
       "    <tr>\n",
       "      <th>201717</th>\n",
       "      <td>106.0</td>\n",
       "    </tr>\n",
       "    <tr>\n",
       "      <th>201718</th>\n",
       "      <td>167.0</td>\n",
       "    </tr>\n",
       "    <tr>\n",
       "      <th>201719</th>\n",
       "      <td>106.0</td>\n",
       "    </tr>\n",
       "    <tr>\n",
       "      <th>201720</th>\n",
       "      <td>79.0</td>\n",
       "    </tr>\n",
       "  </tbody>\n",
       "</table>\n",
       "<p>100 rows × 1 columns</p>\n",
       "</div>"
      ],
      "text/plain": [
       "          IsCanceled\n",
       "FullDate            \n",
       "201527          41.0\n",
       "201528          48.0\n",
       "201529          87.0\n",
       "201530          74.0\n",
       "201531         101.0\n",
       "...              ...\n",
       "201716         104.0\n",
       "201717         106.0\n",
       "201718         167.0\n",
       "201719         106.0\n",
       "201720          79.0\n",
       "\n",
       "[100 rows x 1 columns]"
      ]
     },
     "execution_count": 20,
     "metadata": {},
     "output_type": "execute_result"
    }
   ],
   "source": [
    "df"
   ]
  },
  {
   "cell_type": "code",
   "execution_count": 21,
   "metadata": {},
   "outputs": [
    {
     "data": {
      "text/plain": [
       "array([[ 41.],\n",
       "       [ 48.],\n",
       "       [ 87.],\n",
       "       [ 74.],\n",
       "       [101.],\n",
       "       [ 68.],\n",
       "       [ 96.],\n",
       "       [ 69.],\n",
       "       [ 88.],\n",
       "       [148.],\n",
       "       [ 76.],\n",
       "       [186.],\n",
       "       [123.],\n",
       "       [ 91.],\n",
       "       [198.],\n",
       "       [ 16.],\n",
       "       [ 94.],\n",
       "       [ 44.],\n",
       "       [ 45.],\n",
       "       [ 54.],\n",
       "       [ 63.],\n",
       "       [ 18.],\n",
       "       [127.],\n",
       "       [ 24.],\n",
       "       [ 37.],\n",
       "       [ 79.],\n",
       "       [ 43.],\n",
       "       [ 35.],\n",
       "       [ 40.],\n",
       "       [ 14.],\n",
       "       [ 14.],\n",
       "       [ 15.],\n",
       "       [ 57.],\n",
       "       [176.],\n",
       "       [ 33.],\n",
       "       [133.],\n",
       "       [ 88.],\n",
       "       [ 48.],\n",
       "       [ 65.],\n",
       "       [118.],\n",
       "       [ 65.],\n",
       "       [ 80.],\n",
       "       [ 98.],\n",
       "       [116.],\n",
       "       [222.],\n",
       "       [ 79.],\n",
       "       [143.],\n",
       "       [141.],\n",
       "       [ 82.],\n",
       "       [ 99.],\n",
       "       [ 77.],\n",
       "       [110.],\n",
       "       [ 75.],\n",
       "       [ 80.],\n",
       "       [ 75.],\n",
       "       [119.],\n",
       "       [120.],\n",
       "       [ 98.],\n",
       "       [124.],\n",
       "       [149.],\n",
       "       [145.],\n",
       "       [118.],\n",
       "       [106.],\n",
       "       [121.],\n",
       "       [ 67.],\n",
       "       [129.],\n",
       "       [112.],\n",
       "       [118.],\n",
       "       [ 85.],\n",
       "       [182.],\n",
       "       [134.],\n",
       "       [111.],\n",
       "       [ 70.],\n",
       "       [ 39.],\n",
       "       [ 59.],\n",
       "       [ 74.],\n",
       "       [ 57.],\n",
       "       [ 36.],\n",
       "       [ 84.],\n",
       "       [ 95.],\n",
       "       [ 54.],\n",
       "       [ 42.],\n",
       "       [ 43.],\n",
       "       [ 51.],\n",
       "       [ 51.],\n",
       "       [ 91.],\n",
       "       [ 96.],\n",
       "       [128.],\n",
       "       [ 77.],\n",
       "       [126.],\n",
       "       [ 83.],\n",
       "       [ 49.],\n",
       "       [105.],\n",
       "       [109.],\n",
       "       [179.],\n",
       "       [104.],\n",
       "       [106.],\n",
       "       [167.],\n",
       "       [106.],\n",
       "       [ 79.]])"
      ]
     },
     "execution_count": 21,
     "metadata": {},
     "output_type": "execute_result"
    }
   ],
   "source": [
    "df=np.array(df)\n",
    "df"
   ]
  },
  {
   "cell_type": "code",
   "execution_count": 22,
   "metadata": {},
   "outputs": [
    {
     "data": {
      "text/plain": [
       "(100, 1)"
      ]
     },
     "execution_count": 22,
     "metadata": {},
     "output_type": "execute_result"
    }
   ],
   "source": [
    "df.shape"
   ]
  },
  {
   "cell_type": "markdown",
   "metadata": {},
   "source": [
    "### Training and Validation data partition"
   ]
  },
  {
   "cell_type": "code",
   "execution_count": 23,
   "metadata": {},
   "outputs": [],
   "source": [
    "train_size = int(len(df) * 0.8)\n",
    "val_size = len(df) - train_size\n",
    "train, val = df[0:train_size,:], df[train_size:len(df),:]"
   ]
  },
  {
   "cell_type": "markdown",
   "metadata": {},
   "source": [
    "### Form dataset matrix"
   ]
  },
  {
   "cell_type": "code",
   "execution_count": 24,
   "metadata": {},
   "outputs": [],
   "source": [
    "def create_dataset(df, previous=1):\n",
    "    dataX, dataY = [], []\n",
    "    for i in range(len(df)-previous-1):\n",
    "        a = df[i:(i+previous), 0]\n",
    "        dataX.append(a)\n",
    "        dataY.append(df[i + previous, 0])\n",
    "    return np.array(dataX), np.array(dataY)"
   ]
  },
  {
   "cell_type": "code",
   "execution_count": 25,
   "metadata": {},
   "outputs": [
    {
     "data": {
      "text/plain": [
       "array([[ 41.],\n",
       "       [ 48.],\n",
       "       [ 87.],\n",
       "       [ 74.],\n",
       "       [101.],\n",
       "       [ 68.],\n",
       "       [ 96.],\n",
       "       [ 69.],\n",
       "       [ 88.],\n",
       "       [148.],\n",
       "       [ 76.],\n",
       "       [186.],\n",
       "       [123.],\n",
       "       [ 91.],\n",
       "       [198.],\n",
       "       [ 16.],\n",
       "       [ 94.],\n",
       "       [ 44.],\n",
       "       [ 45.],\n",
       "       [ 54.],\n",
       "       [ 63.],\n",
       "       [ 18.],\n",
       "       [127.],\n",
       "       [ 24.],\n",
       "       [ 37.],\n",
       "       [ 79.],\n",
       "       [ 43.],\n",
       "       [ 35.],\n",
       "       [ 40.],\n",
       "       [ 14.],\n",
       "       [ 14.],\n",
       "       [ 15.],\n",
       "       [ 57.],\n",
       "       [176.],\n",
       "       [ 33.],\n",
       "       [133.],\n",
       "       [ 88.],\n",
       "       [ 48.],\n",
       "       [ 65.],\n",
       "       [118.],\n",
       "       [ 65.],\n",
       "       [ 80.],\n",
       "       [ 98.],\n",
       "       [116.],\n",
       "       [222.],\n",
       "       [ 79.],\n",
       "       [143.],\n",
       "       [141.],\n",
       "       [ 82.],\n",
       "       [ 99.],\n",
       "       [ 77.],\n",
       "       [110.],\n",
       "       [ 75.],\n",
       "       [ 80.],\n",
       "       [ 75.],\n",
       "       [119.],\n",
       "       [120.],\n",
       "       [ 98.],\n",
       "       [124.],\n",
       "       [149.],\n",
       "       [145.],\n",
       "       [118.],\n",
       "       [106.],\n",
       "       [121.],\n",
       "       [ 67.],\n",
       "       [129.],\n",
       "       [112.],\n",
       "       [118.],\n",
       "       [ 85.],\n",
       "       [182.],\n",
       "       [134.],\n",
       "       [111.],\n",
       "       [ 70.],\n",
       "       [ 39.],\n",
       "       [ 59.],\n",
       "       [ 74.],\n",
       "       [ 57.],\n",
       "       [ 36.],\n",
       "       [ 84.],\n",
       "       [ 95.],\n",
       "       [ 54.],\n",
       "       [ 42.],\n",
       "       [ 43.],\n",
       "       [ 51.],\n",
       "       [ 51.],\n",
       "       [ 91.],\n",
       "       [ 96.],\n",
       "       [128.],\n",
       "       [ 77.],\n",
       "       [126.],\n",
       "       [ 83.],\n",
       "       [ 49.],\n",
       "       [105.],\n",
       "       [109.],\n",
       "       [179.],\n",
       "       [104.],\n",
       "       [106.],\n",
       "       [167.],\n",
       "       [106.],\n",
       "       [ 79.]])"
      ]
     },
     "execution_count": 25,
     "metadata": {},
     "output_type": "execute_result"
    }
   ],
   "source": [
    "df"
   ]
  },
  {
   "cell_type": "markdown",
   "metadata": {},
   "source": [
    "## Normalize dataset with MinMaxScaler"
   ]
  },
  {
   "cell_type": "code",
   "execution_count": 26,
   "metadata": {},
   "outputs": [
    {
     "data": {
      "text/plain": [
       "array([[0.12980769],\n",
       "       [0.16346154],\n",
       "       [0.35096154],\n",
       "       [0.28846154],\n",
       "       [0.41826923],\n",
       "       [0.25961538],\n",
       "       [0.39423077],\n",
       "       [0.26442308],\n",
       "       [0.35576923],\n",
       "       [0.64423077],\n",
       "       [0.29807692],\n",
       "       [0.82692308],\n",
       "       [0.52403846],\n",
       "       [0.37019231],\n",
       "       [0.88461538],\n",
       "       [0.00961538],\n",
       "       [0.38461538],\n",
       "       [0.14423077],\n",
       "       [0.14903846],\n",
       "       [0.19230769],\n",
       "       [0.23557692],\n",
       "       [0.01923077],\n",
       "       [0.54326923],\n",
       "       [0.04807692],\n",
       "       [0.11057692],\n",
       "       [0.3125    ],\n",
       "       [0.13942308],\n",
       "       [0.10096154],\n",
       "       [0.125     ],\n",
       "       [0.        ],\n",
       "       [0.        ],\n",
       "       [0.00480769],\n",
       "       [0.20673077],\n",
       "       [0.77884615],\n",
       "       [0.09134615],\n",
       "       [0.57211538],\n",
       "       [0.35576923],\n",
       "       [0.16346154],\n",
       "       [0.24519231],\n",
       "       [0.5       ],\n",
       "       [0.24519231],\n",
       "       [0.31730769],\n",
       "       [0.40384615],\n",
       "       [0.49038462],\n",
       "       [1.        ],\n",
       "       [0.3125    ],\n",
       "       [0.62019231],\n",
       "       [0.61057692],\n",
       "       [0.32692308],\n",
       "       [0.40865385],\n",
       "       [0.30288462],\n",
       "       [0.46153846],\n",
       "       [0.29326923],\n",
       "       [0.31730769],\n",
       "       [0.29326923],\n",
       "       [0.50480769],\n",
       "       [0.50961538],\n",
       "       [0.40384615],\n",
       "       [0.52884615],\n",
       "       [0.64903846],\n",
       "       [0.62980769],\n",
       "       [0.5       ],\n",
       "       [0.44230769],\n",
       "       [0.51442308],\n",
       "       [0.25480769],\n",
       "       [0.55288462],\n",
       "       [0.47115385],\n",
       "       [0.5       ],\n",
       "       [0.34134615],\n",
       "       [0.80769231],\n",
       "       [0.57692308],\n",
       "       [0.46634615],\n",
       "       [0.26923077],\n",
       "       [0.12019231],\n",
       "       [0.21634615],\n",
       "       [0.28846154],\n",
       "       [0.20673077],\n",
       "       [0.10576923],\n",
       "       [0.33653846],\n",
       "       [0.38942308]])"
      ]
     },
     "execution_count": 26,
     "metadata": {},
     "output_type": "execute_result"
    }
   ],
   "source": [
    "scaler = MinMaxScaler(feature_range=(0, 1))\n",
    "train = scaler.fit_transform(train)\n",
    "train"
   ]
  },
  {
   "cell_type": "code",
   "execution_count": 27,
   "metadata": {},
   "outputs": [
    {
     "data": {
      "text/plain": [
       "array([[0.08759124],\n",
       "       [0.        ],\n",
       "       [0.00729927],\n",
       "       [0.06569343],\n",
       "       [0.06569343],\n",
       "       [0.35766423],\n",
       "       [0.39416058],\n",
       "       [0.62773723],\n",
       "       [0.25547445],\n",
       "       [0.61313869],\n",
       "       [0.29927007],\n",
       "       [0.05109489],\n",
       "       [0.45985401],\n",
       "       [0.48905109],\n",
       "       [1.        ],\n",
       "       [0.45255474],\n",
       "       [0.46715328],\n",
       "       [0.91240876],\n",
       "       [0.46715328],\n",
       "       [0.27007299]])"
      ]
     },
     "execution_count": 27,
     "metadata": {},
     "output_type": "execute_result"
    }
   ],
   "source": [
    "val = scaler.fit_transform(val)\n",
    "val"
   ]
  },
  {
   "cell_type": "code",
   "execution_count": 28,
   "metadata": {},
   "outputs": [],
   "source": [
    "# Lookback period\n",
    "lookback = 5\n",
    "X_train, Y_train = create_dataset(train, lookback)\n",
    "X_val, Y_val = create_dataset(val, lookback)"
   ]
  },
  {
   "cell_type": "code",
   "execution_count": 29,
   "metadata": {},
   "outputs": [
    {
     "data": {
      "text/plain": [
       "array([[0.12980769, 0.16346154, 0.35096154, 0.28846154, 0.41826923],\n",
       "       [0.16346154, 0.35096154, 0.28846154, 0.41826923, 0.25961538],\n",
       "       [0.35096154, 0.28846154, 0.41826923, 0.25961538, 0.39423077],\n",
       "       [0.28846154, 0.41826923, 0.25961538, 0.39423077, 0.26442308],\n",
       "       [0.41826923, 0.25961538, 0.39423077, 0.26442308, 0.35576923],\n",
       "       [0.25961538, 0.39423077, 0.26442308, 0.35576923, 0.64423077],\n",
       "       [0.39423077, 0.26442308, 0.35576923, 0.64423077, 0.29807692],\n",
       "       [0.26442308, 0.35576923, 0.64423077, 0.29807692, 0.82692308],\n",
       "       [0.35576923, 0.64423077, 0.29807692, 0.82692308, 0.52403846],\n",
       "       [0.64423077, 0.29807692, 0.82692308, 0.52403846, 0.37019231],\n",
       "       [0.29807692, 0.82692308, 0.52403846, 0.37019231, 0.88461538],\n",
       "       [0.82692308, 0.52403846, 0.37019231, 0.88461538, 0.00961538],\n",
       "       [0.52403846, 0.37019231, 0.88461538, 0.00961538, 0.38461538],\n",
       "       [0.37019231, 0.88461538, 0.00961538, 0.38461538, 0.14423077],\n",
       "       [0.88461538, 0.00961538, 0.38461538, 0.14423077, 0.14903846],\n",
       "       [0.00961538, 0.38461538, 0.14423077, 0.14903846, 0.19230769],\n",
       "       [0.38461538, 0.14423077, 0.14903846, 0.19230769, 0.23557692],\n",
       "       [0.14423077, 0.14903846, 0.19230769, 0.23557692, 0.01923077],\n",
       "       [0.14903846, 0.19230769, 0.23557692, 0.01923077, 0.54326923],\n",
       "       [0.19230769, 0.23557692, 0.01923077, 0.54326923, 0.04807692],\n",
       "       [0.23557692, 0.01923077, 0.54326923, 0.04807692, 0.11057692],\n",
       "       [0.01923077, 0.54326923, 0.04807692, 0.11057692, 0.3125    ],\n",
       "       [0.54326923, 0.04807692, 0.11057692, 0.3125    , 0.13942308],\n",
       "       [0.04807692, 0.11057692, 0.3125    , 0.13942308, 0.10096154],\n",
       "       [0.11057692, 0.3125    , 0.13942308, 0.10096154, 0.125     ],\n",
       "       [0.3125    , 0.13942308, 0.10096154, 0.125     , 0.        ],\n",
       "       [0.13942308, 0.10096154, 0.125     , 0.        , 0.        ],\n",
       "       [0.10096154, 0.125     , 0.        , 0.        , 0.00480769],\n",
       "       [0.125     , 0.        , 0.        , 0.00480769, 0.20673077],\n",
       "       [0.        , 0.        , 0.00480769, 0.20673077, 0.77884615],\n",
       "       [0.        , 0.00480769, 0.20673077, 0.77884615, 0.09134615],\n",
       "       [0.00480769, 0.20673077, 0.77884615, 0.09134615, 0.57211538],\n",
       "       [0.20673077, 0.77884615, 0.09134615, 0.57211538, 0.35576923],\n",
       "       [0.77884615, 0.09134615, 0.57211538, 0.35576923, 0.16346154],\n",
       "       [0.09134615, 0.57211538, 0.35576923, 0.16346154, 0.24519231],\n",
       "       [0.57211538, 0.35576923, 0.16346154, 0.24519231, 0.5       ],\n",
       "       [0.35576923, 0.16346154, 0.24519231, 0.5       , 0.24519231],\n",
       "       [0.16346154, 0.24519231, 0.5       , 0.24519231, 0.31730769],\n",
       "       [0.24519231, 0.5       , 0.24519231, 0.31730769, 0.40384615],\n",
       "       [0.5       , 0.24519231, 0.31730769, 0.40384615, 0.49038462],\n",
       "       [0.24519231, 0.31730769, 0.40384615, 0.49038462, 1.        ],\n",
       "       [0.31730769, 0.40384615, 0.49038462, 1.        , 0.3125    ],\n",
       "       [0.40384615, 0.49038462, 1.        , 0.3125    , 0.62019231],\n",
       "       [0.49038462, 1.        , 0.3125    , 0.62019231, 0.61057692],\n",
       "       [1.        , 0.3125    , 0.62019231, 0.61057692, 0.32692308],\n",
       "       [0.3125    , 0.62019231, 0.61057692, 0.32692308, 0.40865385],\n",
       "       [0.62019231, 0.61057692, 0.32692308, 0.40865385, 0.30288462],\n",
       "       [0.61057692, 0.32692308, 0.40865385, 0.30288462, 0.46153846],\n",
       "       [0.32692308, 0.40865385, 0.30288462, 0.46153846, 0.29326923],\n",
       "       [0.40865385, 0.30288462, 0.46153846, 0.29326923, 0.31730769],\n",
       "       [0.30288462, 0.46153846, 0.29326923, 0.31730769, 0.29326923],\n",
       "       [0.46153846, 0.29326923, 0.31730769, 0.29326923, 0.50480769],\n",
       "       [0.29326923, 0.31730769, 0.29326923, 0.50480769, 0.50961538],\n",
       "       [0.31730769, 0.29326923, 0.50480769, 0.50961538, 0.40384615],\n",
       "       [0.29326923, 0.50480769, 0.50961538, 0.40384615, 0.52884615],\n",
       "       [0.50480769, 0.50961538, 0.40384615, 0.52884615, 0.64903846],\n",
       "       [0.50961538, 0.40384615, 0.52884615, 0.64903846, 0.62980769],\n",
       "       [0.40384615, 0.52884615, 0.64903846, 0.62980769, 0.5       ],\n",
       "       [0.52884615, 0.64903846, 0.62980769, 0.5       , 0.44230769],\n",
       "       [0.64903846, 0.62980769, 0.5       , 0.44230769, 0.51442308],\n",
       "       [0.62980769, 0.5       , 0.44230769, 0.51442308, 0.25480769],\n",
       "       [0.5       , 0.44230769, 0.51442308, 0.25480769, 0.55288462],\n",
       "       [0.44230769, 0.51442308, 0.25480769, 0.55288462, 0.47115385],\n",
       "       [0.51442308, 0.25480769, 0.55288462, 0.47115385, 0.5       ],\n",
       "       [0.25480769, 0.55288462, 0.47115385, 0.5       , 0.34134615],\n",
       "       [0.55288462, 0.47115385, 0.5       , 0.34134615, 0.80769231],\n",
       "       [0.47115385, 0.5       , 0.34134615, 0.80769231, 0.57692308],\n",
       "       [0.5       , 0.34134615, 0.80769231, 0.57692308, 0.46634615],\n",
       "       [0.34134615, 0.80769231, 0.57692308, 0.46634615, 0.26923077],\n",
       "       [0.80769231, 0.57692308, 0.46634615, 0.26923077, 0.12019231],\n",
       "       [0.57692308, 0.46634615, 0.26923077, 0.12019231, 0.21634615],\n",
       "       [0.46634615, 0.26923077, 0.12019231, 0.21634615, 0.28846154],\n",
       "       [0.26923077, 0.12019231, 0.21634615, 0.28846154, 0.20673077],\n",
       "       [0.12019231, 0.21634615, 0.28846154, 0.20673077, 0.10576923]])"
      ]
     },
     "execution_count": 29,
     "metadata": {},
     "output_type": "execute_result"
    }
   ],
   "source": [
    "X_train"
   ]
  },
  {
   "cell_type": "code",
   "execution_count": 30,
   "metadata": {},
   "outputs": [
    {
     "data": {
      "text/plain": [
       "array([0.25961538, 0.39423077, 0.26442308, 0.35576923, 0.64423077,\n",
       "       0.29807692, 0.82692308, 0.52403846, 0.37019231, 0.88461538,\n",
       "       0.00961538, 0.38461538, 0.14423077, 0.14903846, 0.19230769,\n",
       "       0.23557692, 0.01923077, 0.54326923, 0.04807692, 0.11057692,\n",
       "       0.3125    , 0.13942308, 0.10096154, 0.125     , 0.        ,\n",
       "       0.        , 0.00480769, 0.20673077, 0.77884615, 0.09134615,\n",
       "       0.57211538, 0.35576923, 0.16346154, 0.24519231, 0.5       ,\n",
       "       0.24519231, 0.31730769, 0.40384615, 0.49038462, 1.        ,\n",
       "       0.3125    , 0.62019231, 0.61057692, 0.32692308, 0.40865385,\n",
       "       0.30288462, 0.46153846, 0.29326923, 0.31730769, 0.29326923,\n",
       "       0.50480769, 0.50961538, 0.40384615, 0.52884615, 0.64903846,\n",
       "       0.62980769, 0.5       , 0.44230769, 0.51442308, 0.25480769,\n",
       "       0.55288462, 0.47115385, 0.5       , 0.34134615, 0.80769231,\n",
       "       0.57692308, 0.46634615, 0.26923077, 0.12019231, 0.21634615,\n",
       "       0.28846154, 0.20673077, 0.10576923, 0.33653846])"
      ]
     },
     "execution_count": 30,
     "metadata": {},
     "output_type": "execute_result"
    }
   ],
   "source": [
    "Y_train"
   ]
  },
  {
   "cell_type": "markdown",
   "metadata": {},
   "source": [
    "## Configure LSTM model"
   ]
  },
  {
   "cell_type": "code",
   "execution_count": 31,
   "metadata": {},
   "outputs": [
    {
     "name": "stdout",
     "output_type": "stream",
     "text": [
      "Epoch 1/20\n"
     ]
    },
    {
     "name": "stderr",
     "output_type": "stream",
     "text": [
      "2023-06-26 20:11:56.600145: I tensorflow/core/common_runtime/executor.cc:1197] [/device:CPU:0] (DEBUG INFO) Executor start aborting (this does not indicate an error and you can ignore this message): INVALID_ARGUMENT: You must feed a value for placeholder tensor 'gradients/split_2_grad/concat/split_2/split_dim' with dtype int32\n",
      "\t [[{{node gradients/split_2_grad/concat/split_2/split_dim}}]]\n",
      "2023-06-26 20:11:56.601180: I tensorflow/core/common_runtime/executor.cc:1197] [/device:CPU:0] (DEBUG INFO) Executor start aborting (this does not indicate an error and you can ignore this message): INVALID_ARGUMENT: You must feed a value for placeholder tensor 'gradients/split_grad/concat/split/split_dim' with dtype int32\n",
      "\t [[{{node gradients/split_grad/concat/split/split_dim}}]]\n",
      "2023-06-26 20:11:56.601944: I tensorflow/core/common_runtime/executor.cc:1197] [/device:CPU:0] (DEBUG INFO) Executor start aborting (this does not indicate an error and you can ignore this message): INVALID_ARGUMENT: You must feed a value for placeholder tensor 'gradients/split_1_grad/concat/split_1/split_dim' with dtype int32\n",
      "\t [[{{node gradients/split_1_grad/concat/split_1/split_dim}}]]\n",
      "2023-06-26 20:11:56.862231: I tensorflow/core/common_runtime/executor.cc:1197] [/device:CPU:0] (DEBUG INFO) Executor start aborting (this does not indicate an error and you can ignore this message): INVALID_ARGUMENT: You must feed a value for placeholder tensor 'gradients/split_2_grad/concat/split_2/split_dim' with dtype int32\n",
      "\t [[{{node gradients/split_2_grad/concat/split_2/split_dim}}]]\n",
      "2023-06-26 20:11:56.863341: I tensorflow/core/common_runtime/executor.cc:1197] [/device:CPU:0] (DEBUG INFO) Executor start aborting (this does not indicate an error and you can ignore this message): INVALID_ARGUMENT: You must feed a value for placeholder tensor 'gradients/split_grad/concat/split/split_dim' with dtype int32\n",
      "\t [[{{node gradients/split_grad/concat/split/split_dim}}]]\n",
      "2023-06-26 20:11:56.864185: I tensorflow/core/common_runtime/executor.cc:1197] [/device:CPU:0] (DEBUG INFO) Executor start aborting (this does not indicate an error and you can ignore this message): INVALID_ARGUMENT: You must feed a value for placeholder tensor 'gradients/split_1_grad/concat/split_1/split_dim' with dtype int32\n",
      "\t [[{{node gradients/split_1_grad/concat/split_1/split_dim}}]]\n",
      "2023-06-26 20:11:57.203797: I tensorflow/core/common_runtime/executor.cc:1197] [/device:CPU:0] (DEBUG INFO) Executor start aborting (this does not indicate an error and you can ignore this message): INVALID_ARGUMENT: You must feed a value for placeholder tensor 'gradients/split_2_grad/concat/split_2/split_dim' with dtype int32\n",
      "\t [[{{node gradients/split_2_grad/concat/split_2/split_dim}}]]\n",
      "2023-06-26 20:11:57.205164: I tensorflow/core/common_runtime/executor.cc:1197] [/device:CPU:0] (DEBUG INFO) Executor start aborting (this does not indicate an error and you can ignore this message): INVALID_ARGUMENT: You must feed a value for placeholder tensor 'gradients/split_grad/concat/split/split_dim' with dtype int32\n",
      "\t [[{{node gradients/split_grad/concat/split/split_dim}}]]\n",
      "2023-06-26 20:11:57.205979: I tensorflow/core/common_runtime/executor.cc:1197] [/device:CPU:0] (DEBUG INFO) Executor start aborting (this does not indicate an error and you can ignore this message): INVALID_ARGUMENT: You must feed a value for placeholder tensor 'gradients/split_1_grad/concat/split_1/split_dim' with dtype int32\n",
      "\t [[{{node gradients/split_1_grad/concat/split_1/split_dim}}]]\n"
     ]
    },
    {
     "name": "stdout",
     "output_type": "stream",
     "text": [
      "59/59 - 1s - loss: 0.1302 - val_loss: 0.0728 - 1s/epoch - 21ms/step\n",
      "Epoch 2/20\n",
      "59/59 - 0s - loss: 0.0734 - val_loss: 0.0397 - 77ms/epoch - 1ms/step\n",
      "Epoch 3/20\n"
     ]
    },
    {
     "name": "stderr",
     "output_type": "stream",
     "text": [
      "2023-06-26 20:11:57.852948: I tensorflow/core/common_runtime/executor.cc:1197] [/device:CPU:0] (DEBUG INFO) Executor start aborting (this does not indicate an error and you can ignore this message): INVALID_ARGUMENT: You must feed a value for placeholder tensor 'gradients/split_2_grad/concat/split_2/split_dim' with dtype int32\n",
      "\t [[{{node gradients/split_2_grad/concat/split_2/split_dim}}]]\n",
      "2023-06-26 20:11:57.854100: I tensorflow/core/common_runtime/executor.cc:1197] [/device:CPU:0] (DEBUG INFO) Executor start aborting (this does not indicate an error and you can ignore this message): INVALID_ARGUMENT: You must feed a value for placeholder tensor 'gradients/split_grad/concat/split/split_dim' with dtype int32\n",
      "\t [[{{node gradients/split_grad/concat/split/split_dim}}]]\n",
      "2023-06-26 20:11:57.854877: I tensorflow/core/common_runtime/executor.cc:1197] [/device:CPU:0] (DEBUG INFO) Executor start aborting (this does not indicate an error and you can ignore this message): INVALID_ARGUMENT: You must feed a value for placeholder tensor 'gradients/split_1_grad/concat/split_1/split_dim' with dtype int32\n",
      "\t [[{{node gradients/split_1_grad/concat/split_1/split_dim}}]]\n"
     ]
    },
    {
     "name": "stdout",
     "output_type": "stream",
     "text": [
      "59/59 - 0s - loss: 0.0518 - val_loss: 0.0336 - 87ms/epoch - 1ms/step\n",
      "Epoch 4/20\n",
      "59/59 - 0s - loss: 0.0460 - val_loss: 0.0344 - 80ms/epoch - 1ms/step\n",
      "Epoch 5/20\n",
      "59/59 - 0s - loss: 0.0453 - val_loss: 0.0353 - 79ms/epoch - 1ms/step\n",
      "Epoch 6/20\n",
      "59/59 - 0s - loss: 0.0450 - val_loss: 0.0351 - 80ms/epoch - 1ms/step\n",
      "Epoch 7/20\n",
      "59/59 - 0s - loss: 0.0446 - val_loss: 0.0354 - 80ms/epoch - 1ms/step\n",
      "Epoch 8/20\n",
      "59/59 - 0s - loss: 0.0442 - val_loss: 0.0343 - 78ms/epoch - 1ms/step\n",
      "Epoch 9/20\n",
      "59/59 - 0s - loss: 0.0438 - val_loss: 0.0351 - 78ms/epoch - 1ms/step\n",
      "Epoch 10/20\n",
      "59/59 - 0s - loss: 0.0437 - val_loss: 0.0346 - 78ms/epoch - 1ms/step\n",
      "Epoch 11/20\n",
      "59/59 - 0s - loss: 0.0430 - val_loss: 0.0340 - 78ms/epoch - 1ms/step\n",
      "Epoch 12/20\n",
      "59/59 - 0s - loss: 0.0431 - val_loss: 0.0343 - 76ms/epoch - 1ms/step\n",
      "Epoch 13/20\n",
      "59/59 - 0s - loss: 0.0431 - val_loss: 0.0347 - 76ms/epoch - 1ms/step\n",
      "Epoch 14/20\n",
      "59/59 - 0s - loss: 0.0432 - val_loss: 0.0335 - 78ms/epoch - 1ms/step\n",
      "Epoch 15/20\n",
      "59/59 - 0s - loss: 0.0420 - val_loss: 0.0345 - 80ms/epoch - 1ms/step\n",
      "Epoch 16/20\n",
      "59/59 - 0s - loss: 0.0419 - val_loss: 0.0346 - 78ms/epoch - 1ms/step\n",
      "Epoch 17/20\n",
      "59/59 - 0s - loss: 0.0418 - val_loss: 0.0338 - 78ms/epoch - 1ms/step\n",
      "Epoch 18/20\n",
      "59/59 - 0s - loss: 0.0414 - val_loss: 0.0343 - 77ms/epoch - 1ms/step\n",
      "Epoch 19/20\n",
      "59/59 - 0s - loss: 0.0413 - val_loss: 0.0335 - 78ms/epoch - 1ms/step\n",
      "Epoch 20/20\n",
      "59/59 - 0s - loss: 0.0418 - val_loss: 0.0333 - 77ms/epoch - 1ms/step\n",
      "dict_keys(['loss', 'val_loss'])\n"
     ]
    },
    {
     "data": {
      "image/png": "[encoded data removed]",
      "text/plain": [
       "<Figure size 640x480 with 1 Axes>"
      ]
     },
     "metadata": {},
     "output_type": "display_data"
    }
   ],
   "source": [
    "# reshape input to be [samples, time steps, features]\n",
    "X_train = np.reshape(X_train, (X_train.shape[0], 1, X_train.shape[1]))\n",
    "X_val = np.reshape(X_val, (X_val.shape[0], 1, X_val.shape[1]))\n",
    "\n",
    "# Generate LSTM network\n",
    "model = tf.keras.Sequential()\n",
    "model.add(LSTM(4, input_shape=(1, lookback)))\n",
    "model.add(Dense(1))\n",
    "model.compile(loss='mean_squared_error', optimizer='adam')\n",
    "history=model.fit(X_train, Y_train, validation_split=0.2, epochs=20, batch_size=1, verbose=2)\n",
    "\n",
    "\n",
    "# list all data in history\n",
    "print(history.history.keys())\n",
    "# summarize history for accuracy\n",
    "plt.plot(history.history['loss'])\n",
    "plt.plot(history.history['val_loss'])\n",
    "plt.title('model loss')\n",
    "plt.ylabel('loss')\n",
    "plt.xlabel('epoch')\n",
    "plt.legend(['train', 'val'], loc='upper left')\n",
    "plt.show()"
   ]
  },
  {
   "cell_type": "code",
   "execution_count": 32,
   "metadata": {},
   "outputs": [
    {
     "name": "stdout",
     "output_type": "stream",
     "text": [
      "3/3 [==============================] - 0s 1ms/step\n",
      "1/1 [==============================] - 0s 14ms/step\n"
     ]
    },
    {
     "name": "stderr",
     "output_type": "stream",
     "text": [
      "2023-06-26 20:12:47.459776: I tensorflow/core/common_runtime/executor.cc:1197] [/device:CPU:0] (DEBUG INFO) Executor start aborting (this does not indicate an error and you can ignore this message): INVALID_ARGUMENT: You must feed a value for placeholder tensor 'gradients/split_2_grad/concat/split_2/split_dim' with dtype int32\n",
      "\t [[{{node gradients/split_2_grad/concat/split_2/split_dim}}]]\n",
      "2023-06-26 20:12:47.460856: I tensorflow/core/common_runtime/executor.cc:1197] [/device:CPU:0] (DEBUG INFO) Executor start aborting (this does not indicate an error and you can ignore this message): INVALID_ARGUMENT: You must feed a value for placeholder tensor 'gradients/split_grad/concat/split/split_dim' with dtype int32\n",
      "\t [[{{node gradients/split_grad/concat/split/split_dim}}]]\n",
      "2023-06-26 20:12:47.461670: I tensorflow/core/common_runtime/executor.cc:1197] [/device:CPU:0] (DEBUG INFO) Executor start aborting (this does not indicate an error and you can ignore this message): INVALID_ARGUMENT: You must feed a value for placeholder tensor 'gradients/split_1_grad/concat/split_1/split_dim' with dtype int32\n",
      "\t [[{{node gradients/split_1_grad/concat/split_1/split_dim}}]]\n"
     ]
    }
   ],
   "source": [
    "# Generate predictions\n",
    "trainpred = model.predict(X_train)\n",
    "valpred = model.predict(X_val)"
   ]
  },
  {
   "cell_type": "code",
   "execution_count": 33,
   "metadata": {},
   "outputs": [
    {
     "data": {
      "text/plain": [
       "array([[0.31348163],\n",
       "       [0.3396662 ],\n",
       "       [0.3529344 ],\n",
       "       [0.35170594],\n",
       "       [0.36092794],\n",
       "       [0.35114342],\n",
       "       [0.43469208],\n",
       "       [0.3730773 ],\n",
       "       [0.4630768 ],\n",
       "       [0.51201296],\n",
       "       [0.3819531 ],\n",
       "       [0.49332088],\n",
       "       [0.36136684],\n",
       "       [0.32979578],\n",
       "       [0.38435838],\n",
       "       [0.23133296],\n",
       "       [0.30485547],\n",
       "       [0.26723307],\n",
       "       [0.23212436],\n",
       "       [0.32147935],\n",
       "       [0.28165886],\n",
       "       [0.22642004],\n",
       "       [0.3423959 ],\n",
       "       [0.24171162],\n",
       "       [0.23350629],\n",
       "       [0.2599676 ],\n",
       "       [0.20139468],\n",
       "       [0.18561284],\n",
       "       [0.19501543],\n",
       "       [0.22799563],\n",
       "       [0.35531452],\n",
       "       [0.275137  ],\n",
       "       [0.3645234 ],\n",
       "       [0.44907838],\n",
       "       [0.26999474],\n",
       "       [0.35529077],\n",
       "       [0.38128614],\n",
       "       [0.32312644],\n",
       "       [0.33246195],\n",
       "       [0.40001696],\n",
       "       [0.39258048],\n",
       "       [0.5086925 ],\n",
       "       [0.4416213 ],\n",
       "       [0.43615717],\n",
       "       [0.5260475 ],\n",
       "       [0.37909436],\n",
       "       [0.4029875 ],\n",
       "       [0.4003682 ],\n",
       "       [0.37874907],\n",
       "       [0.37309402],\n",
       "       [0.34130466],\n",
       "       [0.36900288],\n",
       "       [0.39176816],\n",
       "       [0.42043063],\n",
       "       [0.39190727],\n",
       "       [0.44133583],\n",
       "       [0.48573142],\n",
       "       [0.47702467],\n",
       "       [0.45308852],\n",
       "       [0.44159657],\n",
       "       [0.44018972],\n",
       "       [0.38601863],\n",
       "       [0.41572583],\n",
       "       [0.44943255],\n",
       "       [0.39621252],\n",
       "       [0.41394794],\n",
       "       [0.4835993 ],\n",
       "       [0.505553  ],\n",
       "       [0.39912367],\n",
       "       [0.39668068],\n",
       "       [0.32641736],\n",
       "       [0.3230926 ],\n",
       "       [0.3148321 ],\n",
       "       [0.27229816]], dtype=float32)"
      ]
     },
     "execution_count": 33,
     "metadata": {},
     "output_type": "execute_result"
    }
   ],
   "source": [
    "trainpred"
   ]
  },
  {
   "cell_type": "code",
   "execution_count": 34,
   "metadata": {},
   "outputs": [
    {
     "data": {
      "text/plain": [
       "array([[0.19742832],\n",
       "       [0.19533387],\n",
       "       [0.27285093],\n",
       "       [0.32970688],\n",
       "       [0.3808372 ],\n",
       "       [0.37794307],\n",
       "       [0.41003847],\n",
       "       [0.4128276 ],\n",
       "       [0.2704645 ],\n",
       "       [0.39218324],\n",
       "       [0.40096113],\n",
       "       [0.47665495],\n",
       "       [0.4875002 ],\n",
       "       [0.42297232]], dtype=float32)"
      ]
     },
     "execution_count": 34,
     "metadata": {},
     "output_type": "execute_result"
    }
   ],
   "source": [
    "valpred"
   ]
  },
  {
   "cell_type": "code",
   "execution_count": 35,
   "metadata": {},
   "outputs": [],
   "source": [
    "# Convert predictions back to normal values\n",
    "trainpred = scaler.inverse_transform(trainpred)\n",
    "Y_train = scaler.inverse_transform([Y_train])\n",
    "valpred = scaler.inverse_transform(valpred)\n",
    "Y_val = scaler.inverse_transform([Y_val])\n",
    "predictions = valpred"
   ]
  },
  {
   "cell_type": "code",
   "execution_count": 36,
   "metadata": {},
   "outputs": [
    {
     "data": {
      "text/plain": [
       "(1, 74)"
      ]
     },
     "execution_count": 36,
     "metadata": {},
     "output_type": "execute_result"
    }
   ],
   "source": [
    "Y_train.shape"
   ]
  },
  {
   "cell_type": "code",
   "execution_count": 37,
   "metadata": {},
   "outputs": [
    {
     "data": {
      "text/plain": [
       "(1, 14)"
      ]
     },
     "execution_count": 37,
     "metadata": {},
     "output_type": "execute_result"
    }
   ],
   "source": [
    "Y_val.shape"
   ]
  },
  {
   "cell_type": "code",
   "execution_count": 38,
   "metadata": {},
   "outputs": [
    {
     "data": {
      "text/plain": [
       "(74, 1, 5)"
      ]
     },
     "execution_count": 38,
     "metadata": {},
     "output_type": "execute_result"
    }
   ],
   "source": [
    "X_train.shape"
   ]
  },
  {
   "cell_type": "code",
   "execution_count": 39,
   "metadata": {},
   "outputs": [
    {
     "data": {
      "text/plain": [
       "(14, 1, 5)"
      ]
     },
     "execution_count": 39,
     "metadata": {},
     "output_type": "execute_result"
    }
   ],
   "source": [
    "X_val.shape"
   ]
  },
  {
   "cell_type": "code",
   "execution_count": 40,
   "metadata": {},
   "outputs": [
    {
     "data": {
      "text/plain": [
       "array([[ 77.56730769,  96.00961538,  78.22596154,  90.74038462,\n",
       "        130.25961538,  82.83653846, 155.28846154, 113.79326923,\n",
       "         92.71634615, 163.19230769,  43.31730769,  94.69230769,\n",
       "         61.75961538,  62.41826923,  68.34615385,  74.27403846,\n",
       "         44.63461538, 116.42788462,  48.58653846,  57.14903846,\n",
       "         84.8125    ,  61.10096154,  55.83173077,  59.125     ,\n",
       "         42.        ,  42.        ,  42.65865385,  70.32211538,\n",
       "        148.70192308,  54.51442308, 120.37980769,  90.74038462,\n",
       "         64.39423077,  75.59134615, 110.5       ,  75.59134615,\n",
       "         85.47115385,  97.32692308, 109.18269231, 179.        ,\n",
       "         84.8125    , 126.96634615, 125.64903846,  86.78846154,\n",
       "         97.98557692,  83.49519231, 105.23076923,  82.17788462,\n",
       "         85.47115385,  82.17788462, 111.15865385, 111.81730769,\n",
       "         97.32692308, 114.45192308, 130.91826923, 128.28365385,\n",
       "        110.5       , 102.59615385, 112.47596154,  76.90865385,\n",
       "        117.74519231, 106.54807692, 110.5       ,  88.76442308,\n",
       "        152.65384615, 121.03846154, 105.88942308,  78.88461538,\n",
       "         58.46634615,  71.63942308,  81.51923077,  70.32211538,\n",
       "         56.49038462,  88.10576923]])"
      ]
     },
     "execution_count": 40,
     "metadata": {},
     "output_type": "execute_result"
    }
   ],
   "source": [
    "Y_train"
   ]
  },
  {
   "cell_type": "code",
   "execution_count": 41,
   "metadata": {},
   "outputs": [
    {
     "data": {
      "text/plain": [
       "array([[ 91.,  96., 128.,  77., 126.,  83.,  49., 105., 109., 179., 104.,\n",
       "        106., 167., 106.]])"
      ]
     },
     "execution_count": 41,
     "metadata": {},
     "output_type": "execute_result"
    }
   ],
   "source": [
    "Y_val"
   ]
  },
  {
   "cell_type": "code",
   "execution_count": 42,
   "metadata": {},
   "outputs": [
    {
     "data": {
      "text/plain": [
       "109.0"
      ]
     },
     "execution_count": 42,
     "metadata": {},
     "output_type": "execute_result"
    }
   ],
   "source": [
    "np.mean(Y_val)"
   ]
  },
  {
   "cell_type": "code",
   "execution_count": 43,
   "metadata": {},
   "outputs": [
    {
     "data": {
      "text/plain": [
       "array([[[0.12980769, 0.16346154, 0.35096154, 0.28846154, 0.41826923]],\n",
       "\n",
       "       [[0.16346154, 0.35096154, 0.28846154, 0.41826923, 0.25961538]],\n",
       "\n",
       "       [[0.35096154, 0.28846154, 0.41826923, 0.25961538, 0.39423077]],\n",
       "\n",
       "       [[0.28846154, 0.41826923, 0.25961538, 0.39423077, 0.26442308]],\n",
       "\n",
       "       [[0.41826923, 0.25961538, 0.39423077, 0.26442308, 0.35576923]],\n",
       "\n",
       "       [[0.25961538, 0.39423077, 0.26442308, 0.35576923, 0.64423077]],\n",
       "\n",
       "       [[0.39423077, 0.26442308, 0.35576923, 0.64423077, 0.29807692]],\n",
       "\n",
       "       [[0.26442308, 0.35576923, 0.64423077, 0.29807692, 0.82692308]],\n",
       "\n",
       "       [[0.35576923, 0.64423077, 0.29807692, 0.82692308, 0.52403846]],\n",
       "\n",
       "       [[0.64423077, 0.29807692, 0.82692308, 0.52403846, 0.37019231]],\n",
       "\n",
       "       [[0.29807692, 0.82692308, 0.52403846, 0.37019231, 0.88461538]],\n",
       "\n",
       "       [[0.82692308, 0.52403846, 0.37019231, 0.88461538, 0.00961538]],\n",
       "\n",
       "       [[0.52403846, 0.37019231, 0.88461538, 0.00961538, 0.38461538]],\n",
       "\n",
       "       [[0.37019231, 0.88461538, 0.00961538, 0.38461538, 0.14423077]],\n",
       "\n",
       "       [[0.88461538, 0.00961538, 0.38461538, 0.14423077, 0.14903846]],\n",
       "\n",
       "       [[0.00961538, 0.38461538, 0.14423077, 0.14903846, 0.19230769]],\n",
       "\n",
       "       [[0.38461538, 0.14423077, 0.14903846, 0.19230769, 0.23557692]],\n",
       "\n",
       "       [[0.14423077, 0.14903846, 0.19230769, 0.23557692, 0.01923077]],\n",
       "\n",
       "       [[0.14903846, 0.19230769, 0.23557692, 0.01923077, 0.54326923]],\n",
       "\n",
       "       [[0.19230769, 0.23557692, 0.01923077, 0.54326923, 0.04807692]],\n",
       "\n",
       "       [[0.23557692, 0.01923077, 0.54326923, 0.04807692, 0.11057692]],\n",
       "\n",
       "       [[0.01923077, 0.54326923, 0.04807692, 0.11057692, 0.3125    ]],\n",
       "\n",
       "       [[0.54326923, 0.04807692, 0.11057692, 0.3125    , 0.13942308]],\n",
       "\n",
       "       [[0.04807692, 0.11057692, 0.3125    , 0.13942308, 0.10096154]],\n",
       "\n",
       "       [[0.11057692, 0.3125    , 0.13942308, 0.10096154, 0.125     ]],\n",
       "\n",
       "       [[0.3125    , 0.13942308, 0.10096154, 0.125     , 0.        ]],\n",
       "\n",
       "       [[0.13942308, 0.10096154, 0.125     , 0.        , 0.        ]],\n",
       "\n",
       "       [[0.10096154, 0.125     , 0.        , 0.        , 0.00480769]],\n",
       "\n",
       "       [[0.125     , 0.        , 0.        , 0.00480769, 0.20673077]],\n",
       "\n",
       "       [[0.        , 0.        , 0.00480769, 0.20673077, 0.77884615]],\n",
       "\n",
       "       [[0.        , 0.00480769, 0.20673077, 0.77884615, 0.09134615]],\n",
       "\n",
       "       [[0.00480769, 0.20673077, 0.77884615, 0.09134615, 0.57211538]],\n",
       "\n",
       "       [[0.20673077, 0.77884615, 0.09134615, 0.57211538, 0.35576923]],\n",
       "\n",
       "       [[0.77884615, 0.09134615, 0.57211538, 0.35576923, 0.16346154]],\n",
       "\n",
       "       [[0.09134615, 0.57211538, 0.35576923, 0.16346154, 0.24519231]],\n",
       "\n",
       "       [[0.57211538, 0.35576923, 0.16346154, 0.24519231, 0.5       ]],\n",
       "\n",
       "       [[0.35576923, 0.16346154, 0.24519231, 0.5       , 0.24519231]],\n",
       "\n",
       "       [[0.16346154, 0.24519231, 0.5       , 0.24519231, 0.31730769]],\n",
       "\n",
       "       [[0.24519231, 0.5       , 0.24519231, 0.31730769, 0.40384615]],\n",
       "\n",
       "       [[0.5       , 0.24519231, 0.31730769, 0.40384615, 0.49038462]],\n",
       "\n",
       "       [[0.24519231, 0.31730769, 0.40384615, 0.49038462, 1.        ]],\n",
       "\n",
       "       [[0.31730769, 0.40384615, 0.49038462, 1.        , 0.3125    ]],\n",
       "\n",
       "       [[0.40384615, 0.49038462, 1.        , 0.3125    , 0.62019231]],\n",
       "\n",
       "       [[0.49038462, 1.        , 0.3125    , 0.62019231, 0.61057692]],\n",
       "\n",
       "       [[1.        , 0.3125    , 0.62019231, 0.61057692, 0.32692308]],\n",
       "\n",
       "       [[0.3125    , 0.62019231, 0.61057692, 0.32692308, 0.40865385]],\n",
       "\n",
       "       [[0.62019231, 0.61057692, 0.32692308, 0.40865385, 0.30288462]],\n",
       "\n",
       "       [[0.61057692, 0.32692308, 0.40865385, 0.30288462, 0.46153846]],\n",
       "\n",
       "       [[0.32692308, 0.40865385, 0.30288462, 0.46153846, 0.29326923]],\n",
       "\n",
       "       [[0.40865385, 0.30288462, 0.46153846, 0.29326923, 0.31730769]],\n",
       "\n",
       "       [[0.30288462, 0.46153846, 0.29326923, 0.31730769, 0.29326923]],\n",
       "\n",
       "       [[0.46153846, 0.29326923, 0.31730769, 0.29326923, 0.50480769]],\n",
       "\n",
       "       [[0.29326923, 0.31730769, 0.29326923, 0.50480769, 0.50961538]],\n",
       "\n",
       "       [[0.31730769, 0.29326923, 0.50480769, 0.50961538, 0.40384615]],\n",
       "\n",
       "       [[0.29326923, 0.50480769, 0.50961538, 0.40384615, 0.52884615]],\n",
       "\n",
       "       [[0.50480769, 0.50961538, 0.40384615, 0.52884615, 0.64903846]],\n",
       "\n",
       "       [[0.50961538, 0.40384615, 0.52884615, 0.64903846, 0.62980769]],\n",
       "\n",
       "       [[0.40384615, 0.52884615, 0.64903846, 0.62980769, 0.5       ]],\n",
       "\n",
       "       [[0.52884615, 0.64903846, 0.62980769, 0.5       , 0.44230769]],\n",
       "\n",
       "       [[0.64903846, 0.62980769, 0.5       , 0.44230769, 0.51442308]],\n",
       "\n",
       "       [[0.62980769, 0.5       , 0.44230769, 0.51442308, 0.25480769]],\n",
       "\n",
       "       [[0.5       , 0.44230769, 0.51442308, 0.25480769, 0.55288462]],\n",
       "\n",
       "       [[0.44230769, 0.51442308, 0.25480769, 0.55288462, 0.47115385]],\n",
       "\n",
       "       [[0.51442308, 0.25480769, 0.55288462, 0.47115385, 0.5       ]],\n",
       "\n",
       "       [[0.25480769, 0.55288462, 0.47115385, 0.5       , 0.34134615]],\n",
       "\n",
       "       [[0.55288462, 0.47115385, 0.5       , 0.34134615, 0.80769231]],\n",
       "\n",
       "       [[0.47115385, 0.5       , 0.34134615, 0.80769231, 0.57692308]],\n",
       "\n",
       "       [[0.5       , 0.34134615, 0.80769231, 0.57692308, 0.46634615]],\n",
       "\n",
       "       [[0.34134615, 0.80769231, 0.57692308, 0.46634615, 0.26923077]],\n",
       "\n",
       "       [[0.80769231, 0.57692308, 0.46634615, 0.26923077, 0.12019231]],\n",
       "\n",
       "       [[0.57692308, 0.46634615, 0.26923077, 0.12019231, 0.21634615]],\n",
       "\n",
       "       [[0.46634615, 0.26923077, 0.12019231, 0.21634615, 0.28846154]],\n",
       "\n",
       "       [[0.26923077, 0.12019231, 0.21634615, 0.28846154, 0.20673077]],\n",
       "\n",
       "       [[0.12019231, 0.21634615, 0.28846154, 0.20673077, 0.10576923]]])"
      ]
     },
     "execution_count": 43,
     "metadata": {},
     "output_type": "execute_result"
    }
   ],
   "source": [
    "X_train"
   ]
  },
  {
   "cell_type": "code",
   "execution_count": 44,
   "metadata": {},
   "outputs": [
    {
     "data": {
      "text/plain": [
       "array([[[0.08759124, 0.        , 0.00729927, 0.06569343, 0.06569343]],\n",
       "\n",
       "       [[0.        , 0.00729927, 0.06569343, 0.06569343, 0.35766423]],\n",
       "\n",
       "       [[0.00729927, 0.06569343, 0.06569343, 0.35766423, 0.39416058]],\n",
       "\n",
       "       [[0.06569343, 0.06569343, 0.35766423, 0.39416058, 0.62773723]],\n",
       "\n",
       "       [[0.06569343, 0.35766423, 0.39416058, 0.62773723, 0.25547445]],\n",
       "\n",
       "       [[0.35766423, 0.39416058, 0.62773723, 0.25547445, 0.61313869]],\n",
       "\n",
       "       [[0.39416058, 0.62773723, 0.25547445, 0.61313869, 0.29927007]],\n",
       "\n",
       "       [[0.62773723, 0.25547445, 0.61313869, 0.29927007, 0.05109489]],\n",
       "\n",
       "       [[0.25547445, 0.61313869, 0.29927007, 0.05109489, 0.45985401]],\n",
       "\n",
       "       [[0.61313869, 0.29927007, 0.05109489, 0.45985401, 0.48905109]],\n",
       "\n",
       "       [[0.29927007, 0.05109489, 0.45985401, 0.48905109, 1.        ]],\n",
       "\n",
       "       [[0.05109489, 0.45985401, 0.48905109, 1.        , 0.45255474]],\n",
       "\n",
       "       [[0.45985401, 0.48905109, 1.        , 0.45255474, 0.46715328]],\n",
       "\n",
       "       [[0.48905109, 1.        , 0.45255474, 0.46715328, 0.91240876]]])"
      ]
     },
     "execution_count": 44,
     "metadata": {},
     "output_type": "execute_result"
    }
   ],
   "source": [
    "X_val"
   ]
  },
  {
   "cell_type": "code",
   "execution_count": 45,
   "metadata": {},
   "outputs": [
    {
     "name": "stdout",
     "output_type": "stream",
     "text": [
      "Train Score: 27.07 RMSE\n",
      "Validation Score: 36.44 RMSE\n"
     ]
    }
   ],
   "source": [
    "# calculate RMSE\n",
    "trainScore = math.sqrt(mean_squared_error(Y_train[0], trainpred[:,0]))\n",
    "print('Train Score: %.2f RMSE' % (trainScore))\n",
    "valScore = math.sqrt(mean_squared_error(Y_val[0], valpred[:,0]))\n",
    "print('Validation Score: %.2f RMSE' % (valScore))"
   ]
  },
  {
   "cell_type": "code",
   "execution_count": 46,
   "metadata": {},
   "outputs": [],
   "source": [
    "# Train predictions\n",
    "trainpredPlot = np.empty_like(df)\n",
    "trainpredPlot[:, :] = np.nan\n",
    "trainpredPlot[lookback:len(trainpred)+lookback, :] = trainpred"
   ]
  },
  {
   "cell_type": "code",
   "execution_count": 47,
   "metadata": {},
   "outputs": [],
   "source": [
    "# Validation predictions\n",
    "valpredPlot = np.empty_like(df)\n",
    "valpredPlot[:, :] = np.nan\n",
    "valpredPlot[len(trainpred)+(lookback*2)+1:len(df)-1, :] = valpred"
   ]
  },
  {
   "cell_type": "code",
   "execution_count": 48,
   "metadata": {},
   "outputs": [
    {
     "data": {
      "image/png": "[encoded data removed]",
      "text/plain": [
       "<Figure size 640x480 with 1 Axes>"
      ]
     },
     "metadata": {},
     "output_type": "display_data"
    }
   ],
   "source": [
    "# Plot all predictions\n",
    "inversetransform, =plt.plot(scaler.inverse_transform(df))\n",
    "trainpred, =plt.plot(scaler.inverse_transform(trainpredPlot))\n",
    "valpred, =plt.plot(scaler.inverse_transform(valpredPlot))\n",
    "plt.xlabel('Number of weeks')\n",
    "plt.ylabel('Cancellations')\n",
    "plt.title(\"Predicted vs. Actual Cancellations Per Week\")\n",
    "plt.show()"
   ]
  },
  {
   "cell_type": "code",
   "execution_count": 49,
   "metadata": {},
   "outputs": [],
   "source": [
    "Y_val=Y_val.reshape(-1)\n",
    "Y_val.shape\n",
    "Y_val=pd.Series(Y_val)"
   ]
  },
  {
   "cell_type": "code",
   "execution_count": 50,
   "metadata": {},
   "outputs": [
    {
     "data": {
      "text/plain": [
       "0      91.0\n",
       "1      96.0\n",
       "2     128.0\n",
       "3      77.0\n",
       "4     126.0\n",
       "5      83.0\n",
       "6      49.0\n",
       "7     105.0\n",
       "8     109.0\n",
       "9     179.0\n",
       "10    104.0\n",
       "11    106.0\n",
       "12    167.0\n",
       "13    106.0\n",
       "dtype: float64"
      ]
     },
     "execution_count": 50,
     "metadata": {},
     "output_type": "execute_result"
    }
   ],
   "source": [
    "Y_val"
   ]
  },
  {
   "cell_type": "code",
   "execution_count": 51,
   "metadata": {},
   "outputs": [
    {
     "data": {
      "text/plain": [
       "109.0"
      ]
     },
     "execution_count": 51,
     "metadata": {},
     "output_type": "execute_result"
    }
   ],
   "source": [
    "np.mean(Y_val)"
   ]
  },
  {
   "cell_type": "code",
   "execution_count": 52,
   "metadata": {},
   "outputs": [],
   "source": [
    "predictions=predictions.reshape(-1)\n",
    "predictions.shape\n",
    "predictions=pd.Series(predictions)"
   ]
  },
  {
   "cell_type": "code",
   "execution_count": 53,
   "metadata": {},
   "outputs": [
    {
     "data": {
      "text/plain": [
       "0      69.047684\n",
       "1      68.760742\n",
       "2      79.380577\n",
       "3      87.169846\n",
       "4      94.174698\n",
       "5      93.778206\n",
       "6      98.175270\n",
       "7      98.557381\n",
       "8      79.053642\n",
       "9      95.729103\n",
       "10     96.931679\n",
       "11    107.301727\n",
       "12    108.787529\n",
       "13     99.947205\n",
       "dtype: float32"
      ]
     },
     "execution_count": 53,
     "metadata": {},
     "output_type": "execute_result"
    }
   ],
   "source": [
    "predictions"
   ]
  },
  {
   "cell_type": "code",
   "execution_count": 54,
   "metadata": {},
   "outputs": [],
   "source": [
    "import numpy as np\n",
    "\n",
    "def mda(actual: np.ndarray, predicted: np.ndarray):\n",
    "    \"\"\" Mean Directional Accuracy \"\"\"\n",
    "    return np.mean((np.sign(actual[1:] - actual[:-1]) == np.sign(predicted[1:] - predicted[:-1])).astype(int))"
   ]
  },
  {
   "cell_type": "code",
   "execution_count": 55,
   "metadata": {},
   "outputs": [
    {
     "data": {
      "text/plain": [
       "0.8571428571428571"
      ]
     },
     "execution_count": 55,
     "metadata": {},
     "output_type": "execute_result"
    }
   ],
   "source": [
    "mda(Y_val, predictions)"
   ]
  },
  {
   "cell_type": "code",
   "execution_count": 56,
   "metadata": {},
   "outputs": [
    {
     "name": "stdout",
     "output_type": "stream",
     "text": [
      "RMSE: 36.437520\n"
     ]
    }
   ],
   "source": [
    "# https://machinelearningmastery.com/time-series-forecasting-performance-measures-with-python/\n",
    "\n",
    "mse = mean_squared_error(Y_val, predictions)\n",
    "rmse = sqrt(mse)\n",
    "print('RMSE: %f' % rmse)"
   ]
  },
  {
   "cell_type": "code",
   "execution_count": 57,
   "metadata": {},
   "outputs": [
    {
     "data": {
      "text/plain": [
       "0    -21.952316\n",
       "1    -27.239258\n",
       "2    -48.619423\n",
       "3     10.169846\n",
       "4    -31.825302\n",
       "5     10.778206\n",
       "6     49.175270\n",
       "7     -6.442619\n",
       "8    -29.946358\n",
       "9    -83.270897\n",
       "10    -7.068321\n",
       "11     1.301727\n",
       "12   -58.212471\n",
       "13    -6.052795\n",
       "dtype: float64"
      ]
     },
     "execution_count": 57,
     "metadata": {},
     "output_type": "execute_result"
    }
   ],
   "source": [
    "forecast_error = (predictions-Y_val)\n",
    "forecast_error"
   ]
  },
  {
   "cell_type": "code",
   "execution_count": 58,
   "metadata": {},
   "outputs": [
    {
     "data": {
      "text/plain": [
       "-17.800336565290177"
      ]
     },
     "execution_count": 58,
     "metadata": {},
     "output_type": "execute_result"
    }
   ],
   "source": [
    "mean_forecast_error = np.mean(forecast_error)\n",
    "mean_forecast_error"
   ]
  },
  {
   "cell_type": "code",
   "execution_count": 59,
   "metadata": {},
   "outputs": [
    {
     "data": {
      "text/plain": [
       "array([[[0.12980769, 0.16346154, 0.35096154, 0.28846154, 0.41826923]],\n",
       "\n",
       "       [[0.16346154, 0.35096154, 0.28846154, 0.41826923, 0.25961538]],\n",
       "\n",
       "       [[0.35096154, 0.28846154, 0.41826923, 0.25961538, 0.39423077]],\n",
       "\n",
       "       [[0.28846154, 0.41826923, 0.25961538, 0.39423077, 0.26442308]],\n",
       "\n",
       "       [[0.41826923, 0.25961538, 0.39423077, 0.26442308, 0.35576923]],\n",
       "\n",
       "       [[0.25961538, 0.39423077, 0.26442308, 0.35576923, 0.64423077]],\n",
       "\n",
       "       [[0.39423077, 0.26442308, 0.35576923, 0.64423077, 0.29807692]],\n",
       "\n",
       "       [[0.26442308, 0.35576923, 0.64423077, 0.29807692, 0.82692308]],\n",
       "\n",
       "       [[0.35576923, 0.64423077, 0.29807692, 0.82692308, 0.52403846]],\n",
       "\n",
       "       [[0.64423077, 0.29807692, 0.82692308, 0.52403846, 0.37019231]],\n",
       "\n",
       "       [[0.29807692, 0.82692308, 0.52403846, 0.37019231, 0.88461538]],\n",
       "\n",
       "       [[0.82692308, 0.52403846, 0.37019231, 0.88461538, 0.00961538]],\n",
       "\n",
       "       [[0.52403846, 0.37019231, 0.88461538, 0.00961538, 0.38461538]],\n",
       "\n",
       "       [[0.37019231, 0.88461538, 0.00961538, 0.38461538, 0.14423077]],\n",
       "\n",
       "       [[0.88461538, 0.00961538, 0.38461538, 0.14423077, 0.14903846]],\n",
       "\n",
       "       [[0.00961538, 0.38461538, 0.14423077, 0.14903846, 0.19230769]],\n",
       "\n",
       "       [[0.38461538, 0.14423077, 0.14903846, 0.19230769, 0.23557692]],\n",
       "\n",
       "       [[0.14423077, 0.14903846, 0.19230769, 0.23557692, 0.01923077]],\n",
       "\n",
       "       [[0.14903846, 0.19230769, 0.23557692, 0.01923077, 0.54326923]],\n",
       "\n",
       "       [[0.19230769, 0.23557692, 0.01923077, 0.54326923, 0.04807692]],\n",
       "\n",
       "       [[0.23557692, 0.01923077, 0.54326923, 0.04807692, 0.11057692]],\n",
       "\n",
       "       [[0.01923077, 0.54326923, 0.04807692, 0.11057692, 0.3125    ]],\n",
       "\n",
       "       [[0.54326923, 0.04807692, 0.11057692, 0.3125    , 0.13942308]],\n",
       "\n",
       "       [[0.04807692, 0.11057692, 0.3125    , 0.13942308, 0.10096154]],\n",
       "\n",
       "       [[0.11057692, 0.3125    , 0.13942308, 0.10096154, 0.125     ]],\n",
       "\n",
       "       [[0.3125    , 0.13942308, 0.10096154, 0.125     , 0.        ]],\n",
       "\n",
       "       [[0.13942308, 0.10096154, 0.125     , 0.        , 0.        ]],\n",
       "\n",
       "       [[0.10096154, 0.125     , 0.        , 0.        , 0.00480769]],\n",
       "\n",
       "       [[0.125     , 0.        , 0.        , 0.00480769, 0.20673077]],\n",
       "\n",
       "       [[0.        , 0.        , 0.00480769, 0.20673077, 0.77884615]],\n",
       "\n",
       "       [[0.        , 0.00480769, 0.20673077, 0.77884615, 0.09134615]],\n",
       "\n",
       "       [[0.00480769, 0.20673077, 0.77884615, 0.09134615, 0.57211538]],\n",
       "\n",
       "       [[0.20673077, 0.77884615, 0.09134615, 0.57211538, 0.35576923]],\n",
       "\n",
       "       [[0.77884615, 0.09134615, 0.57211538, 0.35576923, 0.16346154]],\n",
       "\n",
       "       [[0.09134615, 0.57211538, 0.35576923, 0.16346154, 0.24519231]],\n",
       "\n",
       "       [[0.57211538, 0.35576923, 0.16346154, 0.24519231, 0.5       ]],\n",
       "\n",
       "       [[0.35576923, 0.16346154, 0.24519231, 0.5       , 0.24519231]],\n",
       "\n",
       "       [[0.16346154, 0.24519231, 0.5       , 0.24519231, 0.31730769]],\n",
       "\n",
       "       [[0.24519231, 0.5       , 0.24519231, 0.31730769, 0.40384615]],\n",
       "\n",
       "       [[0.5       , 0.24519231, 0.31730769, 0.40384615, 0.49038462]],\n",
       "\n",
       "       [[0.24519231, 0.31730769, 0.40384615, 0.49038462, 1.        ]],\n",
       "\n",
       "       [[0.31730769, 0.40384615, 0.49038462, 1.        , 0.3125    ]],\n",
       "\n",
       "       [[0.40384615, 0.49038462, 1.        , 0.3125    , 0.62019231]],\n",
       "\n",
       "       [[0.49038462, 1.        , 0.3125    , 0.62019231, 0.61057692]],\n",
       "\n",
       "       [[1.        , 0.3125    , 0.62019231, 0.61057692, 0.32692308]],\n",
       "\n",
       "       [[0.3125    , 0.62019231, 0.61057692, 0.32692308, 0.40865385]],\n",
       "\n",
       "       [[0.62019231, 0.61057692, 0.32692308, 0.40865385, 0.30288462]],\n",
       "\n",
       "       [[0.61057692, 0.32692308, 0.40865385, 0.30288462, 0.46153846]],\n",
       "\n",
       "       [[0.32692308, 0.40865385, 0.30288462, 0.46153846, 0.29326923]],\n",
       "\n",
       "       [[0.40865385, 0.30288462, 0.46153846, 0.29326923, 0.31730769]],\n",
       "\n",
       "       [[0.30288462, 0.46153846, 0.29326923, 0.31730769, 0.29326923]],\n",
       "\n",
       "       [[0.46153846, 0.29326923, 0.31730769, 0.29326923, 0.50480769]],\n",
       "\n",
       "       [[0.29326923, 0.31730769, 0.29326923, 0.50480769, 0.50961538]],\n",
       "\n",
       "       [[0.31730769, 0.29326923, 0.50480769, 0.50961538, 0.40384615]],\n",
       "\n",
       "       [[0.29326923, 0.50480769, 0.50961538, 0.40384615, 0.52884615]],\n",
       "\n",
       "       [[0.50480769, 0.50961538, 0.40384615, 0.52884615, 0.64903846]],\n",
       "\n",
       "       [[0.50961538, 0.40384615, 0.52884615, 0.64903846, 0.62980769]],\n",
       "\n",
       "       [[0.40384615, 0.52884615, 0.64903846, 0.62980769, 0.5       ]],\n",
       "\n",
       "       [[0.52884615, 0.64903846, 0.62980769, 0.5       , 0.44230769]],\n",
       "\n",
       "       [[0.64903846, 0.62980769, 0.5       , 0.44230769, 0.51442308]],\n",
       "\n",
       "       [[0.62980769, 0.5       , 0.44230769, 0.51442308, 0.25480769]],\n",
       "\n",
       "       [[0.5       , 0.44230769, 0.51442308, 0.25480769, 0.55288462]],\n",
       "\n",
       "       [[0.44230769, 0.51442308, 0.25480769, 0.55288462, 0.47115385]],\n",
       "\n",
       "       [[0.51442308, 0.25480769, 0.55288462, 0.47115385, 0.5       ]],\n",
       "\n",
       "       [[0.25480769, 0.55288462, 0.47115385, 0.5       , 0.34134615]],\n",
       "\n",
       "       [[0.55288462, 0.47115385, 0.5       , 0.34134615, 0.80769231]],\n",
       "\n",
       "       [[0.47115385, 0.5       , 0.34134615, 0.80769231, 0.57692308]],\n",
       "\n",
       "       [[0.5       , 0.34134615, 0.80769231, 0.57692308, 0.46634615]],\n",
       "\n",
       "       [[0.34134615, 0.80769231, 0.57692308, 0.46634615, 0.26923077]],\n",
       "\n",
       "       [[0.80769231, 0.57692308, 0.46634615, 0.26923077, 0.12019231]],\n",
       "\n",
       "       [[0.57692308, 0.46634615, 0.26923077, 0.12019231, 0.21634615]],\n",
       "\n",
       "       [[0.46634615, 0.26923077, 0.12019231, 0.21634615, 0.28846154]],\n",
       "\n",
       "       [[0.26923077, 0.12019231, 0.21634615, 0.28846154, 0.20673077]],\n",
       "\n",
       "       [[0.12019231, 0.21634615, 0.28846154, 0.20673077, 0.10576923]]])"
      ]
     },
     "execution_count": 59,
     "metadata": {},
     "output_type": "execute_result"
    }
   ],
   "source": [
    "X_train"
   ]
  },
  {
   "cell_type": "code",
   "execution_count": 60,
   "metadata": {},
   "outputs": [
    {
     "data": {
      "text/plain": [
       "(74, 1, 5)"
      ]
     },
     "execution_count": 60,
     "metadata": {},
     "output_type": "execute_result"
    }
   ],
   "source": [
    "X_train.shape"
   ]
  },
  {
   "cell_type": "markdown",
   "metadata": {},
   "source": [
    "## Validate Predictions on Test Data"
   ]
  },
  {
   "cell_type": "code",
   "execution_count": 61,
   "metadata": {},
   "outputs": [],
   "source": [
    "# Test (unseen) predictions\n",
    "# (t) and (t-5)\n",
    "Xnew = np.array([tseries.iloc[95:100],tseries.iloc[96:101],tseries.iloc[97:102],tseries.iloc[98:103],tseries.iloc[99:104],tseries.iloc[100:105],tseries.iloc[101:106],tseries.iloc[102:107],tseries.iloc[103:108],tseries.iloc[104:109],tseries.iloc[105:110],tseries.iloc[106:111],tseries.iloc[107:112],tseries.iloc[108:113],tseries.iloc[109:114]])"
   ]
  },
  {
   "cell_type": "code",
   "execution_count": 62,
   "metadata": {},
   "outputs": [
    {
     "data": {
      "text/plain": [
       "array([[104., 106., 167., 106.,  79.],\n",
       "       [106., 167., 106.,  79., 130.],\n",
       "       [167., 106.,  79., 130., 202.],\n",
       "       [106.,  79., 130., 202., 117.],\n",
       "       [ 79., 130., 202., 117., 152.],\n",
       "       [130., 202., 117., 152., 131.],\n",
       "       [202., 117., 152., 131., 161.],\n",
       "       [117., 152., 131., 161., 131.],\n",
       "       [152., 131., 161., 131., 139.],\n",
       "       [131., 161., 131., 139., 150.],\n",
       "       [161., 131., 139., 150., 157.],\n",
       "       [131., 139., 150., 157., 173.],\n",
       "       [139., 150., 157., 173., 140.],\n",
       "       [150., 157., 173., 140., 182.],\n",
       "       [157., 173., 140., 182., 143.]])"
      ]
     },
     "execution_count": 62,
     "metadata": {},
     "output_type": "execute_result"
    }
   ],
   "source": [
    "Xnew"
   ]
  },
  {
   "cell_type": "code",
   "execution_count": 63,
   "metadata": {},
   "outputs": [
    {
     "name": "stdout",
     "output_type": "stream",
     "text": [
      "1/1 [==============================] - 0s 16ms/step\n"
     ]
    }
   ],
   "source": [
    "Xnew = scaler.fit_transform(Xnew)\n",
    "Xnew\n",
    "Xnewformat = np.reshape(Xnew, (Xnew.shape[0], 1, Xnew.shape[1]))\n",
    "ynew=model.predict(Xnewformat)"
   ]
  },
  {
   "cell_type": "code",
   "execution_count": 64,
   "metadata": {},
   "outputs": [
    {
     "data": {
      "text/plain": [
       "(15, 5)"
      ]
     },
     "execution_count": 64,
     "metadata": {},
     "output_type": "execute_result"
    }
   ],
   "source": [
    "Xnew.shape"
   ]
  },
  {
   "cell_type": "code",
   "execution_count": 65,
   "metadata": {},
   "outputs": [
    {
     "data": {
      "text/plain": [
       "array([[0.33603352],\n",
       "       [0.24567813],\n",
       "       [0.3891415 ],\n",
       "       [0.48614407],\n",
       "       [0.3656976 ],\n",
       "       [0.41252282],\n",
       "       [0.49195123],\n",
       "       [0.43778592],\n",
       "       [0.45825243],\n",
       "       [0.41935584],\n",
       "       [0.48076314],\n",
       "       [0.478611  ],\n",
       "       [0.51135796],\n",
       "       [0.4820283 ],\n",
       "       [0.5130096 ]], dtype=float32)"
      ]
     },
     "execution_count": 65,
     "metadata": {},
     "output_type": "execute_result"
    }
   ],
   "source": [
    "ynew"
   ]
  },
  {
   "cell_type": "code",
   "execution_count": 66,
   "metadata": {},
   "outputs": [
    {
     "data": {
      "text/plain": [
       "numpy.ndarray"
      ]
     },
     "execution_count": 66,
     "metadata": {},
     "output_type": "execute_result"
    }
   ],
   "source": [
    "type(ynew)"
   ]
  },
  {
   "cell_type": "code",
   "execution_count": 67,
   "metadata": {},
   "outputs": [
    {
     "data": {
      "text/plain": [
       "(15, 1)"
      ]
     },
     "execution_count": 67,
     "metadata": {},
     "output_type": "execute_result"
    }
   ],
   "source": [
    "ynew.shape"
   ]
  },
  {
   "cell_type": "code",
   "execution_count": 68,
   "metadata": {},
   "outputs": [
    {
     "data": {
      "text/plain": [
       "FullDate\n",
       "201721    130.0\n",
       "201722    202.0\n",
       "201723    117.0\n",
       "201724    152.0\n",
       "201725    131.0\n",
       "201726    161.0\n",
       "201727    131.0\n",
       "201728    139.0\n",
       "201729    150.0\n",
       "201730    157.0\n",
       "201731    173.0\n",
       "201732    140.0\n",
       "201733    182.0\n",
       "201734    143.0\n",
       "201735    100.0\n",
       "Name: IsCanceled, dtype: float64"
      ]
     },
     "execution_count": 68,
     "metadata": {},
     "output_type": "execute_result"
    }
   ],
   "source": [
    "actual = tseries.iloc[100:115]\n",
    "actual"
   ]
  },
  {
   "cell_type": "code",
   "execution_count": 69,
   "metadata": {},
   "outputs": [
    {
     "data": {
      "text/plain": [
       "array([130., 202., 117., 152., 131., 161., 131., 139., 150., 157., 173.,\n",
       "       140., 182., 143., 100.])"
      ]
     },
     "execution_count": 69,
     "metadata": {},
     "output_type": "execute_result"
    }
   ],
   "source": [
    "actual = np.array(actual)\n",
    "actual"
   ]
  },
  {
   "cell_type": "code",
   "execution_count": 70,
   "metadata": {},
   "outputs": [
    {
     "data": {
      "text/plain": [
       "(15, 1)"
      ]
     },
     "execution_count": 70,
     "metadata": {},
     "output_type": "execute_result"
    }
   ],
   "source": [
    "actual=actual.reshape(15,-1)\n",
    "actual.shape"
   ]
  },
  {
   "cell_type": "code",
   "execution_count": 71,
   "metadata": {},
   "outputs": [
    {
     "data": {
      "text/plain": [
       "array([[130.],\n",
       "       [202.],\n",
       "       [117.],\n",
       "       [152.],\n",
       "       [131.],\n",
       "       [161.],\n",
       "       [131.],\n",
       "       [139.],\n",
       "       [150.],\n",
       "       [157.],\n",
       "       [173.],\n",
       "       [140.],\n",
       "       [182.],\n",
       "       [143.],\n",
       "       [100.]])"
      ]
     },
     "execution_count": 71,
     "metadata": {},
     "output_type": "execute_result"
    }
   ],
   "source": [
    "actual"
   ]
  },
  {
   "cell_type": "code",
   "execution_count": 72,
   "metadata": {},
   "outputs": [],
   "source": [
    "ynew=ynew.reshape(-1)\n",
    "actual=actual.reshape(-1)\n",
    "actualpd=pd.Series(actual)"
   ]
  },
  {
   "cell_type": "code",
   "execution_count": 73,
   "metadata": {},
   "outputs": [
    {
     "data": {
      "text/plain": [
       "14.0"
      ]
     },
     "execution_count": 73,
     "metadata": {},
     "output_type": "execute_result"
    }
   ],
   "source": [
    "np.min(df)"
   ]
  },
  {
   "cell_type": "code",
   "execution_count": 74,
   "metadata": {},
   "outputs": [
    {
     "data": {
      "text/plain": [
       "array([0.33603352, 0.24567813, 0.3891415 , 0.48614407, 0.3656976 ,\n",
       "       0.41252282, 0.49195123, 0.43778592, 0.45825243, 0.41935584,\n",
       "       0.48076314, 0.478611  , 0.51135796, 0.4820283 , 0.5130096 ],\n",
       "      dtype=float32)"
      ]
     },
     "execution_count": 74,
     "metadata": {},
     "output_type": "execute_result"
    }
   ],
   "source": [
    "ynew"
   ]
  },
  {
   "cell_type": "code",
   "execution_count": 75,
   "metadata": {},
   "outputs": [],
   "source": [
    "maxcancel=np.max(tseries)"
   ]
  },
  {
   "cell_type": "code",
   "execution_count": 76,
   "metadata": {},
   "outputs": [],
   "source": [
    "mincancel=np.min(tseries)"
   ]
  },
  {
   "cell_type": "code",
   "execution_count": 77,
   "metadata": {},
   "outputs": [],
   "source": [
    "ynew = ynew * np.abs(maxcancel-mincancel) + np.min(tseries)\n",
    "ynewpd=pd.Series(ynew)"
   ]
  },
  {
   "cell_type": "code",
   "execution_count": 78,
   "metadata": {},
   "outputs": [
    {
     "data": {
      "text/plain": [
       "0     130.0\n",
       "1     202.0\n",
       "2     117.0\n",
       "3     152.0\n",
       "4     131.0\n",
       "5     161.0\n",
       "6     131.0\n",
       "7     139.0\n",
       "8     150.0\n",
       "9     157.0\n",
       "10    173.0\n",
       "11    140.0\n",
       "12    182.0\n",
       "13    143.0\n",
       "14    100.0\n",
       "dtype: float64"
      ]
     },
     "execution_count": 78,
     "metadata": {},
     "output_type": "execute_result"
    }
   ],
   "source": [
    "actualpd"
   ]
  },
  {
   "cell_type": "code",
   "execution_count": 79,
   "metadata": {},
   "outputs": [
    {
     "data": {
      "text/plain": [
       "0      83.894974\n",
       "1      65.101051\n",
       "2      94.941429\n",
       "3     115.117966\n",
       "4      90.065102\n",
       "5      99.804749\n",
       "6     116.325851\n",
       "7     105.059471\n",
       "8     109.316505\n",
       "9     101.226013\n",
       "10    113.998734\n",
       "11    113.551086\n",
       "12    120.362457\n",
       "13    114.261887\n",
       "14    120.706001\n",
       "dtype: float32"
      ]
     },
     "execution_count": 79,
     "metadata": {},
     "output_type": "execute_result"
    }
   ],
   "source": [
    "ynewpd"
   ]
  },
  {
   "cell_type": "code",
   "execution_count": 80,
   "metadata": {},
   "outputs": [
    {
     "data": {
      "text/plain": [
       "0.8666666666666667"
      ]
     },
     "execution_count": 80,
     "metadata": {},
     "output_type": "execute_result"
    }
   ],
   "source": [
    "mda(actualpd, ynewpd)"
   ]
  },
  {
   "cell_type": "code",
   "execution_count": 81,
   "metadata": {},
   "outputs": [
    {
     "name": "stdout",
     "output_type": "stream",
     "text": [
      "RMSE: 53.852922\n"
     ]
    }
   ],
   "source": [
    "mse = mean_squared_error(actualpd, ynewpd)\n",
    "rmse = sqrt(mse)\n",
    "print('RMSE: %f' % rmse)"
   ]
  },
  {
   "cell_type": "code",
   "execution_count": 82,
   "metadata": {},
   "outputs": [
    {
     "data": {
      "text/plain": [
       "0     -46.105026\n",
       "1    -136.898949\n",
       "2     -22.058571\n",
       "3     -36.882034\n",
       "4     -40.934898\n",
       "5     -61.195251\n",
       "6     -14.674149\n",
       "7     -33.940529\n",
       "8     -40.683495\n",
       "9     -55.773987\n",
       "10    -59.001266\n",
       "11    -26.448914\n",
       "12    -61.637543\n",
       "13    -28.738113\n",
       "14     20.706001\n",
       "dtype: float64"
      ]
     },
     "execution_count": 82,
     "metadata": {},
     "output_type": "execute_result"
    }
   ],
   "source": [
    "forecast_error = (ynewpd-actualpd)\n",
    "forecast_error"
   ]
  },
  {
   "cell_type": "code",
   "execution_count": 83,
   "metadata": {},
   "outputs": [
    {
     "data": {
      "text/plain": [
       "-42.951114908854166"
      ]
     },
     "execution_count": 83,
     "metadata": {},
     "output_type": "execute_result"
    }
   ],
   "source": [
    "mean_forecast_error = np.mean(forecast_error)\n",
    "mean_forecast_error"
   ]
  },
  {
   "cell_type": "code",
   "execution_count": 84,
   "metadata": {},
   "outputs": [
    {
     "data": {
      "image/png": "[encoded data removed]",
      "text/plain": [
       "<Figure size 640x480 with 1 Axes>"
      ]
     },
     "metadata": {},
     "output_type": "display_data"
    }
   ],
   "source": [
    "predictons, =plt.plot(ynewpd, label='Predictions')\n",
    "actual, =plt.plot(actualpd, label='Actual')\n",
    "plt.xlabel('Number of weeks')\n",
    "plt.ylabel('Cancellations')\n",
    "plt.title(\"Predicted vs. Actual Cancellations Per Week\")\n",
    "plt.legend(loc = 'upper center')\n",
    "plt.show()"
   ]
  },
  {
   "cell_type": "code",
   "execution_count": 85,
   "metadata": {},
   "outputs": [
    {
     "data": {
      "text/plain": [
       "104.24888"
      ]
     },
     "execution_count": 85,
     "metadata": {},
     "output_type": "execute_result"
    }
   ],
   "source": [
    "np.mean(ynewpd)"
   ]
  }
 ],
 "metadata": {
  "kernelspec": {
   "display_name": "Python 3 (ipykernel)",
   "language": "python",
   "name": "python3"
  },
  "language_info": {
   "codemirror_mode": {
    "name": "ipython",
    "version": 3
   },
   "file_extension": ".py",
   "mimetype": "text/x-python",
   "name": "python",
   "nbconvert_exporter": "python",
   "pygments_lexer": "ipython3",
   "version": "3.8.10"
  }
 },
 "nbformat": 4,
 "nbformat_minor": 2
}
