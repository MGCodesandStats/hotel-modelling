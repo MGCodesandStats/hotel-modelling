{
 "cells": [
  {
   "cell_type": "markdown",
   "metadata": {},
   "source": [
    "# Predicting ADR Fluctuations with ARIMA\n",
    "\n",
    "In this example, the ARIMA model is used to forecast ADR on the hotel cancellation dataset as provided by Antonio, Almeida and Nunes (2019). Attributions provided below."
   ]
  },
  {
   "cell_type": "markdown",
   "metadata": {},
   "source": [
    "#### Attributions\n",
    "\n",
    "The below code uses the [pmdarima](https://github.com/alkaline-ml/pmdarima) library (Copyright (c) 2017 Taylor G Smith) in executing the below examples, as provided under the MIT License.\n",
    "\n",
    "Modifications have been made where appropriate for conducting analysis on the tseries specific to this example.\n",
    "\n",
    "The copyright and permission notices are made available below:\n",
    "\n",
    "Copyright (c) 2017 Taylor G Smith\n",
    "\n",
    "THE SOFTWARE IS PROVIDED \"AS IS\", WITHOUT WARRANTY OF ANY KIND, EXPRESS OR\n",
    "IMPLIED, INCLUDING BUT NOT LIMITED TO THE WARRANTIES OF MERCHANTABILITY,\n",
    "FITNESS FOR A PARTICULAR PURPOSE AND NONINFRINGEMENT. IN NO EVENT SHALL THE\n",
    "AUTHORS OR COPYRIGHT HOLDERS BE LIABLE FOR ANY CLAIM, DAMAGES OR OTHER\n",
    "LIABILITY, WHETHER IN AN ACTION OF CONTRACT, TORT OR OTHERWISE, ARISING FROM,\n",
    "OUT OF OR IN CONNECTION WITH THE SOFTWARE OR THE USE OR OTHER DEALINGS IN THE\n",
    "SOFTWARE.\n",
    "\n",
    "The data used in this example is sourced from [Antonio, Almeida and Nunes (2019)](https://www.sciencedirect.com/science/article/pii/S2352340918315191).\n",
    "\n",
    "The below work and findings are not endorsed by the original authors in any way."
   ]
  },
  {
   "cell_type": "code",
   "execution_count": 1,
   "metadata": {},
   "outputs": [],
   "source": [
    "import math\n",
    "import matplotlib.pyplot as plt\n",
    "import numpy as np\n",
    "import pandas as pd\n",
    "import pmdarima as pm\n",
    "from sklearn.metrics import mean_squared_error\n",
    "import statsmodels as sm\n",
    "from statsmodels.graphics.tsaplots import plot_acf, plot_pacf\n",
    "from statsmodels.tsa.arima_model import ARIMA\n",
    "import statsmodels.tsa.stattools as ts\n",
    "from statsmodels.tsa.stattools import acf, pacf\n",
    "from statsmodels.tsa.seasonal import seasonal_decompose\n",
    "\n",
    "\n",
    "dtypes = {\n",
    "        'IsCanceled':                                    'float64',\n",
    "        'LeadTime':                                          'float64',\n",
    "        'StaysInWeekendNights':                                     'float64',\n",
    "        'StaysInWeekNights':                                     'float64',\n",
    "        'Adults':                            'float64',\n",
    "        'Children':                            'float64',\n",
    "        'Babies':                                  'float64',\n",
    "        'Meal':                                    'category',\n",
    "        'Country':                                               'category',\n",
    "        'MarketSegment':                                    'category',\n",
    "        'DistributionChannel':                                       'category',\n",
    "        'IsRepeatedGuest':                               'float64',\n",
    "        'PreviousCancellations':                                    'float64',\n",
    "        'PreviousBookingsNotCanceled':                          'float64',\n",
    "        'ReservedRoomType':                                             'category',\n",
    "        'AssignedRoomType':                                            'category',\n",
    "        'BookingChanges':                                                'float64',\n",
    "        'DepositType':                                              'category',\n",
    "        'Agent':                                              'category',\n",
    "        'Company':                                 'category',\n",
    "        'DaysInWaitingList':                                           'float64',\n",
    "        'CustomerType':                                           'category',\n",
    "        'ADR':                                          'float64',\n",
    "        'RequiredCarParkingSpaces':                                      'float64',\n",
    "        'TotalOfSpecialRequests':                                              'float64',\n",
    "        'ReservationStatus':                                                'category'\n",
    "        }"
   ]
  },
  {
   "cell_type": "code",
   "execution_count": 2,
   "metadata": {},
   "outputs": [],
   "source": [
    "train_df = pd.read_csv(\"H2.csv\", dtype=dtypes, converters={'ArrivalDateWeekNumber': '{:0>2}'.format})"
   ]
  },
  {
   "cell_type": "code",
   "execution_count": 3,
   "metadata": {},
   "outputs": [
    {
     "data": {
      "text/plain": [
       "pandas.core.frame.DataFrame"
      ]
     },
     "execution_count": 3,
     "metadata": {},
     "output_type": "execute_result"
    }
   ],
   "source": [
    "a=train_df.head()\n",
    "b=train_df\n",
    "b\n",
    "c=b.sort_values(['ArrivalDateYear','ArrivalDateWeekNumber'], ascending=True)\n",
    "c=pd.DataFrame(c)\n",
    "c\n",
    "type(c)"
   ]
  },
  {
   "cell_type": "code",
   "execution_count": 4,
   "metadata": {},
   "outputs": [
    {
     "data": {
      "text/html": [
       "<div>\n",
       "<style scoped>\n",
       "    .dataframe tbody tr th:only-of-type {\n",
       "        vertical-align: middle;\n",
       "    }\n",
       "\n",
       "    .dataframe tbody tr th {\n",
       "        vertical-align: top;\n",
       "    }\n",
       "\n",
       "    .dataframe thead th {\n",
       "        text-align: right;\n",
       "    }\n",
       "</style>\n",
       "<table border=\"1\" class=\"dataframe\">\n",
       "  <thead>\n",
       "    <tr style=\"text-align: right;\">\n",
       "      <th></th>\n",
       "      <th>ArrivalDateYear</th>\n",
       "      <th>ArrivalDateWeekNumber</th>\n",
       "    </tr>\n",
       "  </thead>\n",
       "  <tbody>\n",
       "    <tr>\n",
       "      <th>0</th>\n",
       "      <td>2015</td>\n",
       "      <td>27</td>\n",
       "    </tr>\n",
       "    <tr>\n",
       "      <th>1</th>\n",
       "      <td>2015</td>\n",
       "      <td>27</td>\n",
       "    </tr>\n",
       "    <tr>\n",
       "      <th>2</th>\n",
       "      <td>2015</td>\n",
       "      <td>27</td>\n",
       "    </tr>\n",
       "    <tr>\n",
       "      <th>3</th>\n",
       "      <td>2015</td>\n",
       "      <td>27</td>\n",
       "    </tr>\n",
       "    <tr>\n",
       "      <th>4</th>\n",
       "      <td>2015</td>\n",
       "      <td>27</td>\n",
       "    </tr>\n",
       "    <tr>\n",
       "      <th>...</th>\n",
       "      <td>...</td>\n",
       "      <td>...</td>\n",
       "    </tr>\n",
       "    <tr>\n",
       "      <th>79325</th>\n",
       "      <td>2017</td>\n",
       "      <td>35</td>\n",
       "    </tr>\n",
       "    <tr>\n",
       "      <th>79326</th>\n",
       "      <td>2017</td>\n",
       "      <td>35</td>\n",
       "    </tr>\n",
       "    <tr>\n",
       "      <th>79327</th>\n",
       "      <td>2017</td>\n",
       "      <td>35</td>\n",
       "    </tr>\n",
       "    <tr>\n",
       "      <th>79328</th>\n",
       "      <td>2017</td>\n",
       "      <td>35</td>\n",
       "    </tr>\n",
       "    <tr>\n",
       "      <th>79329</th>\n",
       "      <td>2017</td>\n",
       "      <td>35</td>\n",
       "    </tr>\n",
       "  </tbody>\n",
       "</table>\n",
       "<p>79330 rows × 2 columns</p>\n",
       "</div>"
      ],
      "text/plain": [
       "       ArrivalDateYear ArrivalDateWeekNumber\n",
       "0                 2015                    27\n",
       "1                 2015                    27\n",
       "2                 2015                    27\n",
       "3                 2015                    27\n",
       "4                 2015                    27\n",
       "...                ...                   ...\n",
       "79325             2017                    35\n",
       "79326             2017                    35\n",
       "79327             2017                    35\n",
       "79328             2017                    35\n",
       "79329             2017                    35\n",
       "\n",
       "[79330 rows x 2 columns]"
      ]
     },
     "execution_count": 4,
     "metadata": {},
     "output_type": "execute_result"
    }
   ],
   "source": [
    "from pandas import DataFrame  \n",
    "\n",
    "df = DataFrame(c, columns= ['ArrivalDateYear', 'ArrivalDateWeekNumber']) \n",
    "df"
   ]
  },
  {
   "cell_type": "code",
   "execution_count": 5,
   "metadata": {},
   "outputs": [
    {
     "name": "stdout",
     "output_type": "stream",
     "text": [
      "0        201527\n",
      "1        201527\n",
      "2        201527\n",
      "3        201527\n",
      "4        201527\n",
      "          ...  \n",
      "79325    201735\n",
      "79326    201735\n",
      "79327    201735\n",
      "79328    201735\n",
      "79329    201735\n",
      "Length: 79330, dtype: object\n"
     ]
    }
   ],
   "source": [
    "# https://datatofish.com/concatenate-values-python/\n",
    "\n",
    "df1 = df['ArrivalDateYear'].map(str) + df['ArrivalDateWeekNumber'].map(str)\n",
    "print (df1)\n",
    "df1=pd.DataFrame(df1)"
   ]
  },
  {
   "cell_type": "code",
   "execution_count": 6,
   "metadata": {},
   "outputs": [
    {
     "data": {
      "text/html": [
       "<div>\n",
       "<style scoped>\n",
       "    .dataframe tbody tr th:only-of-type {\n",
       "        vertical-align: middle;\n",
       "    }\n",
       "\n",
       "    .dataframe tbody tr th {\n",
       "        vertical-align: top;\n",
       "    }\n",
       "\n",
       "    .dataframe thead th {\n",
       "        text-align: right;\n",
       "    }\n",
       "</style>\n",
       "<table border=\"1\" class=\"dataframe\">\n",
       "  <thead>\n",
       "    <tr style=\"text-align: right;\">\n",
       "      <th></th>\n",
       "      <th>ADR</th>\n",
       "    </tr>\n",
       "  </thead>\n",
       "  <tbody>\n",
       "    <tr>\n",
       "      <th>0</th>\n",
       "      <td>0.00</td>\n",
       "    </tr>\n",
       "    <tr>\n",
       "      <th>1</th>\n",
       "      <td>76.50</td>\n",
       "    </tr>\n",
       "    <tr>\n",
       "      <th>2</th>\n",
       "      <td>68.00</td>\n",
       "    </tr>\n",
       "    <tr>\n",
       "      <th>3</th>\n",
       "      <td>76.50</td>\n",
       "    </tr>\n",
       "    <tr>\n",
       "      <th>4</th>\n",
       "      <td>76.50</td>\n",
       "    </tr>\n",
       "    <tr>\n",
       "      <th>...</th>\n",
       "      <td>...</td>\n",
       "    </tr>\n",
       "    <tr>\n",
       "      <th>79325</th>\n",
       "      <td>96.14</td>\n",
       "    </tr>\n",
       "    <tr>\n",
       "      <th>79326</th>\n",
       "      <td>225.43</td>\n",
       "    </tr>\n",
       "    <tr>\n",
       "      <th>79327</th>\n",
       "      <td>157.71</td>\n",
       "    </tr>\n",
       "    <tr>\n",
       "      <th>79328</th>\n",
       "      <td>104.40</td>\n",
       "    </tr>\n",
       "    <tr>\n",
       "      <th>79329</th>\n",
       "      <td>151.20</td>\n",
       "    </tr>\n",
       "  </tbody>\n",
       "</table>\n",
       "<p>79330 rows × 1 columns</p>\n",
       "</div>"
      ],
      "text/plain": [
       "          ADR\n",
       "0        0.00\n",
       "1       76.50\n",
       "2       68.00\n",
       "3       76.50\n",
       "4       76.50\n",
       "...       ...\n",
       "79325   96.14\n",
       "79326  225.43\n",
       "79327  157.71\n",
       "79328  104.40\n",
       "79329  151.20\n",
       "\n",
       "[79330 rows x 1 columns]"
      ]
     },
     "execution_count": 6,
     "metadata": {},
     "output_type": "execute_result"
    }
   ],
   "source": [
    "df2 = DataFrame(c, columns= ['ADR']) \n",
    "df2"
   ]
  },
  {
   "cell_type": "code",
   "execution_count": 7,
   "metadata": {},
   "outputs": [
    {
     "data": {
      "text/plain": [
       "pandas.core.frame.DataFrame"
      ]
     },
     "execution_count": 7,
     "metadata": {},
     "output_type": "execute_result"
    }
   ],
   "source": [
    "type(df1)"
   ]
  },
  {
   "cell_type": "code",
   "execution_count": 8,
   "metadata": {},
   "outputs": [],
   "source": [
    "df3=pd.concat([df1, df2], axis = 1)\n",
    "df3\n",
    "df3.columns = ['FullDate', 'ADR']"
   ]
  },
  {
   "cell_type": "code",
   "execution_count": 9,
   "metadata": {},
   "outputs": [
    {
     "data": {
      "text/html": [
       "<div>\n",
       "<style scoped>\n",
       "    .dataframe tbody tr th:only-of-type {\n",
       "        vertical-align: middle;\n",
       "    }\n",
       "\n",
       "    .dataframe tbody tr th {\n",
       "        vertical-align: top;\n",
       "    }\n",
       "\n",
       "    .dataframe thead th {\n",
       "        text-align: right;\n",
       "    }\n",
       "</style>\n",
       "<table border=\"1\" class=\"dataframe\">\n",
       "  <thead>\n",
       "    <tr style=\"text-align: right;\">\n",
       "      <th></th>\n",
       "      <th>FullDate</th>\n",
       "      <th>ADR</th>\n",
       "    </tr>\n",
       "  </thead>\n",
       "  <tbody>\n",
       "    <tr>\n",
       "      <th>0</th>\n",
       "      <td>201527</td>\n",
       "      <td>0.00</td>\n",
       "    </tr>\n",
       "    <tr>\n",
       "      <th>11</th>\n",
       "      <td>201527</td>\n",
       "      <td>43.00</td>\n",
       "    </tr>\n",
       "    <tr>\n",
       "      <th>6</th>\n",
       "      <td>201527</td>\n",
       "      <td>58.67</td>\n",
       "    </tr>\n",
       "    <tr>\n",
       "      <th>29</th>\n",
       "      <td>201527</td>\n",
       "      <td>60.00</td>\n",
       "    </tr>\n",
       "    <tr>\n",
       "      <th>36141</th>\n",
       "      <td>201527</td>\n",
       "      <td>60.00</td>\n",
       "    </tr>\n",
       "    <tr>\n",
       "      <th>...</th>\n",
       "      <td>...</td>\n",
       "      <td>...</td>\n",
       "    </tr>\n",
       "    <tr>\n",
       "      <th>79084</th>\n",
       "      <td>201735</td>\n",
       "      <td>259.00</td>\n",
       "    </tr>\n",
       "    <tr>\n",
       "      <th>79305</th>\n",
       "      <td>201735</td>\n",
       "      <td>266.75</td>\n",
       "    </tr>\n",
       "    <tr>\n",
       "      <th>79010</th>\n",
       "      <td>201735</td>\n",
       "      <td>270.00</td>\n",
       "    </tr>\n",
       "    <tr>\n",
       "      <th>79091</th>\n",
       "      <td>201735</td>\n",
       "      <td>270.00</td>\n",
       "    </tr>\n",
       "    <tr>\n",
       "      <th>33605</th>\n",
       "      <td>201735</td>\n",
       "      <td>272.50</td>\n",
       "    </tr>\n",
       "  </tbody>\n",
       "</table>\n",
       "<p>79330 rows × 2 columns</p>\n",
       "</div>"
      ],
      "text/plain": [
       "      FullDate     ADR\n",
       "0       201527    0.00\n",
       "11      201527   43.00\n",
       "6       201527   58.67\n",
       "29      201527   60.00\n",
       "36141   201527   60.00\n",
       "...        ...     ...\n",
       "79084   201735  259.00\n",
       "79305   201735  266.75\n",
       "79010   201735  270.00\n",
       "79091   201735  270.00\n",
       "33605   201735  272.50\n",
       "\n",
       "[79330 rows x 2 columns]"
      ]
     },
     "execution_count": 9,
     "metadata": {},
     "output_type": "execute_result"
    }
   ],
   "source": [
    "df3\n",
    "df3.sort_values(['FullDate','ADR'], ascending=True)"
   ]
  },
  {
   "cell_type": "code",
   "execution_count": 10,
   "metadata": {},
   "outputs": [
    {
     "data": {
      "text/html": [
       "<div>\n",
       "<style scoped>\n",
       "    .dataframe tbody tr th:only-of-type {\n",
       "        vertical-align: middle;\n",
       "    }\n",
       "\n",
       "    .dataframe tbody tr th {\n",
       "        vertical-align: top;\n",
       "    }\n",
       "\n",
       "    .dataframe thead th {\n",
       "        text-align: right;\n",
       "    }\n",
       "</style>\n",
       "<table border=\"1\" class=\"dataframe\">\n",
       "  <thead>\n",
       "    <tr style=\"text-align: right;\">\n",
       "      <th></th>\n",
       "      <th>ADR</th>\n",
       "    </tr>\n",
       "    <tr>\n",
       "      <th>FullDate</th>\n",
       "      <th></th>\n",
       "    </tr>\n",
       "  </thead>\n",
       "  <tbody>\n",
       "    <tr>\n",
       "      <th>201527</th>\n",
       "      <td>78.165879</td>\n",
       "    </tr>\n",
       "    <tr>\n",
       "      <th>201528</th>\n",
       "      <td>70.247336</td>\n",
       "    </tr>\n",
       "    <tr>\n",
       "      <th>201529</th>\n",
       "      <td>73.996534</td>\n",
       "    </tr>\n",
       "    <tr>\n",
       "      <th>201530</th>\n",
       "      <td>66.766446</td>\n",
       "    </tr>\n",
       "    <tr>\n",
       "      <th>201531</th>\n",
       "      <td>65.363578</td>\n",
       "    </tr>\n",
       "    <tr>\n",
       "      <th>...</th>\n",
       "      <td>...</td>\n",
       "    </tr>\n",
       "    <tr>\n",
       "      <th>201731</th>\n",
       "      <td>138.898408</td>\n",
       "    </tr>\n",
       "    <tr>\n",
       "      <th>201732</th>\n",
       "      <td>142.909221</td>\n",
       "    </tr>\n",
       "    <tr>\n",
       "      <th>201733</th>\n",
       "      <td>144.839923</td>\n",
       "    </tr>\n",
       "    <tr>\n",
       "      <th>201734</th>\n",
       "      <td>135.892708</td>\n",
       "    </tr>\n",
       "    <tr>\n",
       "      <th>201735</th>\n",
       "      <td>128.586952</td>\n",
       "    </tr>\n",
       "  </tbody>\n",
       "</table>\n",
       "<p>115 rows × 1 columns</p>\n",
       "</div>"
      ],
      "text/plain": [
       "                 ADR\n",
       "FullDate            \n",
       "201527     78.165879\n",
       "201528     70.247336\n",
       "201529     73.996534\n",
       "201530     66.766446\n",
       "201531     65.363578\n",
       "...              ...\n",
       "201731    138.898408\n",
       "201732    142.909221\n",
       "201733    144.839923\n",
       "201734    135.892708\n",
       "201735    128.586952\n",
       "\n",
       "[115 rows x 1 columns]"
      ]
     },
     "execution_count": 10,
     "metadata": {},
     "output_type": "execute_result"
    }
   ],
   "source": [
    "df4 = df3.groupby('FullDate').agg(\"mean\")\n",
    "df4\n",
    "df4.sort_values(['FullDate'], ascending=True)"
   ]
  },
  {
   "cell_type": "code",
   "execution_count": 11,
   "metadata": {},
   "outputs": [
    {
     "data": {
      "text/plain": [
       "FullDate\n",
       "201527     78.165879\n",
       "201528     70.247336\n",
       "201529     73.996534\n",
       "201530     66.766446\n",
       "201531     65.363578\n",
       "             ...    \n",
       "201731    138.898408\n",
       "201732    142.909221\n",
       "201733    144.839923\n",
       "201734    135.892708\n",
       "201735    128.586952\n",
       "Name: ADR, Length: 115, dtype: float64"
      ]
     },
     "execution_count": 11,
     "metadata": {},
     "output_type": "execute_result"
    }
   ],
   "source": [
    "tseries=df4['ADR']\n",
    "tseries"
   ]
  },
  {
   "cell_type": "code",
   "execution_count": 12,
   "metadata": {},
   "outputs": [
    {
     "data": {
      "text/plain": [
       "115"
      ]
     },
     "execution_count": 12,
     "metadata": {},
     "output_type": "execute_result"
    }
   ],
   "source": [
    "len(tseries)"
   ]
  },
  {
   "cell_type": "code",
   "execution_count": 13,
   "metadata": {},
   "outputs": [
    {
     "name": "stderr",
     "output_type": "stream",
     "text": [
      "/home/michael/.local/lib/python3.6/site-packages/ipykernel_launcher.py:3: FutureWarning: the 'freq'' keyword is deprecated, use 'period' instead\n",
      "  This is separate from the ipykernel package so we can avoid doing imports until\n"
     ]
    },
    {
     "data": {
      "image/png": "[encoded data removed]",
      "text/plain": [
       "<Figure size 432x288 with 4 Axes>"
      ]
     },
     "metadata": {
      "needs_background": "light"
     },
     "output_type": "display_data"
    }
   ],
   "source": [
    "from statsmodels.tsa.seasonal import seasonal_decompose\n",
    "\n",
    "decomposition=seasonal_decompose(tseries, model='additive', freq=1)\n",
    "trend=decomposition.trend\n",
    "seasonal=decomposition.seasonal\n",
    "residual=decomposition.resid\n",
    "plt.subplot(221)\n",
    "plt.plot(tseries,color='#ff0000', label='Series')\n",
    "plt.legend(loc='best')\n",
    "plt.subplot(222)\n",
    "plt.plot(trend,color='#1100ff', label='Trend')\n",
    "plt.legend(loc='best')\n",
    "plt.tight_layout()\n",
    "plt.subplot(223)\n",
    "plt.plot(residual,color='#00ff1a', label='Residual')\n",
    "plt.legend(loc='best')\n",
    "plt.tight_layout()\n",
    "plt.subplot(224)\n",
    "plt.plot(seasonal,color='#de00ff', label='Seasonality')\n",
    "plt.legend(loc='best')\n",
    "plt.tight_layout()\n",
    "plt.show()"
   ]
  },
  {
   "cell_type": "code",
   "execution_count": 14,
   "metadata": {},
   "outputs": [
    {
     "data": {
      "image/png": "[encoded data removed]",
      "text/plain": [
       "<Figure size 432x288 with 1 Axes>"
      ]
     },
     "metadata": {
      "needs_background": "light"
     },
     "output_type": "display_data"
    }
   ],
   "source": [
    "plt.plot(tseries)\n",
    "plt.xlabel('Weeks')\n",
    "plt.ylabel('ADR')\n",
    "plt.title(\"Weekly ADR\")\n",
    "plt.show()"
   ]
  },
  {
   "cell_type": "code",
   "execution_count": 15,
   "metadata": {},
   "outputs": [
    {
     "data": {
      "text/plain": [
       "FullDate\n",
       "201527     78.165879\n",
       "201528     70.247336\n",
       "201529     73.996534\n",
       "201530     66.766446\n",
       "201531     65.363578\n",
       "             ...    \n",
       "201716    121.461748\n",
       "201717    121.316925\n",
       "201718    124.661435\n",
       "201719    132.639515\n",
       "201720    138.961245\n",
       "Name: ADR, Length: 100, dtype: float64"
      ]
     },
     "execution_count": 15,
     "metadata": {},
     "output_type": "execute_result"
    }
   ],
   "source": [
    "train_df=tseries[:100]\n",
    "train_df"
   ]
  },
  {
   "cell_type": "code",
   "execution_count": 16,
   "metadata": {},
   "outputs": [
    {
     "data": {
      "text/plain": [
       "(-2.087885740904639,\n",
       " 0.24941362418987445,\n",
       " 0,\n",
       " 99,\n",
       " {'1%': -3.498198082189098,\n",
       "  '5%': -2.891208211860468,\n",
       "  '10%': -2.5825959973472097},\n",
       " 704.6562516557327)"
      ]
     },
     "execution_count": 16,
     "metadata": {},
     "output_type": "execute_result"
    }
   ],
   "source": [
    "#Dickey-Fuller Test\n",
    "result = ts.adfuller(train_df, 1)\n",
    "result"
   ]
  },
  {
   "cell_type": "code",
   "execution_count": 17,
   "metadata": {},
   "outputs": [
    {
     "data": {
      "image/png": "[encoded data removed]",
      "text/plain": [
       "<Figure size 432x288 with 1 Axes>"
      ]
     },
     "metadata": {
      "needs_background": "light"
     },
     "output_type": "display_data"
    }
   ],
   "source": [
    "plot_acf(train_df, lags=60, zero=False);"
   ]
  },
  {
   "cell_type": "code",
   "execution_count": 18,
   "metadata": {},
   "outputs": [
    {
     "data": {
      "image/png": "[encoded data removed]",
      "text/plain": [
       "<Figure size 432x288 with 1 Axes>"
      ]
     },
     "metadata": {
      "needs_background": "light"
     },
     "output_type": "display_data"
    }
   ],
   "source": [
    "plot_pacf(train_df, lags=10, zero=False);"
   ]
  },
  {
   "cell_type": "code",
   "execution_count": 19,
   "metadata": {},
   "outputs": [
    {
     "data": {
      "image/png": "[encoded data removed]",
      "text/plain": [
       "<Figure size 432x288 with 1 Axes>"
      ]
     },
     "metadata": {
      "needs_background": "light"
     },
     "output_type": "display_data"
    }
   ],
   "source": [
    "plot_acf(np.diff(train_df, 1), lags=52, zero=False);"
   ]
  },
  {
   "cell_type": "code",
   "execution_count": 20,
   "metadata": {},
   "outputs": [
    {
     "data": {
      "text/plain": [
       "FullDate\n",
       "201721    135.290186\n",
       "201722    126.705491\n",
       "201723    136.967315\n",
       "201724    125.043687\n",
       "201725    129.754353\n",
       "201726    123.697777\n",
       "201727    122.844838\n",
       "201728    123.086751\n",
       "201729    124.981143\n",
       "201730    131.794585\n",
       "201731    138.898408\n",
       "201732    142.909221\n",
       "201733    144.839923\n",
       "201734    135.892708\n",
       "201735    128.586952\n",
       "Name: ADR, dtype: float64"
      ]
     },
     "execution_count": 20,
     "metadata": {},
     "output_type": "execute_result"
    }
   ],
   "source": [
    "test_df=tseries[100:115]\n",
    "test_df"
   ]
  },
  {
   "cell_type": "code",
   "execution_count": 21,
   "metadata": {},
   "outputs": [
    {
     "name": "stdout",
     "output_type": "stream",
     "text": [
      "[ 72.03285808  72.9338302   73.28200574  74.63266735  77.40941282\n",
      "  81.13646404  89.81266064  92.37171262  93.14842817  95.51716779\n",
      "  97.05935069  96.83636498  95.21555874  87.60632231  83.30345336\n",
      "  80.63108747  78.66740672  76.23904681  74.17252804  73.70202548\n",
      "  76.65109564  80.06845825  80.25784577  79.86054202  79.71492474\n",
      "  80.24669662  80.46045097  78.85305274  76.62126978  77.88379994\n",
      "  78.85183637  79.63330286  81.28373063  85.48364466  86.88547308\n",
      "  88.64644659  91.65853677  94.46464269  97.84738606 100.63420342\n",
      " 100.80684804 102.53164592 106.23202862 106.87143657 108.58984657\n",
      " 109.5809166  109.03733527 109.22412158 110.54458027 109.89762492\n",
      " 110.14468509 110.10050194 110.77887484 113.17143356 115.33029329\n",
      " 115.77664471 115.6918513  116.8013492  118.2725721  118.96710446\n",
      " 118.50729119 116.88320369 115.88365555 115.24659797 113.30080462\n",
      " 110.0424092  108.22213142 104.03609116  99.62647823  95.98757533\n",
      "  93.18536448  90.45323262  89.65499633  89.4186507   90.47250153\n",
      "  90.48341393  90.53144647  89.83593202  89.82911299  89.31756903\n",
      "  87.2166218   86.85165568  88.11841103  88.81771204  89.99511754\n",
      "  91.6958719   93.15962059  96.5544306  101.90272386 106.10507943\n",
      " 110.56904367 115.23558228 120.53622446 126.18140128]\n"
     ]
    }
   ],
   "source": [
    "window_size = 7\n",
    "\n",
    "numbers_series = pd.Series(train_df)\n",
    "windows = numbers_series.rolling(window_size)\n",
    "moving_averages = windows.mean()\n",
    "\n",
    "moving_averages_list = moving_averages.tolist()\n",
    "ts7 = moving_averages_list[window_size - 1:]\n",
    "ts7=np.array(ts7)\n",
    "print(ts7)"
   ]
  },
  {
   "cell_type": "code",
   "execution_count": 22,
   "metadata": {},
   "outputs": [
    {
     "data": {
      "image/png": "[encoded data removed]",
      "text/plain": [
       "<Figure size 432x288 with 1 Axes>"
      ]
     },
     "metadata": {
      "needs_background": "light"
     },
     "output_type": "display_data"
    }
   ],
   "source": [
    "n1=math.nan\n",
    "n7=np.array([n1,n1,n1,n1,n1,n1,n1])\n",
    "ts7=np.concatenate([n7,ts7])\n",
    "plt.plot(train_df)\n",
    "plt.plot(ts7)\n",
    "plt.xlabel('Weeks')\n",
    "plt.ylabel('ADR')\n",
    "plt.title(\"7-week Simple Moving Average\")\n",
    "plt.show()"
   ]
  },
  {
   "cell_type": "code",
   "execution_count": 23,
   "metadata": {},
   "outputs": [
    {
     "name": "stdout",
     "output_type": "stream",
     "text": [
      "Performing stepwise search to minimize aic\n",
      " ARIMA(0,1,0)(0,1,0)[52]             : AIC=361.928, Time=0.40 sec\n",
      " ARIMA(1,1,0)(1,1,0)[52]             : AIC=inf, Time=28.96 sec\n",
      " ARIMA(0,1,1)(0,1,1)[52]             : AIC=inf, Time=52.65 sec\n",
      " ARIMA(0,1,0)(1,1,0)[52]             : AIC=inf, Time=38.08 sec\n",
      " ARIMA(0,1,0)(0,1,1)[52]             : AIC=inf, Time=23.70 sec\n",
      " ARIMA(0,1,0)(1,1,1)[52]             : AIC=365.921, Time=37.47 sec\n",
      " ARIMA(1,1,0)(0,1,0)[52]             : AIC=361.879, Time=0.90 sec\n",
      " ARIMA(1,1,0)(0,1,1)[52]             : AIC=inf, Time=42.70 sec\n",
      " ARIMA(1,1,0)(1,1,1)[52]             : AIC=inf, Time=64.68 sec\n",
      " ARIMA(2,1,0)(0,1,0)[52]             : AIC=360.608, Time=1.67 sec\n",
      " ARIMA(2,1,0)(1,1,0)[52]             : AIC=inf, Time=53.64 sec\n",
      " ARIMA(2,1,0)(0,1,1)[52]             : AIC=inf, Time=59.12 sec\n",
      " ARIMA(2,1,0)(1,1,1)[52]             : AIC=inf, Time=80.96 sec\n",
      " ARIMA(3,1,0)(0,1,0)[52]             : AIC=361.472, Time=2.10 sec\n",
      " ARIMA(2,1,1)(0,1,0)[52]             : AIC=360.213, Time=2.62 sec\n",
      " ARIMA(2,1,1)(1,1,0)[52]             : AIC=362.196, Time=84.41 sec\n",
      " ARIMA(2,1,1)(0,1,1)[52]             : AIC=inf, Time=60.66 sec\n",
      " ARIMA(2,1,1)(1,1,1)[52]             : AIC=inf, Time=88.18 sec\n",
      " ARIMA(1,1,1)(0,1,0)[52]             : AIC=358.782, Time=2.70 sec\n",
      " ARIMA(1,1,1)(1,1,0)[52]             : AIC=360.755, Time=56.81 sec\n",
      " ARIMA(1,1,1)(0,1,1)[52]             : AIC=inf, Time=43.85 sec\n",
      " ARIMA(1,1,1)(1,1,1)[52]             : AIC=362.755, Time=39.11 sec\n",
      " ARIMA(0,1,1)(0,1,0)[52]             : AIC=359.202, Time=0.58 sec\n",
      " ARIMA(1,1,2)(0,1,0)[52]             : AIC=360.232, Time=1.45 sec\n",
      " ARIMA(0,1,2)(0,1,0)[52]             : AIC=358.232, Time=0.85 sec\n",
      " ARIMA(0,1,2)(1,1,0)[52]             : AIC=360.225, Time=29.27 sec\n",
      " ARIMA(0,1,2)(0,1,1)[52]             : AIC=inf, Time=25.21 sec\n",
      " ARIMA(0,1,2)(1,1,1)[52]             : AIC=362.226, Time=33.57 sec\n",
      " ARIMA(0,1,3)(0,1,0)[52]             : AIC=360.232, Time=1.31 sec\n",
      " ARIMA(1,1,3)(0,1,0)[52]             : AIC=inf, Time=7.86 sec\n",
      " ARIMA(0,1,2)(0,1,0)[52] intercept   : AIC=360.075, Time=1.19 sec\n",
      "\n",
      "Best model:  ARIMA(0,1,2)(0,1,0)[52]          \n",
      "Total fit time: 966.825 seconds\n"
     ]
    }
   ],
   "source": [
    "Arima_model=pm.auto_arima(train_df, start_p=0, start_q=0, max_p=10, max_q=10, start_P=0, start_Q=0, max_P=10, max_Q=10, m=52, stepwise=True, seasonal=True, information_criterion='aic', trace=True, d=1, D=1, error_action='warn', suppress_warnings=True, random_state = 20, n_fits=30)"
   ]
  },
  {
   "cell_type": "code",
   "execution_count": 24,
   "metadata": {},
   "outputs": [],
   "source": [
    "predictions=pd.DataFrame(Arima_model.predict(n_periods=15), index=test_df)\n",
    "predictions=np.array(predictions)"
   ]
  },
  {
   "cell_type": "code",
   "execution_count": 25,
   "metadata": {},
   "outputs": [
    {
     "data": {
      "text/plain": [
       "array([[145.77521076],\n",
       "       [131.41774191],\n",
       "       [135.67741722],\n",
       "       [136.80626411],\n",
       "       [125.64588234],\n",
       "       [134.71616934],\n",
       "       [138.67323697],\n",
       "       [137.7815602 ],\n",
       "       [133.14716308],\n",
       "       [135.36813519],\n",
       "       [141.55487442],\n",
       "       [142.39379337],\n",
       "       [149.82818741],\n",
       "       [141.79769691],\n",
       "       [137.18800636]])"
      ]
     },
     "execution_count": 25,
     "metadata": {},
     "output_type": "execute_result"
    }
   ],
   "source": [
    "predictions=predictions.reshape(15,-1)\n",
    "predictions"
   ]
  },
  {
   "cell_type": "code",
   "execution_count": 26,
   "metadata": {},
   "outputs": [
    {
     "data": {
      "text/plain": [
       "15"
      ]
     },
     "execution_count": 26,
     "metadata": {},
     "output_type": "execute_result"
    }
   ],
   "source": [
    "len(predictions)"
   ]
  },
  {
   "cell_type": "code",
   "execution_count": 27,
   "metadata": {},
   "outputs": [
    {
     "data": {
      "text/plain": [
       "array([[145.77521076],\n",
       "       [131.41774191],\n",
       "       [135.67741722],\n",
       "       [136.80626411],\n",
       "       [125.64588234],\n",
       "       [134.71616934],\n",
       "       [138.67323697],\n",
       "       [137.7815602 ],\n",
       "       [133.14716308],\n",
       "       [135.36813519],\n",
       "       [141.55487442],\n",
       "       [142.39379337],\n",
       "       [149.82818741],\n",
       "       [141.79769691],\n",
       "       [137.18800636]])"
      ]
     },
     "execution_count": 27,
     "metadata": {},
     "output_type": "execute_result"
    }
   ],
   "source": [
    "predictions"
   ]
  },
  {
   "cell_type": "code",
   "execution_count": 28,
   "metadata": {},
   "outputs": [
    {
     "data": {
      "text/plain": [
       "15"
      ]
     },
     "execution_count": 28,
     "metadata": {},
     "output_type": "execute_result"
    }
   ],
   "source": [
    "len(predictions)"
   ]
  },
  {
   "cell_type": "code",
   "execution_count": 29,
   "metadata": {},
   "outputs": [
    {
     "data": {
      "text/plain": [
       "15"
      ]
     },
     "execution_count": 29,
     "metadata": {},
     "output_type": "execute_result"
    }
   ],
   "source": [
    "len(test_df)"
   ]
  },
  {
   "cell_type": "code",
   "execution_count": 30,
   "metadata": {},
   "outputs": [
    {
     "name": "stdout",
     "output_type": "stream",
     "text": [
      "RMSE: 8.553478\n"
     ]
    }
   ],
   "source": [
    "mse = mean_squared_error(test_df, predictions)\n",
    "rmse = math.sqrt(mse)\n",
    "print('RMSE: %f' % rmse)"
   ]
  },
  {
   "cell_type": "code",
   "execution_count": 31,
   "metadata": {},
   "outputs": [
    {
     "data": {
      "text/plain": [
       "131.41955578664096"
      ]
     },
     "execution_count": 31,
     "metadata": {},
     "output_type": "execute_result"
    }
   ],
   "source": [
    "np.mean(test_df)"
   ]
  },
  {
   "cell_type": "code",
   "execution_count": 32,
   "metadata": {},
   "outputs": [
    {
     "data": {
      "image/png": "[encoded data removed]",
      "text/plain": [
       "<Figure size 432x288 with 1 Axes>"
      ]
     },
     "metadata": {
      "needs_background": "light"
     },
     "output_type": "display_data"
    }
   ],
   "source": [
    "predictons, =plt.plot(predictions, label='Predictions')\n",
    "actual, =plt.plot(test_df, label='Actual')\n",
    "plt.xlabel('Number of weeks')\n",
    "plt.ylabel('Weekly ADR')\n",
    "plt.title(\"Predicted vs. Actual Weekly ADR\")\n",
    "plt.legend(loc = 'upper center')\n",
    "plt.show()"
   ]
  }
 ],
 "metadata": {
  "kernelspec": {
   "display_name": "Python 3",
   "language": "python",
   "name": "python3"
  },
  "language_info": {
   "codemirror_mode": {
    "name": "ipython",
    "version": 3
   },
   "file_extension": ".py",
   "mimetype": "text/x-python",
   "name": "python",
   "nbconvert_exporter": "python",
   "pygments_lexer": "ipython3",
   "version": "3.6.9"
  }
 },
 "nbformat": 4,
 "nbformat_minor": 2
}
